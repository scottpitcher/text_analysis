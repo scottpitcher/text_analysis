{
 "cells": [
  {
   "cell_type": "code",
   "execution_count": 312,
   "metadata": {},
   "outputs": [],
   "source": [
    "import pandas as pd\n",
    "from sklearn.feature_extraction.text import TfidfVectorizer\n",
    "import numpy as np\n",
    "from torchtext.data.utils import get_tokenizer\n",
    "from nltk.probability import FreqDist\n",
    "from sklearn.feature_extraction.text import TfidfVectorizer"
   ]
  },
  {
   "cell_type": "code",
   "execution_count": 313,
   "metadata": {},
   "outputs": [],
   "source": [
    "# Part 1: Supervised"
   ]
  },
  {
   "cell_type": "code",
   "execution_count": 314,
   "metadata": {},
   "outputs": [
    {
     "data": {
      "text/html": [
       "<div>\n",
       "<style scoped>\n",
       "    .dataframe tbody tr th:only-of-type {\n",
       "        vertical-align: middle;\n",
       "    }\n",
       "\n",
       "    .dataframe tbody tr th {\n",
       "        vertical-align: top;\n",
       "    }\n",
       "\n",
       "    .dataframe thead th {\n",
       "        text-align: right;\n",
       "    }\n",
       "</style>\n",
       "<table border=\"1\" class=\"dataframe\">\n",
       "  <thead>\n",
       "    <tr style=\"text-align: right;\">\n",
       "      <th></th>\n",
       "      <th>Text, Sentiment, Source, Date/Time, User ID, Location, Confidence Score</th>\n",
       "    </tr>\n",
       "  </thead>\n",
       "  <tbody>\n",
       "    <tr>\n",
       "      <th>0</th>\n",
       "      <td>\"I love this product!\", Positive, Twitter, 202...</td>\n",
       "    </tr>\n",
       "    <tr>\n",
       "      <th>1</th>\n",
       "      <td>\"The service was terrible.\", Negative, Yelp Re...</td>\n",
       "    </tr>\n",
       "    <tr>\n",
       "      <th>2</th>\n",
       "      <td>\"This movie is amazing!\", Positive, IMDb, 2023...</td>\n",
       "    </tr>\n",
       "    <tr>\n",
       "      <th>3</th>\n",
       "      <td>\"I'm so disappointed with their customer suppo...</td>\n",
       "    </tr>\n",
       "    <tr>\n",
       "      <th>4</th>\n",
       "      <td>\"Just had the best meal of my life!\", Positive...</td>\n",
       "    </tr>\n",
       "  </tbody>\n",
       "</table>\n",
       "</div>"
      ],
      "text/plain": [
       "  Text, Sentiment, Source, Date/Time, User ID, Location, Confidence Score\n",
       "0  \"I love this product!\", Positive, Twitter, 202...                     \n",
       "1  \"The service was terrible.\", Negative, Yelp Re...                     \n",
       "2  \"This movie is amazing!\", Positive, IMDb, 2023...                     \n",
       "3  \"I'm so disappointed with their customer suppo...                     \n",
       "4  \"Just had the best meal of my life!\", Positive...                     "
      ]
     },
     "execution_count": 314,
     "metadata": {},
     "output_type": "execute_result"
    }
   ],
   "source": [
    "reviews = pd.read_csv(\"data/customer_review_text.csv\")\n",
    "reviews.head()\n"
   ]
  },
  {
   "cell_type": "markdown",
   "metadata": {},
   "source": [
    "This data is extremely messy. While the data is complete, all columns [Text, Sentiment, Source, Date Time, User ID, Location, and Conf. score] are all within the same column. We will use regexp to separate them into different columns."
   ]
  },
  {
   "cell_type": "code",
   "execution_count": 315,
   "metadata": {},
   "outputs": [
    {
     "data": {
      "text/plain": [
       "'\"I love this product!\", Positive, Twitter, 2023-06-15 09:23:14, @user123, New York, 0.85'"
      ]
     },
     "execution_count": 315,
     "metadata": {},
     "output_type": "execute_result"
    }
   ],
   "source": [
    "reviews.iloc[0,0]"
   ]
  },
  {
   "cell_type": "code",
   "execution_count": 316,
   "metadata": {},
   "outputs": [
    {
     "data": {
      "text/plain": [
       "(98, 1)"
      ]
     },
     "execution_count": 316,
     "metadata": {},
     "output_type": "execute_result"
    }
   ],
   "source": [
    "reviews.shape"
   ]
  },
  {
   "cell_type": "code",
   "execution_count": 317,
   "metadata": {},
   "outputs": [
    {
     "name": "stdout",
     "output_type": "stream",
     "text": [
      "\"I love this product!\", Positive, Twitter, 2023-06-15 09:23:14, @user123, New York, 0.85\n",
      "\"The service was terrible.\", Negative, Yelp Reviews, 2023-06-15 11:45:32, user456, Los Angeles, 0.65\n",
      "\"This movie is amazing!\", Positive, IMDb, 2023-06-15 14:10:22, moviefan789, London, 0.92\n",
      "\"I'm so disappointed with their customer support.\", Negative, Online Forum, 2023-06-15 17:35:11, forumuser1, Toronto, 0.78\n",
      "\"Just had the best meal of my life!\", Positive, TripAdvisor, 2023-06-16 08:50:59, foodie22, Paris, 0.88\n"
     ]
    }
   ],
   "source": [
    "for i in range(5):\n",
    "    print(reviews.iloc[i,0])"
   ]
  },
  {
   "cell_type": "markdown",
   "metadata": {},
   "source": [
    "First, rename the column for ease of use later in the code."
   ]
  },
  {
   "cell_type": "code",
   "execution_count": 318,
   "metadata": {},
   "outputs": [
    {
     "data": {
      "text/plain": [
       "'Text, Sentiment, Source, Date/Time, User ID, Location, Confidence Score'"
      ]
     },
     "execution_count": 318,
     "metadata": {},
     "output_type": "execute_result"
    }
   ],
   "source": [
    "col = reviews.columns[0]\n",
    "col"
   ]
  },
  {
   "cell_type": "code",
   "execution_count": 319,
   "metadata": {},
   "outputs": [],
   "source": [
    "df_clean = pd.DataFrame({\n",
    "   \"text\": reviews[col].str.extract(r'\"([^\"]+)\"', expand=False),\n",
    "   \"sentiment\": reviews[col].str.extract(r'(Positive|Negative)', expand=False),\n",
    "   \"source\": reviews[col].str.extract(r'\\S+, \\S+, (\\S+),', expand=False),\n",
    "   \"date\": reviews[col].str.extract(r'(\\d{4}-\\d{2}-\\d{2})', expand=False),\n",
    "   \"time\": reviews[col].str.extract(r'(\\d{2}:\\d{2}:\\d{2})', expand=False),\n",
    "   \"dateTime\": df_clean[\"date\"]+\" \"+df_clean[\"time\"],\n",
    "   \"user\": reviews[col].str.extract(r'\\d{2}:\\d{2}:\\d{2}, (\\S+)', expand=False),\n",
    "   \"city\": reviews[col].str.extract(r'\\d{2}:\\d{2}:\\d{2}, \\S+, (.+?), 0\\.\\d{2}$', expand=False),\n",
    "   \"confidence\": reviews[col].str.extract(r'(0\\.\\d{2}$)', expand=False),\n",
    "\n",
    "    \n",
    "    })\n"
   ]
  },
  {
   "cell_type": "code",
   "execution_count": 320,
   "metadata": {},
   "outputs": [
    {
     "data": {
      "text/html": [
       "<div>\n",
       "<style scoped>\n",
       "    .dataframe tbody tr th:only-of-type {\n",
       "        vertical-align: middle;\n",
       "    }\n",
       "\n",
       "    .dataframe tbody tr th {\n",
       "        vertical-align: top;\n",
       "    }\n",
       "\n",
       "    .dataframe thead th {\n",
       "        text-align: right;\n",
       "    }\n",
       "</style>\n",
       "<table border=\"1\" class=\"dataframe\">\n",
       "  <thead>\n",
       "    <tr style=\"text-align: right;\">\n",
       "      <th></th>\n",
       "      <th>text</th>\n",
       "      <th>sentiment</th>\n",
       "      <th>source</th>\n",
       "      <th>date</th>\n",
       "      <th>time</th>\n",
       "      <th>dateTime</th>\n",
       "      <th>user</th>\n",
       "      <th>city</th>\n",
       "      <th>confidence</th>\n",
       "    </tr>\n",
       "  </thead>\n",
       "  <tbody>\n",
       "    <tr>\n",
       "      <th>0</th>\n",
       "      <td>I love this product!</td>\n",
       "      <td>Positive</td>\n",
       "      <td>Twitter</td>\n",
       "      <td>2023-06-15</td>\n",
       "      <td>09:23:14</td>\n",
       "      <td>2023-06-15 09:23:14</td>\n",
       "      <td>@user123,</td>\n",
       "      <td>New York</td>\n",
       "      <td>0.85</td>\n",
       "    </tr>\n",
       "    <tr>\n",
       "      <th>1</th>\n",
       "      <td>The service was terrible.</td>\n",
       "      <td>Negative</td>\n",
       "      <td>NaN</td>\n",
       "      <td>2023-06-15</td>\n",
       "      <td>11:45:32</td>\n",
       "      <td>2023-06-15 11:45:32</td>\n",
       "      <td>user456,</td>\n",
       "      <td>Los Angeles</td>\n",
       "      <td>0.65</td>\n",
       "    </tr>\n",
       "    <tr>\n",
       "      <th>2</th>\n",
       "      <td>This movie is amazing!</td>\n",
       "      <td>Positive</td>\n",
       "      <td>IMDb</td>\n",
       "      <td>2023-06-15</td>\n",
       "      <td>14:10:22</td>\n",
       "      <td>2023-06-15 14:10:22</td>\n",
       "      <td>moviefan789,</td>\n",
       "      <td>London</td>\n",
       "      <td>0.92</td>\n",
       "    </tr>\n",
       "    <tr>\n",
       "      <th>3</th>\n",
       "      <td>I'm so disappointed with their customer support.</td>\n",
       "      <td>Negative</td>\n",
       "      <td>Toronto</td>\n",
       "      <td>2023-06-15</td>\n",
       "      <td>17:35:11</td>\n",
       "      <td>2023-06-15 17:35:11</td>\n",
       "      <td>forumuser1,</td>\n",
       "      <td>Toronto</td>\n",
       "      <td>0.78</td>\n",
       "    </tr>\n",
       "    <tr>\n",
       "      <th>4</th>\n",
       "      <td>Just had the best meal of my life!</td>\n",
       "      <td>Positive</td>\n",
       "      <td>TripAdvisor</td>\n",
       "      <td>2023-06-16</td>\n",
       "      <td>08:50:59</td>\n",
       "      <td>2023-06-16 08:50:59</td>\n",
       "      <td>foodie22,</td>\n",
       "      <td>Paris</td>\n",
       "      <td>0.88</td>\n",
       "    </tr>\n",
       "  </tbody>\n",
       "</table>\n",
       "</div>"
      ],
      "text/plain": [
       "                                               text sentiment       source  \\\n",
       "0                              I love this product!  Positive      Twitter   \n",
       "1                         The service was terrible.  Negative          NaN   \n",
       "2                            This movie is amazing!  Positive         IMDb   \n",
       "3  I'm so disappointed with their customer support.  Negative      Toronto   \n",
       "4                Just had the best meal of my life!  Positive  TripAdvisor   \n",
       "\n",
       "         date      time             dateTime          user         city  \\\n",
       "0  2023-06-15  09:23:14  2023-06-15 09:23:14     @user123,     New York   \n",
       "1  2023-06-15  11:45:32  2023-06-15 11:45:32      user456,  Los Angeles   \n",
       "2  2023-06-15  14:10:22  2023-06-15 14:10:22  moviefan789,       London   \n",
       "3  2023-06-15  17:35:11  2023-06-15 17:35:11   forumuser1,      Toronto   \n",
       "4  2023-06-16  08:50:59  2023-06-16 08:50:59     foodie22,        Paris   \n",
       "\n",
       "  confidence  \n",
       "0       0.85  \n",
       "1       0.65  \n",
       "2       0.92  \n",
       "3       0.78  \n",
       "4       0.88  "
      ]
     },
     "execution_count": 320,
     "metadata": {},
     "output_type": "execute_result"
    }
   ],
   "source": [
    "df_clean.head()"
   ]
  },
  {
   "cell_type": "code",
   "execution_count": 321,
   "metadata": {},
   "outputs": [
    {
     "data": {
      "text/plain": [
       "text          object\n",
       "sentiment     object\n",
       "source        object\n",
       "date          object\n",
       "time          object\n",
       "dateTime      object\n",
       "user          object\n",
       "city          object\n",
       "confidence    object\n",
       "dtype: object"
      ]
     },
     "execution_count": 321,
     "metadata": {},
     "output_type": "execute_result"
    }
   ],
   "source": [
    "df_clean.dtypes"
   ]
  },
  {
   "cell_type": "markdown",
   "metadata": {},
   "source": [
    "### Changing DataTypes"
   ]
  },
  {
   "cell_type": "code",
   "execution_count": 322,
   "metadata": {},
   "outputs": [
    {
     "data": {
      "text/plain": [
       "sentiment\n",
       "Positive    53\n",
       "Negative    43\n",
       "Name: count, dtype: int64"
      ]
     },
     "execution_count": 322,
     "metadata": {},
     "output_type": "execute_result"
    }
   ],
   "source": [
    "df_clean[\"sentiment\"].value_counts()"
   ]
  },
  {
   "cell_type": "code",
   "execution_count": 323,
   "metadata": {},
   "outputs": [
    {
     "data": {
      "text/html": [
       "<div>\n",
       "<style scoped>\n",
       "    .dataframe tbody tr th:only-of-type {\n",
       "        vertical-align: middle;\n",
       "    }\n",
       "\n",
       "    .dataframe tbody tr th {\n",
       "        vertical-align: top;\n",
       "    }\n",
       "\n",
       "    .dataframe thead th {\n",
       "        text-align: right;\n",
       "    }\n",
       "</style>\n",
       "<table border=\"1\" class=\"dataframe\">\n",
       "  <thead>\n",
       "    <tr style=\"text-align: right;\">\n",
       "      <th></th>\n",
       "      <th>text</th>\n",
       "      <th>sentiment</th>\n",
       "      <th>source</th>\n",
       "      <th>date</th>\n",
       "      <th>time</th>\n",
       "      <th>dateTime</th>\n",
       "      <th>user</th>\n",
       "      <th>city</th>\n",
       "      <th>confidence</th>\n",
       "    </tr>\n",
       "  </thead>\n",
       "  <tbody>\n",
       "    <tr>\n",
       "      <th>0</th>\n",
       "      <td>I love this product!</td>\n",
       "      <td>1.0</td>\n",
       "      <td>Twitter</td>\n",
       "      <td>2023-06-15</td>\n",
       "      <td>09:23:14</td>\n",
       "      <td>2023-06-15 09:23:14</td>\n",
       "      <td>@user123,</td>\n",
       "      <td>New York</td>\n",
       "      <td>0.85</td>\n",
       "    </tr>\n",
       "    <tr>\n",
       "      <th>1</th>\n",
       "      <td>The service was terrible.</td>\n",
       "      <td>0.0</td>\n",
       "      <td>NaN</td>\n",
       "      <td>2023-06-15</td>\n",
       "      <td>11:45:32</td>\n",
       "      <td>2023-06-15 11:45:32</td>\n",
       "      <td>user456,</td>\n",
       "      <td>Los Angeles</td>\n",
       "      <td>0.65</td>\n",
       "    </tr>\n",
       "    <tr>\n",
       "      <th>2</th>\n",
       "      <td>This movie is amazing!</td>\n",
       "      <td>1.0</td>\n",
       "      <td>IMDb</td>\n",
       "      <td>2023-06-15</td>\n",
       "      <td>14:10:22</td>\n",
       "      <td>2023-06-15 14:10:22</td>\n",
       "      <td>moviefan789,</td>\n",
       "      <td>London</td>\n",
       "      <td>0.92</td>\n",
       "    </tr>\n",
       "    <tr>\n",
       "      <th>3</th>\n",
       "      <td>I'm so disappointed with their customer support.</td>\n",
       "      <td>0.0</td>\n",
       "      <td>Toronto</td>\n",
       "      <td>2023-06-15</td>\n",
       "      <td>17:35:11</td>\n",
       "      <td>2023-06-15 17:35:11</td>\n",
       "      <td>forumuser1,</td>\n",
       "      <td>Toronto</td>\n",
       "      <td>0.78</td>\n",
       "    </tr>\n",
       "    <tr>\n",
       "      <th>4</th>\n",
       "      <td>Just had the best meal of my life!</td>\n",
       "      <td>1.0</td>\n",
       "      <td>TripAdvisor</td>\n",
       "      <td>2023-06-16</td>\n",
       "      <td>08:50:59</td>\n",
       "      <td>2023-06-16 08:50:59</td>\n",
       "      <td>foodie22,</td>\n",
       "      <td>Paris</td>\n",
       "      <td>0.88</td>\n",
       "    </tr>\n",
       "    <tr>\n",
       "      <th>...</th>\n",
       "      <td>...</td>\n",
       "      <td>...</td>\n",
       "      <td>...</td>\n",
       "      <td>...</td>\n",
       "      <td>...</td>\n",
       "      <td>...</td>\n",
       "      <td>...</td>\n",
       "      <td>...</td>\n",
       "      <td>...</td>\n",
       "    </tr>\n",
       "    <tr>\n",
       "      <th>93</th>\n",
       "      <td>I can't stop listening to this song. It's my n...</td>\n",
       "      <td>1.0</td>\n",
       "      <td>Spotify</td>\n",
       "      <td>2023-07-03</td>\n",
       "      <td>09:17:52</td>\n",
       "      <td>2023-07-03 09:17:52</td>\n",
       "      <td>musiclover789,</td>\n",
       "      <td>Berlin</td>\n",
       "      <td>0.91</td>\n",
       "    </tr>\n",
       "    <tr>\n",
       "      <th>94</th>\n",
       "      <td>Their website is so confusing and poorly desig...</td>\n",
       "      <td>0.0</td>\n",
       "      <td>Toronto</td>\n",
       "      <td>2023-07-03</td>\n",
       "      <td>11:59:18</td>\n",
       "      <td>2023-07-03 11:59:18</td>\n",
       "      <td>user789,</td>\n",
       "      <td>Toronto</td>\n",
       "      <td>0.68</td>\n",
       "    </tr>\n",
       "    <tr>\n",
       "      <th>95</th>\n",
       "      <td>I had an incredible experience at the theme pa...</td>\n",
       "      <td>1.0</td>\n",
       "      <td>Orlando</td>\n",
       "      <td>2023-07-03</td>\n",
       "      <td>14:40:05</td>\n",
       "      <td>2023-07-03 14:40:05</td>\n",
       "      <td>thrillseeker1,</td>\n",
       "      <td>Orlando</td>\n",
       "      <td>0.89</td>\n",
       "    </tr>\n",
       "    <tr>\n",
       "      <th>96</th>\n",
       "      <td>NaN</td>\n",
       "      <td>NaN</td>\n",
       "      <td>NaN</td>\n",
       "      <td>NaN</td>\n",
       "      <td>NaN</td>\n",
       "      <td>NaN</td>\n",
       "      <td>NaN</td>\n",
       "      <td>NaN</td>\n",
       "      <td>NaN</td>\n",
       "    </tr>\n",
       "    <tr>\n",
       "      <th>97</th>\n",
       "      <td>NaN</td>\n",
       "      <td>NaN</td>\n",
       "      <td>NaN</td>\n",
       "      <td>NaN</td>\n",
       "      <td>NaN</td>\n",
       "      <td>NaN</td>\n",
       "      <td>NaN</td>\n",
       "      <td>NaN</td>\n",
       "      <td>NaN</td>\n",
       "    </tr>\n",
       "  </tbody>\n",
       "</table>\n",
       "<p>98 rows × 9 columns</p>\n",
       "</div>"
      ],
      "text/plain": [
       "                                                 text  sentiment       source  \\\n",
       "0                                I love this product!        1.0      Twitter   \n",
       "1                           The service was terrible.        0.0          NaN   \n",
       "2                              This movie is amazing!        1.0         IMDb   \n",
       "3    I'm so disappointed with their customer support.        0.0      Toronto   \n",
       "4                  Just had the best meal of my life!        1.0  TripAdvisor   \n",
       "..                                                ...        ...          ...   \n",
       "93  I can't stop listening to this song. It's my n...        1.0      Spotify   \n",
       "94  Their website is so confusing and poorly desig...        0.0      Toronto   \n",
       "95  I had an incredible experience at the theme pa...        1.0      Orlando   \n",
       "96                                                NaN        NaN          NaN   \n",
       "97                                                NaN        NaN          NaN   \n",
       "\n",
       "          date      time             dateTime            user         city  \\\n",
       "0   2023-06-15  09:23:14  2023-06-15 09:23:14       @user123,     New York   \n",
       "1   2023-06-15  11:45:32  2023-06-15 11:45:32        user456,  Los Angeles   \n",
       "2   2023-06-15  14:10:22  2023-06-15 14:10:22    moviefan789,       London   \n",
       "3   2023-06-15  17:35:11  2023-06-15 17:35:11     forumuser1,      Toronto   \n",
       "4   2023-06-16  08:50:59  2023-06-16 08:50:59       foodie22,        Paris   \n",
       "..         ...       ...                  ...             ...          ...   \n",
       "93  2023-07-03  09:17:52  2023-07-03 09:17:52  musiclover789,       Berlin   \n",
       "94  2023-07-03  11:59:18  2023-07-03 11:59:18        user789,      Toronto   \n",
       "95  2023-07-03  14:40:05  2023-07-03 14:40:05  thrillseeker1,      Orlando   \n",
       "96         NaN       NaN                  NaN             NaN          NaN   \n",
       "97         NaN       NaN                  NaN             NaN          NaN   \n",
       "\n",
       "   confidence  \n",
       "0        0.85  \n",
       "1        0.65  \n",
       "2        0.92  \n",
       "3        0.78  \n",
       "4        0.88  \n",
       "..        ...  \n",
       "93       0.91  \n",
       "94       0.68  \n",
       "95       0.89  \n",
       "96        NaN  \n",
       "97        NaN  \n",
       "\n",
       "[98 rows x 9 columns]"
      ]
     },
     "execution_count": 323,
     "metadata": {},
     "output_type": "execute_result"
    }
   ],
   "source": [
    "reviews_df = df_clean.copy()\n",
    "reviews_df[\"sentiment\"] = np.where(reviews_df[\"sentiment\"] == \"Positive\", 1, np.where(reviews_df[\"sentiment\"] == \"Negative\", 0, np.nan))\n",
    "reviews_df"
   ]
  },
  {
   "cell_type": "code",
   "execution_count": 324,
   "metadata": {},
   "outputs": [
    {
     "data": {
      "text/html": [
       "<div>\n",
       "<style scoped>\n",
       "    .dataframe tbody tr th:only-of-type {\n",
       "        vertical-align: middle;\n",
       "    }\n",
       "\n",
       "    .dataframe tbody tr th {\n",
       "        vertical-align: top;\n",
       "    }\n",
       "\n",
       "    .dataframe thead th {\n",
       "        text-align: right;\n",
       "    }\n",
       "</style>\n",
       "<table border=\"1\" class=\"dataframe\">\n",
       "  <thead>\n",
       "    <tr style=\"text-align: right;\">\n",
       "      <th></th>\n",
       "      <th>text</th>\n",
       "      <th>sentiment</th>\n",
       "      <th>source</th>\n",
       "      <th>date</th>\n",
       "      <th>time</th>\n",
       "      <th>dateTime</th>\n",
       "      <th>user</th>\n",
       "      <th>city</th>\n",
       "      <th>confidence</th>\n",
       "    </tr>\n",
       "  </thead>\n",
       "  <tbody>\n",
       "    <tr>\n",
       "      <th>0</th>\n",
       "      <td>I love this product!</td>\n",
       "      <td>1.0</td>\n",
       "      <td>Twitter</td>\n",
       "      <td>2023-06-15</td>\n",
       "      <td>09:23:14</td>\n",
       "      <td>2023-06-15 09:23:14</td>\n",
       "      <td>@user123,</td>\n",
       "      <td>New York</td>\n",
       "      <td>0.85</td>\n",
       "    </tr>\n",
       "    <tr>\n",
       "      <th>1</th>\n",
       "      <td>The service was terrible.</td>\n",
       "      <td>0.0</td>\n",
       "      <td>NaN</td>\n",
       "      <td>2023-06-15</td>\n",
       "      <td>11:45:32</td>\n",
       "      <td>2023-06-15 11:45:32</td>\n",
       "      <td>user456,</td>\n",
       "      <td>Los Angeles</td>\n",
       "      <td>0.65</td>\n",
       "    </tr>\n",
       "    <tr>\n",
       "      <th>2</th>\n",
       "      <td>This movie is amazing!</td>\n",
       "      <td>1.0</td>\n",
       "      <td>IMDb</td>\n",
       "      <td>2023-06-15</td>\n",
       "      <td>14:10:22</td>\n",
       "      <td>2023-06-15 14:10:22</td>\n",
       "      <td>moviefan789,</td>\n",
       "      <td>London</td>\n",
       "      <td>0.92</td>\n",
       "    </tr>\n",
       "    <tr>\n",
       "      <th>3</th>\n",
       "      <td>I'm so disappointed with their customer support.</td>\n",
       "      <td>0.0</td>\n",
       "      <td>Toronto</td>\n",
       "      <td>2023-06-15</td>\n",
       "      <td>17:35:11</td>\n",
       "      <td>2023-06-15 17:35:11</td>\n",
       "      <td>forumuser1,</td>\n",
       "      <td>Toronto</td>\n",
       "      <td>0.78</td>\n",
       "    </tr>\n",
       "    <tr>\n",
       "      <th>4</th>\n",
       "      <td>Just had the best meal of my life!</td>\n",
       "      <td>1.0</td>\n",
       "      <td>TripAdvisor</td>\n",
       "      <td>2023-06-16</td>\n",
       "      <td>08:50:59</td>\n",
       "      <td>2023-06-16 08:50:59</td>\n",
       "      <td>foodie22,</td>\n",
       "      <td>Paris</td>\n",
       "      <td>0.88</td>\n",
       "    </tr>\n",
       "  </tbody>\n",
       "</table>\n",
       "</div>"
      ],
      "text/plain": [
       "                                               text sentiment       source  \\\n",
       "0                              I love this product!       1.0      Twitter   \n",
       "1                         The service was terrible.       0.0          NaN   \n",
       "2                            This movie is amazing!       1.0         IMDb   \n",
       "3  I'm so disappointed with their customer support.       0.0      Toronto   \n",
       "4                Just had the best meal of my life!       1.0  TripAdvisor   \n",
       "\n",
       "        date      time            dateTime          user         city  \\\n",
       "0 2023-06-15  09:23:14 2023-06-15 09:23:14     @user123,     New York   \n",
       "1 2023-06-15  11:45:32 2023-06-15 11:45:32      user456,  Los Angeles   \n",
       "2 2023-06-15  14:10:22 2023-06-15 14:10:22  moviefan789,       London   \n",
       "3 2023-06-15  17:35:11 2023-06-15 17:35:11   forumuser1,      Toronto   \n",
       "4 2023-06-16  08:50:59 2023-06-16 08:50:59     foodie22,        Paris   \n",
       "\n",
       "   confidence  \n",
       "0        0.85  \n",
       "1        0.65  \n",
       "2        0.92  \n",
       "3        0.78  \n",
       "4        0.88  "
      ]
     },
     "execution_count": 324,
     "metadata": {},
     "output_type": "execute_result"
    }
   ],
   "source": [
    "#changing datatypes\n",
    "from datetime import datetime\n",
    "categories = {\"text\":\"string\",\n",
    "              \"sentiment\":\"category\",\n",
    "              \"source\":\"category\",\n",
    "              \"date\": \"datetime64[ns]\",\n",
    "              \"time\":\"string\",\n",
    "              \"dateTime\":\"datetime64[ns]\",\n",
    "              \"user\":\"category\",\n",
    "              \"city\":\"category\",\n",
    "              \"confidence\":\"float\"}\n",
    "\n",
    "\n",
    "reviews_clean = reviews_df.astype(categories)\n",
    "reviews_clean.head()\n"
   ]
  },
  {
   "cell_type": "code",
   "execution_count": 325,
   "metadata": {},
   "outputs": [
    {
     "data": {
      "text/plain": [
       "text          string[python]\n",
       "sentiment           category\n",
       "source              category\n",
       "date          datetime64[ns]\n",
       "time          string[python]\n",
       "dateTime      datetime64[ns]\n",
       "user                category\n",
       "city                category\n",
       "confidence           float64\n",
       "dtype: object"
      ]
     },
     "execution_count": 325,
     "metadata": {},
     "output_type": "execute_result"
    }
   ],
   "source": [
    "reviews_clean.dtypes"
   ]
  },
  {
   "cell_type": "code",
   "execution_count": 326,
   "metadata": {},
   "outputs": [
    {
     "name": "stdout",
     "output_type": "stream",
     "text": [
      "Axes(0.125,0.11;0.698618x0.77)\n",
      "text           2\n",
      "sentiment      2\n",
      "source        21\n",
      "date           2\n",
      "time           2\n",
      "dateTime       2\n",
      "user           2\n",
      "city           2\n",
      "confidence     2\n",
      "dtype: int64\n"
     ]
    },
    {
     "data": {
      "image/png": "[encoded data removed]",
      "text/plain": [
       "<Figure size 2500x1000 with 2 Axes>"
      ]
     },
     "metadata": {},
     "output_type": "display_data"
    }
   ],
   "source": [
    "import missingno as msno \n",
    "\n",
    "print(msno.matrix(reviews_clean))\n",
    "print(reviews_clean.isna().sum())\n",
    "\n"
   ]
  },
  {
   "cell_type": "markdown",
   "metadata": {},
   "source": [
    "Looking at the amount of missing per column, their locations, and specifically the amount in source, we'll use .dropna() subsetted for all other cols"
   ]
  },
  {
   "cell_type": "code",
   "execution_count": 327,
   "metadata": {},
   "outputs": [
    {
     "name": "stdout",
     "output_type": "stream",
     "text": [
      "text           0\n",
      "sentiment      0\n",
      "source        19\n",
      "date           0\n",
      "time           0\n",
      "dateTime       0\n",
      "user           0\n",
      "city           0\n",
      "confidence     0\n",
      "dtype: int64 (96, 9)\n"
     ]
    }
   ],
   "source": [
    "# Assuming 'reviews_clean' is your DataFrame\n",
    "reviews_clean.dropna(subset=reviews_clean.columns.difference(['source']), inplace= True)\n",
    "print(reviews_clean.isna().sum(),\n",
    "reviews_clean.shape)\n"
   ]
  },
  {
   "cell_type": "markdown",
   "metadata": {},
   "source": [
    "Modelling using CNN and a fully connected linear layer. Starting with embedding."
   ]
  },
  {
   "cell_type": "code",
   "execution_count": 328,
   "metadata": {},
   "outputs": [
    {
     "name": "stdout",
     "output_type": "stream",
     "text": [
      "['000' '0001' '0004' '001' '002' '0022' '002315' '01' '02' '020192']\n",
      "tensor([0, 0, 0, 0, 0, 0, 0, 0, 0, 0])\n"
     ]
    }
   ],
   "source": [
    "# Define your Dataset class\n",
    "from torch.utils.data import Dataset, DataLoader\n",
    "from sklearn.feature_extraction.text import CountVectorizer\n",
    "\n",
    "\n",
    "class RedditDataset(Dataset):\n",
    "    def __init__(self, data):\n",
    "        self.data = data\n",
    "    def __len__(self):\n",
    "        return len(self.data)\n",
    "    def __getitem__(self, idx):\n",
    "        return self.data[idx]\n",
    "\n",
    "# Complete the encoding function\n",
    "def encode_sentences(sentences):\n",
    "    vectorizer = CountVectorizer()\n",
    "    X = vectorizer.fit_transform(sentences)\n",
    "    return X.toarray(), vectorizer\n",
    "    \n",
    "# Complete the text processing pipeline\n",
    "def text_processing_pipeline(sentences):\n",
    "    processed_sentences = preprocess_sentences(sentences)\n",
    "    encoded_sentences, vectorizer = encode_sentences(processed_sentences)\n",
    "    dataset = RedditDataset(encoded_sentences)\n",
    "    dataloader = DataLoader(dataset, batch_size=2, shuffle=True)\n",
    "    return dataloader, vectorizer\n",
    "\n",
    "dataloader, vectorizer = text_processing_pipeline(processed_text)\n",
    "\n",
    "# Print the vectorizer's feature names and the first 10 components of the first item\n",
    "print(vectorizer.get_feature_names_out()[:10]) \n",
    "print(next(iter(dataloader))[0, :10])"
   ]
  },
  {
   "cell_type": "code",
   "execution_count": 329,
   "metadata": {},
   "outputs": [],
   "source": [
    "import torch\n",
    "import torch.nn as nn\n",
    "\n",
    "class TextClassificationCNN(nn.Module):\n",
    "    def __init__(self, vocab_size, embed_dim):\n",
    "        super(TextClassificationCNN, self).__init__()\n",
    "        # Initialize the embedding layer \n",
    "        self.embedding = nn.Embedding(vocab_size, embed_dim)\n",
    "        self.conv = nn.Conv1d(embed_dim, embed_dim, kernel_size=3, stride=1, padding=1)\n",
    "        self.fc = nn.Linear(embed_dim, 2)\n",
    "    def forward(self, text):\n",
    "        embedded = self.embedding(text).permute(0, 2, 1)\n",
    "        # Pass the embedded text through the convolutional layer and apply a ReLU\n",
    "        conved = F.relu(self.conv(embedded))\n",
    "        conved = conved.mean(dim=2) \n",
    "        return self.fc(conved)"
   ]
  },
  {
   "cell_type": "code",
   "execution_count": 330,
   "metadata": {},
   "outputs": [
    {
     "name": "stderr",
     "output_type": "stream",
     "text": [
      "[nltk_data] Downloading package stopwords to\n",
      "[nltk_data]     /Users/scottpitcher/nltk_data...\n",
      "[nltk_data]   Package stopwords is already up-to-date!\n"
     ]
    },
    {
     "data": {
      "text/plain": [
       "True"
      ]
     },
     "execution_count": 330,
     "metadata": {},
     "output_type": "execute_result"
    }
   ],
   "source": [
    "import nltk\n",
    "import ssl\n",
    "\n",
    "try:\n",
    "    _create_unverified_https_context = ssl._create_unverified_context\n",
    "except AttributeError:\n",
    "    pass\n",
    "else:\n",
    "    ssl._create_default_https_context = _create_unverified_https_context\n",
    "\n",
    "nltk.download('stopwords')"
   ]
  },
  {
   "cell_type": "code",
   "execution_count": 331,
   "metadata": {},
   "outputs": [
    {
     "name": "stdout",
     "output_type": "stream",
     "text": [
      "[\"op . ' myth . one vaccin contain get without . op pointless flex .\", 'http //youtu . be/zbkvcpbnnku', 'anti-vaxx sens', 'mean op . fairli new reddit .', \"say ' thimerasol , mean childhood schedul . fact .\"]\n"
     ]
    }
   ],
   "source": [
    "from nltk.corpus import stopwords\n",
    "from nltk.stem import PorterStemmer\n",
    "stop_words = set(stopwords.words(\"english\"))\n",
    "\n",
    "tokenizer = get_tokenizer(\"basic_english\")\n",
    "stemmer = PorterStemmer() \n",
    "\n",
    "# Complete the function to preprocess sentences\n",
    "def preprocess_sentences(sentences):\n",
    "    processed_sentences = []\n",
    "    for sentence in sentences:\n",
    "        sentence = sentence.lower()\n",
    "        tokens = tokenizer(sentence)\n",
    "        tokens = [token for token in tokens if token not in stop_words]\n",
    "        tokens = [stemmer.stem(token) for token in tokens]\n",
    "        processed_sentences.append(' '.join(tokens))\n",
    "    return processed_sentences\n",
    "\n",
    "\n",
    "processed_text = preprocess_sentences(descriptions)\n",
    "print(processed_text[:5]) \n"
   ]
  },
  {
   "cell_type": "code",
   "execution_count": 332,
   "metadata": {},
   "outputs": [
    {
     "ename": "ValueError",
     "evalue": "too many values to unpack (expected 2)",
     "output_type": "error",
     "traceback": [
      "\u001b[0;31m---------------------------------------------------------------------------\u001b[0m",
      "\u001b[0;31mValueError\u001b[0m                                Traceback (most recent call last)",
      "\u001b[1;32m/Users/scottpitcher/Desktop/python/Github/Text Analysis/text_analysis/Vax_sent_analysis.ipynb Cell 26\u001b[0m line \u001b[0;36m9\n\u001b[1;32m      <a href='vscode-notebook-cell:/Users/scottpitcher/Desktop/python/Github/Text%20Analysis/text_analysis/Vax_sent_analysis.ipynb#X25sZmlsZQ%3D%3D?line=4'>5</a>\u001b[0m optimizer \u001b[39m=\u001b[39m optim\u001b[39m.\u001b[39mSGD(model\u001b[39m.\u001b[39mparameters(), lr\u001b[39m=\u001b[39m\u001b[39m0.1\u001b[39m)\n\u001b[1;32m      <a href='vscode-notebook-cell:/Users/scottpitcher/Desktop/python/Github/Text%20Analysis/text_analysis/Vax_sent_analysis.ipynb#X25sZmlsZQ%3D%3D?line=7'>8</a>\u001b[0m \u001b[39mfor\u001b[39;00m epoch \u001b[39min\u001b[39;00m \u001b[39mrange\u001b[39m(\u001b[39m10\u001b[39m):\n\u001b[0;32m----> <a href='vscode-notebook-cell:/Users/scottpitcher/Desktop/python/Github/Text%20Analysis/text_analysis/Vax_sent_analysis.ipynb#X25sZmlsZQ%3D%3D?line=8'>9</a>\u001b[0m     \u001b[39mfor\u001b[39;00m sentence, label \u001b[39min\u001b[39;00m descriptions:     \n\u001b[1;32m     <a href='vscode-notebook-cell:/Users/scottpitcher/Desktop/python/Github/Text%20Analysis/text_analysis/Vax_sent_analysis.ipynb#X25sZmlsZQ%3D%3D?line=9'>10</a>\u001b[0m         \u001b[39m# Clear the gradients\u001b[39;00m\n\u001b[1;32m     <a href='vscode-notebook-cell:/Users/scottpitcher/Desktop/python/Github/Text%20Analysis/text_analysis/Vax_sent_analysis.ipynb#X25sZmlsZQ%3D%3D?line=10'>11</a>\u001b[0m         model\u001b[39m.\u001b[39mzero_grad()\n\u001b[1;32m     <a href='vscode-notebook-cell:/Users/scottpitcher/Desktop/python/Github/Text%20Analysis/text_analysis/Vax_sent_analysis.ipynb#X25sZmlsZQ%3D%3D?line=11'>12</a>\u001b[0m         sentence \u001b[39m=\u001b[39m torch\u001b[39m.\u001b[39mLongTensor([word_to_ix\u001b[39m.\u001b[39mget(w, \u001b[39m0\u001b[39m) \u001b[39mfor\u001b[39;00m w \u001b[39min\u001b[39;00m sentence])\u001b[39m.\u001b[39munsqueeze(\u001b[39m0\u001b[39m) \n",
      "\u001b[0;31mValueError\u001b[0m: too many values to unpack (expected 2)"
     ]
    }
   ],
   "source": [
    "import torch.optim as optim  # Import the optim module\n",
    "# Define the loss function\n",
    "criterion = nn.CrossEntropyLoss()\n",
    "model = TextClassificationCNN(vocab_size=10,embed_dim=10)\n",
    "optimizer = optim.SGD(model.parameters(), lr=0.1)\n",
    "\n",
    "\n",
    "for epoch in range(10):\n",
    "    for sentence, label in descriptions:     \n",
    "        # Clear the gradients\n",
    "        model.zero_grad()\n",
    "        sentence = torch.LongTensor([word_to_ix.get(w, 0) for w in sentence]).unsqueeze(0) \n",
    "        label = torch.LongTensor([int(label)])\n",
    "        outputs = model(sentence)\n",
    "        loss = criterion(outputs, label)\n",
    "        loss.backward()\n",
    "        # Update the parameters\n",
    "        optimizer.step()\n",
    "print('Training complete!')"
   ]
  },
  {
   "cell_type": "code",
   "execution_count": null,
   "metadata": {},
   "outputs": [],
   "source": [
    "#Part 2: Unsupervised"
   ]
  },
  {
   "cell_type": "code",
   "execution_count": null,
   "metadata": {},
   "outputs": [
    {
     "data": {
      "text/html": [
       "<div>\n",
       "<style scoped>\n",
       "    .dataframe tbody tr th:only-of-type {\n",
       "        vertical-align: middle;\n",
       "    }\n",
       "\n",
       "    .dataframe tbody tr th {\n",
       "        vertical-align: top;\n",
       "    }\n",
       "\n",
       "    .dataframe thead th {\n",
       "        text-align: right;\n",
       "    }\n",
       "</style>\n",
       "<table border=\"1\" class=\"dataframe\">\n",
       "  <thead>\n",
       "    <tr style=\"text-align: right;\">\n",
       "      <th></th>\n",
       "      <th>title</th>\n",
       "      <th>score</th>\n",
       "      <th>id</th>\n",
       "      <th>url</th>\n",
       "      <th>comms_num</th>\n",
       "      <th>created</th>\n",
       "      <th>body</th>\n",
       "      <th>timestamp</th>\n",
       "    </tr>\n",
       "  </thead>\n",
       "  <tbody>\n",
       "    <tr>\n",
       "      <th>0</th>\n",
       "      <td>Health Canada approves AstraZeneca COVID-19 va...</td>\n",
       "      <td>7</td>\n",
       "      <td>lt74vw</td>\n",
       "      <td>https://www.canadaforums.ca/2021/02/health-can...</td>\n",
       "      <td>0</td>\n",
       "      <td>1.614400e+09</td>\n",
       "      <td>NaN</td>\n",
       "      <td>2021-02-27 06:33:45</td>\n",
       "    </tr>\n",
       "    <tr>\n",
       "      <th>1</th>\n",
       "      <td>COVID-19 in Canada: 'Vaccination passports' a ...</td>\n",
       "      <td>2</td>\n",
       "      <td>lsh0ij</td>\n",
       "      <td>https://www.canadaforums.ca/2021/02/covid-19-i...</td>\n",
       "      <td>1</td>\n",
       "      <td>1.614316e+09</td>\n",
       "      <td>NaN</td>\n",
       "      <td>2021-02-26 07:11:07</td>\n",
       "    </tr>\n",
       "    <tr>\n",
       "      <th>2</th>\n",
       "      <td>Coronavirus variants could fuel Canada's third...</td>\n",
       "      <td>6</td>\n",
       "      <td>lohlle</td>\n",
       "      <td>https://www.canadaforums.ca/2021/02/coronaviru...</td>\n",
       "      <td>0</td>\n",
       "      <td>1.613887e+09</td>\n",
       "      <td>NaN</td>\n",
       "      <td>2021-02-21 07:50:08</td>\n",
       "    </tr>\n",
       "    <tr>\n",
       "      <th>3</th>\n",
       "      <td>Canadian government to extend COVID-19 emergen...</td>\n",
       "      <td>1</td>\n",
       "      <td>lnptv8</td>\n",
       "      <td>https://www.canadaforums.ca/2021/02/canadian-g...</td>\n",
       "      <td>0</td>\n",
       "      <td>1.613796e+09</td>\n",
       "      <td>NaN</td>\n",
       "      <td>2021-02-20 06:35:13</td>\n",
       "    </tr>\n",
       "    <tr>\n",
       "      <th>4</th>\n",
       "      <td>Canada: Pfizer is 'extremely committed' to mee...</td>\n",
       "      <td>6</td>\n",
       "      <td>lkslm6</td>\n",
       "      <td>https://www.canadaforums.ca/2021/02/canada-pfi...</td>\n",
       "      <td>0</td>\n",
       "      <td>1.613468e+09</td>\n",
       "      <td>NaN</td>\n",
       "      <td>2021-02-16 11:36:28</td>\n",
       "    </tr>\n",
       "    <tr>\n",
       "      <th>5</th>\n",
       "      <td>Canada: Oxford-AstraZeneca vaccine approval ex...</td>\n",
       "      <td>5</td>\n",
       "      <td>lftbji</td>\n",
       "      <td>https://www.canadaforums.ca/2021/02/canada-oxf...</td>\n",
       "      <td>0</td>\n",
       "      <td>1.612869e+09</td>\n",
       "      <td>NaN</td>\n",
       "      <td>2021-02-09 13:17:11</td>\n",
       "    </tr>\n",
       "    <tr>\n",
       "      <th>6</th>\n",
       "      <td>Comment</td>\n",
       "      <td>1</td>\n",
       "      <td>ej9x066</td>\n",
       "      <td>NaN</td>\n",
       "      <td>0</td>\n",
       "      <td>1.553474e+09</td>\n",
       "      <td>Your OP. It's not a myth. Only one vaccine con...</td>\n",
       "      <td>2019-03-25 02:34:53</td>\n",
       "    </tr>\n",
       "    <tr>\n",
       "      <th>7</th>\n",
       "      <td>Fuck you anti-vaxxing retards</td>\n",
       "      <td>10</td>\n",
       "      <td>g6jkhp</td>\n",
       "      <td>https://www.reddit.com/r/VaccineMyths/comments...</td>\n",
       "      <td>8</td>\n",
       "      <td>1.587663e+09</td>\n",
       "      <td>https://youtu.be/zBkVCpbNnkU</td>\n",
       "      <td>2020-04-23 20:23:42</td>\n",
       "    </tr>\n",
       "    <tr>\n",
       "      <th>8</th>\n",
       "      <td>Comment</td>\n",
       "      <td>0</td>\n",
       "      <td>fofa0yy</td>\n",
       "      <td>NaN</td>\n",
       "      <td>0</td>\n",
       "      <td>1.587760e+09</td>\n",
       "      <td>Because Anti-Vaxxers have no sense</td>\n",
       "      <td>2020-04-24 23:19:50</td>\n",
       "    </tr>\n",
       "    <tr>\n",
       "      <th>9</th>\n",
       "      <td>Comment</td>\n",
       "      <td>0</td>\n",
       "      <td>ej9xuaf</td>\n",
       "      <td>NaN</td>\n",
       "      <td>0</td>\n",
       "      <td>1.553475e+09</td>\n",
       "      <td>What do you mean by \"your OP\". I am fairly new...</td>\n",
       "      <td>2019-03-25 02:45:21</td>\n",
       "    </tr>\n",
       "  </tbody>\n",
       "</table>\n",
       "</div>"
      ],
      "text/plain": [
       "                                               title  score       id  \\\n",
       "0  Health Canada approves AstraZeneca COVID-19 va...      7   lt74vw   \n",
       "1  COVID-19 in Canada: 'Vaccination passports' a ...      2   lsh0ij   \n",
       "2  Coronavirus variants could fuel Canada's third...      6   lohlle   \n",
       "3  Canadian government to extend COVID-19 emergen...      1   lnptv8   \n",
       "4  Canada: Pfizer is 'extremely committed' to mee...      6   lkslm6   \n",
       "5  Canada: Oxford-AstraZeneca vaccine approval ex...      5   lftbji   \n",
       "6                                            Comment      1  ej9x066   \n",
       "7                      Fuck you anti-vaxxing retards     10   g6jkhp   \n",
       "8                                            Comment      0  fofa0yy   \n",
       "9                                            Comment      0  ej9xuaf   \n",
       "\n",
       "                                                 url  comms_num       created  \\\n",
       "0  https://www.canadaforums.ca/2021/02/health-can...          0  1.614400e+09   \n",
       "1  https://www.canadaforums.ca/2021/02/covid-19-i...          1  1.614316e+09   \n",
       "2  https://www.canadaforums.ca/2021/02/coronaviru...          0  1.613887e+09   \n",
       "3  https://www.canadaforums.ca/2021/02/canadian-g...          0  1.613796e+09   \n",
       "4  https://www.canadaforums.ca/2021/02/canada-pfi...          0  1.613468e+09   \n",
       "5  https://www.canadaforums.ca/2021/02/canada-oxf...          0  1.612869e+09   \n",
       "6                                                NaN          0  1.553474e+09   \n",
       "7  https://www.reddit.com/r/VaccineMyths/comments...          8  1.587663e+09   \n",
       "8                                                NaN          0  1.587760e+09   \n",
       "9                                                NaN          0  1.553475e+09   \n",
       "\n",
       "                                                body            timestamp  \n",
       "0                                                NaN  2021-02-27 06:33:45  \n",
       "1                                                NaN  2021-02-26 07:11:07  \n",
       "2                                                NaN  2021-02-21 07:50:08  \n",
       "3                                                NaN  2021-02-20 06:35:13  \n",
       "4                                                NaN  2021-02-16 11:36:28  \n",
       "5                                                NaN  2021-02-09 13:17:11  \n",
       "6  Your OP. It's not a myth. Only one vaccine con...  2019-03-25 02:34:53  \n",
       "7                       https://youtu.be/zBkVCpbNnkU  2020-04-23 20:23:42  \n",
       "8                 Because Anti-Vaxxers have no sense  2020-04-24 23:19:50  \n",
       "9  What do you mean by \"your OP\". I am fairly new...  2019-03-25 02:45:21  "
      ]
     },
     "execution_count": 24,
     "metadata": {},
     "output_type": "execute_result"
    }
   ],
   "source": [
    "data = pd.read_csv(\"data/reddit_vm.csv\")\n",
    "data.head(10)"
   ]
  },
  {
   "cell_type": "code",
   "execution_count": null,
   "metadata": {},
   "outputs": [
    {
     "data": {
      "text/plain": [
       "0    NaN\n",
       "Name: body, dtype: object"
      ]
     },
     "execution_count": 25,
     "metadata": {},
     "output_type": "execute_result"
    }
   ],
   "source": [
    "data.head(1).body"
   ]
  },
  {
   "cell_type": "code",
   "execution_count": null,
   "metadata": {},
   "outputs": [
    {
     "data": {
      "text/html": [
       "<div>\n",
       "<style scoped>\n",
       "    .dataframe tbody tr th:only-of-type {\n",
       "        vertical-align: middle;\n",
       "    }\n",
       "\n",
       "    .dataframe tbody tr th {\n",
       "        vertical-align: top;\n",
       "    }\n",
       "\n",
       "    .dataframe thead th {\n",
       "        text-align: right;\n",
       "    }\n",
       "</style>\n",
       "<table border=\"1\" class=\"dataframe\">\n",
       "  <thead>\n",
       "    <tr style=\"text-align: right;\">\n",
       "      <th></th>\n",
       "      <th>title</th>\n",
       "      <th>score</th>\n",
       "      <th>id</th>\n",
       "      <th>url</th>\n",
       "      <th>comms_num</th>\n",
       "      <th>created</th>\n",
       "      <th>body</th>\n",
       "      <th>timestamp</th>\n",
       "    </tr>\n",
       "  </thead>\n",
       "  <tbody>\n",
       "    <tr>\n",
       "      <th>6</th>\n",
       "      <td>Comment</td>\n",
       "      <td>1</td>\n",
       "      <td>ej9x066</td>\n",
       "      <td>NaN</td>\n",
       "      <td>0</td>\n",
       "      <td>1.553474e+09</td>\n",
       "      <td>Your OP. It's not a myth. Only one vaccine con...</td>\n",
       "      <td>2019-03-25 02:34:53</td>\n",
       "    </tr>\n",
       "    <tr>\n",
       "      <th>7</th>\n",
       "      <td>Fuck you anti-vaxxing retards</td>\n",
       "      <td>10</td>\n",
       "      <td>g6jkhp</td>\n",
       "      <td>https://www.reddit.com/r/VaccineMyths/comments...</td>\n",
       "      <td>8</td>\n",
       "      <td>1.587663e+09</td>\n",
       "      <td>https://youtu.be/zBkVCpbNnkU</td>\n",
       "      <td>2020-04-23 20:23:42</td>\n",
       "    </tr>\n",
       "    <tr>\n",
       "      <th>8</th>\n",
       "      <td>Comment</td>\n",
       "      <td>0</td>\n",
       "      <td>fofa0yy</td>\n",
       "      <td>NaN</td>\n",
       "      <td>0</td>\n",
       "      <td>1.587760e+09</td>\n",
       "      <td>Because Anti-Vaxxers have no sense</td>\n",
       "      <td>2020-04-24 23:19:50</td>\n",
       "    </tr>\n",
       "    <tr>\n",
       "      <th>9</th>\n",
       "      <td>Comment</td>\n",
       "      <td>0</td>\n",
       "      <td>ej9xuaf</td>\n",
       "      <td>NaN</td>\n",
       "      <td>0</td>\n",
       "      <td>1.553475e+09</td>\n",
       "      <td>What do you mean by \"your OP\". I am fairly new...</td>\n",
       "      <td>2019-03-25 02:45:21</td>\n",
       "    </tr>\n",
       "    <tr>\n",
       "      <th>10</th>\n",
       "      <td>Comment</td>\n",
       "      <td>1</td>\n",
       "      <td>ej9x2qr</td>\n",
       "      <td>NaN</td>\n",
       "      <td>0</td>\n",
       "      <td>1.553474e+09</td>\n",
       "      <td>When they say there's no thimerasol, they mean...</td>\n",
       "      <td>2019-03-25 02:35:47</td>\n",
       "    </tr>\n",
       "    <tr>\n",
       "      <th>...</th>\n",
       "      <td>...</td>\n",
       "      <td>...</td>\n",
       "      <td>...</td>\n",
       "      <td>...</td>\n",
       "      <td>...</td>\n",
       "      <td>...</td>\n",
       "      <td>...</td>\n",
       "      <td>...</td>\n",
       "    </tr>\n",
       "    <tr>\n",
       "      <th>1597</th>\n",
       "      <td>Comment</td>\n",
       "      <td>2</td>\n",
       "      <td>elrv9ua</td>\n",
       "      <td>NaN</td>\n",
       "      <td>0</td>\n",
       "      <td>1.556223e+09</td>\n",
       "      <td>Lol. My comprehension is comprehensive.\\r\\nYou...</td>\n",
       "      <td>2019-04-25 23:11:10</td>\n",
       "    </tr>\n",
       "    <tr>\n",
       "      <th>1598</th>\n",
       "      <td>Comment</td>\n",
       "      <td>1</td>\n",
       "      <td>elrud7d</td>\n",
       "      <td>NaN</td>\n",
       "      <td>0</td>\n",
       "      <td>1.556223e+09</td>\n",
       "      <td>If you have trouble finding it, that's one thi...</td>\n",
       "      <td>2019-04-25 23:02:04</td>\n",
       "    </tr>\n",
       "    <tr>\n",
       "      <th>1599</th>\n",
       "      <td>Comment</td>\n",
       "      <td>0</td>\n",
       "      <td>elrtjl5</td>\n",
       "      <td>NaN</td>\n",
       "      <td>0</td>\n",
       "      <td>1.556222e+09</td>\n",
       "      <td>Is there music playing where you are because y...</td>\n",
       "      <td>2019-04-25 22:53:50</td>\n",
       "    </tr>\n",
       "    <tr>\n",
       "      <th>1600</th>\n",
       "      <td>Comment</td>\n",
       "      <td>1</td>\n",
       "      <td>elrrt5l</td>\n",
       "      <td>NaN</td>\n",
       "      <td>0</td>\n",
       "      <td>1.556221e+09</td>\n",
       "      <td>How long does it take ethyl mercury to metabol...</td>\n",
       "      <td>2019-04-25 22:35:39</td>\n",
       "    </tr>\n",
       "    <tr>\n",
       "      <th>1601</th>\n",
       "      <td>Comment</td>\n",
       "      <td>1</td>\n",
       "      <td>elrqfk3</td>\n",
       "      <td>NaN</td>\n",
       "      <td>0</td>\n",
       "      <td>1.556220e+09</td>\n",
       "      <td>&gt; Why is it sounding like I'm scraping the bot...</td>\n",
       "      <td>2019-04-25 22:21:34</td>\n",
       "    </tr>\n",
       "  </tbody>\n",
       "</table>\n",
       "<p>1226 rows × 8 columns</p>\n",
       "</div>"
      ],
      "text/plain": [
       "                              title  score       id  \\\n",
       "6                           Comment      1  ej9x066   \n",
       "7     Fuck you anti-vaxxing retards     10   g6jkhp   \n",
       "8                           Comment      0  fofa0yy   \n",
       "9                           Comment      0  ej9xuaf   \n",
       "10                          Comment      1  ej9x2qr   \n",
       "...                             ...    ...      ...   \n",
       "1597                        Comment      2  elrv9ua   \n",
       "1598                        Comment      1  elrud7d   \n",
       "1599                        Comment      0  elrtjl5   \n",
       "1600                        Comment      1  elrrt5l   \n",
       "1601                        Comment      1  elrqfk3   \n",
       "\n",
       "                                                    url  comms_num  \\\n",
       "6                                                   NaN          0   \n",
       "7     https://www.reddit.com/r/VaccineMyths/comments...          8   \n",
       "8                                                   NaN          0   \n",
       "9                                                   NaN          0   \n",
       "10                                                  NaN          0   \n",
       "...                                                 ...        ...   \n",
       "1597                                                NaN          0   \n",
       "1598                                                NaN          0   \n",
       "1599                                                NaN          0   \n",
       "1600                                                NaN          0   \n",
       "1601                                                NaN          0   \n",
       "\n",
       "           created                                               body  \\\n",
       "6     1.553474e+09  Your OP. It's not a myth. Only one vaccine con...   \n",
       "7     1.587663e+09                       https://youtu.be/zBkVCpbNnkU   \n",
       "8     1.587760e+09                 Because Anti-Vaxxers have no sense   \n",
       "9     1.553475e+09  What do you mean by \"your OP\". I am fairly new...   \n",
       "10    1.553474e+09  When they say there's no thimerasol, they mean...   \n",
       "...            ...                                                ...   \n",
       "1597  1.556223e+09  Lol. My comprehension is comprehensive.\\r\\nYou...   \n",
       "1598  1.556223e+09  If you have trouble finding it, that's one thi...   \n",
       "1599  1.556222e+09  Is there music playing where you are because y...   \n",
       "1600  1.556221e+09  How long does it take ethyl mercury to metabol...   \n",
       "1601  1.556220e+09  > Why is it sounding like I'm scraping the bot...   \n",
       "\n",
       "                timestamp  \n",
       "6     2019-03-25 02:34:53  \n",
       "7     2020-04-23 20:23:42  \n",
       "8     2020-04-24 23:19:50  \n",
       "9     2019-03-25 02:45:21  \n",
       "10    2019-03-25 02:35:47  \n",
       "...                   ...  \n",
       "1597  2019-04-25 23:11:10  \n",
       "1598  2019-04-25 23:02:04  \n",
       "1599  2019-04-25 22:53:50  \n",
       "1600  2019-04-25 22:35:39  \n",
       "1601  2019-04-25 22:21:34  \n",
       "\n",
       "[1226 rows x 8 columns]"
      ]
     },
     "execution_count": 26,
     "metadata": {},
     "output_type": "execute_result"
    }
   ],
   "source": [
    "data_full = data.dropna(subset = [\"body\"])\n",
    "data_full"
   ]
  },
  {
   "cell_type": "code",
   "execution_count": null,
   "metadata": {},
   "outputs": [
    {
     "data": {
      "text/plain": [
       "[\"Your OP. It's not a myth. Only one vaccine contains it and you can get it without it. So your OP is pointless flex. \",\n",
       " 'https://youtu.be/zBkVCpbNnkU',\n",
       " 'Because Anti-Vaxxers have no sense',\n",
       " 'What do you mean by \"your OP\". I am fairly new to reddit.',\n",
       " \"When they say there's no thimerasol, they mean in the childhood schedule. That IS a fact. \"]"
      ]
     },
     "execution_count": 27,
     "metadata": {},
     "output_type": "execute_result"
    }
   ],
   "source": [
    "descriptions = data_full.body.to_list()\n",
    "descriptions[:5]"
   ]
  },
  {
   "cell_type": "markdown",
   "metadata": {},
   "source": [
    "### Looking at word frequencies"
   ]
  },
  {
   "cell_type": "code",
   "execution_count": null,
   "metadata": {},
   "outputs": [
    {
     "name": "stdout",
     "output_type": "stream",
     "text": [
      "['.', 'it', \"'\", 'a', '.', 'it', 'and', 'you', 'it', 'it', '.', 'is', '.', '.', 'you', '.', 'i', 'to', '.', \"'\", ',', 'in', 'the', '.', 'that', 'is', 'a', '.', 'the', 'you', \"'\", 'is', 'in', 'to', 'the', '.', 'of', 'it', '.', 'you', \"'\", 'a', '.', 'you', \"'\", 'to', 'it', 'i', \"'\", 'that', ',', 'the', '.', 'you', 'the', '.', 'the', '.', 'to', ',', 'it', \"'\", 'of', 'and', 'in', '.', 'that', \"'\", '.', 'i', \"'\", 'to', \"'\", \"'\", '.', '.', '.', '.', 'i', \"'\", 'in', '.', 'the', ',', 'i', ',', 'is', '.', '.', ',', ',', 'the', 'is', '.', 'i', \"'\", 'is', '.', 'i', '.', 'you', \"'\", '.', ',', 'i', \"'\", 'you', \"'\", 'the', '.', \"'\", 'you', \"'\", 'to', '.', '.', '.', 'you', \"'\", 'the', 'you', 'in', '.', 'i', \"'\", 'that', 'you', ',', 'you', '.', ',', 'and', '.', 'and', 'you', \"'\", ',', 'you', 'of', '.', 'is', '.', 'of', 'to', 'you', 'in', 'and', ',', 'that', 'you', '.', 'it', \"'\", 'to', '.', 'to', 'is', 'a', 'of', \"'\", 'of', 'to', '.', 'that', \"'\", 'it', 'is', 'a', '.', 'and', 'that', \"'\", 'to', '.', 'it', \"'\", '.', 'i', \"'\", '.', '.', 'that', 'is', 'a', 'and', '.', 'you', \"'\", ',', 'i', \"'\", 'a', 'to', 'you', 'a', 'you', 'the', '.', ',', 'it', \"'\", '.', 'you', 'to', 'you', ',', 'it', 'to', 'you', '.', 'you', 'is', 'in', '.', 'you', '.', 'i', 'it', \"'\", '.', 'i', 'it', \"'\", 'in', 'and', 'that', \"'\", 'a', 'and', 'it', \"'\", '.', 'you', 'to', 'to', 'i', \"'\", '.', 'of', 'is', 'that', 'is', 'in', ',', 'you', 'to', 'the', '.', 'i', \"'\", 'of', '.', 'it', 'is', 'you', '.', ',', 'is', 'in', 'the', \"'\", 'it', \"'\", '.', 'that', \"'\", 'is', 'it', 'and', '.', \"'\", 'the', 'that', 'in', 'of', ',', 'you', 'a', ',', 'you', \"'\", '.', ',', 'is', '.', 'you', 'and', 'you', ',', 'and', ',', 'is', '.', 'that', 'the', 'in', 'is', ',', 'it', \"'\", \"'\", ',', 'you', 'of', 'the', 'of', 'it', '.', 'the', 'the', 'and', 'and', 'a', 'of', '.', 'i', \"'\", 'is', ',', 'is', ',', 'in', 'the', 'of', ',', 'in', '.', 'a', 'is', 'to', 'a', '.', 'you', 'it', 'you', 'to', '.', 'you', 'the', 'and', 'you', 'to', '.', 'is', 'in', '.', '.', ',', \"'\", 'the', 'and', ',', 'it', 'that', 'is', '.', \"'\", 'a', 'of', 'in', 'the', ',', 'is', 'to', 'a', '.', ',', 'of', 'that', 'a', 'is', '.', ',', 'a', 'of', 'of', 'of', ',', 'is', 'to', '.', 'that', 'of', 'is', 'and', 'is', 'the', '.', ',', '.', ',', 'you', 'to', 'the', 'of', 'and', 'it', \"'\", ',', 'you', 'to', 'to', 'a', ',', ',', 'you', 'you', \"'\", 'the', '.', ',', 'a', 'and', 'and', \"'\", 'a', 'the', 'you', 'to', '.', \"'\", 'it', '.', '.', 'it', \"'\", 'in', 'a', 'a', 'and', '.', 'a', 'it', ',', 'it', \"'\", '.', '.', ',', 'is', 'a', 'of', '.', '.', '.', 'you', '.', 'in', ',', 'in', 'the', \"'\", ',', 'is', 'a', '.', '.', '.', 'you', ',', \"'\", 'of', 'the', 'of', ',', \"'\", ',', 'in', 'it', 'is', ',', 'is', 'in', '.', 'that', \"'\", 'it', \"'\", '.', '.', '.', 'you', ',', \"'\", 'of', 'the', '.', 'that', ',', 'in', ',', \"'\", 'in', 'i', 'the', 'it', \"'\", '.', 'that', \"'\", 'is', 'in', '.', '.', 'you', 'you', ',', 'and', 'to', ',', ',', 'and', '.', 'is', 'i', 'it', \"'\", 'a', ',', \"'\", 'in', 'it', \"'\", 'it', 'of', 'you', 'the', ',', 'is', 'a', '.', \"'\", 'to', 'a', 'you', '.', 'i', 'i', '.', 'of', ',', 'in', 'and', 'it', ',', 'to', 'of', '.', 'you', 'to', ',', 'that', \"'\", \"'\", 'it', 'that', \"'\", ',', '.', '.', 'the', ',', 'you', '.', 'in', 'and', 'is', 'a', '.', ',', ',', 'you', 'i', '.', 'in', '.', ',', 'a', ',', ',', '.', 'and', '.', '.', 'is', 'of', '.', 'is', 'a', '.', 'i', ',', 'is', 'i', 'is', 'in', 'and', 'of', 'the', '.', '.', '.', 'i', \"'\", 'to', '.', 'you', 'to', 'i', \"'\", ',', 'it', 'to', 'it', 'is', ',', 'and', 'you', 'to', 'it', ',', 'it', \"'\", '.', \"'\", 'that', 'i', \"'\", 'and', '.', 'you', \"'\", '.', \"'\", '.', '.', 'you', \"'\", '.', 'a', 'you', 'a', '.', ',', 'that', 'a', '.', 'i', \"'\", 'a', 'of', ',', '.', 'i', 'a', ',', 'i', '.', 'you', 'to', 'that', '.', 'you', 'a', 'to', '.', 'the', ',', 'the', 'it', 'a', '.', 'that', \"'\", 'in', 'the', 'of', ',', 'a', '.', ',', 'is', 'a', 'the', 'of', 'the', ',', \"'\", 'a', 'to', ',', \"'\", 'the', 'of', ',', 'it', \"'\", ',', 'that', 'the', 'in', 'to', 'the', 'that', ',', 'a', 'of', ',', 'to', 'to', 'that', 'to', 'the', ',', \"'\", ',', ',', 'of', 'the', ',', 'of', 'the', ',', 'in', 'the', 'of', '.', '.', '.', '.', ',', ',', 'that', \"'\", '.', 'in', 'is', 'a', 'the', '.', '.', \"'\", 'to', 'in', ',', '.', 'of', '.', 'it', \"'\", 'to', 'in', 'it', \"'\", ',', 'to', '.', \"'\", 'a', 'of', 'the', '.', 'and', 'the', 'that', 'a', 'the', 'you', 'is', 'the', 'you', 'is', 'a', '.', '.', '.', '.', '.', '.', '.', 'of', \"'\", 'in', ',', '.', \"'\", '.', \"'\", 'the', 'and', '.', '.', \"'\", 'to', '.', 'is', 'a', 'of', ',', ',', ',', '.', 'in', 'of', '.', 'i', \"'\", 'that', \"'\", 'a', 'that', \"'\", 'in', 'the', 'of', ',', 'a', '.', 'that', 'the', 'it', ',', 'the', 'of', 'it', 'is', 'the', 'of', 'the', ',', 'is', 'and', 'you', \"'\", \"'\", '.', 'the', 'is', 'the', '.', '.', '.', '.', '.', '.', '.', '.', 'and', 'to', '.', ',', 'to', 'the', ',', 'you', \"'\", ',', 'to', '.', ',', 'it', 'is', 'to', 'to', '.', ',', \"'\", '.', 'it', \"'\", 'a', '.', 'you', 'of', 'the', 'you', '.', '.', '.', '.', ',', 'you', \"'\", '.', 'you', 'to', ',', 'the', '.', 'i', 'it', 'to', 'the', 'in', ',', 'the', ',', 'that', 'in', '.', '.', '.', '.', 'i', 'the', 'the', 'of', 'to', ',', 'i', 'the', 'that', 'it', 'in', ',', 'in', 'in', ',', \"'\", '.', 'it', 'i', \"'\", 'in', 'that', ',', 'i', '.', \"'\", 'a', '.', 'you', \"'\", 'a', 'to', 'that', 'in', 'the', 'i', 'i', 'the', ',', 'it', 'is', 'to', 'to', '.', 'i', \"'\", 'the', ',', 'i', ',', 'is', 'to', ',', 'the', 'i', ',', 'is', 'the', 'i', 'it', 'to', 'the', 'in', ',', 'the', 'i', 'you', \"'\", 'that', '.', 'i', \"'\", 'it', '.', 'the', 'the', 'of', 'to', 'the', \"'\", 'to', '.', 'i', \"'\", 'it', 'i', \"'\", '.', 'in', 'that', '.', 'it', 'you', \"'\", ',', 'it', '.', 'you', \"'\", 'a', 'to', 'that', 'in', 'the', 'i', 'i', 'the', '.', 'it', \"'\", 'a', '.', \"'\", 'the', ',', 'i', ',', 'is', 'it', \"'\", '.', 'and', 'in', ',', 'you', \"'\", 'it', \"'\", 'is', '.', ',', 'is', 'the', ',', 'i', 'that', '.', '.', 'the', 'of', 'the', '.', '.', 'in', ',', ',', 'of', 'in', 'the', 'and', 'that', 'the', '.', 'a', ',', '.', 'a', 'of', ',', 'to', 'a', 'of', 'the', '.', 'in', 'the', ',', 'the', 'it', ',', 'of', '.', '.', 'of', ',', ',', 'and', 'to', '.', '.', '.', '.', '.', '.', '.', '.', 'in', 'of', '.', '.', 'of', '.', '.', '.', '.', '.', '.', 'the', ',', 'in', '.', 'in', ',', 'to', '.', ',', 'of', 'a', '.', '.', '.', 'the', 'to', 'the', 'and', 'you', 'a', ',', 'and', '.', \"'\", 'a', 'to', 'a', 'of', '.', 'it', 'the', 'the', 'of', '.', 'the', 'of', 'the', 'and', '.', 'in', 'the', 'of', 'to', 'in', 'the', 'of', 'of', ',', ',', ',', ',', ',', 'and', '.', '.', '.', '.', '.', '.', 'the', 'in', '.', 'i', \"'\", 'you', \"'\", \"'\", \"'\", \"'\", '.', 'the', 'of', 'the', '.', 'you', 'the', '.', 'of', ',', ',', 'and', 'to', '.', \"'\", 'the', 'the', '.', \"'\", 'and', '.', 'the', ',', 'in', '.', '.', '.', '.', 'the', ',', 'of', ',', ',', ',', ',', 'and', ',', '.', 'is', '.', 'in', ',', 'to', '.', 'of', 'the', '.', ',', 'a', 'in', 'the', ',', 'in', 'and', '.', '.', 'in', 'the', '.', 'is', 'of', '.', ',', 'of', 'a', '.', ',', \"'\", \"'\", 'a', '.', 'is', 'the', 'of', 'a', '.', '.', 'you', \"'\", '.', '.', 'the', 'to', 'the', '.', ',', 'and', 'and', '.', 'you', 'that', 'you', 'a', ',', 'and', '.', 'you', \"'\", 'it', '.', 'you', 'it', '.', 'of', 'the', 'and', '.', '.', '.', '.', 'you', '.', '.', '.', '.', 'you', \"'\", 'a', 'you', '.', 'the', 'is', 'of', 'i', 'the', 'the', 'in', '.', '.', '.', '.', 'you', \"'\", ',', 'it', ',', 'it', 'that', ',', ',', 'and', \"'\", ',', ',', 'i', \"'\", 'you', ',', 'it', 'that', ',', ',', 'and', \"'\", ',', ',', 'i', \"'\", 'you', 'i', 'it', '.', 'i', 'you', 'the', 'is', '.', 'i', 'a', 'the', 'of', '.', 'and', ',', 'to', ',', 'and', 'the', '.', 'it', 'is', 'to', 'the', ',', 'to', 'you', '.', 'i', \"'\", 'you', 'is', '.', 'you', 'to', \"'\", 'in', 'it', ',', 'it', '.', 'you', 'it', ',', 'it', '.', 'you', \"'\", 'it', ',', \"'\", 'it', '.', '.', 'i', \"'\", ',', \"'\", 'to', 'it', '.', 'is', 'of', 'i', 'the', 'the', 'in', ',', \"'\", 'that', '.', 'a', 'to', 'in', ',', 'that', 'the', 'to', 'and', ',', 'a', 'in', ',', ',', 'the', 'of', 'is', 'to', ',', 'of', ',', 'the', ',', 'is', ',', 'to', 'the', ',', '.', 'is', ',', 'it', 'is', 'of', ',', '.', 'is', '.', 'the', ',', 'is', 'of', 'the', 'to', '.', 'is', ',', 'a', ',', 'a', '.', 'the', ',', 'the', 'is', 'and', '.', 'is', 'and', '.', 'is', 'in', 'the', 'you', \"'\", 'the', ',', 'is', '.', ',', 'is', 'in', 'the', ',', 'a', '.', '.', '.', 'you', 'the', \"'\", \"'\", 'in', 'and', 'the', '.', 'and', 'to', 'the', 'i', \"'\", ',', 'you', '.', 'that', 'is', 'to', '.', 'you', 'of', 'of', ',', 'you', 'it', '.', \"'\", ',', ',', 'is', 'that', 'to', 'you', ',', '.', 'and', 'is', ',', ',', '.', ',', ',', 'to', 'a', 'of', '.', '.', 'the', 'of', 'a', 'of', '.', '.', 'the', 'of', 'a', 'the', 'of', 'a', 'of', '.', '.', 'a', 'of', '.', '.', '.', 'and', 'in', 'the', 'you', 'a', ',', ',', ',', 'the', 'and', 'is', '.', 'i', 'you', 'you', 'it', '.', 'a', ',', '.', 'i', 'to', 'that', 'you', 'to', '.', 'you', 'of', 'you', '.', '.', '.', '.', 'the', 'you', 'in', ',', '.', 'to', 'that', 'you', 'to', '.', 'i', 'the', 'i', 'is', '.', 'it', \"'\", 'a', 'in', 'the', 'of', '.', 'of', 'the', 'is', 'of', '.', '.', 'of', '.', '.', ',', 'the', 'in', 'in', ',', 'a', 'of', 'in', '.', 'of', 'the', 'in', 'the', 'in', ',', '.', 'that', 'the', 'in', 'the', '.', \"'\", 'the', 'the', '.', \"'\", 'and', '.', 'that', 'that', 'is', 'the', '.', 'you', 'to', 'the', 'and', '.', 'you', 'that', 'is', 'the', ',', 'and', 'that', 'the', 'of', 'and', 'is', ',', 'it', 'that', 'the', '.', 'it', 'is', 'a', 'to', ',', 'you', ',', 'and', '.', ',', 'you', 'the', '.', 'you', \"'\", '.', 'the', 'is', 'of', 'to', 'in', 'of', '.', 'it', 'the', 'of', ',', ',', 'and', 'to', 'that', 'the', '.', 'the', 'that', 'to', 'in', 'the', 'of', 'the', 'of', 'of', '.', '.', '.', ',', 'the', 'is', 'the', '.', 'of', 'a', 'of', '.', 'in', ',', \"'\", 'the', 'i', 'and', '.', '.', 'and', '.', '.', 'the', ',', 'of', 'a', 'of', '.', 'i', 'a', 'that', 'you', 'the', '.', 'you', 'a', 'in', ',', 'the', 'to', 'a', 'of', 'in', 'and', '.', 'in', ',', ',', ',', 'and', 'of', 'it', ',', 'to', '.', 'in', ',', 'the', 'in', 'of', '.', 'in', ',', 'the', 'that', 'that', '.', 'and', 'to', 'in', 'i', ',', 'that', 'of', 'to', '.', ',', '.', '.', '.', 'the', ',', 'the', 'and', '.', 'the', 'and', '.', \"'\", 'a', ',', ',', 'is', 'it', 'in', 'you', 'a', 'that', 'you', \"'\", 'it', 'to', 'and', 'is', 'a', '.', 'it', \"'\", 'the', ',', 'is', 'it', 'a', 'is', 'the', 'a', 'a', '.', 'i', '.', 'i', ',', 'the', 'i', 'to', 'to', 'in', 'of', 'in', ',', 'the', 'the', 'that', 'to', 'is', 'the', ',', ',', 'you', ',', 'i', '.', 'you', 'to', 'i', 'the', 'and', 'the', '.', 'i', 'you', 'a', '.', '.', 'and', 'to', 'i', 'you', \"'\", 'to', ',', 'you', \"'\", 'to', '.', 'of', ',', 'in', 'a', 'in', 'a', '.', '.', '.', 'the', '.', '.', '.', 'is', 'the', 'i', 'to', 'a', '.', 'to', 'the', \"'\", '.', '.', '.', '.', '.', 'in', 'of', '.', 'in', ',', 'to', '.', 'in', ',', 'to', 'in', 'a', 'of', '.', 'a', '.', 'a', 'of', '.', 'of', '.', '.', ',', 'is', 'the', 'of', 'in', 'a', 'of', 'i', \"'\", 'i', 'it', \"'\", 'in', 'and', 'it', \"'\", '.', 'you', 'the', 'of', 'in', 'is', ',', 'of', 'in', 'it', \"'\", 'the', 'in', 'the', '.', 'it', '.', 'it', ',', ',', 'that', 'a', 'in', '.', 'you', 'to', 'in', 'the', ',', 'in', ',', 'in', 'that', 'is', 'the', '.', '.', 'the', 'of', 'the', '.', 'the', 'of', 'the', '.', 'in', 'in', '.', 'you', 'of', 'i', '.', 'i', \"'\", 'to', 'and', 'the', '.', '.', '.', '.', 'of', 'and', '.', '.', '.', 'a', ',', ',', 'the', '.', '.', '.', '.', '.', 'that', 'the', ',', 'the', 'the', 'in', 'and', '.', \"'\", 'the', 'the', '.', \"'\", 'and', '.', '.', 'a', '.', 'the', 'of', '.', 'you', 'that', 'the', '.', 'to', 'the', ',', '.', 'is', 'to', 'in', '.', 'that', \"'\", 'to', 'the', 'that', '.', 'the', 'of', 'and', 'the', '.', 'that', \"'\", 'a', 'a', 'that', 'in', 'the', 'and', 'you', '.', 'you', \"'\", ',', 'to', 'of', '.', 'the', 'in', 'the', 'in', ',', '.', 'a', 'to', 'the', 'and', ',', 'to', 'and', ',', '.', 'is', 'that', '.', 'the', 'the', 'that', 'the', 'the', 'of', 'a', 'the', 'of', '.', '.', 'in', 'is', '.', 'the', '.', 'you', '.', 'and', 'i', \"'\", 'the', 'that', \"'\", 'to', 'that', '.', '.', 'the', ',', 'in', 'the', '.', 'i', 'of', 'the', ',', 'in', 'the', '.', '.', '.', '.', 'in', ',', 'the', 'in', 'i', ',', '.', 'it', \"'\", 'that', 'the', 'to', 'the', 'to', ',', ',', 'and', 'in', 'the', '.', 'it', '.', '.', 'is', 'the', '.', 'to', 'the', 'the', '.', ',', \"'\", 'a', 'the', '.', 'you', \"'\", 'the', ',', 'and', 'you', 'that', 'to', 'a', 'in', 'the', ',', 'you', 'a', 'to', 'that', 'to', 'the', '.', 'the', 'is', 'the', 'of', 'the', '.', 'a', 'and', 'the', 'that', 'a', '.', 'in', 'the', 'a', 'in', 'a', '.', 'the', '.', 'it', 'to', '.', 'it', 'is', 'a', 'a', 'the', 'of', '.', 'it', '.', 'and', 'the', '.', ',', 'the', '.', ',', 'the', 'and', 'a', '.', ',', 'the', 'the', '.', ',', 'the', ',', 'and', \"'\", 'that', 'it', 'and', 'the', 'of', \"'\", '.', 'the', '.', 'the', 'is', 'the', 'and', 'the', 'that', 'is', ',', 'in', '.', 'it', \"'\", 'the', 'of', 'that', 'a', 'of', ',', 'is', 'to', '.', 'i', 'the', 'to', ',', 'i', 'you', \"'\", 'the', 'i', ',', 'the', 'i', 'the', 'the', 'i', 'is', 'you', \"'\", 'and', '.', 'of', '.', 'to', 'is', '.', 'that', 'the', 'in', 'the', '.', 'it', 'you', \"'\", 'to', '.', 'the', 'in', 'the', '.', 'the', 'you', 'is', 'is', 'the', 'to', 'and', '.', 'to', 'of', 'of', 'and', ',', 'it', 'is', 'to', 'to', 'of', 'the', ',', 'the', 'and', '.', 'and', 'the', 'you', 'to', ',', 'you', 'and', 'in', 'the', 'in', 'the', 'in', ',', '.', '.', ',', '.', 'is', 'to', 'the', 'of', 'and', 'to', ',', 'it', 'is', 'the', 'to', '.', '.', 'a', 'to', 'the', 'and', ',', 'to', 'and', ',', '.', 'that', 'that', 'is', 'the', '.', \"'\", '.', ',', ',', 'the', ',', ',', 'you', ',', ',', 'of', 'is', 'to', '.', 'and', 'in', 'of', 'the', ',', 'it', 'is', 'to', 'to', 'and', 'to', 'and', '.', 'that', 'the', 'of', 'and', 'is', \"'\", '.', 'in', '.', 'the', 'is', 'and', '.', 'it', 'a', 'and', '.', 'it', ',', ',', 'of', '.', ',', 'you', 'the', '.', 'you', \"'\", '.', ',', 'you', 'the', 'that', 'and', 'the', ',', 'to', 'to', 'the', ',', 'that', '.', '.', '.', 'it', \"'\", 'a', 'a', '.', 'it', \"'\", 'a', '.', 'in', 'a', ',', 'in', '.', ',', 'the', 'is', 'the', '.', 'of', 'a', 'of', '.', 'that', '.', ',', \"'\", 'the', 'i', 'and', '.', '.', '.', '.', 'and', '.', '.', 'the', ',', 'of', 'a', 'of', '.', 'the', 'you', \"'\", 'to', '.', 'a', 'that', 'you', 'the', 'to', ',', 'the', 'you', \"'\", '.', ',', ',', ',', 'and', 'of', 'it', ',', 'to', '.', 'that', '.', '.', '.', 'you', 'it', '.', 'and', 'of', 'you', 'the', '.', ',', 'the', 'that', 'that', '.', ',', '.', 'that', 'and', ',', 'i', ',', \"'\", 'the', 'it', 'to', 'i', '.', '.', '.', 'the', 'to', '.', 'the', 'that', 'to', '.', 'and', ',', 'and', ',', 'it', \"'\", '.', 'you', \"'\", '.', 'to', 'the', ',', 'to', ',', 'a', 'in', ',', 'a', '.', 'to', '.', ',', 'to', 'is', '.', 'to', 'it', ',', '.', 'of', ',', 'a', 'of', 'and', '.', '.', '.', ',', 'of', ',', 'a', 'and', 'in', '.', '.', \"'\", '.', ',', 'that', 'to', ',', 'the', ',', 'to', 'of', '.', ',', 'that', 'you', '.', 'in', ',', '.', ',', 'that', '.', 'is', 'to', 'the', 'a', 'of', '.', 'in', 'the', 'of', '.', 'i', 'in', 'i', 'of', ',', ',', 'that', 'you', 'to', 'of', ',', 'i', 'to', 'it', 'and', 'you', 'the', 'in', 'and', 'in', '.', 'the', 'in', ',', 'i', 'a', 'the', 'in', '.', 'is', 'the', 'and', 'is', 'a', 'to', 'the', '.', 'in', ',', '.', ',', ',', ',', ',', ',', ',', ',', 'and', ',', '.', '.', '.', '.', 'the', 'in', ',', 'it', '.', 'i', 'it', 'it', 'to', \"'\", 'in', 'i', 'in', 'a', '.', 'i', \"'\", '.', 'you', 'to', 'to', \"'\", 'in', '.', 'you', \"'\", 'in', 'i', '.', '.', ',', 'i', 'it', 'it', 'to', 'it', \"'\", 'the', 'is', 'and', 'the', 'is', ',', 'it', \"'\", 'a', \"'\", 'it', '.', 'i', \"'\", '.', \"'\", 'you', 'to', 'i', 'you', \"'\", 'i', 'you', ',', '.', 'i', 'to', 'in', '.', 'in', '.', 'that', 'is', ',', 'is', 'i', \"'\", 'that', '.', 'i', \"'\", 'to', 'you', 'you', \"'\", 'to', 'i', 'and', 'to', ',', 'you', \"'\", '.', 'and', 'to', 'i', '.', 'is', 'that', 'the', 'is', 'to', 'in', ',', '.', 'of', 'it', 'in', 'the', '.', 'you', 'a', '.', 'i', 'it', '.', 'is', 'and', 'is', 'you', 'is', 'you', 'in', ',', \"'\", 'that', 'to', 'that', 'and', 'the', 'the', '.', 'and', 'to', '.', 'is', 'and', 'is', '.', ',', ',', 'and', '.', '.', '.', ',', 'you', 'in', 'a', 'it', 'the', 'to', 'it', '.', 'and', 'and', 'a', '.', 'a', '.', '.', ',', 'and', 'the', 'to', 'to', 'the', 'a', 'of', 'to', 'you', \"'\", '.', 'you', 'it', \"'\", 'to', 'the', '.', 'is', 'that', \"'\", 'it', ',', 'a', ',', ',', ',', 'and', 'i', 'in', 'the', 'in', 'you', 'a', '.', 'the', 'is', 'to', 'and', ',', 'in', 'the', ',', ',', 'and', ',', 'to', 'the', '.', ',', 'the', 'a', 'of', '.', 'of', 'the', ',', 'and', '.', 'the', 'is', ',', 'in', ',', ',', 'the', 'is', 'it', 'and', ',', 'it', ',', 'it', 'to', 'the', '.', 'you', 'to', 'a', 'of', 'to', '.', 'it', \"'\", 'the', 'you', 'a', 'to', 'i', 'in', 'to', 'to', 'you', 'i', '.', '.', '.', '.', '.', 'i', 'you', '.', 'you', 'the', 'you', ',', '.', ',', '.', 'and', 'the', 'it', 'and', 'the', 'the', '.', 'that', 'the', '.', '.', '.', '.', '.', '.', '.', ',', 'it', 'and', '.', 'and', 'the', 'it', '.', ',', 'it', 'the', 'of', ',', 'you', 'the', 'of', 'a', 'and', 'to', 'you', '.', 'the', 'that', '.', 'the', '.', '.', '.', '.', '.', '.', '.', '.', '.', '.', '.', '.', '.', 'it', 'and', 'it', 'is', ',', 'it', 'to', 'it', 'you', ',', 'that', 'you', 'and', 'it', 'you', ',', 'that', 'is', ',', 'a', 'in', 'the', 'that', 'is', 'to', ',', 'it', 'to', 'the', '.', 'i', \"'\", 'to', 'the', ',', ',', \"'\", 'a', 'a', 'a', 'a', 'you', ',', 'and', 'and', '.', 'and', 'you', 'a', 'of', 'you', 'it', 'to', 'it', '.', 'and', 'you', 'the', '.', 'is', '.', '.', '.', 'to', 'a', 'is', 'to', '.', 'and', ',', 'it', ',', 'that', \"'\", 'in', '.', '.', 'i', 'in', 'a', 'is', '.', 'i', 'it', 'i', 'a', 'that', 'in', '.', 'i', 'and', 'i', \"'\", 'the', ',', '.', '.', 'i', \"'\", 'and', ',', 'and', 'the', 'of', ',', '.', \"'\", 'the', ',', 'a', 'to', ',', 'and', 'a', 'a', '.', ',', 'the', 'of', '.', ',', 'and', ',', 'to', 'of', '.', ',', ',', 'and', 'is', 'a', '.', \"'\", '.', 'you', 'a', 'and', '.', '.', '.', '.', '.', 'you', 'it', '.', '.', ',', 'you', '.', 'that', 'you', 'to', 'in', 'of', 'and', 'to', 'that', ',', ',', ',', ',', ',', ',', 'and', 'in', 'the', 'is', 'of', 'you', 'you', 'a', '.', 'a', ',', '.', '.', 'that', '.', 'you', 'the', 'to', 'you', 'and', 'to', 'in', ',', 'and', 'the', 'to', 'to', 'the', 'of', 'to', 'of', 'a', 'and', 'that', 'to', 'a', 'that', 'the', '.', 'of', '.', 'a', 'of', ',', 'and', 'the', 'of', '.', 'that', 'to', 'the', 'is', 'to', 'of', 'in', 'in', '.', 'it', 'to', 'the', 'of', 'that', ',', 'it', 'and', 'to', 'the', ',', 'it', 'and', 'a', 'to', '.', 'it', '.', 'is', '.', 'i', 'it', 'i', 'it', 'the', 'in', 'the', ',', 'i', '.', 'a', 'in', 'the', 'the', '.', '.', 'and', ',', 'you', 'to', 'in', '.', 'in', 'and', ',', 'of', 'the', 'and', 'the', 'of', '.', '.', '.', 'to', '.', 'to', '.', '.', '.', '.', 'to', 'in', '.', '.', 'to', ',', '.', '.', 'to', '.', '.', 'to', 'to', '.', '.', 'to', '.', '.', 'in', 'a', ',', 'you', 'and', '.', 'i', 'the', 'a', ',', 'it', 'the', ',', 'it', ',', 'it', 'in', '.', 'is', 'in', '.', 'is', ',', 'is', 'the', '.', '.', ',', 'and', '.', 'the', '.', '.', 'a', '.', 'the', 'and', 'a', '.', ',', 'the', 'is', '.', ',', '.', 'it', 'is', '.', 'the', 'i', '.', 'it', '.', 'you', ',', 'and', 'the', 'in', ',', '.', 'and', \"'\", ',', ',', '.', 'of', 'and', 'the', 'and', 'the', 'of', 'the', '.', 'the', 'of', 'the', 'you', 'is', 'to', 'in', 'a', 'to', '.', 'it', 'is', 'the', ',', ',', 'and', 'that', 'and', '.', 'the', '.', 'you', ',', 'and', 'that', '.', 'that', 'the', ',', 'the', 'the', 'in', 'and', '.', 'the', 'and', 'the', 'in', 'a', 'to', 'the', 'of', 'the', '.', 'the', 'that', 'is', 'in', 'to', 'the', '.', '.', 'a', '.', 'the', 'of', '.', 'and', \"'\", ',', 'the', 'a', '.', 'you', '.', 'that', 'the', '.', 'to', 'the', ',', '.', 'is', 'to', 'in', '.', 'is', ',', ',', ',', 'you', ',', 'you', '.', \"'\", 'the', '.', 'of', 'and', 'the', '.', 'it', 'you', 'to', 'it', 'in', '.', \"'\", 'a', 'a', 'that', 'in', 'the', 'and', ',', 'the', \"'\", '.', ',', ',', \"'\", 'of', 'a', '.', 'you', '.', 'you', 'the', '.', \"'\", 'the', 'the', 'and', 'is', '.', 'you', \"'\", ',', 'to', 'of', '.', \"'\", ',', 'the', 'of', 'and', '.', 'of', 'the', 'to', '.', 'is', 'that', '.', 'the', 'the', 'that', 'the', 'the', 'of', 'a', 'that', \"'\", \"'\", '.', \"'\", 'the', ',', 'a', 'and', '.', ',', '.', 'a', 'of', ',', ',', '.', 'to', 'the', '.', 'the', 'of', '.', '.', 'in', 'is', '.', '.', 'the', 'is', 'to', 'and', ',', '.', ',', \"'\", '.', ',', ',', 'is', '.', \"'\", '.', 'the', '.', 'you', '.', 'and', 'i', \"'\", 'the', 'that', \"'\", 'to', ',', '.', '.', 'the', ',', 'in', 'the', '.', 'i', 'of', 'the', ',', 'in', 'the', '.', ',', \"'\", 'that', 'to', '.', \"'\", '.', 'the', 'and', 'to', 'the', '.', 'is', 'a', 'in', ',', 'and', ',', ',', 'and', ',', \"'\", 'and', \"'\", '.', ',', 'in', 'the', '.', 'that', \"'\", 'in', '.', 'you', \"'\", '.', 'it', '.', '.', 'i', 'and', 'to', 'a', 'and', '.', 'in', ',', 'the', 'in', 'i', 'to', 'in', '.', 'of', '.', 'of', 'in', 'the', ',', ',', 'and', 'of', ',', ',', \"'\", 'a', '.', 'the', 'of', 'the', \"'\", ',', 'the', '.', 'and', ',', ',', \"'\", 'a', 'the', '.', 'it', 'is', 'a', 'of', 'a', 'in', 'the', '.', 'and', '.', 'and', ',', ',', 'the', ',', ',', 'and', 'of', 'the', 'is', 'the', '.', 'is', 'you', 'the', 'of', 'in', 'the', \"'\", 'i', 'it', 'the', 'of', 'of', 'the', '.', 'that', '.', 'you', \"'\", ',', 'the', 'to', 'is', 'you', '.', '.', 'in', ',', 'the', 'in', 'i', ',', '.', ',', 'and', 'of', 'in', 'i', 'a', '.', 'it', \"'\", 'the', 'of', '.', \"'\", 'that', 'the', 'to', 'the', 'to', ',', ',', 'and', 'in', 'the', '.', 'the', 'of', 'the', \"'\", '.', 'the', 'a', 'of', ',', '.', 'the', 'of', 'i', \"'\", 'of', 'a', '.', 'that', '.', 'you', 'that', ',', \"'\", 'a', 'the', '.', 'you', \"'\", 'the', ',', 'and', 'you', 'that', 'to', 'a', 'in', 'the', ',', 'you', 'a', 'to', 'that', 'to', 'the', '.', 'the', 'is', 'the', 'of', 'the', '.', '.', 'and', '.', 'and', 'and', '.', 'in', 'the', '.', ',', 'the', '.', ',', 'the', 'and', 'a', '.', 'you', \"'\", 'in', 'a', '.', 'the', '.', 'you', 'to', 'it', '.', 'the', '.', '.', 'the', '.', ',', ',', ',', '.', 'i', 'you', 'it', 'you', 'the', 'to', 'it', '.', \"'\", 'the', '.', '.', 'you', 'that', 'the', 'of', 'is', 'i', '.', 'you', 'i', \"'\", 'it', 'and', \"'\", 'the', 'of', 'is', '.', 'the', 'to', 'the', '.', 'the', 'of', 'of', 'a', ',', 'in', 'the', 'of', '.', '.', '.', 'to', '.', '.', '.', '.', '.', 'it', 'a', '.', '.', ',', ',', 'the', 'in', '.', '.', 'is', 'of', \"'\", 'of', '.', 'that', \"'\", '.', 'you', 'it', '.', 'the', 'it', '.', 'you', 'a', 'to', 'is', ',', ',', '.', 'you', 'to', 'the', ',', 'and', 'it', '.', 'is', 'to', 'to', 'you', '.', 'i', \"'\", 'you', 'the', 'to', 'is', '.', 'is', 'a', 'and', 'you', \"'\", 'to', '.', 'you', 'to', 'the', 'of', 'and', 'is', 'a', ',', '.', 'you', \"'\", 'to', ',', ',', 'is', '.', 'the', 'i', 'to', 'and', '.', '.', '.', 'i', 'in', 'a', '.', 'the', 'of', '.', 'i', 'it', \"'\", 'a', 'of', '.', 'the', 'of', 'and', 'i', 'and', 'i', '.', '.', '.', 'that', 'a', '.', 'the', ',', ',', 'is', ',', 'you', \"'\", ',', \"'\", 'of', 'the', '.', 'i', \"'\", 'and', 'and', 'to', 'i', 'you', 'to', \"'\", 'the', \"'\", '.', 'i', 'and', 'it', 'to', 'i', \"'\", 'a', 'the', 'in', 'and', 'i', 'and', 'to', 'and', 'to', 'the', '.', 'to', 'in', 'in', 'i', '.', 'of', 'i', 'to', 'the', '.', 'i', 'and', 'to', 'to', 'the', '.', 'i', 'a', 'the', 'i', 'and', 'that', 'i', 'it', '.', 'you', 'i', 'to', 'and', 'that', 'a', 'a', 'and', 'i', \"'\", 'to', 'the', 'of', 'and', 'to', 'in', 'the', 'it', \"'\", '.', 'i', 'that', 'of', 'the', 'of', 'that', \"'\", 'the', 'that', ',', 'that', 'the', 'the', 'i', \"'\", 'the', \"'\", 'to', 'and', 'to', 'and', 'to', 'the', '.', 'i', \"'\", '.', 'i', 'that', 'and', 'i', 'that', 'is', 'in', 'the', 'i', \"'\", 'a', 'it', 'and', 'a', '.', 'i', \"'\", 'the', '.', 'that', \"'\", 'it', '.', '.', '.', 'it', 'is', '.', 'is', 'the', '.', 'of', 'the', 'the', '.', 'the', 'it', 'is', '.', '.', '.', 'you', \"'\", '.', 'is', 'the', 'the', 'of', 'you', 'it', \"'\", 'the', ',', 'you', 'the', 'you', ',', '.', 'is', 'the', 'a', 'the', 'of', 'of', '.', 'you', \"'\", '.', '.', 'is', 'a', '.', '.', '.', 'the', 'you', 'a', 'is', ',', 'the', 'you', 'a', '.', 'i', 'i', 'a', 'to', 'to', 'to', 'the', ',', 'is', 'that', 'the', '.', 'i', 'i', 'a', 'and', ',', 'i', 'to', 'that', 'it', 'is', 'the', 'is', 'in', 'the', 'of', 'is', 'in', 'the', '.', ',', 'you', '.', 'you', 'a', 'you', 'to', 'i', \"'\", 'that', '.', 'in', ',', 'i', '.', 'it', '.', 'to', \"'\", ',', 'you', 'that', 'the', 'to', 'is', 'it', 'i', \"'\", 'the', 'of', 'the', 'the', '.', 'the', '.', 'that', 'it', 'and', 'to', 'is', 'the', 'of', 'the', 'the', 'you', \"'\", '.', 'is', 'that', 'the', 'you', 'the', 'you', 'the', 'the', 'is', 'the', 'the', '.', 'that', 'is', 'a', '.', 'the', 'you', 'a', 'is', '.', 'the', 'you', 'a', '.', 'and', 'the', 'you', 'to', 'the', 'you', \"'\", '.', 'of', 'is', 'you', \"'\", 'the', 'of', 'the', '.', '.', '.', 'in', 'and', '.', 'and', '.', 'the', 'i', 'it', 'and', 'the', 'in', '.', 'and', ',', ',', 'i', 'a', ',', 'and', 'i', 'that', ',', '.', 'the', 'is', ',', 'and', 'i', ',', '.', 'it', ',', 'and', 'in', ',', '.', 'is', ',', ',', ',', 'and', 'that', 'the', '.', 'to', 'it', 'is', 'to', ',', 'i', ',', 'and', 'i', 'and', ',', 'i', 'to', 'a', '.', 'a', ',', 'i', 'it', 'to', 'that', '.', 'the', 'to', 'a', 'a', 'the', '.', 'to', 'the', 'and', '.', 'the', 'to', 'it', 'the', '.', 'to', 'a', 'and', 'the', 'to', '.', 'it', 'a', 'a', 'you', 'the', 'the', '.', 'it', \"'\", 'it', '.', 'it', '.', 'that', 'i', \"'\", 'in', 'the', 'i', 'it', 'that', \"'\", 'it', 'i', 'in', 'the', 'and', \"'\", 'that', '.', 'it', 'i', \"'\", 'the', '.', 'is', 'the', 'to', '.', 'is', '.', 'the', 'to', 'a', '.', '.', '.', 'you', '.', 'in', ',', ',', 'in', '.', 'of', 'the', ',', '.', ',', 'the', 'of', '.', ',', ',', 'that', 'to', 'it', 'is', '.', ',', 'to', '.', 'in', ',', 'is', 'and', 'is', ',', 'to', 'the', 'that', 'and', 'is', 'is', 'in', 'a', 'of', '.', ',', 'it', 'to', 'the', 'the', ',', 'that', 'is', 'the', '.', ',', 'in', ',', 'is', ',', 'and', 'to', 'to', 'in', ',', ',', 'the', 'is', 'the', ',', '.', '.', 'to', 'a', '.', 'to', 'and', 'a', 'to', 'the', '.', 'i', 'and', 'i', 'i', 'i', 'the', 'i', 'the', 'of', 'and', 'to', '.', 'i', 'in', 'it', '.', 'of', 'and', 'in', 'a', '.', 'of', 'to', '.', 'is', 'it', 'it', 'the', 'you', \"'\", 'the', 'to', '.', ',', 'in', 'a', 'of', ',', 'you', '.', 'is', ',', 'you', 'it', 'is', ',', 'and', '.', 'it', '.', 'the', ',', '.', 'and', 'i', 'the', 'the', 'the', '.', 'i', 'is', '.', 'i', '.', 'of', 'and', 'a', '.', 'and', 'to', 'to', 'a', 'to', 'i', 'a', 'to', 'the', 'you', 'that', 'the', 'of', 'it', \"'\", 'the', 'and', 'to', 'and', 'in', 'to', 'of', 'and', '.', '.', '.', 'the', 'of', 'a', 'the', 'a', 'of', ',', ',', 'in', 'the', 'of', ',', 'a', 'the', ',', 'that', 'the', 'and', 'that', 'the', 'of', '.', 'to', \"'\", 'of', 'in', '.', 'a', ',', ',', '.', 'to', 'that', '.', 'the', 'to', 'is', '.', 'and', 'in', 'the', \"'\", '.', 'of', 'in', ',', 'to', 'a', ',', 'the', '.', 'i', '.', '.', 'i', ',', ',', 'i', ',', ',', 'and', ',', ',', 'i', 'and', ',', 'and', 'i', 'i', 'a', '.', 'to', ',', 'of', '.', ',', 'i', '.', 'you', 'i', 'it', 'the', 'is', 'that', 'the', ',', 'the', '.', 'the', ',', 'and', 'of', '.', '.', '.', '.', 'i', '.', '.', 'i', 'to', 'a', 'of', '.', 'the', 'it', '.', 'i', 'to', 'a', 'to', '.', 'that', 'is', 'is', '.', '.', '.', 'a', 'i', 'it', 'a', 'of', '.', 'i', '.', 'it', 'i', '.', 'i', 'and', 'to', 'that', '.', '.', 'it', 'that', 'i', 'i', '.', ',', ',', 'a', ',', 'a', 'the', ',', ',', ',', '.', ',', 'a', 'a', '.', '.', ',', '.', '.', '.', '.', ',', ',', '.', '.', '.', ',', '.', ',', ',', ',', '.', ',', ',', ',', ',', ',', '.', ',', ',', ',', '.', 'a', 'a', ',', '.', '.', ',', '.', ',', '.', ',', '.', ',', '.', ',', ',', '.', ',', ',', ',', '.', ',', '.', '.', '.', ',', '.', ',', ',', '.', 'a', ',', 'a', ',', ',', ',', ',', 'a', ',', '.', ',', '.', ',', 'a', ',', 'a', ',', '.', '.', '.', '.', '.', '.', '.', '.', '.', '.', '.', '.', '.', '.', '.', '.', '.', '.', '.', '.', 'the', 'of', ',', \"'\", 'that', ',', 'is', 'to', 'the', '.', 'the', 'to', 'and', 'it', 'in', '.', 'and', '.', 'to', 'the', 'that', 'the', '.', 'the', 'the', 'to', 'and', 'of', 'you', 'to', 'and', '.', 'is', 'you', ',', 'you', 'of', 'to', 'in', ',', '.', '.', 'it', 'is', 'a', 'that', 'the', 'that', '.', 'that', 'of', 'the', ',', 'to', 'of', 'it', 'to', ',', 'the', 'of', 'it', '.', ',', 'to', 'the', 'of', 'is', 'that', '.', ',', 'to', '.', 'the', 'is', 'to', '.', ',', 'a', 'and', ',', 'is', 'the', 'to', 'a', '.', 'and', '.', 'that', 'in', 'and', 'and', '.', 'the', 'in', ',', 'in', 'is', 'the', ',', 'it', 'that', 'is', '.', 'the', 'that', 'the', 'in', 'the', 'of', 'the', 'of', ',', 'the', '.', 'in', 'the', 'of', ',', 'in', '.', 'of', 'the', 'in', 'the', 'of', ',', 'in', 'and', ',', 'and', '.', 'of', ',', ',', 'and', ',', 'and', '.', ',', '.', '.', 'it', 'that', 'of', ',', ',', 'and', '.', 'to', 'a', 'and', ',', 'is', '.', 'it', 'is', 'that', ',', ',', 'and', ',', 'is', '.', ',', 'is', 'the', 'in', '.', 'to', 'and', '.', 'and', 'to', 'of', 'in', '.', 'the', 'of', 'of', '.', 'to', 'the', 'of', 'the', 'that', 'to', 'of', '.', 'a', 'to', 'a', ',', 'the', '.', ',', 'in', 'the', 'of', 'the', ',', 'to', '.', 'of', 'and', '.', 'of', 'to', '.', 'of', 'the', 'of', 'in', '.', ',', 'a', 'of', ',', 'of', ',', ',', 'and', 'of', '.', 'is', 'to', 'and', '.', ',', 'of', 'to', 'of', 'to', 'of', 'and', '.', ',', ',', 'and', '.', 'to', 'you', 'the', 'of', ',', 'of', 'and', '.', 'to', 'to', 'it', '.', 'to', '.', 'i', 'the', 'in', 'and', 'in', '.', 'the', 'a', 'in', 'that', 'and', 'is', 'in', 'a', 'the', 'and', 'the', '.', 'i', 'it', 'a', 'to', 'a', 'and', 'it', '.', 'i', 'the', ',', 'the', 'it', 'is', 'i', 'it', '.', 'i', '.', 'to', 'and', 'a', '.', 'and', 'a', 'to', 'a', 'to', 'a', '.', ',', ',', 'the', '.', 'is', 'and', '.', 'to', 'to', 'the', 'the', 'to', 'the', 'in', '.', ',', 'the', 'and', 'to', '.', 'i', 'to', 'i', 'it', 'that', 'the', ',', 'to', 'the', 'of', 'the', '.', 'is', 'to', 'the', '.', ',', 'of', 'a', 'the', 'of', 'the', 'and', 'the', 'of', 'the', '.', '.', '.', 'of', 'the', ',', 'and', '.', '.', '.', '.', ',', 'a', ',', 'you', 'the', '.', 'you', 'in', 'the', ',', 'you', 'and', '.', '.', '.', 'and', 'the', '.', ',', ',', ',', ',', ',', '.', 'and', '.', ',', 'of', ',', ',', '.', '.', '.', '.', '.', 'the', ',', 'and', ',', 'the', 'and', 'in', 'a', 'to', '.', '.', '.', '.', '.', 'of', 'the', '.', ',', 'the', 'the', 'a', 'to', '.', ',', 'the', 'the', 'to', 'the', ',', 'the', '.', '.', '.', '.', '.', ',', 'in', '.', 'of', 'the', '.', '.', 'in', 'the', '.', '.', '.', '.', 'in', ',', ',', 'and', 'in', ',', 'that', 'in', 'the', '.', 'of', ',', 'the', 'to', '.', '.', ',', '.', '.', ',', '.', '.', 'that', 'of', '.', 'in', 'the', 'is', 'the', 'of', 'that', 'to', '.', '.', '.', '.', '.', '.', '.', '.', ',', ',', 'to', 'the', '.', '.', '.', ',', '.', '.', '.', 'in', 'the', ',', 'the', '.', '.', '.', '.', '.', '.', '.', '.', '.', 'is', 'a', 'to', 'the', 'and', 'the', 'to', 'the', 'of', '.', 'is', 'and', '.', 'is', 'in', 'the', '.', 'a', ',', 'and', 'i', 'to', '.', 'is', ',', 'to', ',', '.', 'is', 'the', 'is', 'i', 'to', 'is', 'i', 'of', 'the', 'and', ',', 'i', 'i', 'in', 'and', '.', 'a', 'of', 'is', 'a', '.', '.', 'i', \"'\", 'to', 'the', '.', 'the', 'that', 'the', 'that', '.', 'is', 'it', 'that', 'and', ',', 'and', 'in', 'that', 'the', 'in', 'and', '.', 'to', 'and', 'that', 'is', 'and', ',', ',', 'and', 'and', 'the', 'to', '.', 'and', 'to', 'and', 'i', 'a', '.', 'of', 'i', 'the', 'i', 'it', '.', 'i', 'i', '.', 'is', 'the', 'is', 'it', 'that', 'the', 'and', ',', 'the', 'a', 'a', ',', 'is', 'i', 'a', ',', 'i', 'of', 'you', 'the', 'that', 'the', ',', 'that', ',', 'it', 'and', 'and', 'that', '.', 'i', 'and', \"'\", 'i', 'that', '.', '.', 'is', 'the', ',', 'i', 'to', '.', 'is', 'of', '.', 'to', ',', 'and', 'the', 'that', 'in', 'the', ',', 'and', 'the', '.', 'is', '.', 'i', 'that', 'a', '.', '.', 'is', '.', 'to', 'and', 'to', 'and', 'a', '.', 'the', 'to', 'of', 'that', '.', 'to', 'that', '.', 'i', '.', '.', 'and', 'and', 'and', 'i', 'to', 'that', 'and', 'i', 'to', 'a', 'of', ',', 'i', 'to', 'a', 'it', ',', 'i', 'to', 'to', 'a', '.', 'is', ',', 'i', 'i', 'the', 'to', 'in', 'to', 'the', 'i', 'in', 'a', 'and', 'to', 'i', \"'\", 'a', ',', '.', '.', ',', 'to', '.', 'to', 'and', 'in', 'a', 'is', 'a', 'that', ',', ',', 'and', 'the', 'i', 'to', 'and', 'and', 'i', \"'\", '.', 'i', \"'\", 'in', 'i', \"'\", 'to', '.', 'of', 'i', 'is', 'i', 'the', 'of', 'the', 'is', '.', '.', 'you', 'i', \"'\", 'i', \"'\", ',', \"'\", 'of', 'is', 'the', 'to', 'and', \"'\", 'of', ',', 'of', 'in', 'the', 'to', 'in', ',', 'the', 'of', 'and', 'i', 'a', 'you', 'the', ',', '.', '.', 'the', 'of', '.', 'and', 'i', ',', 'in', 'i', ',', 'i', 'i', ',', ',', ',', 'i', ',', ',', '.', 'i', \"'\", 'i', \"'\", 'of', 'i', 'in', 'i', 'to', 'to', 'and', 'the', 'i', 'to', 'that', 'the', 'i', 'a', ',', 'i', 'to', 'the', \"'\", 'a', 'to', \"'\", 'the', 'to', 'the', 'of', 'to', '.', 'it', '.', 'and', 'in', 'the', 'in', 'the', '.', 'in', 'the', ',', '.', 'of', 'the', '.', 'the', \"'\", 'a', 'the', 'and', 'the', 'the', 'is', '.', 'in', 'the', 'a', 'and', 'the', ',', 'that', 'it', 'in', 'a', '.', 'in', ',', 'a', ',', 'and', 'to', 'a', 'and', \"'\", 'the', 'the', 'of', \"'\", ',', 'the', 'of', 'the', ',', 'the', 'it', ',', ',', 'and', '.', 'the', 'and', 'you', 'the', '.', ',', 'the', 'of', ',', ',', '.', 'a', 'and', 'to', ',', 'of', 'the', 'to', '.', 'that', ',', \"'\", 'the', 'the', ',', 'is', 'to', 'that', 'the', \"'\", '.', \"'\", 'it', 'that', 'it', 'that', ',', 'a', ',', 'that', 'of', 'of', '.', 'of', 'the', 'of', '.', \"'\", \"'\", 'the', 'and', 'to', 'the', '.', '.', 'that', 'to', 'and', 'the', 'that', 'the', \"'\", '.', 'to', ',', 'a', ',', 'to', 'and', 'to', 'of', 'the', '.', 'in', '.', 'the', 'of', 'the', ',', '.', 'to', 'the', 'and', 'is', '.', 'and', 'is', ',', 'the', ',', 'in', '.', 'that', 'is', 'of', 'the', 'it', 'is', 'a', '.', 'the', 'of', 'and', 'is', ',', 'it', '.', '.', 'the', 'that', 'is', 'is', '.', 'in', 'of', ',', 'it', 'is', 'the', 'of', 'a', 'to', '.', 'it', 'is', 'to', 'to', '.', 'of', 'of', ',', 'is', 'the', 'and', 'the', '.', ',', 'of', 'it', 'in', ',', ',', 'is', 'to', '.', 'i', 'to', 'that', 'in', '.', ',', 'it', 'is', '.', 'it', 'is', '.', ',', 'of', ',', 'and', '.', 'to', ',', 'it', \"'\", 'it', 'to', 'the', 'and', 'it', \"'\", '.', ',', 'in', ',', 'to', ',', 'the', 'that', 'it', 'is', ',', 'the', 'that', 'is', 'the', 'the', '.', 'of', 'a', 'of', '.', 'it', 'a', 'of', 'in', 'the', 'that', 'to', 'and', 'the', 'to', '.', ',', 'it', 'the', 'the', 'to', '.', 'the', 'that', 'in', ',', 'it', 'is', 'to', 'and', '.', ',', 'a', 'and', '.', 'that', \"'\", 'to', 'to', '.', 'i', 'to', 'and', 'that', ',', 'and', ',', 'of', '.', 'in', 'the', 'a', 'the', '.', \"'\", 'that', 'of', 'it', '.', ',', 'a', 'you', 'and', '.', 'is', 'a', 'of', 'in', 'and', ',', 'a', 'of', 'in', 'the', '.', '.', 'and', 'in', '.', '.', 'of', 'in', '.', '.', 'of', 'it', ',', 'of', '.', '.', 'and', 'a', '.', '.', 'of', ',', '.', '.', 'and', 'to', 'in', 'a', 'that', 'the', '.', ',', 'in', ',', 'and', 'a', 'in', '.', 'and', 'of', '.', '.', ',', 'i', 'a', 'and', \"'\", 'of', ',', 'to', 'and', '.', 'i', \"'\", 'and', '.', 'that', '.', 'i', 'the', 'to', 'the', 'i', 'to', \"'\", 'a', 'i', 'a', '.', 'you', '.', '.', '.', '.', '.', '.', '.', '.', '.', '.', '.', '.', 'and', 'in', 'to', 'and', '.', 'it', '.', 'it', ',', 'and', 'is', ',', 'it', \"'\", '.', ',', 'it', '.', ',', ',', 'that', '.', '.', 'a', ',', 'that', 'is', 'it', 'to', 'to', 'a', '.', 'a', 'and', 'i', 'and', 'i', 'and', 'you', 'a', 'and', 'i', 'and', \"'\", ',', 'and', 'a', '.', 'i', ',', 'and', '.', 'i', 'that', 'a', ',', 'i', \"'\", '.', 'i', \"'\", '.', 'the', 'to', 'the', 'that', 'the', 'it', 'that', 'a', 'of', 'to', 'of', '.', 'i', 'to', 'that', 'and', 'the', 'to', 'in', ',', 'i', '.', 'the', 'that', '.', 'the', 'to', ',', ',', 'you', '.', 'the', 'is', 'that', 'i', 'is', '.', '.', '.', 'is', 'a', 'is', ',', 'the', '.', '.', '.', 'to', 'in', 'that', \"'\", 'a', '.', ',', 'that', 'i', 'to', 'it', ',', 'you', 'to', 'to', 'to', 'you', 'that', 'to', 'to', 'you', 'a', 'that', 'is', 'to', '.', ',', 'of', 'the', ',', 'is', 'the', \"'\", 'in', 'a', 'that', 'and', 'of', ',', 'i', \"'\", '.', \"'\", 'to', 'of', 'the', '.', 'and', 'the', 'to', 'the', 'in', 'to', '.', '.', '.', 'to', '.', '.', '.', 'in', ',', 'of', 'the', \"'\", 'a', 'to', 'it', 'that', 'in', 'and', 'the', '.', 'is', 'that', 'the', ',', ',', 'and', 'and', 'the', '.', 'that', 'to', '.', 'is', 'a', ',', ',', 'and', 'and', ',', 'a', 'the', 'of', 'in', 'the', 'in', '.', '.', '.', '.', '.', '.', '.', 'a', 'in', 'that', 'to', '.', 'in', ',', 'of', ',', ',', 'and', '.', 'to', 'and', 'to', '.', \"'\", 'the', 'the', 'the', '.', 'the', 'in', '.', '.', 'it', 'a', '.', 'it', 'of', 'the', 'of', '.', \"'\", 'to', 'a', 'a', 'to', 'a', '.', 'you', 'and', 'the', '.', 'the', 'the', 'in', 'a', '.', 'of', 'the', ',', 'a', 'of', 'and', \"'\", 'is', 'a', 'and', '.', ',', 'i', \"'\", 'i', 'of', ',', 'it', 'is', '.', '.', '.', 'i', 'in', 'a', ',', 'in', 'i', 'a', ',', ',', 'and', '.', 'a', 'i', 'in', 'and', ',', 'in', '.', 'i', 'of', 'the', '.', 'and', 'i', \"'\", '.', '.', '.', 'that', 'to', 'that', ',', 'in', ',', 'i', \"'\", 'i', '.', 'that', 'the', 'in', 'is', 'a', 'the', '.', 'it', \"'\", 'to', 'in', ',', '.', 'of', '.', 'to', 'it', 'in', ',', 'in', ',', 'is', 'the', 'of', 'in', '.', '.', '.', 'to', 'the', 'of', 'the', 'in', ',', 'to', 'in', 'the', ',', 'and', ',', 'is', '.', ',', 'to', 'a', 'of', ',', ',', 'is', 'in', ',', ',', ',', '.', ',', 'and', ',', ',', ',', ',', 'in', 'a', 'in', ',', '.', 'of', 'a', ',', 'in', 'in', ',', '.', ',', ',', 'in', 'the', '.', '.', 'and', 'the', 'of', 'a', 'in', 'of', 'is', 'in', '.', 'is', 'the', 'of', 'a', 'in', ',', 'a', '.', 'the', 'is', 'the', 'and', 'the', 'of', '.', 'and', ',', 'it', 'is', 'that', 'of', 'and', 'to', 'the', ',', 'the', 'is', 'a', '.', '.', 'in', ',', '.', '.', '.', 'and', '.', '.', '.', '.', '.', '.', 'in', 'to', 'of', 'the', '.', 'and', 'of', 'and', 'the', 'a', 'to', '.', 'the', 'of', 'and', 'in', ',', '.', 'in', ',', '.', '.', ',', 'a', 'in', ',', 'that', ',', 'of', 'in', ',', 'to', 'of', 'the', 'the', '.', 'in', 'the', ',', '.', 'that', 'of', 'the', 'of', ',', ',', 'the', 'of', 'the', 'to', '.', 'it', 'that', 'that', 'the', '.', 'the', 'in', 'the', '.', '.', 'in', 'in', 'the', ',', 'the', '.', '.', 'to', 'the', 'of', 'the', '.', '.', ',', 'and', 'it', 'that', 'it', 'to', '.', 'that', ',', 'the', 'of', 'the', 'to', '.', ',', 'the', 'to', ',', ',', ',', 'and', 'to', '.', 'the', 'the', 'to', 'the', 'is', '.', 'it', 'the', 'to', 'to', 'and', 'the', 'the', 'of', ',', 'the', 'the', 'is', 'to', 'to', '.', 'the', ',', '.', 'in', ',', 'the', '.', '.', 'is', 'the', 'and', 'you', 'to', 'that', 'is', '.', 'to', 'the', 'that', 'the', 'to', '.', 'of', 'the', 'to', ',', '.', '.', '.', '.', '.', '.', 'of', 'the', 'to', ',', '.', ',', '.', '.', '.', '.', '.', '.', 'is', '.', '.', '.', ',', 'i', 'in', 'the', 'of', 'a', 'to', 'to', 'in', 'the', 'and', 'that', 'to', 'the', 'and', ',', '.', 'the', \"'\", 'the', '.', 'is', 'and', 'to', 'the', \"'\", 'the', '.', 'to', '.', 'i', 'to', 'to', 'i', 'it', '.', 'i', '.', '.', '.', '.', 'i', 'to', 'i', 'in', 'the', 'a', '.', \"'\", 'the', ',', 'and', \"'\", 'the', '.', 'the', 'it', 'of', ',', 'to', 'is', '.', ',', 'the', 'that', 'is', '.', 'is', 'a', 'that', '.', 'the', 'of', 'is', ',', 'is', 'that', '.', ',', 'of', 'the', 'the', 'you', '.', 'to', 'and', 'the', 'it', '.', 'it', ',', 'you', 'the', '.', ',', 'i', 'to', 'a', '.', 'to', 'in', 'the', 'of', 'the', 'to', 'that', 'and', '.', 'a', 'a', ',', '.', 'is', 'that', 'and', 'and', '.', 'you', 'the', 'of', 'and', 'the', 'that', '.', 'the', ',', ',', ',', ',', ',', ',', 'and', '.', 'and', 'i', '.', 'the', 'is', 'that', 'is', 'that', 'a', 'to', '.', 'i', 'to', 'and', '.', ',', ',', 'and', 'i', 'the', '.', 'i', 'to', 'the', 'of', 'a', 'you', 'i', 'to', 'of', 'and', 'to', '.', 'you', 'of', 'that', ',', 'to', '.', ',', 'and', 'i', 'the', '.', 'i', 'to', 'the', 'of', 'a', 'you', 'i', 'to', 'of', 'and', 'to', '.', 'you', 'of', 'that', ',', 'to', '.', '.', 'of', '.', '.', '.', '.', '.', ',', 'that', 'the', 'is', '.', 'the', 'is', 'and', 'and', 'it', 'the', 'to', 'the', '.', 'that', 'and', 'and', 'is', '.', 'you', 'you', 'of', 'a', 'in', ',', 'a', 'it', 'it', '.', ',', 'it', 'it', 'the', 'to', 'and', 'the', 'to', ',', '.', '.', '.', '.', ',', ',', 'it', 'that', 'and', '.', ',', ',', '.', 'you', 'to', 'a', 'of', 'you', 'of', 'the', 'and', 'of', 'the', '.', '.', '.', 'to', 'and', '.', 'is', 'a', '.', '.', '.', '.', 'is', ',', 'and', 'that', '.', 'i', 'the', 'the', 'that', 'and', '.', 'i', 'is', 'the', 'and', '.', ',', 'i', 'the', 'and', '.', 'i', 'to', 'the', 'and', ',', 'i', 'i', ',', 'i', 'and', 'i', \"'\", ',', '.', 'the', '.', '.', '.', 'and', '.', 'you', '.', 'and', 'you', 'it', 'you', 'it', '.', 'it', '.', '.', \"'\", \"'\", '.', 'i', \"'\", 'it', 'you', '.', '.', '.', 'you', 'that', 'and', 'the', 'in', 'the', 'the', '.', '.', '.', 'you', 'the', 'of', '.', ',', ',', 'and', 'to', 'you', 'the', 'is', 'you', '.', 'the', 'and', 'is', 'the', 'of', 'the', 'and', ',', ',', ',', ',', ',', 'of', 'the', ',', ',', 'and', 'and', '.', '.', '.', '.', 'a', 'a', 'is', 'a', '.', 'the', '.', 'the', 'of', 'it', 'and', 'i', 'to', ',', 'i', 'is', 'of', '.', '.', '.', 'is', 'a', ',', 'i', '.', ',', 'and', ',', '.', 'to', 'in', 'to', 'to', 'the', 'that', 'in', '.', 'to', ',', 'to', 'to', 'the', 'the', 'is', '.', 'the', 'of', 'i', \"'\", ',', 'and', 'in', '.', 'i', 'to', 'the', 'the', 'is', 'and', 'i', \"'\", 'in', ',', ',', '.', 'i', \"'\", 'to', 'it', 'it', \"'\", 'a', '.', 'a', 'and', 'the', 'the', 'of', 'and', 'it', 'to', '.', 'it', \"'\", 'the', 'of', \"'\", 'a', 'of', 'the', ',', 'that', \"'\", '.', 'i', 'the', 'of', 'the', ',', 'to', 'and', 'to', '.', 'the', 'that', 'in', 'the', 'of', '.', 'i', 'the', 'of', 'the', '.', 'i', \"'\", 'i', 'to', 'i', 'to', 'a', 'of', 'the', 'i', 'of', ',', 'to', '.', \"'\", 'a', 'of', 'a', 'of', 'of', '.', 'i', \"'\", 'of', 'it', 'and', \"'\", 'to', 'of', '.', \"'\", 'a', 'of', 'the', 'that', 'i', ',', 'i', \"'\", '.', 'of', 'you', 'of', 'you', 'to', 'i', 'to', 'the', 'and', 'of', 'it', \"'\", 'you', '.', 'it', \"'\", 'the', 'of', 'the', 'that', 'and', 'the', '.', 'it', \"'\", 'that', 'and', 'i', 'of', 'you', 'to', 'and', 'it', 'and', 'to', 'you', '.', \"'\", 'it', '.', 'the', 'that', 'is', 'to', 'in', 'the', 'a', ',', 'a', 'of', ',', 'is', ',', 'the', ',', '.', '.', '.', '.', 'it', ',', 'that', 'it', 'of', 'the', '.', 'is', 'a', 'and', '.', 'it', \"'\", '.', '.', '.', '.', 'that', ',', 'i', '.', \"'\", 'to', ',', ',', 'that', '.', ',', 'that', 'of', 'the', '.', 'in', 'of', 'a', ',', '.', 'a', ',', 'of', 'and', '.', 'and', 'and', 'of', ',', 'a', 'to', '.', \"'\", 'a', 'of', 'a', 'and', 'is', ',', 'a', '.', '.', 'and', ',', 'the', \"'\", '.', 'in', 'is', ',', 'the', '.', 'i', 'that', \"'\", 'the', ',', 'i', \"'\", 'to', 'of', ',', 'i', 'of', 'you', '.', \"'\", 'the', 'to', 'the', 'that', ',', 'the', 'to', 'the', 'that', 'to', 'the', '.', 'the', 'to', '.', 'you', 'that', ',', ',', 'the', 'a', 'the', '.', 'to', ',', 'the', ',', ',', 'and', ',', '.', 'you', 'that', ',', ',', 'the', 'you', 'that', ',', 'in', 'to', ',', 'the', 'a', 'that', 'to', 'of', 'to', ',', 'to', '.', 'you', 'that', 'a', 'the', ',', 'you', 'that', 'of', 'the', 'that', ',', 'a', 'and', 'and', 'that', ',', 'in', 'to', 'is', 'in', 'the', ',', 'of', 'a', 'in', ',', 'and', ',', 'the', 'in', 'you', 'that', 'a', 'in', 'that', 'to', ',', 'of', ',', ',', ',', ',', ',', ',', 'and', ',', ',', 'and', 'you', 'that', 'a', 'of', 'and', 'that', 'the', 'that', ',', 'in', 'to', 'the', 'and', 'in', ',', 'in', 'and', 'a', 'of', 'that', 'is', 'and', 'you', 'that', 'of', 'is', 'to', 'to', 'of', ',', ',', 'is', 'in', 'is', '.', 'to', 'that', '.', 'to', 'to', 'and', 'to', 'to', '.', ',', 'of', 'a', '.', ',', 'the', 'the', 'is', 'to', 'to', '.', 'a', ',', 'to', 'and', '.', 'i', 'the', 'to', 'in', 'and', 'of', '.', '.', '.', \"'\", 'to', 'i', 'is', 'a', '.', 'a', ',', 'that', \"'\", '.', \"'\", 'the', ',', 'i', \"'\", 'to', '.', 'i', 'is', 'a', 'you', \"'\", 'to', 'to', ',', 'you', \"'\", 'you', '.', 'it', \"'\", 'and', 'you', \"'\", 'is', ',', 'you', \"'\", 'that', \"'\", 'the', 'you', \"'\", 'a', 'of', '.', 'you', 'a', 'the', 'you', 'and', 'to', 'the', '.', '.', 'is', 'the', 'the', '.', 'that', 'you', \"'\", 'the', 'the', '.', \"'\", 'to', 'it', '.', '.', '.', 'i', '.', 'the', 'is', 'in', '.', 'you', \"'\", 'you', \"'\", '.', 'and', 'is', 'to', '.', 'to', '.', 'a', 'is', '.', '.', 'the', '.', ',', ',', 'in', 'the', 'the', '.', '.', '.', 'i', '.', 'i', 'to', 'a', 'the', '.', ',', 'in', 'the', ',', \"'\", \"'\", 'in', \"'\", ',', 'you', \"'\", '.', 'the', 'is', ',', 'you', 'that', 'the', 'it', \"'\", '.', 'to', 'the', 'in', '.', 'i', ',', 'is', 'in', 'a', 'to', 'it', 'and', 'and', '.', 'i', \"'\", ',', 'the', 'is', 'that', 'that', ',', 'of', 'the', ',', ',', '.', 'you', 'to', 'the', 'of', 'the', 'in', 'the', '.', 'is', 'the', 'of', 'the', 'is', 'to', 'a', 'in', 'the', 'it', 'to', 'you', 'in', 'a', '.', 'the', 'is', 'a', ',', 'you', 'to', 'you', \"'\", 'a', ',', 'of', 'the', '.', 'is', 'a', \"'\", 'it', 'a', 'i', 'and', 'and', '.', '.', 'to', 'to', 'you', 'a', '.', 'i', \"'\", '.', 'the', 'a', 'and', \"'\", '.', 'of', '.', 'the', 'and', 'the', '.', 'in', 'a', 'the', '.', 'the', 'is', 'you', 'to', '.', 'i', 'that', 'you', \"'\", '.', 'of', 'that', 'i', \"'\", '.', \"'\", 'a', 'and', 'a', 'to', ',', '.', 'and', 'to', 'you', 'the', 'you', \"'\", '.', 'it', 'is', '.', \"'\", 'i', \"'\", 'of', 'that', 'a', ',', 'of', '.', 'and', 'that', 'i', \"'\", 'of', \"'\", 'the', 'of', '.', 'the', 'to', 'a', ',', 'a', 'to', 'and', 'it', 'it', ',', ',', \"'\", '.', 'i', \"'\", 'a', 'and', \"'\", '.', 'in', 'the', '.', 'i', 'is', 'to', 'that', 'a', '.', 'i', 'is', 'a', 'it', 'i', 'it', 'the', '.', 'in', 'a', 'and', 'it', '.', 'it', \"'\", 'is', '.', 'it', \"'\", 'a', 'to', 'you', '.', '.', 'you', 'you', ',', 'you', \"'\", '.', '.', '.', 'i', 'that', \"'\", '.', '.', 'it', \"'\", '.', 'the', '.', '.', ',', '.', 'and', 'to', ',', 'and', 'that', 'a', '.', 'the', 'a', ',', 'it', \"'\", '.', \"'\", 'to', 'that', 'to', 'i', 'a', 'and', 'i', \"'\", 'of', '.', ',', ',', 'you', 'it', \"'\", 'to', 'to', 'a', 'the', 'you', 'a', 'and', 'that', 'a', 'the', '.', 'to', 'is', \"'\", '.', 'a', 'and', '.', 'i', \"'\", \"'\", 'in', 'the', '.', '.', '.', 'and', 'you', 'i', 'you', 'you', \"'\", ',', \"'\", 'a', '.', ',', 'of', '.', 'that', 'in', 'a', 'you', 'the', ',', ',', ',', 'the', \"'\", 'you', '.', 'the', '.', 'you', \"'\", '.', '.', 'and', 'a', '.', 'the', \"'\", 'in', 'of', 'a', ',', 'the', 'the', 'it', 'of', 'the', \"'\", '.', '.', 'to', \"'\", '.', '.', 'i', 'it', ',', 'you', 'the', '.', ',', '.', 'you', 'to', 'the', 'to', 'the', '.', 'you', '.', 'you', 'it', 'you', \"'\", 'of', 'the', 'to', 'the', '.', '.', 'the', '.', 'the', 'is', 'to', 'you', '.', 'is', 'a', ',', 'it', 'to', 'in', 'of', 'to', 'and', '.', 'is', 'to', 'a', 'a', ',', 'is', 'of', 'that', 'a', 'a', '.', ',', 'and', 'that', 'and', 'is', 'to', 'a', '.', '.', 'a', '.', '.', 'of', 'is', 'of', '.', 'to', 'you', '.', 'i', 'that', 'to', 'you', \"'\", '.', \"'\", 'you', \"'\", 'the', 'and', 'in', 'of', '.', 'that', 'in', ',', '.', 'you', '.', '.', '.', 'and', 'of', 'the', 'the', '.', 'it', 'is', '.', 'you', 'you', 'and', 'is', 'to', '.', 'to', ',', ',', ',', ',', '.', '.', '.', '.', '.', 'is', 'to', '.', 'you', 'you', 'you', 'the', ',', 'a', 'is', 'that', 'you', '.', 'is', '.', 'you', '.', 'and', 'and', 'and', 'and', ',', ',', ',', '.', 'it', 'to', '.', 'it', 'to', 'and', 'the', 'and', '.', 'and', '.', '.', 'and', 'the', 'the', 'that', 'that', 'of', '.', '.', '.', 'that', '.', 'i', 'that', 'you', \"'\", ',', 'you', 'to', \"'\", ',', 'is', 'to', 'i', ',', 'it', \"'\", 'the', 'of', 'a', '.', 'the', 'you', ',', '.', 'the', ',', 'to', ',', '.', 'the', 'that', 'you', 'is', 'you', ',', 'is', 'and', 'the', 'is', ',', '.', 'the', 'i', 'you', 'of', ',', 'i', \"'\", 'to', 'the', ',', 'and', 'i', 'that', '.', ',', ',', ',', 'the', ',', \"'\", 'of', ',', 'the', 'the', ',', 'the', 'to', 'the', 'is', '.', 'of', ',', ',', 'and', ',', 'to', 'a', 'to', 'you', 'in', 'a', '.', ',', '.', 'in', 'the', ',', '.', ',', 'to', 'and', '.', 'you', ',', 'and', 'in', 'the', 'in', 'the', '.', \"'\", 'the', 'the', '.', 'you', 'to', ',', 'a', ',', 'a', 'that', 'it', ',', 'to', 'the', ',', '.', 'in', 'the', 'and', 'the', 'you', 'the', 'to', ',', ',', 'the', 'a', 'a', ',', 'to', 'the', '.', '.', '.', 'you', '.', 'is', 'a', 'a', '.', 'it', 'is', 'to', 'a', ',', 'and', 'it', 'is', 'to', 'that', ',', '.', 'in', 'of', ',', 'of', ',', \"'\", \"'\", 'a', 'in', 'it', ',', 'i', 'to', 'the', 'i', '.', 'to', 'and', 'the', 'the', ',', 'the', 'it', 'to', 'the', '.', ',', \"'\", 'a', '.', 'it', \"'\", '.', 'is', 'to', 'the', '.', '.', 'that', \"'\", ',', 'a', '.', ',', 'you', 'a', '.', 'i', 'a', 'of', ',', '.', '.', '.', 'is', 'of', 'a', '.', '.', '.', 'of', 'is', 'that', 'you', 'to', 'in', 'of', 'in', 'of', 'that', 'is', 'a', 'i', 'you', 'a', '.', 'a', ',', '.', '.', 'you', 'a', ',', 'and', 'is', ',', ',', 'in', 'to', ',', 'that', 'to', 'the', 'is', 'to', 'of', 'in', 'in', '.', '.', '.', '.', '.', '.', 'you', 'you', 'a', '.', 'it', 'you', 'to', 'to', '.', 'and', ',', 'you', 'to', 'in', '.', 'you', 'to', 'to', '.', '.', '.', 'to', 'of', 'the', '.', '.', '.', '.', 'you', 'you', 'is', \"'\", '.', 'you', 'to', 'to', 'you', 'in', 'to', 'and', 'i', 'that', 'to', 'of', 'the', ',', 'and', 'a', 'the', 'of', 'the', 'that', 'of', 'to', '.', 'you', 'to', 'and', 'of', 'the', '.', ',', 'that', 'is', 'a', '.', '.', \"'\", 'that', 'it', ',', \"'\", 'the', 'i', 'the', 'to', 'the', 'to', '.', 'it', \"'\", ',', 'the', 'and', 'that', \"'\", 'and', '.', 'the', \"'\", 'the', 'in', 'a', \"'\", 'to', 'the', 'you', '.', 'is', '.', 'that', 'to', 'to', 'the', '.', 'is', 'to', 'it', '.', '.', 'it', 'a', '.', 'the', '.', 'the', 'to', 'of', 'the', '.', 'is', 'a', 'in', 'the', '.', 'the', '.', 'to', 'that', 'and', 'to', 'is', '.', 'i', 'i', 'to', 'it', 'to', 'it', 'it', '.', 'that', 'to', 'the', 'of', 'the', ',', 'is', '.', 'i', 'it', '.', 'you', ',', 'the', 'that', 'the', 'to', 'is', 'a', ',', 'and', 'a', 'a', '.', 'is', 'a', ',', 'and', 'the', 'of', 'a', 'that', '.', '.', 'you', 'to', 'to', ',', 'you', 'the', '.', 'the', 'in', 'of', '.', 'you', 'the', 'in', 'the', 'and', 'you', 'is', '.', 'you', 'it', 'to', 'the', '.', 'you', 'it', '.', 'in', ',', '.', 'to', '.', ',', '.', 'i', \"'\", 'to', 'a', '.', 'i', '.', 'it', 'a', 'of', '.', 'the', 'is', ',', 'and', 'is', 'to', 'the', '.', 'you', 'that', 'is', 'you', 'is', 'is', 'you', 'to', ',', 'you', 'the', 'and', 'of', 'the', \"'\", 'the', '.', \"'\", 'i', 'a', 'and', 'i', \"'\", 'of', '.', ',', ',', \"'\", 'the', '.', 'it', 'it', ',', ',', 'it', 'i', 'i', 'i', 'i', 'it', 'i', 'to', '.', '.', 'i', 'a', 'and', \"'\", '.', 'i', 'you', 'the', '.', 'the', ',', 'is', 'the', \"'\", '.', 'i', 'to', 'the', 'you', \"'\", ',', 'is', 'a', 'the', ',', 'i', 'the', '.', 'i', 'it', 'and', 'you', 'you', 'and', '.', 'to', 'that', 'a', '.', '.', 'and', '.', 'i', 'and', 'the', '.', 'the', 'of', 'you', 'a', 'of', 'the', ',', \"'\", ',', \"'\", '.', \"'\", ',', ',', 'you', 'the', 'and', '.', ',', 'you', 'to', '.', 'i', ',', 'i', 'i', '.', 'is', 'a', 'and', 'the', 'it', 'is', 'to', '.', 'i', \"'\", 'the', 'to', 'that', '.', 'i', \"'\", 'to', '.', 'i', ',', 'it', 'to', 'it', \"'\", 'i', \"'\", 'you', 'and', 'the', 'is', 'the', 'the', ',', '.', \"'\", 'the', 'and', 'a', 'is', 'the', '.', ',', 'the', ',', 'that', 'the', \"'\", '.', 'i', 'the', ',', 'of', ',', 'and', '.', 'of', '.', 'the', 'the', '.', 'that', 'that', 'the', 'of', 'and', 'it', '.', 'the', 'the', '.', 'that', 'the', '.', '.', ',', ',', 'the', 'of', 'the', '.', '.', 'and', 'the', 'is', 'the', 'the', ',', '.', 'i', 'the', ',', 'of', ',', 'and', '.', 'of', '.', 'you', 'that', 'in', ',', 'and', 'to', 'to', 'it', '.', 'in', '.', '.', 'a', 'that', 'in', '.', 'that', 'to', 'the', 'of', '.', 'i', 'you', 'in', '.', 'is', 'a', 'in', 'the', 'of', 'of', 'you', '.', 'a', 'to', ',', 'that', '.', 'you', 'you', \"'\", '.', '.', 'a', 'you', '.', \"'\", 'that', 'in', 'to', '.', 'the', '.', \"'\", 'a', 'is', 'a', '.', 'i', 'you', \"'\", 'and', 'to', 'you', '.', 'you', ',', 'you', 'you', 'to', 'you', 'to', 'i', 'you', 'a', 'of', '.', 'is', 'to', 'you', ',', 'i', ',', 'you', '.', '.', 'the', 'that', 'to', 'the', 'is', 'a', 'the', 'in', 'of', ',', 'it', \"'\", ',', 'it', \"'\", 'in', '.', 'i', \"'\", 'to', ',', 'i', \"'\", 'to', 'to', 'a', 'to', 'the', 'the', 'and', 'a', 'i', 'that', 'to', 'the', 'in', 'of', '.', 'and', \"'\", \"'\", \"'\", '.', 'of', 'and', '.', 'i', 'you', '.', '.', 'it', '.', '.', '.', '.', '.', 'the', 'it', '.', ',', 'you', 'in', '.', 'a', ',', '.', 'the', 'i', 'to', 'that', 'the', 'the', 'to', 'the', 'to', 'the', 'the', ',', 'it', 'the', '.', 'it', 'the', 'the', 'of', 'the', 'to', 'the', 'the', 'of', 'the', 'of', 'the', '.', 'it', 'it', '.', 'and', 'the', '.', 'it', 'to', 'the', '.', 'i', 'to', 'the', 'of', 'that', 'it', 'it', 'is', 'the', 'you', 'of', 'is', 'a', 'of', 'the', '.', ',', 'in', 'that', 'that', 'in', 'and', 'in', '.', 'is', 'is', 'in', 'that', '.', 'the', ',', '.', 'the', '.', 'the', 'you', 'the', ',', ',', ',', ',', ',', ',', ',', ',', ',', ',', 'the', ',', ',', ',', '.', '.', ',', ',', '.', 'it', \"'\", '.', 'a', 'of', 'the', 'a', 'of', 'and', 'in', '.', ',', 'in', 'that', 'that', 'in', 'and', 'in', 'in', 'the', 'you', 'the', 'it', 'and', 'a', 'to', '.', 'of', 'the', 'in', 'a', '.', 'the', 'to', 'it', 'is', 'to', 'a', '.', 'the', 'and', 'of', '.', 'is', 'in', 'that', 'of', 'that', 'is', 'you', \"'\", 'it', 'it', '.', 'of', '.', 'is', '.', \"'\", 'is', '.', 'that', 'is', 'the', 'of', 'to', 'in', '.', 'and', 'of', 'you', 'to', 'the', 'the', '.', 'is', 'a', '.', 'to', ',', '.', '.', '.', '.', '.', 'the', 'in', 'a', '.', '.', '.', '.', 'in', 'it', 'of', 'and', 'the', ',', ',', 'the', ',', 'and', 'of', '.', 'the', 'and', 'in', 'and', 'and', 'the', 'it', 'the', 'is', 'a', 'and', 'i', '.', \"'\", 'in', 'the', 'and', \"'\", 'to', 'of', \"'\", 'and', \"'\", '.', 'is', 'a', 'of', 'and', \"'\", 'to', '.', 'the', '.', '.', 'is', 'a', 'that', 'to', 'you', 'to', 'to', 'a', 'that', 'you', '.', 'is', 'a', ',', 'and', 'i', 'i', '.', 'is', 'to', 'the', '.', '.', 'i', 'the', '.', 'i', 'i', 'to', 'i', 'the', 'you', 'the', 'the', '.', '.', 'i', ',', 'i', 'a', 'to', '.', 'i', 'the', ',', 'to', 'is', '.', 'you', 'a', 'you', ',', 'of', 'you', 'the', 'that', ',', 'the', 'in', 'to', 'to', 'of', 'the', 'is', 'a', ',', 'you', 'a', '.', 'the', 'it', ',', '.', 'the', 'and', 'you', 'a', 'that', 'and', 'it', 'you', 'you', 'the', '.', 'you', 'you', '.', 'is', 'a', '.', 'the', 'in', ',', 'a', 'a', 'is', 'in', 'that', '.', 'you', ',', ',', '.', 'that', 'is', 'you', 'in', 'the', 'of', 'the', 'the', 'a', 'of', 'and', '.', 'that', ',', 'is', ',', 'of', 'the', 'to', 'to', '.', 'in', 'that', 'of', 'the', '.', 'to', 'a', 'of', 'and', '.', '.', 'you', 'a', 'is', 'a', \"'\", \"'\", 'the', 'you', \"'\", 'to', 'the', 'and', '.', 'it', 'is', 'to', '.', 'that', 'it', 'the', 'that', '.', 'is', '.', '.', 'that', 'a', 'of', '.', \"'\", '.', '.', 'that', \"'\", 'and', 'to', 'that', '.', 'it', \"'\", 'a', '.', 'it', \"'\", 'it', 'to', 'the', 'of', '.', 'it', \"'\", '.', 'it', \"'\", 'to', 'the', ',', 'the', 'is', '.', 'and', ',', 'you', \"'\", '.', 'you', 'you', \"'\", \"'\", 'is', 'of', 'a', '.', 'in', ',', 'i', 'it', 'to', 'in', 'to', 'the', ',', ',', 'to', '.', 'that', '.', 'i', 'a', '.', 'you', '.', 'it', \"'\", '.', 'you', 'i', \"'\", ',', 'you', 'you', 'a', '.', '.', '.', 'i', 'you', \"'\", 'it', \"'\", 'a', 'that', '.', ',', 'and', '.', 'i', \"'\", 'i', '.', 'you', 'to', 'the', 'that', 'you', '.', 'you', ',', 'you', \"'\", '.', '.', '.', '.', '.', '.', 'i', 'the', 'of', ',', 'and', 'and', ',', 'i', 'is', 'to', ',', '.', '.', '.', '.', 'you', 'a', '.', 'you', 'it', 'you', 'and', '.', 'to', 'and', 'to', 'the', 'that', 'you', ',', 'you', '.', 'i', 'the', ',', 'you', ',', 'to', '.', 'and', 'to', 'in', ',', '.', 'the', 'in', 'the', 'to', 'and', 'to', 'it', '.', ',', 'it', \"'\", 'to', ',', 'and', 'to', '.', 'i', ',', 'it', \"'\", 'the', '.', ',', 'i', 'you', ',', \"'\", '.', 'and', ',', ',', 'and', '.', 'the', 'to', 'the', '.', 'to', \"'\", 'a', 'you', '.', 'and', ',', 'it', \"'\", 'the', '.', 'the', '.', 'to', 'the', 'in', 'the', 'that', '.', '.', 'in', 'is', 'it', 'i', 'you', 'i', 'to', '.', 'i', 'the', 'to', 'that', '.', '.', 'is', 'i', 'and', 'it', 'to', '.', 'i', 'it', 'and', '.', 'the', '.', 'i', 'it', 'and', 'you', '.', 'to', 'the', '.', 'i', 'a', '.', 'i', 'it', 'i', '.', 'a', '.', 'i', 'to', 'the', 'of', 'the', '.', 'you', '.', 'the', '.', '.', '.', 'of', ',', 'and', 'of', '.', '.', '.', 'is', '.', 'the', 'to', 'is', '.', 'the', 'in', 'the', '.', 'you', '.', \"'\", '.', 'you', ',', 'that', 'is', \"'\", 'to', '.', 'i', 'the', '.', \"'\", '.', 'and', 'a', 'to', 'the', '.', 'of', 'that', 'and', 'that', 'the', 'the', 'that', '.', 'you', 'to', 'and', 'a', '.', 'you', 'to', 'and', '.', 'the', ',', 'to', '.', \"'\", '.', ',', 'in', ',', '.', 'the', 'the', '.', 'the', \"'\", ',', 'you', \"'\", 'you', 'a', 'to', '.', 'the', 'is', ',', \"'\", 'a', '.', 'i', 'that', '.', 'i', \"'\", 'to', ',', '.', 'a', 'the', 'is', '.', '.', 'i', ',', 'the', 'is', 'the', '.', '.', '.', 'in', 'you', \"'\", 'to', '.', ',', 'you', 'the', 'a', 'the', 'is', 'that', 'a', ',', 'and', 'a', 'a', 'in', 'of', '.', 'the', 'a', '.', 'to', '.', '.', 'the', 'of', 'a', '.', 'and', \"'\", 'you', ',', 'is', 'you', '.', 'to', ',', 'and', '.', ',', 'you', \"'\", 'a', ',', 'a', 'of', 'the', ',', 'that', 'a', '.', 'a', '.', ',', 'you', \"'\", ',', 'a', 'in', 'the', 'it', 'to', 'you', ',', 'is', 'and', 'a', ',', '.', 'i', ',', \"'\", 'you', 'you', ',', '.', 'a', '.', 'i', '.', ',', '.', 'is', ',', 'you', 'a', ',', 'it', 'is', 'to', '.', 'you', 'a', 'of', 'and', 'it', 'is', 'you', ',', 'the', 'a', 'in', 'and', 'the', ',', 'and', '.', 'the', 'it', '.', \"'\", 'that', 'to', 'a', \"'\", ',', 'and', 'that', 'the', 'of', ',', '.', ',', 'of', 'the', 'the', 'of', ',', '.', ',', 'to', 'to', 'that', '.', 'of', 'the', '.', ',', 'to', '.', \"'\", 'a', 'of', 'that', 'to', 'to', 'that', 'the', 'that', 'that', 'in', ',', 'that', 'the', ',', 'of', 'and', 'of', '.', 'of', 'that', 'is', '.', 'it', \"'\", 'to', ',', '.', '.', \"'\", 'to', 'that', 'it', 'you', \"'\", '.', 'in', 'and', ',', 'to', ',', '.', 'to', 'a', 'to', 'the', 'of', 'the', '.', 'to', 'the', 'and', '.', 'is', '.', ',', 'i', 'of', 'that', '.', 'a', 'and', 'in', '.', 'in', 'to', ',', 'the', 'and', 'of', 'and', '.', 'and', ',', 'of', 'is', 'and', 'that', \"'\", '.', 'i', 'it', \"'\", 'and', 'in', '.', 'i', 'that', 'to', 'to', 'the', '.', ',', 'the', 'it', 'the', 'of', '.', 'the', '.', 'the', 'the', 'of', 'the', 'it', '.', 'that', 'is', '.', 'i', 'is', 'a', 'to', 'a', ',', 'that', 'that', 'the', 'is', '.', \"'\", 'the', 'i', '.', '.', 'to', 'that', 'a', 'to', 'of', ',', 'of', 'the', 'in', 'the', 'to', '.', 'of', 'the', 'and', 'and', ',', 'and', '.', ',', '.', 'of', 'is', '.', '.', 'i', \"'\", '.', 'of', 'a', ',', \"'\", 'the', ',', ',', 'the', 'of', 'the', ',', \"'\", '.', 'in', 'the', 'to', '.', 'to', '.', 'is', \"'\", '.', ',', ',', 'and', 'the', '.', 'i', 'i', 'a', 'that', '.', 'i', 'in', 'to', '.', 'a', 'you', ',', ',', 'and', 'to', '.', 'you', 'a', 'in', 'is', 'it', \"'\", 'a', ',', 'a', '.', 'that', 'the', 'the', 'of', 'a', 'and', 'the', 'you', 'you', 'i', 'you', 'the', 'to', '.', 'i', 'a', 'to', '.', 'i', 'to', '.', 'you', ',', 'is', 'it', 'is', 'to', '.', 'is', 'a', 'that', ',', '.', 'to', 'the', ',', 'of', 'the', 'of', 'to', '.', 'the', ',', 'of', '.', 'the', '.', '.', '.', '.', 'to', 'the', ',', 'and', 'the', '.', 'i', 'a', '.', 'the', 'of', '.', 'i', ',', 'the', 'of', '.', ',', ',', '.', '.', '.', '.', '.', '.', '.', '.', '.', '.', '.', '.', '.', '.', '.', '.', '.', ',', '.', 'i', 'the', '.', '.', '.', '.', 'that', 'to', 'the', 'that', 'the', ',', \"'\", '.', 'i', \"'\", 'of', '.', 'i', ',', \"'\", '.', 'the', '.', 'it', '.', 'you', 'of', '.', 'and', 'you', 'is', ',', \"'\", 'to', '.', '.', 'a', 'and', 'that', 'you', \"'\", '.', 'i', 'it', ',', 'you', ',', 'is', 'the', 'i', ',', 'of', 'that', 'i', 'and', ',', '.', '.', 'to', 'and', '.', 'of', 'you', '.', '.', '.', 'i', 'i', 'and', 'i', 'the', 'i', 'the', 'i', 'is', 'i', 'a', 'i', 'i', 'to', 'and', 'to', 'to', '.', 'i', 'i', 'i', '.', 'i', '.', 'you', 'you', '.', 'a', 'to', 'that', 'to', 'and', 'to', '.', 'that', '.', '.', '.', 'and', 'to', '.', '.', '.', 'a', ',', 'a', ',', 'and', 'you', 'to', ',', ',', 'i', ',', 'i', 'and', 'a', 'you', 'and', 'i', 'i', 'to', 'to', '.', '.', ',', \"'\", 'that', \"'\", 'and', '.', 'is', 'that', 'the', 'to', 'in', 'it', \"'\", 'a', 'that', 'to', 'to', 'the', 'of', 'a', '.', 'it', \"'\", 'to', 'the', 'of', 'and', 'the', 'that', 'you', 'is', 'a', '.', 'is', 'a', '.', 'is', 'a', '.', 'you', 'to', 'the', ',', ',', ',', 'and', 'of', 'the', 'you', 'to', 'in', 'you', \"'\", 'to', 'in', 'the', 'and', 'of', 'the', 'of', '.', 'of', ',', 'you', 'to', 'the', ',', 'i', 'a', 'of', '.', '.', '.', 'of', '.', '.', '.', '.', 'a', ',', 'a', '.', 'that', 'the', 'a', '.', '.', '.', '.', 'is', 'to', 'and', 'the', 'is', '.', ',', '.', 'i', 'that', 'and', 'in', 'the', ',', 'in', 'the', '.', '.', '.', '.', 'in', 'the', 'is', 'the', 'it', 'is', 'in', '.', 'the', ',', '.', 'to', 'of', 'is', 'and', 'i', 'you', 'i', 'and', 'is', 'is', '.', 'is', '.', 'in', 'in', 'you', 'a', 'a', 'and', 'a', 'is', 'to', 'to', 'a', '.', ',', 'that', \"'\", '.', 'you', \"'\", 'to', ',', 'you', 'a', ',', 'to', 'the', 'to', '.', 'i', \"'\", 'to', 'the', 'i', \"'\", 'of', 'and', ',', 'a', '.', '.', '.', '.', '.', 'you', 'you', 'of', 'a', 'of', '.', 'you', 'that', 'to', 'a', 'of', 'of', 'you', ',', 'the', ',', 'i', \"'\", 'in', 'the', 'to', 'the', 'it', \"'\", 'the', 'i', ',', 'and', 'and', ',', '.', 'to', 'and', 'a', ',', 'of', 'to', ',', 'that', 'is', 'and', \"'\", 'of', '.', 'i', ',', 'to', 'and', '.', 'in', 'i', 'a', 'to', ',', 'and', 'i', 'i', 'of', 'the', 'i', 'to', 'is', 'a', 'of', 'of', '.', 'i', ',', ',', \"'\", '.', 'i', \"'\", 'to', 'of', 'of', '.', 'it', \"'\", 'it', 'the', \"'\", 'i', 'that', \"'\", 'it', 'a', ',', 'i', 'that', 'you', 'to', 'of', 'a', 'and', 'the', 'that', 'to', 'it', 'is', 'is', \"'\", 'in', 'you', 'to', 'to', '.', ',', ',', ',', 'in', 'the', 'in', '.', 'and', '.', 'and', \"'\", 'a', ',', 'and', '.', 'that', 'is', 'a', 'to', 'is', 'a', 'that', '.', 'i', \"'\", ',', 'i', \"'\", 'that', 'is', ',', 'is', 'the', 'the', 'the', 'is', 'that', 'the', '.', 'is', ',', 'is', 'is', 'that', \"'\", ',', 'you', 'to', 'that', 'of', 'to', ',', 'and', '.', 'is', 'i', 'a', 'to', 'of', ',', 'you', 'to', 'that', 'of', 'to', ',', 'and', '.', 'the', 'that', 'is', 'a', 'to', 'is', 'a', 'that', '.', 'it', 'is', 'that', 'is', 'i', 'the', 'the', 'the', 'is', 'that', 'the', '.', 'the', 'to', 'a', 'of', 'that', '.', ',', 'to', '.', \"'\", 'in', 'the', '.', 'in', ',', 'in', 'the', '.', 'a', 'the', '.', 'the', 'and', 'and', '.', 'to', 'the', '.', 'to', 'that', 'the', '.', 'in', 'the', '.', ',', 'that', ',', 'a', 'to', 'that', 'is', 'to', '.', 'to', '.', 'a', '.', ',', 'to', 'and', ',', 'is', '.', 'of', ',', 'and', 'that', '.', ',', '.', 'the', 'of', 'is', 'the', 'the', ',', ',', 'you', 'to', 'a', ',', 'the', 'of', 'is', 'you', 'to', 'that', 'it', 'is', 'of', 'is', 'the', 'that', 'is', 'a', 'and', '.', 'is', 'the', ',', 'it', \"'\", 'to', 'it', '.', 'the', 'the', 'it', \"'\", 'a', '.', 'that', ',', '.', '.', 'a', 'of', 'to', 'that', 'in', 'and', 'is', 'to', '.', ',', ',', 'and', 'that', 'in', '.', 'the', 'to', 'the', 'and', 'the', 'is', '.', 'to', 'is', ',', 'it', '.', 'that', 'the', 'to', '.', ',', ',', 'of', 'in', '.', 'a', 'of', ',', 'the', ',', \"'\", 'it', 'in', 'of', ',', 'and', 'is', 'the', '.', 'a', 'and', ',', 'i', 'the', 'is', 'a', 'a', '.', \"'\", 'to', 'that', 'you', '.', 'is', 'a', 'and', 'i', 'is', 'i', 'is', 'of', 'the', '.', '.', 'is', '.', 'of', 'the', 'the', 'to', '.', 'that', '.', 'and', 'the', 'that', 'the', 'is', 'is', 'in', 'and', '.', 'that', 'the', '.', 'you', 'i', 'is', 'of', 'it', ',', 'you', \"'\", 'that', 'to', 'that', ',', 'is', 'of', 'the', '.', 'it', 'the', \"'\", 'and', 'that', 'of', 'the', 'to', '.', 'and', '.', 'and', '.', 'the', 'of', 'the', '.', '.', '.', '.', '.', '.', '.', '.', 'of', '.', 'of', '.', 'and', ',', ',', 'the', 'the', 'of', '.', 'to', '.', '.', 'it', 'is', 'that', 'it', 'the', 'in', 'the', '.', 'a', 'of', 'a', 'that', 'the', 'to', 'the', '.', 'the', '.', ',', '.', '.', '.', '.', 'you', '.', '.', 'is', '.', 'that', '.', 'the', ',', '.', 'it', \"'\", 'to', ',', 'i', '.', 'it', \"'\", '.', 'that', 'i', 'that', '.', 'is', '.', 'is', 'i', \"'\", 'the', '.', 'you', 'a', 'and', 'the', 'a', 'to', '.', 'i', ',', 'and', 'i', \"'\", ',', 'that', 'that', 'the', 'in', 'is', '.', 'and', 'i', 'that', '.', 'of', 'to', '.', 'and', 'of', 'a', 'to', ',', 'and', 'and', 'that', 'is', 'the', 'to', '.', 'and', '.', 'it', '.', 'and', 'i', 'to', 'you', 'the', 'is', ',', 'the', 'of', '.', 'it', \"'\", ',', \"'\", '.', \"'\", '.', 'you', \"'\", 'to', 'i', 'i', 'you', ',', 'of', 'it', 'you', 'i', 'that', ',', 'you', \"'\", '.', '.', '.', '.', 'the', ',', ',', 'the', 'of', 'the', 'you', 'that', 'the', 'it', ',', 'and', 'the', 'that', 'a', ',', 'and', 'i', 'that', ',', 'and', 'the', 'in', ',', 'in', \"'\", ',', 'it', 'is', 'that', 'the', \"'\", 'you', \"'\", 'to', 'i', ',', 'to', ',', ',', '.', 'that', ',', 'you', \"'\", '.', '.', '.', '.', 'the', \"'\", ',', 'it', 'is', 'that', 'the', \"'\", ',', 'a', 'of', '.', ',', 'that', 'a', 'in', ',', 'and', '.', ',', 'the', 'in', '.', ',', 'to', ',', ',', '.', 'is', ',', 'i', 'a', 'you', '.', 'is', 'a', '.', 'it', \"'\", 'and', \"'\", '.', ',', 'it', '.', 'you', 'i', ',', 'that', 'the', 'is', 'a', '.', 'a', 'is', 'that', 'the', 'to', 'to', 'the', 'of', 'of', '.', '.', 'the', ',', 'it', 'to', 'to', '.', 'of', 'the', '.', ',', 'a', 'a', 'in', 'the', 'of', '.', '.', ',', 'it', 'that', '.', 'to', 'in', '.', '.', 'and', 'of', '.', '.', ',', 'the', 'of', 'to', 'and', 'and', 'the', 'of', '.', 'the', 'is', ',', 'to', 'the', 'and', 'the', ',', 'it', 'a', ',', 'and', '.', 'the', ',', 'a', 'and', '.', 'to', 'and', '.', 'the', 'and', '.', 'you', 'to', 'to', 'of', 'and', 'you', 'to', 'the', 'and', 'a', '.', ',', 'the', 'of', ',', 'the', 'of', '.', '.', '.', '.', 'the', ',', 'is', ',', 'in', 'it', 'to', 'the', 'and', '.', 'you', '.', '.', 'in', 'a', '.', 'and', ',', 'to', 'that', 'that', 'of', 'a', '.', ',', 'a', 'of', '.', ',', 'that', 'a', 'in', ',', 'and', '.', ',', 'the', 'in', '.', ',', 'to', ',', ',', '.', ',', 'to', 'the', 'the', '.', 'a', ',', 'the', 'in', 'of', ',', '.', '.', '.', '.', ',', 'the', 'and', 'that', 'the', ',', ',', 'the', 'of', 'a', 'you', 'a', 'of', 'the', '.', 'it', \"'\", 'and', '.', ',', 'it', ',', 'a', 'the', '.', 'in', 'it', \"'\", '.', ',', 'the', 'is', 'that', 'the', 'you', 'and', 'the', 'i', ',', 'to', 'the', '.', \"'\", ',', 'is', 'a', '.', 'of', ',', 'to', 'you', 'you', \"'\", ',', 'you', 'to', 'a', 'you', \"'\", '.', 'you', 'the', '.', '.', '.', '.', '.', '.', '.', '.', '.', ',', '.', 'a', '.', ',', 'and', 'that', '.', ',', 'and', 'to', '.', 'the', 'of', 'in', 'of', 'that', 'of', 'the', ',', '.', '.', '.', '.', ',', '.', '.', '.', '.', '.', 'is', 'in', 'to', 'the', ',', ',', '.', '.', '.', '.', '.', '.', '.', '.', '.', '.', 'that', 'in', ',', 'and', ',', 'the', 'in', '.', '.', ',', 'a', ',', 'the', 'of', 'in', '.', 'in', 'to', '.', ',', '.', '.', '.', '.', '.', 'that', 'a', 'in', 'in', 'a', 'that', '.', 'to', '.', 'it', 'that', '.', ',', 'it', 'is', 'to', '.', '.', '.', '.', '.', ',', 'and', 'to', 'and', 'of', '.', 'to', 'the', 'of', '.', 'that', 'is', 'the', 'and', 'the', 'of', 'of', 'of', 'and', 'the', 'of', 'the', '.', 'in', 'the', 'and', 'that', 'is', ',', 'the', 'of', ',', 'the', 'in', ',', 'the', 'of', ',', 'and', 'the', 'of', ',', ',', '.', 'is', 'a', 'is', 'and', 'and', 'to', 'that', 'is', 'to', 'you', 'a', 'that', 'the', ',', 'you', 'the', ',', 'the', ',', 'the', 'in', 'you', ',', 'and', ',', 'you', \"'\", '.', 'that', \"'\", '.', ',', '.', ',', '.', '.', 'the', 'is', '.', ',', 'in', '.', 'that', 'i', 'you', 'the', 'you', 'a', 'of', '.', 'i', 'you', 'a', 'the', 'you', \"'\", 'and', '.', 'and', 'you', 'i', '.', 'you', \"'\", '.', 'you', \"'\", 'to', ',', 'you', \"'\", '.', 'a', 'you', \"'\", ',', 'you', 'you', 'you', '.', 'you', 'and', 'it', \"'\", 'to', 'that', 'you', \"'\", '.', 'it', 'to', 'the', ',', 'i', '.', '.', '.', '.', '.', '.', '.', '.', 'you', 'a', 'that', 'the', ',', 'you', 'the', ',', 'the', ',', 'the', 'in', 'you', ',', 'and', ',', 'you', \"'\", ',', 'the', 'of', 'a', 'is', '.', 'that', \"'\", 'a', '.', ',', 'and', 'i', 'that', ',', 'i', 'the', 'is', ',', 'that', 'it', 'is', 'the', 'you', 'to', 'to', ',', 'that', 'you', 'and', 'the', ',', \"'\", 'you', 'you', 'you', '.', 'you', 'and', 'it', \"'\", 'to', 'that', 'you', \"'\", '.', 'is', \"'\", ',', 'the', 'of', 'a', 'is', '.', 'that', \"'\", 'a', '.', ',', ',', 'it', \"'\", 'it', \"'\", '.', 'i', ',', '.', 'is', 'i', 'a', 'in', 'the', 'of', ',', ',', 'and', \"'\", 'and', 'you', 'to', 'to', ',', 'that', 'you', 'and', 'the', ',', \"'\", 'you', '.', '.', '.', '.', '.', '.', '.', '.', 'to', 'in', ',', 'is', '.', 'is', ',', 'the', ',', 'is', \"'\", ',', 'is', 'i', 'the', 'is', ',', 'i', 'that', ',', '.', 'to', 'that', '.', 'the', 'is', ',', 'is', '.', ',', \"'\", 'that', 'that', \"'\", 'and', 'you', ',', \"'\", '.', 'it', '.', 'is', 'is', '.', 'to', 'in', ',', 'is', '.', 'is', ',', 'it', \"'\", 'to', 'you', 'and', 'you', \"'\", '.', 'you', \"'\", 'the', ',', 'you', ',', 'the', 'is', \"'\", ',', \"'\", '.', 'the', 'is', ',', 'a', 'in', 'the', 'of', ',', ',', 'and', 'the', 'is', ',', 'of', 'in', 'to', 'and', ',', 'and', ',', 'of', 'the', 'and', 'it', ',', 'is', 'in', 'the', ',', 'the', 'the', \"'\", ',', 'and', \"'\", 'to', ',', \"'\", 'that', \"'\", '.', 'to', 'a', ',', 'the', '.', 'a', 'the', 'that', 'you', \"'\", 'that', 'is', 'to', 'it', 'to', '.', 'the', ',', ',', '.', 'is', 'a', 'a', 'of', 'to', 'a', 'and', '.', 'a', 'the', 'in', 'the', 'the', '.', 'it', 'that', 'the', 'of', ',', 'and', 'and', 'to', 'and', '.', 'the', ',', 'and', 'i', ',', 'to', 'in', 'the', 'in', 'of', '.', 'of', 'and', 'to', 'in', 'the', '.', ',', 'in', ',', 'a', 'that', '.', 'of', 'is', 'to', '.', 'is', 'the', ',', 'is', 'of', 'the', 'of', 'it', 'a', 'i', 'of', 'that', 'it', '.', '.', 'the', 'is', 'of', 'the', ',', 'you', 'it', 'that', '.', 'to', 'and', 'to', 'that', '.', 'it', 'a', 'and', 'the', ',', 'the', 'that', '.', '.', 'a', '.', ',', '.', 'i', 'a', ',', 'in', ',', 'i', 'you', '.', 'the', 'of', 'and', 'that', 'to', 'the', 'of', '.', ',', 'of', 'the', 'i', ',', 'and', 'a', 'of', 'to', '.', 'the', 'of', '.', 'that', 'the', 'of', 'a', 'the', 'of', 'that', 'and', 'the', '.', 'the', 'in', 'the', 'of', 'that', 'is', 'you', ',', 'you', 'to', 'the', '.', 'it', '.', 'i', 'to', 'the', 'a', '.', ',', 'is', 'a', 'and', 'to', 'you', '.', 'the', ',', 'the', 'in', 'the', 'to', 'in', 'it', ',', 'and', 'you', ',', 'the', 'the', ',', 'and', 'the', 'you', 'you', '.', 'you', 'of', 'that', 'the', 'a', 'the', '.', '.', 'the', 'in', ',', '.', 'i', 'to', 'a', '.', ',', 'i', 'a', '.', 'i', ',', 'and', 'and', 'and', 'to', 'the', 'to', '.', 'i', 'to', 'a', ',', 'i', ',', 'i', '.', 'i', 'a', 'to', 'i', 'a', '.', '.', 'is', 'to', '.', 'you', '.', '.', ',', 'a', ',', 'you', '.', 'of', '.', ',', '.', 'the', 'of', 'and', '.', ',', 'it', 'the', ',', ',', ',', 'and', '.', 'the', ',', 'it', 'to', ',', 'it', 'a', '.', 'is', 'a', 'of', 'a', 'and', '.', ',', ',', 'the', ',', 'to', 'and', 'a', 'of', '.', ',', 'the', 'it', 'in', 'the', '.', 'the', 'the', ',', 'and', 'a', 'of', 'and', ',', 'of', '.', 'i', 'the', ',', 'is', 'to', 'to', 'and', 'to', ',', 'of', '.', '.', '.', '.', 'the', '.', ',', 'you', 'the', 'you', 'i', 'the', '.', 'and', 'it', 'the', 'that', 'the', 'the', '.', 'is', ',', \"'\", 'a', 'to', ',', 'the', 'that', ',', 'and', \"'\", ',', 'a', 'of', 'that', 'a', 'that', 'is', 'in', 'of', ',', 'a', ',', 'and', 'a', 'that', 'that', 'and', ',', 'that', 'and', 'is', 'a', 'of', \"'\", ',', 'that', 'you', 'that', \"'\", ',', ',', ',', 'and', 'you', '.', 'the', 'and', 'in', 'and', 'to', 'a', 'of', 'a', ',', 'the', '.', '.', '.', 'the', 'it', '.', '.', ',', '.', '.', 'the', 'in', 'the', ',', '.', '.', ',', 'and', 'of', '.', '.', 'the', 'in', '.', 'in', 'the', '.', '.', 'in', ',', 'and', '.', 'the', 'to', 'and', '.', 'the', 'to', 'of', 'in', 'the', '.', 'the', 'to', 'in', 'the', 'and', 'to', '.', 'of', 'to', '.', ',', 'in', '.', 'the', 'is', 'that', '.', '.', '.', '.', '.', '.', '.', '.', '.', 'is', 'to', ',', 'it', 'that', 'to', ',', 'the', ',', 'i', 'in', 'the', 'is', 'to', 'the', 'and', 'to', 'the', 'of', ',', 'the', 'to', 'the', 'is', 'to', ',', \"'\", '.', '.', '.', '.', '.', '.', '.', '.', ',', 'a', ',', ',', 'to', 'it', 'to', ',', 'that', \"'\", 'a', '.', 'it', \"'\", 'a', 'of', ',', 'and', '.', 'it', 'a', 'is', 'a', 'that', 'a', ',', 'the', 'a', 'that', 'is', '.', '.', '.', '.', 'is', ',', ',', 'in', ',', 'in', '.', ',', 'i', 'to', 'the', 'the', 'of', '.', '.', '.', '.', ',', '.', '.', 'that', \"'\", '.', '.', '.', '.', '.', 'and', 'to', 'that', 'is', 'the', ',', 'it', 'in', 'the', ',', 'the', 'of', 'a', 'you', 'the', 'of', 'that', '.', '.', '.', '.', '.', 'the', 'to', 'to', 'a', ',', 'i', '.', '.', '.', 'a', 'of', 'the', 'in', 'that', 'i', 'you', 'to', ',', 'you', 'to', 'a', 'you', 'and', 'a', 'of', ',', 'is', 'it', ',', ',', 'and', 'the', 'is', ',', 'you', 'to', 'of', '.', 'it', \"'\", 'a', '.', 'a', 'that', ',', \"'\", '.', 'to', ',', 'a', '.', '.', '.', ',', 'that', 'to', 'a', 'of', 'it', 'is', \"'\", ',', 'a', 'of', 'to', 'a', '.', 'a', 'to', ',', 'the', '.', ',', '.', '.', '.', '.', '.', '.', '.', ',', '.', '.', 'that', \"'\", '.', '.', '.', '.', '.', 'and', 'to', 'in', '.', '.', '.', '.', '.', '.', 'the', 'to', 'to', 'a', ',', 'i', '.', '.', '.', ',', 'of', 'the', '.', 'the', 'to', 'in', ',', 'that', 'a', 'in', 'the', 'of', 'that', '.', 'it', ',', 'in', 'the', 'of', '.', '.', '.', 'to', ',', 'you', \"'\", 'to', ',', 'you', \"'\", 'to', 'to', '.', 'is', 'to', 'you', ',', 'and', 'the', 'of', '.', ',', 'the', ',', 'it', 'is', 'i', \"'\", 'the', 'it', 'to', 'the', 'of', '.', 'the', 'that', 'is', 'and', 'of', ',', 'the', 'of', ',', 'the', 'of', 'of', 'in', 'the', ',', 'the', 'it', 'is', 'a', 'a', 'in', ',', '.', 'i', \"'\", 'is', 'is', ',', 'is', ',', 'i', \"'\", 'i', 'to', 'a', 'that', 'i', 'the', 'is', '.', ',', 'the', 'is', 'is', 'a', 'of', 'and', 'is', \"'\", 'the', 'a', 'is', 'of', 'that', 'the', 'and', 'a', '.', '.', '.', '.', '.', '.', 'is', 'a', ',', 'of', 'the', 'of', ',', 'and', 'to', 'of', ',', '.', '.', '.', '.', 'of', 'in', 'a', 'the', 'of', 'to', ',', 'is', ',', ',', ',', ',', ',', 'to', ',', 'the', 'is', ',', 'a', 'a', ',', 'a', 'is', 'to', 'is', 'is', 'to', ',', 'the', 'is', 'to', ',', 'it', 'that', 'the', 'and', 'the', 'to', ',', 'that', 'the', 'the', '.', 'and', 'the', 'the', ',', ',', 'and', 'a', 'the', 'is', 'and', 'of', ',', 'and', 'that', 'is', 'i', 'to', 'to', ',', 'of', 'it', 'to', ',', 'i', 'of', 'the', 'and', 'it', ',', 'it', 'that', 'in', 'a', 'to', 'the', 'of', 'and', ',', 'the', 'of', 'in', ',', 'of', 'the', 'it', \"'\", ',', 'is', 'the', 'to', ',', 'and', 'the', 'of', 'the', ',', 'that', 'to', 'the', 'the', 'in', ',', 'of', 'to', 'the', 'to', 'the', ',', 'and', ',', 'a', 'of', ',', 'and', '.', 'that', 'that', 'to', 'to', 'the', 'and', ',', 'is', 'the', 'to', 'the', 'and', ',', 'of', 'the', 'of', 'to', 'of', ',', 'a', 'to', 'a', ',', 'a', 'is', 'that', 'the', 'of', 'is', 'to', ',', 'and', 'a', ',', 'in', 'to', 'a', 'of', 'the', 'of', 'that', 'to', ',', 'the', 'the', 'of', ',', 'i', \"'\", 'that', 'it', 'a', 'the', 'the', 'that', 'the', 'the', 'that', 'the', 'and', ',', 'the', ',', 'that', 'of', 'that', ',', \"'\", 'the', '.', ',', 'in', 'in', 'the', 'of', ',', 'that', 'the', 'to', ',', ',', '.', 'and', 'the', 'is', 'a', 'to', 'the', ',', 'and', 'and', 'the', 'in', 'a', 'of', 'and', 'to', ',', 'is', 'the', 'that', 'you', 'the', 'of', 'a', 'you', 'of', ',', 'and', 'that', 'the', 'in', 'the', 'is', 'to', 'the', ',', 'of', 'the', 'that', 'is', ',', 'the', 'is', 'a', 'the', \"'\", 'of', '.', 'i', 'of', 'the', '.', 'i', '.', 'the', 'that', ',', 'of', ',', 'of', '.', 'you', 'to', 'to', '.', ',', 'the', ',', ',', 'of', 'the', '.', 'the', ',', ',', 'the', 'the', 'of', '.', ',', 'the', 'in', 'to', 'of', '.', 'is', ',', 'that', 'and', '.', 'is', 'and', 'and', '.', ',', 'you', 'to', ',', ',', ',', ',', ',', '.', 'you', '.', 'i', \"'\", 'is', 'that', 'to', 'of', \"'\", 'it', ',', '.', 'is', 'to', 'a', 'in', ',', 'that', 'is', 'the', '.', ',', 'a', ',', '.', 'i', 'you', 'and', 'i', ',', 'to', 'a', '.', 'you', 'to', 'to', 'and', '.', 'and', 'a', '.', \"'\", 'you', 'that', 'and', 'to', 'to', \"'\", '.', 'you', 'to', \"'\", \"'\", 'the', ',', \"'\", 'the', \"'\", \"'\", 'the', 'the', 'to', 'the', '.', 'and', '.', '.', '.', 'the', '.', '.', '.', '.', '.', '.', '.', 'that', 'to', 'a', 'to', '.', 'that', 'the', 'is', '.', 'to', 'the', 'of', 'the', '.', 'of', 'is', 'and', 'it', '.', 'that', 'to', 'to', '.', '.', 'to', '.', 'and', 'that', 'to', 'that', 'and', 'that', 'the', '.', 'you', \"'\", 'to', 'the', 'that', \"'\", ',', 'you', 'the', '.', 'a', 'is', 'the', '.', 'you', 'and', '.', 'is', 'that', 'you', ',', 'you', 'the', 'that', 'you', '.', 'in', ',', 'you', 'to', 'of', 'the', 'and', 'of', ',', ',', ',', ',', 'and', '.', 'is', 'that', 'you', 'to', 'you', 'that', 'to', 'and', '.', 'you', '.', 'the', '.', '.', 'the', 'a', 'that', 'is', 'and', 'and', 'and', ',', 'the', 'and', 'the', '.', 'it', 'to', ',', ',', ',', 'and', '.', 'you', ',', 'a', \"'\", 'the', ',', 'a', '.', 'is', 'of', '.', 'i', \"'\", 'is', ',', 'and', 'i', 'to', 'that', '.', 'to', 'the', '.', 'the', 'a', ',', 'and', 'in', 'the', 'of', 'the', '.', ',', \"'\", 'is', 'the', '.', \"'\", ',', ',', 'and', 'in', '.', 'in', 'the', 'to', 'to', 'to', ',', '.', 'of', 'the', '.', 'a', ',', \"'\", ',', 'you', 'the', '.', \"'\", 'the', '.', 'i', 'a', 'a', ',', 'a', 'in', 'the', 'to', 'the', ',', 'a', 'in', 'the', ',', 'and', 'in', '.', ',', '.', ',', 'the', 'is', 'that', ',', 'and', 'in', ',', 'the', '.', 'i', \"'\", 'is', 'that', '.', 'in', 'a', 'is', 'a', ',', 'is', 'that', 'you', '.', 'in', ',', 'i', \"'\", 'the', '.', 'a', ',', '.', 'to', ',', 'i', \"'\", 'and', 'you', 'to', '.', 'i', \"'\", 'the', 'of', ',', 'and', ',', 'and', '.', 'the', 'in', ',', 'the', 'that', 'that', 'is', 'of', 'and', ',', 'and', '.', '.', '.', '.', 'is', 'of', '.', 'you', \"'\", 'a', 'to', '.', ',', 'the', '.', '.', ',', ',', '.', 'is', 'it', 'that', 'and', ',', 'and', 'you', 'in', 'the', 'and', 'is', 'to', '.', 'is', 'of', '.', 'the', 'in', 'the', ',', 'and', 'of', 'that', 'the', '.', 'you', \"'\", 'a', 'the', 'of', '.', ',', 'and', 'the', ',', 'is', 'that', '.', 'i', \"'\", 'to', '.', 'in', 'and', 'is', 'a', '.', 'in', 'of', 'and', 'to', 'you', 'a', '.', 'you', 'to', 'a', 'of', ',', ',', ',', 'of', ',', 'that', \"'\", 'the', '.', 'is', 'in', 'and', ',', 'is', ',', 'a', '.', 'is', 'it', 'a', '.', 'is', 'it', 'a', 'to', 'to', 'to', '.', 'is', 'to', 'in', ',', 'and', 'the', 'of', '.', ',', 'it', \"'\", 'that', ',', '.', 'it', 'it', 'that', 'and', ',', 'and', 'in', 'that', 'the', 'in', 'and', '.', '.', '.', 'and', '.', '.', '.', 'is', 'the', 'to', '.', '.', 'is', '.', 'the', 'it', '.', '.', 'you', '.', '.', '.', 'it', ',', '.', 'is', 'a', '.', 'you', 'is', ',', 'i', 'i', 'in', ',', '.', 'the', 'of', 'the', 'i', ',', 'and', 'it', 'is', 'to', 'it', 'is', 'in', 'the', '.', 'a', 'is', 'and', 'is', 'a', '.', 'the', 'to', 'a', 'it', '.', 'it', 'to', 'to', '.', ',', ',', 'to', 'to', 'and', 'the', ',', 'it', \"'\", 'in', '.', 'you', 'to', 'the', '.', 'of', 'the', \"'\", 'a', ',', '.', 'it', 'is', 'to', 'and', 'in', '.', 'the', '.', '.', '.', 'to', 'the', 'the', \"'\", 'of', '.', 'the', 'of', 'a', ',', 'and', 'in', 'the', 'and', 'to', '.', 'in', ',', 'a', 'to', ',', 'the', 'of', '.', 'a', 'of', ',', 'the', 'in', 'and', '.', 'the', 'is', ',', 'of', '.', \"'\", 'and', 'to', 'to', 'the', '.', '.', 'that', 'of', ',', 'it', \"'\", 'to', '.', 'of', 'the', 'of', '.', ',', 'in', '.', 'the', 'of', 'a', ',', ',', ',', 'and', 'a', ',', 'the', 'in', '.', 'the', 'in', 'the', '.', 'to', '.', 'the', '.', 'of', 'the', '.', 'that', 'to', 'and', '.', '.', '.', '.', 'the', 'to', 'a', '.', '.', 'the', 'that', 'of', '.', 'the', ',', 'in', 'the', '.', '.', ',', 'and', 'the', ',', 'and', 'it', 'of', 'of', 'in', '.', '.', '.', '.', '.', 'in', 'and', '.', 'in', '.', '.', '.', 'of', '.', '.', '.', '.', 'in', 'and', '.', '.', '.', '.', '.', 'in', 'and', '.', '.', '.', '.', 'in', 'of', 'the', '.', ',', ',', 'the', 'of', ',', 'the', '.', \"'\", \"'\", 'the', ',', 'is', 'a', 'of', 'the', '.', '.', '.', '.', 'you', 'that', 'in', 'the', '.', 'of', 'to', 'the', 'the', 'in', 'the', '.', 'is', 'of', 'the', 'in', 'and', 'is', 'in', ',', ',', 'and', '.', '.', '.', '.', ',', 'in', 'the', 'in', '.', 'i', ',', 'it', 'i', 'of', \"'\", 'a', ',', 'of', '.', '.', '.', '.', 'that', 'is', 'it', 'is', 'to', ',', 'the', 'to', \"'\", 'the', 'i', 'is', 'that', 'in', 'the', 'is', 'a', ',', 'to', '.', 'is', '.', ',', 'and', ',', 'it', 'is', 'a', '.', 'is', ',', ',', '.', '.', 'you', 'to', '.', 'you', 'and', '.', '.', 'the', 'of', 'a', 'in', 'the', 'the', 'you', 'to', 'the', \"'\", 'a', '.', 'is', '.', 'the', 'that', 'that', 'to', 'is', 'of', ',', 'you', '.', 'you', 'to', 'of', 'a', ',', 'that', '.', 'i', 'and', '.', 'of', 'is', 'you', 'i', \"'\", '.', 'i', 'a', 'and', 'it', '.', 'a', 'and', 'that', \"'\", '.', 'you', '.', 'a', 'the', 'you', 'in', 'the', 'of', '.', 'i', \"'\", 'you', 'and', 'it', ',', '.', 'in', 'to', ',', 'i', 'you', 'it', '.', 'you', 'the', 'the', 'of', 'the', \"'\", \"'\", 'and', 'to', 'you', 'it', 'the', 'of', 'the', 'and', 'you', 'the', 'in', 'it', 'that', 'is', 'to', '.', \"'\", 'it', 'a', 'the', 'the', 'is', \"'\", 'it', '.', 'you', \"'\", 'a', 'you', '.', \"'\", 'the', '.', 'it', \"'\", 'a', 'of', 'the', '.', '.', 'you', \"'\", 'the', 'that', 'it', \"'\", '.', 'to', '.', '.', '.', '.', '.', 'is', '.', '.', '.', 'you', 'a', 'and', 'a', 'of', 'a', 'it', \"'\", \"'\", \"'\", '.', 'it', 'is', 'a', 'a', 'and', 'to', 'that', ',', 'of', ',', '.', 'to', 'that', ',', 'of', 'it', 'is', '.', 'the', 'in', '.', 'that', 'is', 'and', 'a', 'is', '.', 'it', '.', 'it', \"'\", ',', ',', 'of', 'you', ',', ',', 'i', '.', ',', 'is', 'to', '.', 'in', '.', 'to', 'it', ',', 'it', 'you', 'a', 'in', '.', ',', 'in', 'you', '.', 'a', 'to', '.', 'in', 'and', 'you', 'the', 'and', 'the', ',', 'and', '.', 'and', ',', 'the', 'the', ',', ',', 'is', 'the', 'the', 'you', \"'\", 'in', 'the', '.', 'it', \"'\", 'a', '.', 'that', \"'\", '.', \"'\", 'the', 'is', ',', 'i', 'that', \"'\", '.', 'that', 'it', 'to', 'the', 'of', 'to', 'it', \"'\", '.', 'you', '.', 'it', 'you', 'the', ',', 'the', ',', 'and', 'the', '.', 'i', 'that', 'and', ',', '.', 'you', 'you', 'to', 'and', 'i', \"'\", ',', 'and', 'you', 'you', \"'\", ',', 'the', 'you', \"'\", ',', 'and', 'it', '.', 'you', '.', '.', '.', '.', 'to', 'the', '.', 'the', 'in', '.', 'i', ',', '.', '.', 'a', 'the', ',', ',', 'that', ',', 'the', 'a', 'to', 'of', 'that', 'and', '.', 'it', 'is', 'that', 'to', 'the', 'that', 'is', 'a', 'of', 'a', 'and', 'to', '.', '.', ',', 'in', 'the', ',', ',', '.', 'of', 'and', 'of', '.', 'in', 'of', 'a', 'in', ',', 'of', '.', '.', 'to', 'of', '.', ',', 'of', 'of', ',', 'is', '.', ',', '.', 'to', 'the', ',', 'the', 'of', '.', '.', '.', '.', '.', ',', 'to', ',', 'and', 'the', ',', '.', 'the', 'it', '.', 'a', ',', 'and', 'a', '.', 'that', \"'\", 'of', ',', 'and', 'to', 'you', 'and', '.', ',', ',', 'you', 'it', '.', 'it', 'is', 'that', 'it', \"'\", '.', 'i', 'to', 'it', ',', \"'\", 'a', 'to', 'it', '.', \"'\", 'in', '.', 'you', 'is', 'that', 'and', 'is', ',', 'it', '.', 'of', ',', 'the', 'is', 'that', '.', 'i', 'of', 'the', ',', 'of', 'is', 'it', '.', ',', 'i', \"'\", '.', 'the', '.', ',', '.', 'i', \"'\", '.', 'you', \"'\", 'you', 'that', 'and', 'you', 'it', 'the', 'you', 'you', 'and', 'to', ',', 'i', 'a', 'of', 'of', ',', 'and', ',', 'you', 'i', '.', 'you', '.', 'the', 'in', 'the', 'and', 'the', 'the', ',', \"'\", 'to', '.', 'i', 'i', 'to', 'it', 'i', '.', 'that', \"'\", 'you', 'in', 'the', 'i', \"'\", 'a', '.', 'i', 'to', 'and', 'you', 'it', '.', 'i', \"'\", 'in', '.', 'of', 'i', \"'\", '.', 'it', \"'\", ',', 'it', '.', 'that', ',', 'it', 'and', 'the', 'in', '.', ',', 'i', \"'\", '.', 'is', '.', 'i', 'the', 'of', 'a', '.', '.', '.', '.', '.', 'i', \"'\", 'a', '.', 'i', 'to', 'is', 'to', ',', 'the', 'of', 'you', ',', '.', 'it', 'to', 'a', 'i', 'it', '.', 'you', 'to', \"'\", 'is', 'to', 'of', '.', 'to', 'the', 'of', 'a', 'the', 'to', '.', 'it', '.', '.', '.', '.', '.', '.', 'to', 'you', 'is', 'it', \"'\", 'a', '.', 'i', \"'\", 'is', 'a', 'that', 'it', 'that', 'a', ',', 'the', \"'\", ',', 'is', 'and', '.', 'is', 'is', 'that', 'to', 'in', 'to', ',', 'and', 'to', 'it', ',', 'of', 'is', 'in', ',', 'and', 'is', 'a', 'the', 'is', 'and', 'to', 'i', \"'\", '.', 'that', \"'\", '.', 'i', 'it', \"'\", 'and', 'it', 'to', '.', 'is', 'a', ',', 'is', 'and', ',', 'is', 'to', 'the', 'that', 'to', '.', 'it', \"'\", 'a', '.', 'it', 'is', 'you', '.', 'i', 'the', 'is', '.', '.', 'it', 'is', '.', 'the', \"'\", \"'\", '.', 'in', 'a', 'and', ',', 'to', 'to', '.', 'the', 'of', 'and', '.', 'you', 'the', 'is', 'that', 'that', \"'\", \"'\", \"'\", 'is', 'is', 'the', 'is', 'a', 'in', '.', ',', 'is', 'a', ',', 'that', ',', 'to', 'that', 'the', 'to', 'the', 'that', 'the', '.', '.', '.', '.', '.', '.', '.', 'that', \"'\", 'a', 'to', 'the', 'to', '.', 'and', 'of', '.', ',', 'the', \"'\", 'to', ',', ',', 'and', \"'\", 'to', ',', 'a', 'it', 'to', 'it', 'is', ',', 'it', \"'\", ',', 'to', 'that', 'the', \"'\", '.', ',', 'and', 'of', '.', '.', 'of', 'to', ',', 'that', '.', '.', 'to', 'of', 'you', \"'\", 'of', \"'\", \"'\", 'that', 'that', 'is', 'you', 'of', \"'\", 'in', 'you', 'that', 'that', \"'\", 'a', '.', 'you', 'to', 'to', 'to', 'that', '.', 'a', 'to', 'the', 'the', 'it', \"'\", 'and', \"'\", \"'\", 'that', ',', 'of', \"'\", 'in', 'that', \"'\", '.', 'is', '.', '.', '.', '.', '.', ',', \"'\", 'of', 'is', 'the', 'to', 'of', 'the', \"'\", ',', 'i', 'a', 'the', 'that', '.', 'to', \"'\", 'in', '.', 'i', \"'\", 'the', 'in', 'you', \"'\", \"'\", 'is', 'in', '.', 'i', 'you', \"'\", 'to', ',', 'the', 'the', 'of', 'and', '.', 'and', ',', 'of', ',', '.', 'the', 'you', \"'\", 'to', 'to', 'is', '.', '.', '.', 'you', \"'\", '.', 'in', 'is', ',', 'that', '.', 'i', \"'\", 'the', 'you', 'to', 'in', '.', 'of', 'is', 'in', ',', '.', 'that', ',', 'it', 'in', 'of', 'in', '.', 'in', '.', 'of', 'a', '.', \"'\", ',', 'is', 'a', 'and', \"'\", \"'\", 'in', 'the', '.', 'in', ',', 'the', 'of', 'the', 'is', 'in', 'of', '.', 'the', 'a', 'is', ',', 'the', '.', 'a', ',', 'that', 'in', 'in', '.', 'in', ',', 'the', 'a', 'a', \"'\", \"'\", ',', 'that', 'in', 'of', ',', 'and', '.', 'that', 'is', ',', 'and', ',', '.', 'it', ',', 'to', 'in', 'the', ',', '.', 'it', 'is', 'and', '.', '.', 'the', 'and', 'the', \"'\", \"'\", '.', 'the', ',', 'in', 'of', '.', 'the', 'a', 'of', ',', 'to', 'of', '.', 'the', 'in', ',', 'in', ',', 'and', 'of', ',', 'is', 'a', 'of', 'the', 'and', '.', 'is', 'to', 'and', '.', 'in', ',', 'in', '.', ',', 'of', 'and', 'and', 'of', '.', 'i', 'the', '.', 'the', ',', ',', 'and', 'a', '.', 'the', 'a', 'the', ',', 'of', 'the', 'to', ',', 'and', 'of', 'the', 'of', 'in', 'the', 'to', 'a', '.', ',', 'the', 'in', '.', 'and', ',', ',', 'the', \"'\", 'the', 'is', 'to', 'it', 'is', '.', 'a', 'in', 'of', '.', '.', '.', 'i', \"'\", '.', 'the', 'to', 'the', 'of', 'to', 'and', 'of', 'the', '.', 'the', 'of', '.', 'of', 'of', '.', 'in', ',', 'of', 'the', 'of', 'to', '.', ',', ',', \"'\", 'of', 'it', 'and', 'the', '.', 'the', 'the', 'that', 'the', 'of', 'and', 'of', 'and', ',', 'and', 'the', 'is', '.', 'i', \"'\", ',', 'is', 'a', 'the', 'of', 'the', '.', 'the', 'the', '.', 'to', 'that', 'is', \"'\", \"'\", 'the', '.', '.', \"'\", 'the', 'that', 'a', '.', '.', 'i', 'that', 'you', 'a', 'you', \"'\", 'i', 'to', 'a', 'of', 'you', '.', '.', '.', '.', 'in', 'in', 'the', 'the', 'the', 'is', '.', 'to', 'is', 'a', '.', 'you', 'the', '.', 'the', '.', 'the', 'is', '.', '.', '.', '.', 'and', 'and', 'a', 'the', 'of', ',', '.', 'the', \"'\", ',', '.', '.', '.', '.', 'you', 'to', ',', 'of', 'the', \"'\", ',', '.', '.', '.', '.', 'that', 'to', '.', 'the', 'in', 'in', 'the', 'of', 'to', ',', ',', '.', 'that', 'is', 'the', ',', 'to', '.', 'it', 'that', 'the', '.', 'it', \"'\", 'to', 'a', 'to', 'and', 'the', 'of', 'the', 'that', 'a', 'of', 'that', '.', 'it', \"'\", 'to', 'and', 'that', 'a', ',', ',', 'and', 'to', 'it', '.', 'that', 'in', 'the', 'to', 'the', '.', 'the', 'and', 'and', 'is', 'to', 'the', 'of', 'and', 'of', '.', 'it', \"'\", 'you', 'it', 'in', 'of', 'it', '.', 'it', \"'\", 'a', 'it', '.', ',', '.', 'it', 'to', 'it', 'in', 'to', 'it', 'that', 'of', '.', '.', 'to', 'the', 'in', 'the', 'it', 'that', '.', '.', '.', '.', 'i', '.', '.', 'you', 'and', 'the', 'is', 'a', 'and', '.', 'it', '.', 'the', '.', '.', 'the', '.', ',', '.', 'the', 'of', '.', 'the', 'that', 'the', 'the', 'of', '.', 'the', 'to', '.', 'is', 'a', 'to', 'that', '.', '.', 'i', \"'\", ',', 'i', 'and', 'the', 'and', ',', 'you', 'the', 'is', 'you', 'the', 'to', 'you', 'you', 'that', 'of', 'a', 'the', 'to', 'in', 'the', 'of', '.', 'you', 'is', 'to', 'and', 'of', 'the', '.', 'to', 'a', 'of', ',', ',', 'and', 'the', 'and', '.', 'and', 'in', 'the', '.', ',', 'the', \"'\", 'to', \"'\", 'of', 'is', 'the', '.', '.', 'you', 'and', '.', 'to', 'and', '.', 'and', '.', 'and', 'the', '.', 'and', 'to', '.', '.', '.', '.', '.', 'the', 'and', '.', 'it', 'is', 'the', 'that', 'that', 'the', 'to', 'the', 'is', 'and', 'is', 'to', 'the', 'and', 'the', '.', 'it', 'is', 'the', 'that', 'the', 'to', 'of', 'the', 'the', '.', 'the', 'that', 'the', 'of', 'the', 'the', 'of', 'the', 'and', 'that', 'the', 'to', 'to', '.', ',', ',', 'to', 'the', 'of', 'the', ',', 'and', ',', ',', ',', '.', ',', 'and', '.', 'to', 'is', 'and', 'to', 'of', 'the', 'the', 'and', 'that', '.', 'you', '.', 'the', '.', 'to', 'the', 'and', ',', 'the', '.', '.', '.', '.', '.', 'to', '.', ',', 'to', '.', 'in', 'that', 'it', '.', 'it', 'is', 'to', 'you', 'in', 'to', '.', '.', ',', ',', '.', 'it', \"'\", 'to', 'you', ',', 'to', 'the', 'of', '.', ',', 'and', 'the', 'that', 'it', 'is', 'of', 'the', 'that', \"'\", 'of', '.', 'you', \"'\", 'is', 'that', 'to', ',', 'the', 'of', 'you', '.', 'it', 'is', 'to', ',', ',', 'a', 'the', '.', 'the', '.', \"'\", 'to', \"'\", 'to', \"'\", 'a', 'in', '.', 'it', 'to', 'you', 'to', 'the', 'it', 'the', ',', '.', '.', '.', '.', \"'\", 'i', 'a', 'the', 'of', ',', 'the', 'a', 'of', ',', 'it', 'is', 'that', 'to', 'that', 'is', 'to', ',', 'and', 'a', 'is', 'it', 'is', ',', 'a', 'to', 'it', \"'\", 'that', 'a', ',', 'a', 'is', ',', 'and', ',', 'of', ',', 'is', \"'\", 'a', 'in', '.', 'it', 'to', 'you', 'to', 'the', ',', 'in', 'you', 'to', 'that', 'a', '.', 'you', \"'\", 'i', 'a', 'the', 'of', ',', 'the', ',', 'i', \"'\", 'a', 'you', '.', 'you', 'i', ',', 'i', \"'\", 'to', 'you', '.', 'the', 'is', 'that', 'to', \"'\", ',', 'you', 'to', 'the', '.', 'you', 'of', 'you', ',', 'it', \"'\", 'the', '.', 'i', \"'\", 'it', 'you', \"'\", 'to', 'you', \"'\", \"'\", '.', \"'\", 'in', '.', 'the', '.', \"'\", 'in', 'to', 'it', '.', 'you', 'to', 'you', '.', \"'\", 'to', 'the', '.', 'the', 'of', 'the', '.', 'a', \"'\", 'you', ',', 'it', \"'\", '.', 'it', \"'\", 'it', 'to', 'in', 'the', 'of', ',', 'it', \"'\", \"'\", \"'\", ',', 'a', \"'\", '.', 'and', 'you', 'of', 'a', 'a', '.', 'i', 'you', ',', \"'\", 'you', 'that', ',', 'i', 'you', 'you', 'is', 'a', '.', 'i', 'is', 'a', 'is', 'a', 'the', 'the', 'of', 'a', 'you', \"'\", 'of', '.', 'you', \"'\", 'to', '.', '.', ',', 'a', 'to', ',', ',', 'a', '.', ',', \"'\", 'a', '.', 'you', \"'\", 'you', \"'\", 'a', 'of', 'the', 'that', \"'\", '.', \"'\", ',', 'in', 'the', ',', '.', 'a', 'that', ',', ',', '.', ',', '.', 'you', 'a', 'you', 'i', 'is', 'a', 'the', ',', 'that', 'to', ',', '.', ',', ',', 'a', 'to', 'that', 'you', \"'\", 'a', 'of', 'the', 'that', \"'\", '.', 'and', \"'\", '.', 'i', 'in', 'that', '.', ',', '.', 'the', \"'\", '.', '.', '.', '.', '.', 'it', '.', 'i', 'is', 'the', '.', 'to', 'the', 'the', 'and', 'a', 'in', 'to', '.', 'and', 'it', 'the', 'i', ',', '.', 'that', 'you', 'to', 'you', '.', 'i', 'you', \"'\", 'to', 'that', 'of', ',', 'and', 'you', 'the', 'and', 'of', '.', '.', '.', '.', 'that', \"'\", '.', 'that', \"'\", 'is', 'in', 'the', 'is', 'it', 'and', 'to', 'a', 'is', 'i', 'and', \"'\", '.', 'i', 'in', 'that', '.', ',', 'it', 'is', '.', 'and', 'to', 'the', 'of', 'the', '.', ',', 'the', 'a', 'of', 'the', 'the', ',', 'to', '.', ',', '.', 'i', 'you', \"'\", 'a', '.', 'of', 'you', \"'\", '.', 'to', 'of', ',', 'i', '.', \"'\", 'to', '.', 'in', '.', \"'\", 'and', 'it', \"'\", 'to', 'it', \"'\", 'the', '.', ',', 'the', 'you', ',', 'the', '.', 'is', '.', 'and', 'you', 'it', 'is', 'the', 'of', 'a', 'and', 'of', '.', 'that', \"'\", '.', 'the', '.', ',', 'it', \"'\", 'it', 'the', 'of', 'to', '.', '.', '.', '.', \"'\", 'a', 'and', 'to', ',', 'to', 'a', 'of', ',', 'it', 'and', ',', 'the', 'and', 'a', \"'\", 'a', 'you', 'you', 'a', 'the', 'of', 'in', 'to', '.', 'in', 'to', 'and', ',', ',', 'to', 'that', 'the', 'it', \"'\", 'the', 'and', '.', \"'\", ',', 'you', '.', 'of', 'the', 'a', 'i', \"'\", 'and', 'the', ',', 'to', 'it', '.', 'and', 'it', 'the', 'i', \"'\", 'of', '.', 'i', \"'\", 'the', ',', 'i', 'to', 'the', 'and', 'to', 'it', '.', 'in', 'the', '.', '.', '.', '.', '.', 'in', '.', 'a', 'of', 'that', '.', 'a', 'in', 'the', 'the', 'of', 'in', 'the', 'that', '.', 'of', '.', 'the', 'is', '.', 'it', 'is', 'that', ',', ',', '.', '.', '.', '.', '.', 'in', 'a', 'it', 'to', ',', 'the', 'is', '.', 'a', ',', 'is', 'in', 'the', 'of', 'of', 'and', 'to', '.', 'is', 'of', 'in', 'the', 'of', 'and', 'to', '.', 'that', 'in', 'the', 'and', 'that', 'in', 'of', 'the', ',', 'it', 'is', 'to', 'that', 'in', 'and', 'and', 'to', '.', '.', '.', 'is', 'a', ',', 'and', 'it', 'the', ',', 'is', 'the', \"'\", 'that', 'is', '.', '.', 'the', 'and', '.', 'to', 'a', ',', 'a', '.', 'that', 'i', ',', 'i', 'it', ',', 'i', 'a', 'of', 'it', '.', 'it', 'i', \"'\", 'in', ',', 'the', \"'\", 'is', 'the', '.', 'to', 'the', \"'\", ',', 'it', 'a', 'you', 'to', 'it', 'i', 'you', 'to', 'to', 'it', '.', 'is', 'the', ',', 'and', 'you', 'to', 'the', 'in', 'the', ',', 'and', ',', 'it', 'is', 'a', 'of', 'the', 'you', 'to', 'to', 'the', ',', 'and', 'a', 'of', 'the', 'is', 'the', 'is', ',', 'and', 'is', 'a', 'that', ',', 'is', 'that', 'a', 'of', 'the', 'it', ',', 'in', 'and', 'in', ',', 'in', '.', '.', '.', '.', '.', '.', 'and', ',', ',', 'the', 'is', ',', 'and', 'the', \"'\", ',', 'it', 'is', 'to', '.', 'to', 'the', 'a', 'is', 'that', ',', \"'\", 'a', 'the', 'of', 'of', 'you', 'the', ',', 'it', 'is', 'to', 'you', \"'\", 'a', 'a', ',', 'i', 'is', 'a', ',', 'is', ',', 'and', \"'\", ',', 'to', ',', 'to', 'the', 'is', '.', '.', '.', '.', '.', '.', 'that', 'the', ',', 'that', ',', 'you', 'a', 'of', 'in', ',', 'the', ',', 'and', 'of', 'the', 'of', 'that', 'you', \"'\", 'to', 'i', ',', 'i', 'a', 'to', 'the', 'is', ',', 'to', 'it', '.', 'the', 'it', 'to', 'to', 'to', 'i', 'the', 'you', 'the', 'it', 'is', '.', 'to', 'it', '.', 'a', 'to', 'it', '.', 'the', 'of', 'to', 'you', '.', 'it', 'the', ',', 'of', '.', 'of', '.', ',', 'and', '.', ',', 'i', ',', 'the', 'it', 'to', 'to', 'a', '.', ',', ',', 'to', 'the', 'of', 'a', 'that', ',', ',', ',', ',', '.', '.', 'the', 'that', 'to', 'is', 'it', '.', 'to', 'is', 'to', 'you', '.', 'is', ',', 'to', ',', 'a', 'to', '.', '.', 'you', '.', 'you', ',', 'to', '.', 'you', 'you', '.', ',', ',', 'to', 'the', '.', ',', ',', 'i', 'is', 'the', 'you', 'and', 'the', '.', 'that', 'that', 'is', 'the', '.', ',', 'to', ',', 'to', 'the', 'to', 'you', '.', ',', 'i', 'a', 'you', 'to', 'it', 'i', 'you', 'to', 'to', 'it', '.', ',', 'is', 'to', 'in', 'that', 'is', 'to', 'you', 'to', '.', 'you', 'to', '.', '.', 'you', 'you', 'and', 'of', '.', 'it', 'the', '.', 'of', '.', 'of', '.', 'the', 'is', 'you', '.', 'of', 'that', 'a', 'the', '.', 'the', 'to', 'of', 'of', '.', 'and', 'in', 'and', 'and', '.', '.', '.', 'a', '.', 'you', 'to', 'the', 'of', '.', ',', ',', 'is', 'that', 'of', 'and', 'in', 'the', '.', '.', '.', '.', '.', 'the', 'to', 'the', 'in', '.', '.', '.', '.', ',', 'of', 'in', '.', ',', '.', '.', '.', 'it', 'the', 'to', 'is', '.', '.', '.', '.', 'to', '.', ',', 'to', '.', 'in', 'that', 'it', '.', '.', '.', '.', '.', '.', '.', 'and', '.', '.', 'is', 'the', '.', '.', '.', '.', 'is', 'a', '.', 'is', '.', 'is', '.', 'it', 'is', 'to', 'and', 'the', '.', 'the', ',', ',', 'is', '.', 'it', 'is', 'a', 'of', '.', 'it', 'and', ',', ',', '.', '.', '.', 'and', '.', '.', 'and', '.', '.', '.', 'and', '.', '.', '.', '.', 'you', 'it', 'the', 'of', 'the', ',', ',', 'that', 'the', '.', 'that', 'a', 'of', 'the', '.', '.', '.', ',', '.', 'a', 'the', 'is', 'and', '.', 'i', '.', 'you', '.', '.', '.', 'is', 'a', '.', 'the', 'and', 'in', ',', 'and', '.', '.', 'the', 'is', 'and', 'to', '.', 'and', 'the', 'and', 'a', 'and', 'the', '.', 'the', 'of', 'to', '.', 'is', 'the', 'you', 'a', '.', 'and', 'a', 'the', 'it', 'is', 'to', 'that', 'the', '.', 'in', ',', ',', ',', ',', ',', ',', ',', ',', ',', ',', ',', ',', ',', ',', ',', ',', ',', ',', ',', '.', ',', ',', ',', ',', ',', ',', ',', ',', ',', ',', ',', '.', 'a', 'it', 'that', ',', 'in', '.', '.', '.', '.', '.', 'in', ',', ',', 'that', 'to', 'in', 'and', 'in', 'a', ',', '.', 'in', 'a', '.', '.', '.', '.', 'of', 'in', 'in', 'the', 'to', 'in', 'the', 'and', '.', 'in', 'the', 'the', 'and', '.', 'of', 'and', 'the', 'to', 'and', 'of', '.', 'that', 'the', '.', 'of', ',', ',', ',', 'of', ',', ',', 'and', 'to', 'the', ',', ',', ',', ',', 'and', ',', '.', 'of', 'in', 'and', '.', '.', ',', 'the', 'of', 'the', 'to', 'the', 'of', 'the', 'that', '.', ',', 'the', 'to', '.', 'the', ',', 'to', 'the', 'and', 'the', 'to', 'to', 'and', '.', 'and', 'of', ',', 'the', 'to', 'the', '.', ',', 'it', 'to', ',', 'the', 'that', 'to', '.', 'and', 'of', 'the', 'and', '.', 'of', 'the', 'of', 'the', 'is', 'and', '.', '.', '.', '.', ',', 'that', \"'\", 'you', '.', 'the', \"'\", ',', 'the', 'it', '.', 'a', ',', 'to', 'a', 'that', 'to', 'that', 'the', 'of', 'the', '.', 'the', '.', 'the', 'it', '.', '.', '.', '.', '.', '.', '.', 'the', '.', '.', '.', '.', '.', 'to', '.', '.', '.', '.', 'of', 'of', '.', '.', '.', '.', '.', '.', '.', 'and', 'of', '.', '.', '.', '.', 'and', 'to', 'the', 'of', 'in', ',', 'a', 'of', 'to', 'the', 'of', '.', 'it', 'that', 'and', 'in', ',', 'a', \"'\", 'the', ',', 'you', ',', 'i', \"'\", '.', 'i', 'a', 'and', 'a', 'it', 'is', ',', 'to', '.', \"'\", 'of', '.', '.', '.', '.', '.', 'the', 'and', 'in', ',', 'it', \"'\", '.', 'and', '.', 'it', \"'\", \"'\", 'in', 'of', 'in', 'of', ',', 'is', 'of', '.', ',', \"'\", 'it', '.', 'a', 'and', ',', 'to', ',', 'and', '.', ',', \"'\", ',', 'you', ',', 'that', '.', 'of', 'that', 'a', 'the', '.', '.', 'that', \"'\", 'the', '.', 'the', 'you', 'you', 'a', ',', 'i', \"'\", 'to', \"'\", 'the', '.', '.', \"'\", 'the', 'of', 'the', 'and', 'that', ',', 'the', 'you', ',', 'the', '.', 'that', \"'\", 'and', '.', 'in', 'you', 'of', 'in', '.', 'i', \"'\", 'a', 'a', ',', '.', 'is', '.', '.', 'of', 'is', '.', 'you', 'is', '.', '.', 'you', 'that', 'the', 'is', 'and', 'you', 'it', '.', ',', 'is', 'of', '.', 'and', 'that', \"'\", '.', 'you', \"'\", 'to', 'a', '.', 'of', 'the', 'in', 'the', ',', 'the', '.', 'that', 'the', 'in', 'the', ',', 'to', 'the', '.', 'the', 'in', 'is', 'and', 'is', 'to', 'the', '.', 'you', 'that', ',', 'that', 'that', '.', \"'\", ',', \"'\", 'i', 'you', \"'\", 'and', 'you', ',', \"'\", '.', ',', '.', 'that', 'and', 'it', \"'\", 'to', ',', 'that', \"'\", 'that', ',', 'to', '.', '.', 'to', 'is', 'and', '.', 'i', 'you', \"'\", 'to', 'a', 'of', 'that', 'of', 'and', 'is', '.', '.', ',', 'you', 'to', 'it', ',', 'and', 'to', 'of', 'the', '.', ',', '.', '.', 'you', 'to', 'the', '.', 'and', 'a', '.', 'of', 'the', 'i', '.', 'is', 'it', '.', '.', '.', 'it', 'that', 'it', ',', '.', 'to', '.', ',', ',', 'and', '.', 'and', '.', '.', '.', '.', 'a', '.', 'the', 'of', 'to', 'and', '.', 'and', 'the', 'that', ',', 'a', 'and', 'to', 'in', '.', 'is', 'the', 'and', ',', 'it', 'to', 'that', 'that', '.', 'the', 'and', '.', 'it', 'is', 'the', 'that', 'that', 'the', 'to', 'the', 'is', 'and', 'is', 'to', 'the', 'and', 'the', '.', 'it', 'is', 'the', 'that', 'the', 'to', 'of', 'the', 'the', '.', 'the', 'that', 'the', 'of', 'the', 'the', 'of', 'the', 'and', 'that', 'the', 'to', 'to', '.', ',', ',', 'to', 'the', 'of', 'the', ',', 'and', ',', ',', ',', '.', ',', 'and', '.', 'to', 'is', 'and', 'to', 'of', 'the', 'the', 'and', 'that', '.', 'you', '.', \"'\", 'you', '.', 'is', 'and', '.', 'you', '.', '.', 'to', ',', 'and', \"'\", '.', '.', '.', '.', '.', 'it', \"'\", 'to', ',', 'and', 'it', \"'\", 'to', 'and', 'it', '.', 'you', '.', 'i', 'is', ',', 'and', 'the', 'is', ',', 'and', '.', 'the', 'in', ',', '.', '.', ',', 'it', 'is', '.', ',', 'it', 'is', '.', ',', 'it', 'is', '.', '.', '.', '.', '.', '.', '.', '.', 'in', '.', 'it', 'is', 'and', 'that', '.', '.', 'the', '.', 'and', 'the', 'to', 'the', 'in', '.', 'to', 'and', '.', '.', '.', '.', 'the', 'in', 'to', 'a', 'the', 'it', 'the', 'the', 'of', 'the', 'to', '.', 'a', '.', 'of', 'a', '.', 'the', 'that', 'is', 'that', 'the', ',', ',', '.', 'the', 'to', 'the', 'of', 'the', ',', 'to', 'the', 'the', 'of', '.', 'and', 'the', 'a', '.', '.', '.', '.', '.', 'and', '.', '.', '.', 'the', 'of', 'the', 'of', 'to', 'that', 'of', '.', 'that', '.', 'a', 'to', 'and', '.', 'a', 'to', '.', 'of', 'a', 'in', ',', 'the', ',', ',', ',', 'of', 'a', ',', 'a', ',', 'a', '.', 'of', 'in', ',', 'a', 'to', 'the', '.', 'that', 'to', 'a', '.', 'to', ',', 'the', 'of', 'the', 'of', '.', 'that', 'the', 'to', ',', '.', 'and', 'the', ',', 'the', '.', 'is', '.', ',', 'in', 'is', 'the', 'of', 'it', 'to', 'the', 'that', 'a', 'of', '.', 'the', 'is', 'that', 'you', 'is', ',', 'that', 'the', 'of', 'the', '.', 'is', '.', 'is', 'a', 'that', 'a', 'a', ',', ',', ',', 'in', '.', 'the', '.', '.', 'it', 'to', ',', '.', '.', 'of', 'is', ',', 'that', 'a', 'of', 'a', '.', 'a', 'of', 'the', ',', 'a', 'the', 'of', 'the', 'that', 'the', '.', 'and', 'the', 'that', 'is', 'the', 'is', 'the', 'and', 'it', '.', 'in', ',', 'that', 'a', 'of', ',', '.', 'and', 'that', 'to', ',', 'the', 'in', 'is', ',', 'and', 'that', ',', 'the', '.', ',', 'the', 'of', 'in', 'a', 'in', 'the', '.', 'the', ',', '.', 'the', 'of', 'to', 'that', 'is', 'a', 'of', 'the', 'and', 'the', ',', 'and', 'that', 'and', 'to', 'the', 'of', '.', 'to', 'that', 'a', ',', 'and', 'that', 'in', 'to', 'and', 'to', ',', 'the', '.', 'it', 'is', 'to', 'that', 'a', 'is', 'the', 'the', 'that', '.', 'that', 'is', 'the', 'of', '.', 'you', ',', 'you', 'of', 'the', '.', '.', 'the', 'of', ',', 'the', 'to', 'the', 'the', '.', 'the', 'is', 'that', 'a', '.', 'and', 'it', 'to', '.', 'a', 'is', 'to', ',', 'the', ',', ',', ',', 'and', '.', 'the', '.', 'is', 'that', ',', 'that', ',', 'the', '.', 'the', 'is', '.', ',', 'in', 'the', 'is', 'is', '.', 'that', 'it', '.', 'that', 'is', '.', 'that', 'a', '.', 'it', 'that', 'it', 'that', 'of', 'to', '.', 'is', 'that', 'the', ',', 'that', 'is', 'the', ',', 'of', 'in', '.', 'of', 'the', '.', 'to', ',', 'of', 'the', '.', 'to', 'of', 'the', '.', 'in', ',', 'and', '.', 'is', 'a', 'to', ',', ',', ',', 'and', 'the', '.', 'is', 'the', '.', 'the', 'in', 'the', 'to', 'the', 'in', 'the', ',', 'in', '.', 'the', 'of', 'the', ',', 'and', 'the', 'to', ',', 'in', '.', ',', ',', 'the', 'in', ',', 'to', 'the', 'to', 'the', 'that', 'is', '.', 'is', 'to', '.', 'in', 'is', 'in', 'the', '.', 'and', ',', 'and', 'to', 'in', '.', 'the', 'that', 'a', 'to', 'the', 'and', 'to', 'a', 'to', 'the', 'of', 'the', ',', 'is', 'you', ',', ',', 'and', '.', 'the', 'the', ',', 'to', 'the', '.', 'and', 'that', '.', 'of', 'a', '.', ',', 'you', \"'\", 'a', ',', \"'\", 'you', ',', 'you', 'is', '.', 'i', \"'\", 'of', 'that', 'the', 'and', 'it', \"'\", 'that', \"'\", '.', ',', 'is', 'the', ',', 'the', '.', 'that', 'you', \"'\", '.', 'the', 'the', 'and', 'that', '.', '.', 'you', 'a', 'the', 'of', 'the', ',', 'i', 'the', '.', 'it', \"'\", 'the', ',', 'in', '.', 'to', ',', 'and', 'you', 'the', ',', 'you', 'that', 'in', 'the', 'to', 'of', 'the', 'to', \"'\", '.', \"'\", '.', 'the', 'you', 'it', '.', '.', 'of', 'the', 'in', 'the', ',', 'the', '.', 'that', 'the', 'in', 'the', ',', 'to', 'the', '.', 'the', 'in', 'is', 'and', 'is', 'to', 'the', '.', '.', '.', '.', '.', '.', '.', 'and', '.', '.', '.', 'and', '.', '.', '.', '.', '.', ',', ',', 'of', 'in', '.', 'the', 'and', '.', ',', 'to', 'the', 'of', 'the', '.', 'and', ',', '.', '.', '.', '.', 'and', ',', 'in', 'in', '.', '.', '.', '.', '.', 'in', 'is', '.', 'a', 'and', '.', 'that', 'the', 'of', 'and', 'of', 'in', '.', '.', '.', '.', 'in', 'the', 'and', 'in', '.', '.', '.', '.', 'and', ',', '.', 'you', 'to', 'the', 'you', '.', 'the', '.', 'the', 'and', '.', ',', 'the', '.', 'in', 'the', 'and', '.', 'the', 'is', 'and', 'it', 'the', '.', 'the', 'that', 'the', 'that', 'the', 'the', 'and', 'that', 'a', 'and', 'and', '.', '.', '.', '.', '.', 'and', '.', '.', 'and', '.', '.', 'the', 'of', 'the', 'and', 'and', 'of', '.', ',', 'the', 'the', 'the', 'to', 'the', 'that', 'it', '.', 'in', ',', 'to', 'it', 'in', 'and', '.', '.', '.', '.', ',', 'the', 'the', ',', 'and', '.', 'a', 'the', '.', 'that', 'is', 'is', 'a', 'of', 'and', 'the', '.', '.', '.', '.', '.', '.', 'the', ',', ',', 'of', 'and', 'in', ',', 'the', 'that', 'the', 'of', 'a', 'in', 'in', '.', '.', '.', '.', ',', ',', 'and', 'and', 'the', '.', 'that', 'to', '.', '.', '.', 'of', 'is', '.', 'it', \"'\", 'a', '.', ',', 'you', 'the', 'that', 'of', 'the', '.', 'the', '.', 'the', 'that', 'the', '.', 'to', 'and', '.', 'a', 'is', 'the', 'is', '.', 'to', 'to', 'the', 'and', 'a', 'in', 'and', '.', 'is', '.', 'the', 'is', 'it', '.', 'and', ',', 'to', 'it', '.', 'a', '.', 'i', 'the', 'you', 'a', 'is', 'of', '.', 'in', '.', 'i', 'to', 'it', '.', 'it', '.', 'you', \"'\", 'the', \"'\", 'in', 'the', 'and', 'the', 'the', 'to', '.', 'the', 'that', 'is', 'is', ',', 'a', '.', 'the', ',', '.', 'of', ',', 'is', '.', 'you', 'to', 'a', 'i', \"'\", 'you', \"'\", 'that', '.', ',', '.', 'and', 'of', 'to', 'the', 'the', 'of', '.', 'the', 'and', 'in', ',', 'and', '.', '.', 'the', 'is', '.', 'in', 'a', 'a', 'that', 'in', 'to', 'a', 'to', 'of', '.', 'and', 'in', 'a', 'the', ',', 'a', 'the', 'in', 'of', 'a', '.', 'is', 'to', 'is', 'it', 'to', 'to', 'the', 'in', 'the', 'of', 'of', '.', 'the', 'and', 'in', 'the', '.', 'the', '.', 'a', 'of', 'that', 'the', 'and', 'of', '.', 'the', 'in', 'the', '.', 'of', 'is', '.', 'the', 'in', 'the', ',', ',', ',', ',', 'and', '.', 'of', 'in', 'the', 'of', 'in', 'the', 'the', 'of', 'the', 'of', 'the', 'and', 'of', 'the', '.', 'a', '.', ',', '.', '.', 'of', 'the', 'in', 'the', '.', ',', 'in', 'the', '.', 'the', 'of', 'the', 'in', 'the', 'to', 'the', 'that', 'to', 'the', 'and', '.', 'and', '.', '.', '.', '.', 'that', 'in', 'and', 'the', ',', 'and', 'the', 'and', 'in', '.', 'that', 'is', 'a', 'and', '.', '.', 'of', '.', '.', '.', '.', '.', 'to', '.', ',', ',', 'and', '.', 'and', '.', '.', '.', '.', 'a', '.', 'and', 'it', 'is', '.', 'the', 'of', 'to', 'and', '.', 'and', 'the', 'that', ',', 'a', 'and', 'to', 'in', '.', 'is', 'the', 'and', ',', 'it', 'to', 'that', 'that', '.', 'you', 'the', '.', 'that', 'is', 'you', 'the', '.', 'that', 'it', \"'\", 'a', 'that', \"'\", 'you', 'you', ',', 'i', '.', 'i', 'i', 'to', 'it', 'in', 'and', 'it', 'it', \"'\", 'the', '.', 'that', \"'\", 'a', 'of', 'a', 'that', 'i', \"'\", '.', 'i', \"'\", 'of', 'and', 'i', ',', 'i', '.', 'it', \"'\", 'and', 'i', \"'\", '.', \"'\", 'you', ',', 'you', \"'\", ',', 'you', \"'\", '.', \"'\", '.', ',', ',', 'is', 'the', 'in', 'a', '.', 'is', ',', 'is', 'the', 'of', 'a', 'in', 'a', ',', ',', ',', 'that', 'the', 'of', ',', 'to', 'a', 'in', 'of', ',', 'the', '.', 'and', 'i', \"'\", 'a', ',', 'the', 'a', 'of', 'the', ',', 'to', ',', 'i', 'to', 'to', ',', 'to', ',', 'that', 'in', 'the', 'of', 'of', ',', 'and', 'to', '.', 'and', 'i', 'in', 'the', ',', 'that', ',', 'that', 'in', 'is', '.', 'in', 'a', 'is', 'to', 'and', 'i', 'a', ',', 'that', 'of', 'in', 'the', 'of', 'in', 'in', '.', '.', 'i', \"'\", 'the', 'in', 'the', 'of', ',', 'it', 'to', 'it', ',', 'that', 'the', 'it', 'is', 'the', 'it', 'the', ',', 'the', 'the', 'of', 'to', 'the', ',', 'of', ',', 'the', 'is', ',', 'the', 'is', '.', \"'\", 'the', \"'\", ',', \"'\", ',', \"'\", '.', '.', '.', 'you', 'and', 'the', '.', 'it', ',', 'a', 'and', 'and', 'it', 'in', 'the', ',', 'it', 'the', ',', 'the', 'i', ',', 'of', 'the', 'you', 'you', ',', 'i', '.', 'i', 'i', 'to', 'it', 'in', 'and', 'it', 'the', '.', '.', 'is', 'the', '.', 'i', 'in', ',', 'in', ',', \"'\", 'in', 'the', '.', 'it', 'a', '.', 'the', 'in', '.', '.', '.', '.', 'and', '.', '.', '.', '.', '.', 'i', '.', \"'\", ',', 'a', 'of', 'you', 'i', 'it', 'a', 'and', 'i', '.', 'you', 'to', ',', '.', 'of', ',', 'of', 'and', 'it', \"'\", '.', ',', 'you', 'a', 'to', 'that', ',', ',', ',', 'you', 'it', 'that', '.', '.', '.', 'the', 'the', 'that', 'the', 'of', 'and', 'and', '.', 'that', 'is', 'that', 'and', 'that', '.', 'and', 'to', 'that', \"'\", '.', '.', 'it', \"'\", ',', 'it', \"'\", ',', 'it', \"'\", 'that', ',', 'a', '.', '.', '.', '.', ',', 'the', 'of', 'and', 'to', 'the', 'of', 'in', 'in', '.', 'it', \"'\", 'the', 'the', 'the', 'and', 'and', 'the', '.', 'the', ',', ',', ',', 'it', \"'\", '.', '.', '.', \"'\", ',', \"'\", '.', \"'\", 'to', 'that', '.', 'to', 'and', 'that', ',', 'of', ',', 'of', ',', 'and', 'the', '.', 'the', 'of', ',', 'to', 'in', 'a', 'is', ',', 'is', '.', '.', '.', '.', 'the', '.', '.', '.', 'it', ',', 'is', 'a', 'of', '.', 'it', \"'\", '.', \"'\", '.', 'the', 'the', '.', 'a', ',', 'of', 'a', ',', 'in', 'a', 'and', 'it', 'the', 'and', \"'\", 'to', ',', 'it', \"'\", '.', 'in', ',', 'it', ',', 'the', ',', 'to', 'it', 'and', 'a', 'a', 'it', '.', 'that', \"'\", 'it', '.', \"'\", 'the', \"'\", ',', \"'\", ',', \"'\", '.', '.', '.', '.', 'is', 'and', ',', '.', 'it', \"'\", 'that', '.', 'in', 'to', 'and', 'in', \"'\", 'a', 'a', '.', 'in', 'the', '.', 'a', 'of', 'and', 'a', ',', 'the', 'to', \"'\", 'the', 'the', 'of', 'the', 'to', ',', 'in', 'a', ',', 'in', '.', 'to', '.', 'of', 'and', 'the', 'it', '.', ',', '.', ',', 'to', 'the', '.', ',', 'and', ',', ',', ',', ',', ',', ',', ',', ',', ',', ',', ',', ',', 'you', 'the', 'of', ',', 'you', 'a', '.', 'the', ',', '.', ',', ',', ',', 'and', '.', 'you', 'to', 'and', 'that', 'to', 'the', ',', 'in', 'that', 'to', 'the', 'it', ',', 'the', 'the', '.', 'it', '.', 'in', 'is', 'and', '.', 'is', ',', ',', 'the', 'is', 'the', 'in', 'and', 'in', 'the', 'of', '.', 'to', ',', ',', 'in', \"'\", \"'\", '.', 'and', 'in', \"'\", 'it', ',', 'a', '.', 'to', 'and', ',', 'you', \"'\", 'to', 'and', 'of', 'the', 'is', 'is', 'that', 'and', 'you', 'the', 'it', 'a', '.', ',', 'you', 'you', ',', '.', '.', '.', '.', 'you', 'to', 'a', 'it', '.', 'that', \"'\", '.', 'in', '.', 'to', 'the', 'and', 'it', 'and', '.', '.', '.', '.', 'you', 'to', 'a', 'it', '.', 'that', \"'\", '.', '.', 'is', 'to', 'a', '.', 'it', ',', 'the', '.', '.', 'you', 'that', '.', 'that', \"'\", 'it', ',', '.', 'you', '.', 'the', 'to', 'the', 'and', '.', 'to', '.', 'you', 'the', 'you', '.', 'i', 'the', 'the', 'is', '.', 'you', 'that', '.', 'you', 'the', '.', '.', '.', '.', 'you', 'of', '.', 'a', '.', 'is', '.', '.', 'you', 'and', 'you', 'the', 'the', 'of', 'the', '.', '.', '.', '.', 'is', '.', 'to', 'the', '.', ',', '.', 'in', '.', 'and', '.', '.', ',', 'the', 'to', 'and', '.', 'a', 'the', '.', 'in', 'the', '.', '.', 'it', \"'\", '.', 'you', \"'\", 'that', '.', 'that', \"'\", '.', 'you', \"'\", 'that', 'the', 'it', ',', 'you', 'to', 'of', 'and', 'you', '.', '.', '.', '.', 'to', 'a', ',', 'and', 'you', ',', 'to', 'that', 'the', 'the', 'of', 'a', 'in', '.', \"'\", 'to', 'the', 'in', 'a', 'and', \"'\", '.', ',', ',', 'you', '.', 'i', \"'\", 'you', 'a', '.', \"'\", ',', '.', 'i', \"'\", 'you', \"'\", '.', 'it', \"'\", 'to', 'the', 'that', \"'\", '.', 'is', '.', 'in', 'a', 'of', ',', 'the', 'the', '.', 'and', 'in', 'you', \"'\", ',', 'the', 'of', 'in', ',', 'is', ',', 'that', \"'\", '.', '.', 'you', 'the', 'the', 'in', 'the', 'in', 'and', '.', '.', 'the', 'and', 'and', '.', ',', 'of', ',', ',', '.', 'of', ',', '.', 'of', ',', '.', ',', 'and', 'of', ',', 'and', '.', ',', 'and', 'of', ',', 'the', 'of', ',', 'of', 'a', 'of', '.', '.', ',', '.', 'the', 'of', 'and', '.', 'you', 'you', '.', '.', '.', 'the', 'that', 'the', '.', 'to', 'and', 'to', 'the', ',', 'that', 'i', 'you', \"'\", 'that', 'is', 'of', 'the', '.', 'it', \"'\", 'of', 'the', '.', 'and', 'the', 'is', 'you', 'of', '.', 'i', '.', '.', \"'\", '.', ',', '.', 'of', 'and', 'the', '.', '.', '.', '.', 'of', 'the', '.', '.', '.', 'the', '.', '.', '.', 'i', 'a', '.', '.', 'the', '.', 'the', '.', 'the', '.', 'and', 'to', 'it', '.', 'it', 'to', 'that', \"'\", 'and', '.', ',', '.', ',', 'that', ',', 'in', ',', '.', 'and', 'is', 'in', 'the', 'and', 'is', 'the', 'it', 'and', ',', '.', 'is', '.', 'in', 'a', 'of', ',', 'the', 'the', '.', 'and', 'in', 'you', \"'\", ',', 'the', 'of', 'in', ',', 'is', ',', 'that', \"'\", '.', '.', 'that', '.', ',', 'it', 'and', ',', ',', '.', 'is', '.', 'i', 'that', 'i', '.', '.', 'the', 'that', ',', 'a', '.', 'it', ',', 'the', ',', 'that', 'is', ',', 'is', 'the', 'to', 'a', '.', 'the', ',', 'you', '.', '.', 'is', 'that', 'a', 'i', \"'\", 'you', 'that', \"'\", '.', 'is', 'a', 'of', 'to', 'a', ',', 'it', 'a', 'of', ',', 'and', 'it', 'a', 'is', '.', 'it', 'is', 'of', 'the', 'of', ',', 'is', 'a', 'in', '.', 'the', 'is', 'a', 'to', 'the', ',', 'and', '.', '.', '.', '.', '.', '.', '.', '.', '.', '.', '.', '.', '.', '.', '.', '.', \"'\", 'a', '.', '.', '.', '.', '.', 'the', 'the', 'of', 'and', \"'\", 'is', '.', 'it', \"'\", ',', 'the', '.', 'i', 'you', \"'\", 'and', '.', \"'\", '.', '.', '.', '.', 'is', '.', 'it', \"'\", 'the', ',', 'the', 'of', 'that', '.', 'i', 'i', \"'\", 'to', 'is', 'a', ',', 'the', 'that', 'is', 'of', 'of', 'it', 'is', 'to', 'to', \"'\", 'you', 'to', 'a', ',', 'and', ',', 'that', 'of', 'you', 'it', 'is', '.', 'i', 'in', 'that', 'you', 'to', '.', 'is', 'a', ',', 'a', 'in', 'a', 'to', ',', 'in', 'the', 'to', '.', 'the', 'in', 'i', 'the', 'the', 'to', 'you', ',', 'you', 'it', '.', 'i', 'of', 'and', 'i', '.', '.', 'you', 'is', 'a', '.', 'and', '.', 'of', ',', ',', 'and', 'it', '.', ',', 'i', \"'\", 'to', '.', 'you', 'the', 'is', ',', 'it', 'that', 'the', \"'\", ',', 'that', 'is', '.', 'a', '.', 'the', \"'\", ',', 'the', 'to', ',', 'that', 'is', 'the', '.', 'is', 'a', 'of', 'a', 'you', 'i', 'a', 'in', 'it', 'is', ',', 'is', 'a', '.', 'to', 'you', '.', 'the', '.', ',', 'i', 'you', 'the', 'that', 'you', 'a', 'in', '.', 'i', 'of', '.', 'it', \"'\", 'of', 'you', ',', '.', 'of', 'the', 'and', 'that', 'it', 'a', 'of', 'and', 'is', '.', 'to', 'in', ',', 'i', 'is', 'you', \"'\", 'that', \"'\", 'you', '.', 'you', \"'\", 'you', 'that', 'is', 'the', ',', 'of', 'the', 'to', 'a', '.', 'the', 'in', 'the', 'is', 'a', '.', 'that', 'of', 'you', \"'\", ',', 'i', \"'\", 'you', 'to', 'is', 'to', 'i', \"'\", 'to', ',', 'and', 'i', 'it', ',', ',', 'i', 'in', 'in', 'and', '.', 'of', 'the', 'and', 'that', 'it', 'a', 'of', 'and', 'is', '.', 'to', 'in', ',', 'i', 'is', 'to', 'you', ',', 'i', \"'\", '.', 'i', 'you', 'in', 'you', 'you', 'to', '.', 'and', 'you', 'to', 'you', 'and', 'you', ',', 'and', 'you', '.', 'that', \"'\", \"'\", 'you', ',', ',', ',', 'in', 'the', 'of', 'you', 'you', 'that', 'a', 'of', 'of', 'to', '.', ',', 'and', 'you', 'a', 'of', 'to', '.', 'and', 'i', 'to', 'you', '.', 'of', '.', 'you', 'in', 'and', '.', 'you', 'that', 'that', 'is', ',', 'is', 'to', 'that', \"'\", ',', 'you', 'it', ',', 'and', 'of', 'the', '.', 'i', 'you', \"'\", 'to', 'it', 'to', 'a', 'of', 'that', ',', ',', 'the', 'to', '.', 'i', 'to', 'you', ',', ',', 'i', 'that', \"'\", \"'\", 'you', ',', ',', ',', 'in', 'the', 'of', 'you', 'that', 'you', 'to', 'that', 'the', 'of', \"'\", 'you', 'it', ',', 'the', 'in', 'the', 'you', ',', 'the', 'and', 'you', 'is', ',', 'that', ',', 'you', \"'\", 'is', '.', 'you', 'in', ',', 'and', 'to', ',', '.', ',', ',', 'and', 'you', 'to', 'to', '.', \"'\", 'that', 'you', 'to', 'that', 'the', 'of', \"'\", 'you', 'it', ',', 'the', 'in', 'the', 'you', ',', 'the', 'it', \"'\", 'you', 'i', 'i', '.', 'you', 'you', 'you', \"'\", 'to', '.', 'i', 'it', 'the', '.', 'you', \"'\", 'it', \"'\", 'you', \"'\", '.', 'you', 'is', ',', 'you', 'i', 'in', 'the', '.', 'the', 'i', '.', 'i', 'and', \"'\", 'it', ',', 'that', \"'\", 'you', 'that', \"'\", 'to', ',', '.', 'you', 'to', 'you', 'and', 'to', 'you', 'you', '.', '.', '.', \"'\", '.', 'you', \"'\", 'you', \"'\", ',', 'that', \"'\", 'a', ',', 'you', \"'\", 'that', \"'\", 'the', 'that', 'is', 'a', 'of', '.', \"'\", 'you', 'to', 'the', 'of', '.', 'it', \"'\", 'and', 'you', 'it', '.', 'it', \"'\", 'you', 'i', ',', 'you', 'you', 'is', ',', 'you', 'it', \"'\", 'the', ',', 'of', 'it', \"'\", '.', 'i', 'and', \"'\", 'it', ',', 'that', \"'\", 'you', 'that', \"'\", \"'\", 'to', '.', 'you', ',', 'it', \"'\", 'the', ',', 'you', 'the', '.', 'it', \"'\", 'the', ',', 'of', 'it', \"'\", '.', 'you', '.', 'you', 'you', 'i', ',', 'and', 'that', 'you', \"'\", 'in', ',', \"'\", 'i', \"'\", 'i', 'you', '.', \"'\", '.', 'to', 'a', 'of', '.', 'i', \"'\", \"'\", ',', \"'\", '.', 'to', 'a', 'of', '.', \"'\", ',', \"'\", '.', 'i', \"'\", 'you', 'you', 'of', 'i', \"'\", 'you', 'it', \"'\", 'to', 'you', 'that', 'and', \"'\", 'to', 'it', 'of', ',', 'the', 'it', \"'\", 'the', ',', 'i', 'it', '.', 'i', \"'\", '.', 'it', \"'\", 'the', ',', 'i', \"'\", '.', \"'\", 'that', 'of', \"'\", 'in', 'the', '.', 'you', 'it', \"'\", 'to', 'i', 'in', 'you', \"'\", 'that', 'of', \"'\", 'in', 'the', '.', \"'\", 'in', 'the', '.', 'you', 'and', 'to', 'of', 'and', 'the', '.', 'to', 'you', 'it', 'that', '.', 'you', 'to', '.', '.', '.', '.', 'you', 'to', '.', '.', '.', 'to', 'it', '.', 'i', \"'\", 'you', \"'\", 'and', 'you', \"'\", 'and', '.', 'i', 'the', ',', 'i', \"'\", 'in', 'the', '.', 'you', 'i', \"'\", 'that', \"'\", ',', 'i', 'in', ',', 'that', \"'\", '.', 'i', \"'\", 'i', \"'\", 'you', '.', ',', 'to', 'that', \"'\", 'and', 'i', \"'\", '.', 'the', 'you', \"'\", 'and', '.', 'i', \"'\", 'you', \"'\", 'i', 'the', ',', 'you', \"'\", 'to', 'that', \"'\", 'that', '.', 'i', 'in', 'it', 'is', 'to', '.', ',', 'and', 'you', 'to', 'that', ',', 'is', 'i', \"'\", 'you', 'to', 'that', 'i', 'in', 'i', \"'\", '.', 'that', \"'\", 'you', \"'\", 'and', '.', 'you', \"'\", 'that', 'is', 'the', ',', 'i', 'to', 'a', 'that', '.', \"'\", 'that', 'it', ',', 'that', \"'\", 'i', 'and', 'i', ',', 'i', ',', 'you', 'that', 'the', 'the', 'you', \"'\", 'a', '.', \"'\", 'to', 'that', 'the', '.', 'i', \"'\", 'that', '.', 'that', 'you', 'it', 'is', 'is', 'it', 'in', 'to', '.', \"'\", 'a', 'you', 'the', '.', '.', 'i', \"'\", 'you', \"'\", 'to', ',', 'and', 'the', '.', 'you', 'you', 'to', 'the', 'that', \"'\", ',', 'that', '.', 'and', 'in', '.', 'you', \"'\", 'to', ',', 'that', '.', ',', 'i', 'you', 'of', '.', 'that', 'is', ',', ',', 'of', '.', 'and', 'you', \"'\", 'a', 'of', 'that', '.', 'to', 'the', 'you', 'a', '.', 'a', 'i', \"'\", 'you', 'to', 'that', 'i', 'in', 'you', 'to', 'that', \"'\", 'is', 'you', 'to', 'and', 'it', \"'\", ',', '.', 'i', \"'\", 'that', 'it', ',', 'that', \"'\", 'i', 'and', 'i', ',', 'i', ',', 'you', 'that', 'the', 'you', 'a', 'i', \"'\", '.', 'i', \"'\", 'a', 'you', \"'\", 'to', 'and', 'you', \"'\", 'i', 'you', 'you', 'to', 'the', 'i', ',', 'you', 'i', 'that', ',', ',', 'you', 'in', 'the', 'to', '.', 'i', 'you', 'that', 'you', 'to', ',', 'in', 'that', '.', 'i', \"'\", 'to', 'is', 'a', 'the', 'is', ',', 'i', '.', 'i', \"'\", 'you', '.', 'you', 'to', 'you', 'to', 'that', \"'\", 'is', 'you', 'to', 'and', 'it', \"'\", ',', '.', 'and', \"'\", 'to', '.', '.', '.', 'that', 'and', 'you', \"'\", '.', 'the', 'i', 'it', 'is', 'is', 'it', 'in', 'in', ',', 'in', 'and', 'the', 'is', 'in', 'the', '.', 'it', 'you', 'to', 'it', 'and', 'you', 'it', \"'\", 'i', \"'\", '.', 'you', 'a', 'i', \"'\", '.', 'you', \"'\", 'to', 'and', 'you', \"'\", ',', 'you', 'you', \"'\", 'the', 'the', 'to', 'to', 'and', 'and', 'you', \"'\", 'a', '.', 'i', 'i', ',', 'you', 'you', \"'\", 'to', 'i', \"'\", 'to', 'is', 'a', 'the', 'is', ',', 'the', 'i', 'it', 'is', 'is', 'it', 'in', 'in', ',', 'in', 'i', '.', 'you', \"'\", 'to', \"'\", 'the', 'of', 'you', 'of', 'a', 'and', '.', \"'\", 'and', 'you', 'to', 'is', '.', '.', 'i', 'it', ',', 'and', 'the', 'is', 'that', 'is', ',', 'i', 'that', \"'\", 'you', '.', 'i', 'it', 'to', 'in', 'the', '.', 'i', \"'\", 'it', 'to', 'to', '.', \"'\", 'it', \"'\", 'and', 'i', \"'\", 'the', 'in', 'the', '.', \"'\", 'in', ',', 'is', 'that', ',', \"'\", ',', 'and', \"'\", 'a', 'you', ',', ',', ',', 'in', 'the', 'of', 'to', 'a', 'the', 'of', '.', 'is', 'that', 'the', 'to', 'it', ',', 'is', 'i', \"'\", 'to', 'that', 'the', 'that', \"'\", 'the', ',', 'that', 'i', 'in', 'that', 'to', '.', 'is', ',', ',', 'it', ',', 'to', 'that', 'the', 'that', \"'\", 'the', ',', 'the', '.', 'it', \"'\", ',', 'and', 'a', 'in', '.', 'it', \"'\", ',', ',', \"'\", 'in', 'the', '.', 'the', ',', 'the', 'is', 'a', '.', 'it', \"'\", 'that', 'to', 'the', 'in', '.', 'the', 'of', '.', 'of', ',', 'of', 'and', '.', 'you', \"'\", 'it', 'the', 'that', 'to', 'the', '.', 'it', \"'\", 'a', '.', \"'\", 'to', 'of', 'the', 'that', 'in', 'the', '.', 'it', 'a', 'of', 'the', 'of', 'you', 'that', \"'\", 'it', 'that', 'to', 'and', '.', 'is', 'and', 'i', ',', 'i', 'you', 'that', ',', 'that', 'you', 'it', '.', '.', 'the', 'of', ',', 'of', ',', 'and', 'that', 'the', 'of', ',', '.', 'it', \"'\", ',', 'a', 'of', 'to', 'a', '.', '.', '.', '.', '.', 'the', 'a', 'that', \"'\", \"'\", 'and', \"'\", 'is', '.', 'it', 'the', 'is', 'in', ',', 'and', 'is', 'a', 'it', ',', 'and', 'the', 'and', 'that', 'in', 'the', 'of', 'the', '.', '.', 'is', 'in', '.', 'a', 'the', 'a', 'of', '.', 'a', 'and', ',', 'the', '.', 'the', ',', 'the', 'of', 'and', '.', 'of', 'the', ',', 'and', 'the', 'to', 'that', 'the', \"'\", ',', 'the', '.', 'i', 'the', ',', '.', 'i', \"'\", '.', '.', 'the', ',', ',', 'and', '.', 'i', \"'\", 'it', 'i', \"'\", 'i', ',', 'i', 'to', 'i', \"'\", 'to', 'of', 'is', 'a', 'it', 'is', 'to', 'is', '.', '.', '.', '.', 'is', 'and', 'it', 'is', 'to', \"'\", 'to', '.', '.', '.', 'i', 'i', \"'\", 'of', 'a', 'in', 'of', 'i', \"'\", 'i', \"'\", 'to', \"'\", \"'\", 'in', '.', 'i', 'the', 'of', ',', \"'\", ',', 'you', \"'\", '.', 'to', 'it', 'that', 'of', 'you', 'to', 'it', '.', 'of', 'is', 'it', 'to', ',', \"'\", '.', '.', 'you', 'a', 'that', '.', 'it', \"'\", 'to', 'that', 'you', \"'\", 'a', 'a', ',', 'you', ',', 'that', 'you', 'and', '.', 'that', 'is', 'is', ',', 'and', 'the', 'to', 'a', ',', ',', 'you', 'to', 'you', \"'\", 'the', 'of', '.', 'to', 'that', 'i', \"'\", ',', 'i', \"'\", '.', \"'\", 'that', 'to', 'and', '.', 'you', 'that', \"'\", ',', 'it', \"'\", 'you', \"'\", 'you', \"'\", 'it', 'to', '.', 'i', \"'\", 'i', \"'\", 'you', 'a', 'in', '.', 'is', '.', 'i', 'that', 'you', 'you', 'the', 'in', ',', 'i', 'to', 'to', 'you', '.', 'you', \"'\", 'it', ',', 'i', \"'\", 'you', 'that', 'of', '.', 'you', \"'\", '.', 'the', 'to', ',', 'that', 'the', '.', 'that', 'the', '.', 'that', '.', 'that', 'and', '.', 'and', 'in', 'and', 'in', 'the', 'the', \"'\", '.', \"'\", 'you', 'a', ',', 'i', 'to', 'and', 'you', '.', '.', 'i', 'you', 'in', 'a', 'a', '.', 'that', \"'\", \"'\", 'a', 'a', 'in', 'and', 'you', 'to', 'a', 'the', 'in', 'i', 'that', ',', 'of', ',', 'and', 'of', ',', ',', 'that', 'to', 'a', 'of', ',', 'and', 'to', 'i', 'that', ',', 'in', 'is', 'a', ',', 'that', 'is', 'is', ',', 'and', 'the', 'to', 'a', 'that', 'of', 'to', 'of', 'of', ',', ',', '.', '.', '.', 'the', 'and', 'in', 'in', 'to', 'to', 'in', ',', ',', 'the', 'of', 'a', 'of', 'to', 'and', '.', 'you', 'i', \"'\", 'in', 'i', 'you', \"'\", 'in', 'you', \"'\", 'the', 'that', 'i', '.', 'i', 'you', 'i', 'and', 'in', '.', 'i', \"'\", 'you', 'a', ',', 'i', 'to', 'and', 'you', '.', '.', 'i', 'you', 'in', 'a', 'a', '.', 'that', \"'\", \"'\", 'a', 'a', 'in', 'and', '.', 'you', \"'\", ',', 'of', ',', 'and', '.', ',', '.', \"'\", '.', 'you', 'and', 'in', ',', \"'\", 'you', 'in', 'to', ',', 'the', 'a', 'of', ',', ',', 'and', ',', 'the', 'and', 'and', 'a', 'the', '.', 'in', ',', 'to', \"'\", ',', \"'\", '.', 'that', 'the', 'of', ',', 'is', ',', 'is', 'and', 'of', 'in', 'the', 'of', 'you', ',', ',', ',', 'i', '.', 'i', 'you', ',', 'in', ',', \"'\", 'is', 'to', ',', 'you', 'you', \"'\", 'the', 'the', 'of', 'i', 'of', 'you', 'it', 'in', 'a', ',', 'that', \"'\", 'the', 'i', 'to', '.', 'of', \"'\", 'a', '.', 'you', 'to', ',', '.', \"'\", 'in', 'and', \"'\", '.', 'in', 'the', 'you', 'to', 'and', 'to', 'of', 'the', 'to', 'a', '.', 'it', \"'\", 'a', '.', 'it', \"'\", 'the', 'of', '.', 'i', \"'\", 'you', \"'\", 'a', 'in', '.', '.', \"'\", \"'\", 'a', 'and', '.', \"'\", 'a', 'the', 'that', 'the', 'of', '.', 'you', ',', ',', 'that', \"'\", ',', 'i', \"'\", '.', 'that', \"'\", 'the', 'it', 'is', '.', 'it', 'is', 'to', ',', 'you', 'you', \"'\", 'the', '.', 'i', 'to', ',', ',', 'of', '.', 'it', ',', 'and', 'i', \"'\", ',', 'and', ',', 'and', 'is', ',', ',', \"'\", ',', 'is', ',', 'the', 'that', 'in', ',', 'and', 'it', 'is', 'a', 'and', 'and', ',', \"'\", 'in', '.', '.', '.', '.', ',', ',', 'and', 'and', '.', ',', ',', 'and', '.', 'in', 'and', '.', 'the', '.', '.', ',', 'and', 'is', '.', 'the', '.', '.', '.', 'is', 'a', '.', 'you', '.', 'a', '.', \"'\", 'to', 'in', ',', 'that', 'and', ',', 'it', \"'\", 'to', 'a', 'and', 'the', 'a', '.', ',', 'i', \"'\", 'that', 'a', '.', \"'\", 'the', '.', 'in', ',', 'it', \"'\", 'that', 'you', '.', ',', ',', 'is', 'to', '.', ',', ',', 'a', ',', 'is', '.', ',', '.', 'that', \"'\", 'a', '.', 'a', '.', 'in', 'the', 'you', ',', ',', ',', 'is', '.', \"'\", 'you', ',', 'the', '.', 'that', \"'\", 'a', '.', 'the', ',', ',', 'is', '.', 'in', 'it', \"'\", ',', ',', 'in', '.', 'in', 'it', \"'\", ',', 'is', '.', ',', \"'\", ',', 'is', ',', 'a', ',', '.', 'that', \"'\", 'that', 'a', '.', 'in', 'that', ',', 'the', 'that', 'to', 'in', \"'\", 'in', '.', 'it', 'in', '.', '.', '.', '.', '.', '.', 'that', ',', 'the', \"'\", 'to', 'in', 'a', '.', 'in', 'it', \"'\", \"'\", ',', ',', ',', '.', 'it', \"'\", 'and', 'a', '.', 'the', 'the', 'the', 'it', 'a', 'the', 'of', '.', 'it', \"'\", 'that', '.', 'that', \"'\", ',', 'i', \"'\", '.', 'that', \"'\", 'the', 'it', 'is', '.', 'it', 'is', '.', '.', '.', 'and', 'you', 'the', 'i', \"'\", ',', '.', 'you', ',', 'that', 'in', 'and', '.', \"'\", '.', 'i', 'i', '.', 'it', \"'\", 'that', \"'\", 'is', '.', 'and', 'to', 'to', '.', 'you', \"'\", 'a', 'of', 'to', 'and', 'i', '.', 'i', 'a', 'of', 'and', '.', 'i', \"'\", ',', 'it', 'the', 'the', 'of', 'the', 'is', ',', '.', 'in', 'that', ',', 'it', 'to', 'that', 'the', \"'\", '.', 'is', '.', \"'\", ',', 'i', '.', ',', 'i', 'the', '.', '.', '.', 'i', 'the', 'the', 'and', '.', 'i', 'and', 'and', ',', 'that', \"'\", 'the', 'in', 'the', '.', 'i', 'that', \"'\", 'a', ',', 'of', '.', ',', 'i', \"'\", 'a', 'is', '.', 'it', 'it', 'a', '.', 'it', 'a', 'of', 'you', '.', 'the', \"'\", 'to', 'that', 'of', ',', ',', '.', 'the', 'the', 'and', 'in', 'the', 'of', 'the', '.', 'to', '.', 'i', \"'\", ',', ',', 'i', \"'\", ',', 'the', '.', 'that', 'the', 'of', 'the', 'of', 'you', ',', 'you', 'is', 'a', 'the', 'the', '.', '.', '.', '.', '.', '.', 'of', 'of', 'and', '.', 'the', 'in', 'to', 'and', 'the', 'of', '.', 'the', 'of', 'the', 'that', 'a', 'of', ',', 'to', ',', ',', ',', 'to', ',', ',', '.', 'and', 'of', 'the', 'and', 'in', 'the', 'of', 'a', '.', ',', '.', ',', 'of', '.', 'in', ',', 'the', 'that', 'of', 'is', 'a', 'and', 'in', 'of', 'a', '.', 'that', 'the', 'in', 'to', 'a', 'of', '.', 'the', 'that', 'the', 'is', 'to', 'the', 'of', 'a', 'and', '.', ',', '.', 'and', '.', 'a', 'the', 'and', 'of', ',', '.', 'the', '.', ',', '.', 'to', '.', '.', 'the', 'that', 'of', 'in', 'the', '.', ',', '.', 'a', 'to', 'that', 'to', 'a', 'the', '.', 'of', ',', 'the', 'of', '.', ',', '.', '.', ',', '.', '.', 'the', 'that', 'of', '.', ',', '.', 'you', 'to', 'that', 'and', 'i', 'in', 'is', 'to', 'i', 'you', 'in', 'that', 'in', 'in', 'the', 'that', ',', 'it', 'that', ',', 'in', ',', 'that', 'of', 'the', 'a', ',', \"'\", 'that', 'the', 'the', ',', 'a', 'the', 'it', '.', 'is', 'you', 'of', 'it', '.', '.', 'and', \"'\", 'i', '.', '.', ',', 'that', 'the', 'and', 'to', 'it', 'of', 'a', ',', 'to', 'it', 'i', \"'\", 'is', 'a', 'in', 'the', 'of', 'a', ',', 'you', \"'\", 'that', 'to', 'is', 'to', ',', \"'\", 'a', 'the', 'of', 'that', '.', 'it', 'is', 'to', 'it', 'is', '.', 'is', 'in', ',', \"'\", 'a', '.', 'the', 'the', 'and', 'it', 'to', '.', 'you', 'the', 'to', 'of', 'the', 'in', 'the', '.', 'is', 'the', ',', '.', '.', '.', '.', 'to', '.', 'the', 'of', 'in', 'and', 'the', '.', 'that', ',', 'the', 'is', 'of', ',', 'a', 'and', '.', 'it', \"'\", 'and', 'in', '.', 'and', 'a', 'to', ',', 'i', \"'\", 'and', 'and', 'of', '.', '.', 'it', \"'\", 'a', 'a', 'i', \"'\", 'and', 'and', 'of', 'the', ',', 'and', '.', 'you', 'that', 'the', 'is', ',', 'and', '.', 'the', '.', 'the', 'of', 'in', 'and', 'the', '.', 'the', 'the', 'in', 'and', 'the', 'in', \"'\", 'and', 'the', 'in', ',', 'is', ',', 'a', \"'\", 'the', 'that', ',', 'the', 'that', '.', '.', 'is', '.', 'you', '.', 'i', 'it', '.', 'i', '.', '.', ',', 'that', \"'\", '.', 'i', 'a', \"'\", '.', '.', '.', 'the', 'is', 'a', 'that', 'in', 'a', 'to', 'to', '.', 'of', ',', 'the', 'of', 'the', 'to', 'in', 'the', '.', 'a', 'in', '.', 'a', 'of', 'the', '.', 'the', 'in', '.', '.', 'a', 'the', '.', ',', 'the', 'a', '.', 'the', '.', 'it', '.', 'the', 'of', 'i', '.', 'you', '.', 'a', 'a', '.', 'i', \"'\", 'and', 'you', 'to', '.', 'that', \"'\", 'to', '.', 'you', '.', 'you', 'to', 'you', 'you', '.', 'you', 'to', 'and', '.', 'and', 'the', '.', 'you', \"'\", 'i', 'to', '.', ',', ',', 'the', 'the', 'of', 'i', '.', 'you', 'you', \"'\", 'you', 'you', '.', 'the', 'and', 'you', 'and', 'and', 'you', \"'\", 'to', '.', '.', 'i', 'you', '.', 'you', \"'\", 'to', 'of', 'the', '.', 'you', 'a', 'to', 'you', 'it', '.', 'you', ',', 'and', \"'\", 'a', 'of', ',', ',', ',', 'and', 'the', \"'\", 'of', 'to', 'that', 'the', 'is', 'you', 'that', 'the', ',', 'that', 'you', 'is', 'it', '.', 'that', 'to', 'you', 'to', 'in', 'the', '.', '.', '.', 'to', 'that', 'the', 'is', '.', 'is', 'the', '.', 'of', 'you', \"'\", ',', '.', ',', 'it', 'a', ',', 'you', 'a', 'and', 'the', 'and', ',', 'to', ',', 'to', '.', 'it', \"'\", ',', 'it', \"'\", '.', 'you', 'in', 'i', \"'\", 'you', 'that', \"'\", 'in', '.', '.', 'and', 'and', \"'\", ',', 'it', 'in', '.', '.', 'that', 'i', \"'\", 'you', 'to', 'the', 'you', 'to', 'in', 'a', 'that', 'you', '.', ',', 'i', ',', ',', 'i', 'the', '.', 'you', \"'\", 'and', 'a', '.', 'the', 'of', 'and', 'to', \"'\", 'a', 'of', 'the', '.', '.', 'of', 'the', 'you', '.', '.', 'the', '.', '.', '.', '.', '.', '.', 'to', '.', '.', '.', '.', \"'\", ',', '.', '.', '.', '.', '.', '.', 'i', \"'\", 'a', ',', \"'\", '.', ',', 'and', 'to', 'in', '.', \"'\", 'a', 'that', 'you', 'you', '.', 'you', 'to', 'a', 'you', 'that', 'i', 'you', '.', 'you', 'a', 'i', 'to', '.', '.', '.', '.', 'i', \"'\", 'of', ',', ',', 'and', 'i', 'to', 'to', 'you', 'in', '.', 'and', 'you', ',', \"'\", 'i', ',', ',', 'is', '.', 'i', 'that', 'i', 'to', ',', 'that', 'i', \"'\", '.', 'you', 'you', 'you', ',', ',', 'it', 'is', 'to', 'a', '.', '.', '.', '.', '.', '.', 'a', 'a', '.', ',', ',', 'is', 'in', 'the', \"'\", ',', 'a', ',', 'a', '.', 'i', ',', 'to', 'a', ',', 'i', 'of', '.', 'i', ',', ',', ',', 'i', \"'\", 'to', ',', 'i', 'that', \"'\", '.', 'a', '.', 'you', \"'\", 'it', ',', ',', 'i', 'to', 'you', '.', \"'\", 'you', 'you', 'that', 'you', 'it', \"'\", 'that', 'i', 'in', '.', \"'\", 'a', 'and', 'the', '.', 'i', 'to', 'i', 'the', '.', 'a', '.', 'to', 'a', 'and', 'the', 'i', \"'\", ',', 'i', 'the', 'and', 'that', 'it', '.', 'i', \"'\", 'to', ',', 'i', 'to', 'and', 'that', \"'\", ',', 'it', \"'\", 'a', 'to', '.', 'i', \"'\", ',', \"'\", 'of', ',', 'i', 'the', 'to', ',', 'it', 'is', '.', '.', '.', '.', 'you', ',', 'is', 'a', 'that', 'is', ',', 'and', ',', 'a', 'that', 'is', ',', 'i', 'to', 'to', 'in', 'that', '.', 'you', '.', 'i', 'it', '.', 'it', \"'\", 'and', '.', 'i', \"'\", 'to', 'a', 'and', 'and', 'the', 'of', ',', ',', 'and', 'the', '.', 'i', 'and', '.', 'it', \"'\", 'to', 'and', 'a', 'i', 'you', 'it', '.', 'i', 'a', ',', 'to', 'that', 'i', '.', ',', 'you', 'to', 'and', '.', 'i', '.', 'the', 'i', '.', 'i', 'the', '.', 'i', '.', '.', ',', ',', 'the', '.', 'that', '.', 'you', 'a', ',', 'of', 'that', '.', 'you', 'a', ',', 'the', 'is', '.', 'you', 'the', 'i', 'that', 'is', 'to', 'of', 'the', '.', 'to', 'a', 'and', 'the', 'is', 'a', 'and', 'of', 'the', 'you', \"'\", 'to', ',', 'to', 'the', ',', ',', 'you', 'and', '.', 'i', ',', ',', ',', '.', ',', ',', '.', ',', '.', ',', '.', ',', '.', 'and', 'the', '.', 'i', \"'\", 'to', ',', 'i', 'to', 'and', '.', '.', 'and', \"'\", 'to', 'to', 'that', '.', 'i', \"'\", 'to', ',', 'it', \"'\", 'to', \"'\", ',', 'a', 'a', '.', 'it', \"'\", 'the', 'that', \"'\", 'to', \"'\", '.', ',', ',', 'and', 'of', 'the', 'of', 'and', 'of', ',', ',', 'and', 'it', \"'\", '.', 'you', 'that', 'of', 'a', 'of', ',', 'and', 'of', 'a', 'in', 'the', ',', 'i', 'to', 'you', 'that', '.', 'it', \"'\", 'that', \"'\", 'in', 'the', '.', '.', '.', ',', ',', 'it', \"'\", '.', '.', '.', 'and', \"'\", '.', '.', \"'\", 'you', 'it', 'and', 'it', 'that', \"'\", ',', 'you', \"'\", 'and', 'and', ',', ',', ',', 'and', '.', '.', 'of', 'and', 'to', 'you', 'you', 'a', 'i', '.', 'to', 'a', 'of', 'and', 'it', \"'\", 'and', '.', 'i', '.', 'and', 'and', '.', ',', \"'\", '.', 'i', 'i', \"'\", '.', 'you', 'you', 'in', 'of', 'you', 'that', '.', 'and', ',', 'it', \"'\", 'that', 'a', 'of', '.', '.', 'a', 'of', ',', \"'\", 'that', 'the', 'is', '.', 'it', \"'\", 'you', 'to', 'and', 'to', '.', 'in', 'of', '.', 'of', 'to', ',', \"'\", 'to', '.', ',', 'you', 'to', ',', 'of', '.', '.', 'and', ',', 'and', 'it', '.', '.', 'it', '.', '.', 'that', '.', '.', 'you', 'a', 'i', '.', 'i', '.', 'and', 'and', '.', 'you', 'you', 'in', '.', 'in', 'of', '.', 'of', 'to', ',', \"'\", 'to', '.', 'is', '.', '.', '.', ',', 'it', \"'\", 'a', 'that', 'to', ',', ',', ',', '.', '.', ',', '.', ',', '.', 'it', \"'\", 'a', ',', ',', 'and', '.', '.', '.', '.', '.', '.', '.', '.', '.', '.', '.', '.', '.', '.', '.', '.', '.', '.', '.', '.', '.', '.', '.', '.', '.', '.', '.', '.', '.', '.', '.', '.', '.', '.', '.', '.', '.', '.', '.', '.', 'a', ',', ',', \"'\", ',', 'a', 'of', 'a', 'that', 'it', \"'\", 'a', 'to', '.', '.', '.', ',', ',', 'that', \"'\", ',', ',', 'and', ',', 'and', 'a', 'that', 'to', 'the', ',', 'that', ',', ',', 'and', 'and', 'and', '.', 'of', 'is', '.', '.', '.', '.', '.', ',', 'i', 'it', ',', 'in', 'the', 'of', 'in', 'the', 'of', \"'\", ',', 'of', 'is', 'that', '.', 'it', \"'\", 'the', 'that', \"'\", 'to', \"'\", '.', ',', ',', 'it', \"'\", '.', '.', '.', 'and', \"'\", '.', '.', \"'\", 'you', 'it', 'and', 'it', 'that', \"'\", ',', 'you', \"'\", 'and', 'and', ',', ',', ',', 'and', '.', '.', 'and', ',', 'to', 'the', 'in', 'and', 'that', 'a', 'to', ',', \"'\", ',', ',', 'a', 'is', '.', 'you', 'it', 'is', ',', \"'\", 'a', \"'\", '.', 'a', \"'\", \"'\", '.', 'is', '.', '.', '.', ',', 'it', \"'\", 'a', 'that', 'to', ',', ',', ',', '.', '.', ',', '.', ',', '.', 'it', \"'\", 'a', ',', ',', 'and', '.', '.', '.', '.', '.', '.', '.', '.', '.', '.', '.', '.', '.', '.', '.', '.', '.', '.', '.', '.', '.', '.', '.', '.', '.', '.', '.', '.', '.', '.', '.', '.', '.', '.', '.', '.', '.', '.', '.', '.', 'a', ',', ',', \"'\", ',', 'a', 'of', 'a', 'that', 'it', \"'\", 'a', 'to', '.', '.', '.', ',', ',', 'that', \"'\", ',', ',', 'and', ',', 'and', 'a', 'that', 'to', 'the', ',', 'that', ',', ',', 'and', 'and', 'and', '.', 'of', 'is', '.', '.', '.', '.', '.', ',', 'i', 'it', ',', 'in', 'the', 'of', 'in', 'the', 'of', \"'\", ',', 'of', 'is', 'that', '.', ',', \"'\", ',', 'and', \"'\", 'of', 'in', 'the', 'of', 'and', 'in', 'the', 'and', 'the', '.', 'you', \"'\", ',', ',', ',', 'and', \"'\", 'to', '.', 'you', 'the', ',', ',', 'the', 'is', 'and', '.', '.', 'that', \"'\", 'you', 'that', 'the', '.', 'it', 'is', 'to', \"'\", '.', 'that', '.', 'i', 'that', ',', '.', ',', 'i', 'and', 'that', '.', 'is', 'that', 'it', 'is', 'of', '.', 'you', 'to', 'that', \"'\", 'the', 'is', '.', 'the', 'is', 'of', ',', 'and', '.', 'is', 'that', \"'\", 'you', 'it', 'you', 'a', 'that', 'to', ',', '.', 'the', 'to', '.', 'it', \"'\", 'a', ',', 'and', 'the', 'is', 'it', ',', 'of', '.', '.', \"'\", 'a', '.', 'the', 'that', 'is', 'the', 'to', '.', 'that', \"'\", 'and', '.', 'you', ',', 'it', 'it', '.', 'the', 'the', 'to', '.', 'a', 'of', 'and', 'it', 'that', \"'\", 'the', 'the', '.', 'is', '.', '.', 'i', 'i', \"'\", 'a', 'you', 'you', '.', \"'\", ',', 'you', 'is', '.', '.', 'to', 'that', 'i', \"'\", 'to', 'that', 'of', 'a', '.', 'and', 'that', 'it', \"'\", ',', 'in', ',', ',', ',', ',', 'and', 'the', '.', 'in', 'the', 'it', 'and', 'to', 'and', 'it', '.', ',', ',', ',', ',', ',', ',', ',', 'and', ',', 'in', ',', '.', 'to', 'the', 'of', 'to', 'and', 'is', 'is', ',', ',', 'to', 'to', 'of', 'in', 'a', '.', 'and', 'to', 'a', 'of', 'to', 'a', 'of', 'is', ',', 'of', ',', 'of', '.', 'i', ',', 'it', 'to', '.', '.', ',', 'the', 'of', 'is', ',', 'it', \"'\", 'the', 'of', 'that', 'to', 'to', 'and', '.', ',', 'a', '.', ',', 'i', ',', \"'\", '.', 'it', '.', 'and', '.', '.', 'of', '.', '.', '.', \"'\", 'a', 'and', '.', '.', '.', '.', '.', 'to', 'to', 'to', '.', '.', '.', ',', '.', '.', '.', '.', '.', '.', '.', '.', '.', '.', '.', '.', '.', '.', ',', '.', '.', '.', '.', '.', '.', '.', 'in', '.', '.', '.', '.', '.', '.', '.', '.', '.', '.', '.', '.', '.', '.', '.', ',', '.', '.', ',', '.', '.', '.', ',', '.', '.', 'in', ',', '.', '.', ',', '.', '.', ',', '.', '.', ',', '.', '.', ',', '.', ',', '.', '.', ',', '.', ',', '.', ',', '.', '.', ',', '.', '.', '.', 'in', ',', '.', '.', ',', '.', '.', '.', ',', '.', '.', 'it', ',', '.', '.', ',', '.', '.', ',', '.', '.', 'to', ',', '.', '.', 'in', '.', ',', ',', '.', ',', '.', '.', '.', ',', ',', '.', '.', ',', ',', '.', '.', ',', ',', '.', '.', '.', ',', '.', ',', 'of', ',', '.', '.', ',', '.', 'in', ',', '.', 'and', '.', '.', 'the', ',', 'it', ',', '.', '.', '.', '.', 'is', ',', '.', '.', '.', '.', ',', '.', '.', '.', ',', 'in', ',', '.', '.', '.', 'of', 'it', 'of', '.', '.', '.', '.', 'of', '.', '.', '.', '.', '.', 'i', \"'\", '.', '.', '.', 'to', 'the', 'of', 'a', 'that', 'the', 'in', 'is', ',', ',', 'is', 'in', 'a', 'of', '.', 'is', 'to', 'i', 'to', 'to', 'that', 'and', 'that', 'the', '.', 'and', \"'\", ',', '.', '.', '.', '.', 'it', 'the', '.', 'it', ',', '.', 'to', 'it', 'is', ',', ',', 'it', \"'\", 'a', 'of', 'and', '.', 'the', 'is', 'the', '.', 'the', '.', '.', '.', 'you', ',', 'a', ',', 'you', 'to', ',', '.', ',', 'and', 'to', 'it', ',', '.', '.', '.', '.', '.', '.', '.', '.', '.', 'you', '.', ',', '.', 'of', ',', 'a', '.', 'you', 'you', 'you', '.', 'is', 'a', 'is', ',', 'that', '.', 'to', 'to', 'and', 'the', 'in', ',', 'to', 'to', 'the', 'a', 'a', 'the', 'of', 'the', 'to', ',', 'you', 'the', 'to', 'the', 'to', 'a', 'that', 'is', 'of', 'the', 'it', 'a', 'is', 'you', \"'\", 'to', '.', 'the', '.', 'you', 'the', 'of', 'you', 'to', ',', 'it', 'the', 'you', 'to', '.', 'the', 'to', '.', \"'\", '.', 'i', ',', 'i', ',', '.', 'you', '.', 'i', 'a', ',', 'that', \"'\", 'that', '.', 'it', 'to', 'of', '.', 'to', 'the', 'you', 'to', 'a', 'that', 'the', ',', 'it', '.', 'you', 'it', ',', 'you', \"'\", 'you', \"'\", 'to', ',', 'the', 'of', 'the', ',', 'is', 'the', 'it', 'is', 'in', 'the', 'you', 'a', 'a', ',', 'and', 'it', ',', 'that', 'is', 'to', '.', ',', 'a', ',', 'is', 'to', \"'\", 'to', '.', 'the', '.', 'and', 'the', 'that', 'you', 'a', 'of', 'the', 'of', 'that', 'you', '.', 'i', 'the', '.', 'the', '.', '.', ',', 'to', 'you', 'of', 'a', 'that', 'i', 'you', 'a', 'the', 'of', '.', '.', 'in', '.', 'you', 'a', 'you', 'to', '.', 'and', 'to', 'that', 'the', 'of', 'you', 'it', 'you', 'to', 'the', '.', '.', 'and', 'of', ',', 'it', \"'\", 'of', '.', 'a', 'of', '.', 'the', 'i', \"'\", 'it', \"'\", 'that', 'in', 'you', \"'\", 'in', 'a', \"'\", '.', 'i', 'i', 'i', 'to', 'a', 'and', 'i', \"'\", 'to', 'is', 'and', 'is', 'a', 'and', 'is', \"'\", '.', 'i', \"'\", '.', 'i', 'is', 'you', 'the', 'is', 'to', 'and', 'the', 'is', 'to', \"'\", 'and', 'it', 'to', 'and', 'i', \"'\", 'the', 'of', 'in', 'and', 'and', 'it', '.', 'i', 'you', 'it', 'is', 'it', 'the', 'it', 'it', 'the', 'the', \"'\", 'a', ',', ',', '.', 'to', 'in', 'the', '.', '.', 'of', '.', '.', 'you', 'of', 'the', ',', 'the', 'of', 'and', \"'\", 'in', 'the', '.', 'a', '.', 'and', 'it', '.', ',', 'you', 'a', ',', 'in', 'the', 'a', 'of', 'the', 'that', 'a', ',', 'the', 'the', ',', 'to', 'it', 'and', 'it', '.', \"'\", '.', 'to', 'that', \"'\", '.', 'that', \"'\", 'it', \"'\", 'to', 'the', '.', 'the', 'a', 'you', '.', 'a', 'the', 'to', '.', 'the', 'and', '.', 'i', \"'\", 'to', 'and', 'and', 'and', 'and', 'the', 'to', '.', \"'\", 'to', '.', 'i', \"'\", 'to', 'the', 'and', 'and', '.', 'and', 'of', 'a', 'the', 'it', 'it', 'it', 'it', 'it', 'you', ',', 'the', '.', '.', 'the', '.', 'is', 'a', '.', 'it', 'it', 'it', 'it', 'you', 'it', 'you', 'it', '.', '.', 'you', 'you', 'it', 'the', ',', 'you', 'a', 'it', 'and', 'the', ',', 'you', 'it', '.', 'is', \"'\", 'a', 'it', 'i', \"'\", 'it', '.', 'the', ',', ',', 'a', 'that', 'you', 'the', 'in', 'the', ',', 'you', 'the', 'a', ',', 'and', 'that', 'of', \"'\", 'a', '.', \"'\", \"'\", 'and', \"'\", \"'\", ',', 'is', '.', 'it', \"'\", 'a', 'to', ',', 'and', '.', 'a', 'in', 'the', 'is', 'that', 'you', 'to', 'you', 'to', '.', ',', 'is', 'a', 'of', 'it', ',', 'i', 'is', 'i', \"'\", 'it', \"'\", 'a', ',', '.', \"'\", 'the', 'and', '.', 'and', 'that', 'is', 'to', ',', 'you', '.', 'and', ',', 'you', 'you', ',', 'you', '.', 'i', \"'\", 'a', 'of', 'is', 'the', '.', 'a', 'to', 'that', 'the', '.', ',', 'is', 'a', 'of', 'it', ',', 'i', 'is', 'and', 'and', ',', 'you', 'you', ',', 'you', 'that', 'a', 'it', '.', 'of', 'it', '.', 'i', 'of', '.', 'the', \"'\", '.', 'it', ',', 'the', 'is', 'in', 'the', '.', '.', 'that', 'is', 'a', '.', 'that', 'a', 'it', '.', 'it', ',', 'the', 'is', 'in', 'the', '.', '.', 'i', 'it', 'that', '.', 'that', 'of', 'the', '.', 'of', ',', 'that', 'of', 'the', '.', 'i', 'a', 'you', 'i', 'the', 'you', 'in', 'a', '.', 'the', 'the', 'that', '.', 'it', 'in', 'it', 'the', 'it', 'it', \"'\", 'that', 'you', 'a', ',', '.', 'i', '.', '.', '.', 'i', \"'\", 'to', 'i', \"'\", 'you', ',', 'and', '.', 'you', 'a', ',', 'you', '.', 'i', '.', 'to', 'is', 'the', '.', 'you', 'you', '.', 'you', 'the', 'you', \"'\", '.', 'you', 'in', 'a', ',', 'it', '.', 'a', 'and', 'you', '.', 'the', 'and', 'you', 'the', 'of', 'the', 'i', 'it', '.', 'is', 'a', '.', 'that', 'a', 'is', '.', 'and', '.', '.', \"'\", ',', 'the', '.', ',', 'is', 'a', ',', 'that', 'to', 'to', 'in', ',', 'the', 'to', 'to', '.', 'to', '.', \"'\", 'and', 'the', 'is', 'that', 'is', '.', 'it', 'is', 'a', 'to', ',', 'i', 'you', 'in', 'a', 'the', ',', 'the', 'in', 'the', 'a', ',', ',', 'and', 'is', '.', 'the', '.', 'i', \"'\", 'to', 'a', 'i', '.', 'the', 'you', 'is', 'a', ',', 'i', 'a', '.', 'i', 'of', '.', 'that', 'and', 'i', \"'\", ',', ',', '.', '.', '.', 'is', ',', 'and', 'of', 'the', 'and', ',', 'is', 'it', '.', 'i', 'it', \"'\", 'a', 'that', \"'\", 'in', '.', ',', 'of', 'it', '.', ',', 'is', 'of', 'and', '.', ',', ',', '.', 'it', 'the', '.', 'you', 'of', 'you', 'of', '.', 'the', 'in', 'is', 'it', 'of', 'the', '.', ',', 'the', '.', 'in', ',', 'is', 'that', 'of', '.', 'it', 'in', 'it', '.', 'that', 'it', '.', 'you', '.', 'you', 'to', 'to', '.', 'of', '.', 'you', 'to', 'the', 'and', 'that', 'that', 'is', 'a', '.', 'in', 'the', 'that', 'that', 'to', '.', 'you', 'it', 'and', 'to', 'i', 'in', 'and', '.', 'to', 'in', 'that', '.', 'i', 'you', 'i', 'and', '.', 'you', 'and', 'and', 'you', 'the', 'you', 'the', 'you', 'and', '.', 'it', 'and', '.', 'you', 'you', 'you', 'to', 'you', 'to', 'and', 'you', 'you', '.', 'to', 'and', 'you', 'the', 'to', 'to', ',', 'to', ',', '.', 'you', 'a', 'and', 'of', 'the', 'that', 'you', 'to', '.', 'the', 'you', 'of', 'and', 'you', 'you', 'you', 'the', 'of', '.', 'it', 'that', 'of', 'that', 'you', 'and', 'you', '.', 'you', 'is', 'you', 'you', 'to', 'to', 'to', 'you', 'you', 'to', ',', 'the', '.', 'i', 'a', ',', 'the', 'of', 'you', 'i', 'the', '.', 'a', 'you', 'to', '.', 'to', '.', 'to', 'a', 'and', 'in', '.', 'of', 'of', 'you', 'that', 'and', 'you', ',', 'you', 'a', 'is', 'a', 'the', 'that', 'to', 'it', 'that', 'to', 'and', 'you', 'of', '.', 'to', 'a', 'of', 'you', ',', 'to', 'and', 'you', '.', ',', '.', 'you', 'a', 'it', 'and', '.', 'and', 'and', 'and', '.', 'and', 'in', ',', 'you', 'of', 'to', '.', 'a', 'in', 'the', '.', '.', '.', 'is', 'i', ',', 'and', 'you', '.', ',', '.', '.', 'is', '.', \"'\", '.', '.', 'you', 'of', 'to', 'to', '.', 'and', '.', 'you', 'you', 'of', 'the', '.', \"'\", 'and', 'i', 'to', '.', '.', 'and', 'to', 'the', '.', 'that', 'of', 'you', 'in', '.', 'a', 'it', 'you', 'the', 'to', 'you', 'you', 'the', '.', '.', ',', '.', '.', 'and', ',', ',', 'you', 'to', 'and', 'the', '.', 'you', '.', 'i', \"'\", '.', 'i', \"'\", 'and', 'i', 'to', '.', 'you', \"'\", \"'\", '.', 'it', \"'\", 'in', 'you', 'of', 'in', 'the', ',', 'that', 'to', 'you', 'in', 'and', '.', '.', 'a', 'in', 'in', 'to', 'the', 'and', '.', ',', 'and', '.', 'to', 'and', ',', '.', 'and', 'you', 'in', 'you', 'it', '.', 'in', 'that', '.', 'the', ',', 'the', '.', ',', 'and', 'is', 'in', 'the', 'a', 'to', 'the', '.', '.', ',', '.', '.', ',', '.', 'that', \"'\", '.', 'you', \"'\", '.', '.', '.', '.', 'to', ',', 'it', 'that', 'the', 'to', 'of', 'and', 'a', '.', 'the', 'of', 'in', ',', 'and', 'the', ',', 'in', 'the', 'of', 'the', '.', 'you', 'the', 'of', 'to', 'the', '.', 'it', \"'\", 'and', 'the', '.', '.', ',', \"'\", 'it', '.', 'you', \"'\", '.', ',', '.', 'and', ',', ',', 'you', 'to', 'and', 'the', '.', 'you', '.', 'to', 'to', 'in', '.', '.', 'a', 'in', 'in', 'to', 'the', 'and', '.', 'in', 'that', '.', 'the', ',', 'the', '.', '.', ',', '.', ',', \"'\", 'it', '.', 'in', ',', ',', 'is', ',', ',', 'it', \"'\", 'that', \"'\", 'in', 'and', '.', 'it', \"'\", 'in', 'the', ',', ',', \"'\", 'a', 'it', '.', 'it', \"'\", 'in', '.', 'it', 'you', '.', 'of', 'and', '.', \"'\", ',', '.', 'you', 'and', 'and', ',', 'i', \"'\", 'you', 'a', '.', 'you', \"'\", 'the', 'you', \"'\", ',', ',', '.', 'you', 'that', 'the', 'of', 'in', 'a', 'of', 'and', 'you', \"'\", 'to', 'it', '.', 'it', 'to', ',', 'to', ',', 'and', 'to', '.', 'that', 'the', 'is', 'and', 'to', 'the', 'that', 'it', ',', ',', 'to', 'the', 'of', 'to', 'of', '.', 'to', 'to', 'in', '.', 'is', 'the', 'of', 'is', 'in', '.', 'the', 'the', '.', 'it', ',', '.', ',', 'you', 'to', 'is', 'you', 'you', \"'\", '.', 'you', 'and', ',', 'to', 'the', 'of', '.', 'you', 'to', \"'\", '.', 'i', \"'\", '.', ',', 'it', '.', 'it', \"'\", 'and', '.', 'in', 'the', ',', ',', '.', 'you', \"'\", 'you', 'to', 'that', '.', '.', '.', 'in', ',', ',', 'is', 'you', 'it', 'you', '.', 'of', 'and', '.', 'you', 'to', \"'\", '.', 'you', ',', 'it', '.', '.', 'in', 'it', 'you', 'in', 'to', 'a', '.', '.', '.', '.', 'that', '.', 'it', \"'\", '.', 'the', '.', 'you', 'to', 'to', 'a', 'to', '.', 'and', 'you', 'to', 'in', 'is', 'is', 'a', '.', ',', \"'\", 'that', '.', ',', ',', 'i', \"'\", ',', ',', 'to', 'the', \"'\", \"'\", 'the', 'you', \"'\", 'it', 'and', 'you', \"'\", '.', 'you', 'to', '.', 'the', 'in', '.', \"'\", '.', 'i', \"'\", 'i', 'to', '.', 'a', 'the', ',', 'and', '.', 'a', ',', \"'\", 'it', 'in', 'a', 'that', 'the', 'to', ',', 'you', \"'\", ',', ',', 'the', 'and', 'that', 'is', 'a', 'the', 'you', \"'\", '.', \"'\", 'to', 'to', 'you', 'in', '.', 'the', 'to', 'a', ',', 'to', 'of', 'the', 'in', 'the', '.', 'the', '.', '.', '.', '.', 'and', ',', 'the', 'of', '.', '.', '.', ',', 'you', \"'\", 'to', '.', 'the', \"'\", 'a', '.', 'the', ',', 'the', ',', 'in', 'a', 'of', 'a', '.', 'i', '.', '.', 'you', 'that', '.', 'you', \"'\", 'i', 'a', ',', '.', ',', \"'\", '.', 'the', 'and', 'you', \"'\", 'a', ',', 'the', 'that', '.', '.', '.', '.', 'i', \"'\", '.', 'i', \"'\", 'i', 'to', '.', ',', \"'\", 'the', 'of', '.', '.', \"'\", 'the', 'of', 'in', '.', 'and', '.', 'that', 'a', ',', \"'\", 'it', 'in', 'a', 'that', 'the', 'to', 'that', '.', \"'\", 'the', 'is', 'the', 'of', \"'\", '.', 'it', ',', 'the', 'is', '.', 'a', ',', 'the', 'is', '.', 'and', \"'\", ',', 'is', 'the', 'of', '.', ',', '.', 'the', 'to', '.', 'that', 'that', 'of', 'to', 'to', 'the', 'that', \"'\", 'a', '.', 'a', 'of', 'of', 'a', 'and', '.', 'the', 'is', 'of', 'the', '.', 'you', 'is', 'the', '.', '.', 'to', 'you', '.', 'you', 'is', 'a', 'of', ',', ',', 'of', ',', ',', ',', 'of', ',', 'and', ',', '.', '.', '.', '.', 'you', \"'\", 'that', ',', 'it', \"'\", 'the', 'you', 'to', '.', 'it', '.', '.', '.', 'in', 'the', ',', 'to', ',', ',', ',', 'in', '.', 'and', 'the', 'that', 'of', ',', '.', ',', '.', 'you', '.', 'it', \"'\", 'to', '.', 'the', 'that', 'that', 'of', 'to', 'to', 'the', '.', 'a', 'of', 'of', 'a', 'and', '.', '.', 'is', 'a', '.', 'in', '.', \"'\", ',', 'that', 'i', '.', 'i', ',', '.', 'i', 'the', ',', 'it', 'a', 'that', 'is', ',', ',', 'and', \"'\", 'to', ',', 'and', \"'\", '.', \"'\", 'to', 'in', '.', '.', 'that', 'the', 'that', \"'\", 'in', 'the', 'a', 'of', 'and', 'of', 'the', 'to', '.', 'you', 'the', 'you', \"'\", '.', \"'\", \"'\", '.', ',', '.', 'you', \"'\", \"'\", 'a', '.', '.', '.', 'that', 'the', 'that', \"'\", 'in', 'the', 'a', 'of', 'and', 'of', 'the', 'to', 'a', 'of', 'to', '.', ',', '.', '.', ',', \"'\", 'to', '.', \"'\", '.', 'it', '.', '.', '.', '.', '.', '.', 'and', 'and', '.', 'to', '.', 'of', 'is', 'the', 'that', 'the', 'of', '.', 'you', 'and', '.', '.', '.', 'it', 'is', '.', '.', '.', '.', '.', 'it', \"'\", 'the', '.', 'you', \"'\", 'in', 'the', 'of', 'a', 'in', '.', ',', 'the', '.', 'i', \"'\", 'that', 'a', ',', 'the', 'it', 'is', 'to', 'to', 'the', 'of', 'a', ',', \"'\", '.', 'it', 'to', 'and', 'to', 'you', ',', 'that', 'and', 'to', 'you', '.', 'i', 'to', 'the', '.', 'i', '.', 'i', 'the', 'a', '.', 'a', 'of', '.', 'the', 'to', '.', 'it', \"'\", '.', 'the', 'the', 'the', 'the', '.', 'it', 'that', 'a', '.', 'i', \"'\", 'i', 'to', ',', '.', \"'\", 'a', '.', 'it', \"'\", 'to', 'the', 'in', 'of', '.', 'it', \"'\", 'a', 'to', '.', '.', ',', 'a', 'i', 'a', '.', '.', 'i', 'that', '.', ',', 'of', 'that', '.', 'the', 'i', 'of', 'you', ',', 'i', 'that', 'the', 'you', 'to', 'in', ',', 'the', 'of', 'in', 'the', '.', 'i', '.', 'you', 'i', ',', 'you', 'that', 'it', '.', 'it', 'i', '.', 'you', ',', 'and', 'you', '.', 'the', 'of', 'and', '.', 'is', 'that', '.', 'and', 'the', ',', 'a', 'to', ',', ',', 'and', 'the', '.', ',', 'you', '.', 'i', 'you', '.', 'i', \"'\", '.', 'you', \"'\", 'a', 'you', '.', 'i', 'a', 'the', 'is', 'it', 'to', 'a', 'the', 'that', 'the', 'that', 'in', 'to', ',', ',', 'it', \"'\", 'a', 'the', 'to', '.', ',', 'of', 'the', ',', 'is', 'the', \"'\", 'in', 'a', 'that', 'and', 'of', ',', 'i', \"'\", '.', 'you', 'i', 'the', \"'\", 'to', 'the', '.', 'you', \"'\", 'you', 'the', 'the', '.', 'and', ',', '.', 'in', ',', 'of', ',', ',', 'and', '.', 'is', 'the', ',', 'of', '.', 'the', 'in', \"'\", 'that', 'the', '.', ',', 'in', '.', 'that', 'you', 'of', '.', '.', 'a', 'and', 'a', '.', '.', '.', '.', 'of', 'the', 'you', \"'\", 'i', \"'\", '.', 'and', 'that', '.', '.', '.', '.', 'you', 'in', 'you', \"'\", 'in', '.', 'of', 'the', 'in', 'of', 'and', '.', '.', '.', '.', 'is', '.', 'you', 'to', 'and', 'i', \"'\", 'you', 'and', 'it', \"'\", 'and', '.', 'you', \"'\", 'i', \"'\", 'in', 'you', 'of', 'the', 'in', 'of', 'and', '.', 'you', 'it', ',', 'that', \"'\", '.', 'you', ',', 'that', \"'\", '.', 'you', \"'\", ',', 'i', \"'\", 'and', ',', ',', '.', 'is', 'you', 'you', '.', 'it', 'to', 'to', 'the', 'the', 'you', '.', 'the', 'to', 'the', 'to', 'the', 'is', '.', '.', 'and', 'in', 'to', '.', 'of', 'the', 'it', '.', 'is', 'it', 'i', \"'\", 'the', 'of', 'the', 'you', 'to', ',', 'and', '.', 'the', '.', 'the', '.', 'that', '.', '.', '.', 'you', 'it', '.', 'it', 'and', 'to', '.', '.', '.', 'you', 'it', '.', 'is', 'the', 'of', 'the', 'the', 'it', \"'\", '.', 'you', \"'\", 'the', '.', \"'\", '.', '.', '.', '.', 'you', 'it', ',', 'i']\n"
     ]
    }
   ],
   "source": [
    "threshold = 1000\n",
    "desc_joined = ''.join(descriptions)\n",
    "tokens = tokenizer(desc_joined)\n",
    "\n",
    "freq_dist = FreqDist(tokens)\n",
    "freq_dist\n",
    "common_tokens = [token for token in tokens if freq_dist[token] > threshold]\n",
    "print(common_tokens)"
   ]
  },
  {
   "cell_type": "markdown",
   "metadata": {},
   "source": [
    "Error with stopword importing, this code fixed it"
   ]
  }
 ],
 "metadata": {
  "kernelspec": {
   "display_name": "Python 3",
   "language": "python",
   "name": "python3"
  },
  "language_info": {
   "codemirror_mode": {
    "name": "ipython",
    "version": 3
   },
   "file_extension": ".py",
   "mimetype": "text/x-python",
   "name": "python",
   "nbconvert_exporter": "python",
   "pygments_lexer": "ipython3",
   "version": "3.12.0"
  }
 },
 "nbformat": 4,
 "nbformat_minor": 2
}
