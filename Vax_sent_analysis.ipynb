{
 "cells": [
  {
   "cell_type": "code",
   "execution_count": 1,
   "metadata": {},
   "outputs": [],
   "source": [
    "import pandas as pd\n",
    "from sklearn.feature_extraction.text import TfidfVectorizer\n",
    "import numpy as np\n",
    "from torchtext.data.utils import get_tokenizer\n",
    "from nltk.probability import FreqDist\n",
    "from sklearn.feature_extraction.text import TfidfVectorizer\n",
    "from sklearn.model_selection import train_test_split"
   ]
  },
  {
   "cell_type": "code",
   "execution_count": 2,
   "metadata": {},
   "outputs": [
    {
     "data": {
      "text/html": [
       "<div>\n",
       "<style scoped>\n",
       "    .dataframe tbody tr th:only-of-type {\n",
       "        vertical-align: middle;\n",
       "    }\n",
       "\n",
       "    .dataframe tbody tr th {\n",
       "        vertical-align: top;\n",
       "    }\n",
       "\n",
       "    .dataframe thead th {\n",
       "        text-align: right;\n",
       "    }\n",
       "</style>\n",
       "<table border=\"1\" class=\"dataframe\">\n",
       "  <thead>\n",
       "    <tr style=\"text-align: right;\">\n",
       "      <th></th>\n",
       "      <th>Text, Sentiment, Source, Date/Time, User ID, Location, Confidence Score</th>\n",
       "    </tr>\n",
       "  </thead>\n",
       "  <tbody>\n",
       "    <tr>\n",
       "      <th>0</th>\n",
       "      <td>\"I love this product!\", Positive, Twitter, 202...</td>\n",
       "    </tr>\n",
       "    <tr>\n",
       "      <th>1</th>\n",
       "      <td>\"The service was terrible.\", Negative, Yelp Re...</td>\n",
       "    </tr>\n",
       "    <tr>\n",
       "      <th>2</th>\n",
       "      <td>\"This movie is amazing!\", Positive, IMDb, 2023...</td>\n",
       "    </tr>\n",
       "    <tr>\n",
       "      <th>3</th>\n",
       "      <td>\"I'm so disappointed with their customer suppo...</td>\n",
       "    </tr>\n",
       "    <tr>\n",
       "      <th>4</th>\n",
       "      <td>\"Just had the best meal of my life!\", Positive...</td>\n",
       "    </tr>\n",
       "  </tbody>\n",
       "</table>\n",
       "</div>"
      ],
      "text/plain": [
       "  Text, Sentiment, Source, Date/Time, User ID, Location, Confidence Score\n",
       "0  \"I love this product!\", Positive, Twitter, 202...                     \n",
       "1  \"The service was terrible.\", Negative, Yelp Re...                     \n",
       "2  \"This movie is amazing!\", Positive, IMDb, 2023...                     \n",
       "3  \"I'm so disappointed with their customer suppo...                     \n",
       "4  \"Just had the best meal of my life!\", Positive...                     "
      ]
     },
     "execution_count": 2,
     "metadata": {},
     "output_type": "execute_result"
    }
   ],
   "source": [
    "reviews = pd.read_csv(\"data/customer_review_text.csv\")\n",
    "reviews.head()\n"
   ]
  },
  {
   "cell_type": "markdown",
   "metadata": {},
   "source": [
    "This data is extremely messy. While the data is complete, all columns [Text, Sentiment, Source, Date Time, User ID, Location, and Conf. score] are all within the same column. We will use regexp to separate them into different columns."
   ]
  },
  {
   "cell_type": "code",
   "execution_count": 3,
   "metadata": {},
   "outputs": [
    {
     "data": {
      "text/plain": [
       "'\"I love this product!\", Positive, Twitter, 2023-06-15 09:23:14, @user123, New York, 0.85'"
      ]
     },
     "execution_count": 3,
     "metadata": {},
     "output_type": "execute_result"
    }
   ],
   "source": [
    "reviews.iloc[0,0]"
   ]
  },
  {
   "cell_type": "code",
   "execution_count": 4,
   "metadata": {},
   "outputs": [
    {
     "data": {
      "text/plain": [
       "(98, 1)"
      ]
     },
     "execution_count": 4,
     "metadata": {},
     "output_type": "execute_result"
    }
   ],
   "source": [
    "reviews.shape"
   ]
  },
  {
   "cell_type": "code",
   "execution_count": 5,
   "metadata": {},
   "outputs": [
    {
     "name": "stdout",
     "output_type": "stream",
     "text": [
      "\"I love this product!\", Positive, Twitter, 2023-06-15 09:23:14, @user123, New York, 0.85\n",
      "\"The service was terrible.\", Negative, Yelp Reviews, 2023-06-15 11:45:32, user456, Los Angeles, 0.65\n",
      "\"This movie is amazing!\", Positive, IMDb, 2023-06-15 14:10:22, moviefan789, London, 0.92\n",
      "\"I'm so disappointed with their customer support.\", Negative, Online Forum, 2023-06-15 17:35:11, forumuser1, Toronto, 0.78\n",
      "\"Just had the best meal of my life!\", Positive, TripAdvisor, 2023-06-16 08:50:59, foodie22, Paris, 0.88\n"
     ]
    }
   ],
   "source": [
    "for i in range(5):\n",
    "    print(reviews.iloc[i,0])"
   ]
  },
  {
   "cell_type": "markdown",
   "metadata": {},
   "source": [
    "First, rename the column for ease of use later in the code."
   ]
  },
  {
   "cell_type": "code",
   "execution_count": 6,
   "metadata": {},
   "outputs": [
    {
     "data": {
      "text/plain": [
       "'Text, Sentiment, Source, Date/Time, User ID, Location, Confidence Score'"
      ]
     },
     "execution_count": 6,
     "metadata": {},
     "output_type": "execute_result"
    }
   ],
   "source": [
    "col = reviews.columns[0]\n",
    "col"
   ]
  },
  {
   "cell_type": "code",
   "execution_count": 7,
   "metadata": {},
   "outputs": [],
   "source": [
    "df_clean = pd.DataFrame({\n",
    "   \"text\": reviews[col].str.extract(r'\"([^\"]+)\"', expand=False),\n",
    "   \"sentiment\": reviews[col].str.extract(r'(Positive|Negative)', expand=False),\n",
    "   \"source\": reviews[col].str.extract(r'\\S+, \\S+, (\\S+),', expand=False),\n",
    "   \"date\": reviews[col].str.extract(r'(\\d{4}-\\d{2}-\\d{2})', expand=False),\n",
    "   \"time\": reviews[col].str.extract(r'(\\d{2}:\\d{2}:\\d{2})', expand=False),\n",
    "   \"user\": reviews[col].str.extract(r'\\d{2}:\\d{2}:\\d{2}, (\\S+)', expand=False),\n",
    "   \"city\": reviews[col].str.extract(r'\\d{2}:\\d{2}:\\d{2}, \\S+, (.+?), 0\\.\\d{2}$', expand=False),\n",
    "   \"confidence\": reviews[col].str.extract(r'(0\\.\\d{2}$)', expand=False)\n",
    "   })\n",
    "\n",
    "df_clean[\"dateTime\"] = df_clean[\"date\"]+\" \"+df_clean[\"time\"]\n"
   ]
  },
  {
   "cell_type": "code",
   "execution_count": 8,
   "metadata": {},
   "outputs": [
    {
     "data": {
      "text/html": [
       "<div>\n",
       "<style scoped>\n",
       "    .dataframe tbody tr th:only-of-type {\n",
       "        vertical-align: middle;\n",
       "    }\n",
       "\n",
       "    .dataframe tbody tr th {\n",
       "        vertical-align: top;\n",
       "    }\n",
       "\n",
       "    .dataframe thead th {\n",
       "        text-align: right;\n",
       "    }\n",
       "</style>\n",
       "<table border=\"1\" class=\"dataframe\">\n",
       "  <thead>\n",
       "    <tr style=\"text-align: right;\">\n",
       "      <th></th>\n",
       "      <th>text</th>\n",
       "      <th>sentiment</th>\n",
       "      <th>source</th>\n",
       "      <th>date</th>\n",
       "      <th>time</th>\n",
       "      <th>user</th>\n",
       "      <th>city</th>\n",
       "      <th>confidence</th>\n",
       "      <th>dateTime</th>\n",
       "    </tr>\n",
       "  </thead>\n",
       "  <tbody>\n",
       "    <tr>\n",
       "      <th>0</th>\n",
       "      <td>I love this product!</td>\n",
       "      <td>Positive</td>\n",
       "      <td>Twitter</td>\n",
       "      <td>2023-06-15</td>\n",
       "      <td>09:23:14</td>\n",
       "      <td>@user123,</td>\n",
       "      <td>New York</td>\n",
       "      <td>0.85</td>\n",
       "      <td>2023-06-15 09:23:14</td>\n",
       "    </tr>\n",
       "    <tr>\n",
       "      <th>1</th>\n",
       "      <td>The service was terrible.</td>\n",
       "      <td>Negative</td>\n",
       "      <td>NaN</td>\n",
       "      <td>2023-06-15</td>\n",
       "      <td>11:45:32</td>\n",
       "      <td>user456,</td>\n",
       "      <td>Los Angeles</td>\n",
       "      <td>0.65</td>\n",
       "      <td>2023-06-15 11:45:32</td>\n",
       "    </tr>\n",
       "    <tr>\n",
       "      <th>2</th>\n",
       "      <td>This movie is amazing!</td>\n",
       "      <td>Positive</td>\n",
       "      <td>IMDb</td>\n",
       "      <td>2023-06-15</td>\n",
       "      <td>14:10:22</td>\n",
       "      <td>moviefan789,</td>\n",
       "      <td>London</td>\n",
       "      <td>0.92</td>\n",
       "      <td>2023-06-15 14:10:22</td>\n",
       "    </tr>\n",
       "    <tr>\n",
       "      <th>3</th>\n",
       "      <td>I'm so disappointed with their customer support.</td>\n",
       "      <td>Negative</td>\n",
       "      <td>Toronto</td>\n",
       "      <td>2023-06-15</td>\n",
       "      <td>17:35:11</td>\n",
       "      <td>forumuser1,</td>\n",
       "      <td>Toronto</td>\n",
       "      <td>0.78</td>\n",
       "      <td>2023-06-15 17:35:11</td>\n",
       "    </tr>\n",
       "    <tr>\n",
       "      <th>4</th>\n",
       "      <td>Just had the best meal of my life!</td>\n",
       "      <td>Positive</td>\n",
       "      <td>TripAdvisor</td>\n",
       "      <td>2023-06-16</td>\n",
       "      <td>08:50:59</td>\n",
       "      <td>foodie22,</td>\n",
       "      <td>Paris</td>\n",
       "      <td>0.88</td>\n",
       "      <td>2023-06-16 08:50:59</td>\n",
       "    </tr>\n",
       "  </tbody>\n",
       "</table>\n",
       "</div>"
      ],
      "text/plain": [
       "                                               text sentiment       source  \\\n",
       "0                              I love this product!  Positive      Twitter   \n",
       "1                         The service was terrible.  Negative          NaN   \n",
       "2                            This movie is amazing!  Positive         IMDb   \n",
       "3  I'm so disappointed with their customer support.  Negative      Toronto   \n",
       "4                Just had the best meal of my life!  Positive  TripAdvisor   \n",
       "\n",
       "         date      time          user         city confidence  \\\n",
       "0  2023-06-15  09:23:14     @user123,     New York       0.85   \n",
       "1  2023-06-15  11:45:32      user456,  Los Angeles       0.65   \n",
       "2  2023-06-15  14:10:22  moviefan789,       London       0.92   \n",
       "3  2023-06-15  17:35:11   forumuser1,      Toronto       0.78   \n",
       "4  2023-06-16  08:50:59     foodie22,        Paris       0.88   \n",
       "\n",
       "              dateTime  \n",
       "0  2023-06-15 09:23:14  \n",
       "1  2023-06-15 11:45:32  \n",
       "2  2023-06-15 14:10:22  \n",
       "3  2023-06-15 17:35:11  \n",
       "4  2023-06-16 08:50:59  "
      ]
     },
     "execution_count": 8,
     "metadata": {},
     "output_type": "execute_result"
    }
   ],
   "source": [
    "df_clean.head()"
   ]
  },
  {
   "cell_type": "code",
   "execution_count": 9,
   "metadata": {},
   "outputs": [
    {
     "data": {
      "text/plain": [
       "text          object\n",
       "sentiment     object\n",
       "source        object\n",
       "date          object\n",
       "time          object\n",
       "user          object\n",
       "city          object\n",
       "confidence    object\n",
       "dateTime      object\n",
       "dtype: object"
      ]
     },
     "execution_count": 9,
     "metadata": {},
     "output_type": "execute_result"
    }
   ],
   "source": [
    "df_clean.dtypes"
   ]
  },
  {
   "cell_type": "markdown",
   "metadata": {},
   "source": [
    "### Changing DataTypes"
   ]
  },
  {
   "cell_type": "code",
   "execution_count": 10,
   "metadata": {},
   "outputs": [
    {
     "data": {
      "text/plain": [
       "sentiment\n",
       "Positive    53\n",
       "Negative    43\n",
       "Name: count, dtype: int64"
      ]
     },
     "execution_count": 10,
     "metadata": {},
     "output_type": "execute_result"
    }
   ],
   "source": [
    "df_clean[\"sentiment\"].value_counts()"
   ]
  },
  {
   "cell_type": "code",
   "execution_count": 11,
   "metadata": {},
   "outputs": [
    {
     "data": {
      "text/html": [
       "<div>\n",
       "<style scoped>\n",
       "    .dataframe tbody tr th:only-of-type {\n",
       "        vertical-align: middle;\n",
       "    }\n",
       "\n",
       "    .dataframe tbody tr th {\n",
       "        vertical-align: top;\n",
       "    }\n",
       "\n",
       "    .dataframe thead th {\n",
       "        text-align: right;\n",
       "    }\n",
       "</style>\n",
       "<table border=\"1\" class=\"dataframe\">\n",
       "  <thead>\n",
       "    <tr style=\"text-align: right;\">\n",
       "      <th></th>\n",
       "      <th>text</th>\n",
       "      <th>sentiment</th>\n",
       "      <th>source</th>\n",
       "      <th>date</th>\n",
       "      <th>time</th>\n",
       "      <th>user</th>\n",
       "      <th>city</th>\n",
       "      <th>confidence</th>\n",
       "      <th>dateTime</th>\n",
       "    </tr>\n",
       "  </thead>\n",
       "  <tbody>\n",
       "    <tr>\n",
       "      <th>0</th>\n",
       "      <td>I love this product!</td>\n",
       "      <td>1.0</td>\n",
       "      <td>Twitter</td>\n",
       "      <td>2023-06-15</td>\n",
       "      <td>09:23:14</td>\n",
       "      <td>@user123,</td>\n",
       "      <td>New York</td>\n",
       "      <td>0.85</td>\n",
       "      <td>2023-06-15 09:23:14</td>\n",
       "    </tr>\n",
       "    <tr>\n",
       "      <th>1</th>\n",
       "      <td>The service was terrible.</td>\n",
       "      <td>0.0</td>\n",
       "      <td>NaN</td>\n",
       "      <td>2023-06-15</td>\n",
       "      <td>11:45:32</td>\n",
       "      <td>user456,</td>\n",
       "      <td>Los Angeles</td>\n",
       "      <td>0.65</td>\n",
       "      <td>2023-06-15 11:45:32</td>\n",
       "    </tr>\n",
       "    <tr>\n",
       "      <th>2</th>\n",
       "      <td>This movie is amazing!</td>\n",
       "      <td>1.0</td>\n",
       "      <td>IMDb</td>\n",
       "      <td>2023-06-15</td>\n",
       "      <td>14:10:22</td>\n",
       "      <td>moviefan789,</td>\n",
       "      <td>London</td>\n",
       "      <td>0.92</td>\n",
       "      <td>2023-06-15 14:10:22</td>\n",
       "    </tr>\n",
       "    <tr>\n",
       "      <th>3</th>\n",
       "      <td>I'm so disappointed with their customer support.</td>\n",
       "      <td>0.0</td>\n",
       "      <td>Toronto</td>\n",
       "      <td>2023-06-15</td>\n",
       "      <td>17:35:11</td>\n",
       "      <td>forumuser1,</td>\n",
       "      <td>Toronto</td>\n",
       "      <td>0.78</td>\n",
       "      <td>2023-06-15 17:35:11</td>\n",
       "    </tr>\n",
       "    <tr>\n",
       "      <th>4</th>\n",
       "      <td>Just had the best meal of my life!</td>\n",
       "      <td>1.0</td>\n",
       "      <td>TripAdvisor</td>\n",
       "      <td>2023-06-16</td>\n",
       "      <td>08:50:59</td>\n",
       "      <td>foodie22,</td>\n",
       "      <td>Paris</td>\n",
       "      <td>0.88</td>\n",
       "      <td>2023-06-16 08:50:59</td>\n",
       "    </tr>\n",
       "    <tr>\n",
       "      <th>...</th>\n",
       "      <td>...</td>\n",
       "      <td>...</td>\n",
       "      <td>...</td>\n",
       "      <td>...</td>\n",
       "      <td>...</td>\n",
       "      <td>...</td>\n",
       "      <td>...</td>\n",
       "      <td>...</td>\n",
       "      <td>...</td>\n",
       "    </tr>\n",
       "    <tr>\n",
       "      <th>93</th>\n",
       "      <td>I can't stop listening to this song. It's my n...</td>\n",
       "      <td>1.0</td>\n",
       "      <td>Spotify</td>\n",
       "      <td>2023-07-03</td>\n",
       "      <td>09:17:52</td>\n",
       "      <td>musiclover789,</td>\n",
       "      <td>Berlin</td>\n",
       "      <td>0.91</td>\n",
       "      <td>2023-07-03 09:17:52</td>\n",
       "    </tr>\n",
       "    <tr>\n",
       "      <th>94</th>\n",
       "      <td>Their website is so confusing and poorly desig...</td>\n",
       "      <td>0.0</td>\n",
       "      <td>Toronto</td>\n",
       "      <td>2023-07-03</td>\n",
       "      <td>11:59:18</td>\n",
       "      <td>user789,</td>\n",
       "      <td>Toronto</td>\n",
       "      <td>0.68</td>\n",
       "      <td>2023-07-03 11:59:18</td>\n",
       "    </tr>\n",
       "    <tr>\n",
       "      <th>95</th>\n",
       "      <td>I had an incredible experience at the theme pa...</td>\n",
       "      <td>1.0</td>\n",
       "      <td>Orlando</td>\n",
       "      <td>2023-07-03</td>\n",
       "      <td>14:40:05</td>\n",
       "      <td>thrillseeker1,</td>\n",
       "      <td>Orlando</td>\n",
       "      <td>0.89</td>\n",
       "      <td>2023-07-03 14:40:05</td>\n",
       "    </tr>\n",
       "    <tr>\n",
       "      <th>96</th>\n",
       "      <td>NaN</td>\n",
       "      <td>NaN</td>\n",
       "      <td>NaN</td>\n",
       "      <td>NaN</td>\n",
       "      <td>NaN</td>\n",
       "      <td>NaN</td>\n",
       "      <td>NaN</td>\n",
       "      <td>NaN</td>\n",
       "      <td>NaN</td>\n",
       "    </tr>\n",
       "    <tr>\n",
       "      <th>97</th>\n",
       "      <td>NaN</td>\n",
       "      <td>NaN</td>\n",
       "      <td>NaN</td>\n",
       "      <td>NaN</td>\n",
       "      <td>NaN</td>\n",
       "      <td>NaN</td>\n",
       "      <td>NaN</td>\n",
       "      <td>NaN</td>\n",
       "      <td>NaN</td>\n",
       "    </tr>\n",
       "  </tbody>\n",
       "</table>\n",
       "<p>98 rows × 9 columns</p>\n",
       "</div>"
      ],
      "text/plain": [
       "                                                 text  sentiment       source  \\\n",
       "0                                I love this product!        1.0      Twitter   \n",
       "1                           The service was terrible.        0.0          NaN   \n",
       "2                              This movie is amazing!        1.0         IMDb   \n",
       "3    I'm so disappointed with their customer support.        0.0      Toronto   \n",
       "4                  Just had the best meal of my life!        1.0  TripAdvisor   \n",
       "..                                                ...        ...          ...   \n",
       "93  I can't stop listening to this song. It's my n...        1.0      Spotify   \n",
       "94  Their website is so confusing and poorly desig...        0.0      Toronto   \n",
       "95  I had an incredible experience at the theme pa...        1.0      Orlando   \n",
       "96                                                NaN        NaN          NaN   \n",
       "97                                                NaN        NaN          NaN   \n",
       "\n",
       "          date      time            user         city confidence  \\\n",
       "0   2023-06-15  09:23:14       @user123,     New York       0.85   \n",
       "1   2023-06-15  11:45:32        user456,  Los Angeles       0.65   \n",
       "2   2023-06-15  14:10:22    moviefan789,       London       0.92   \n",
       "3   2023-06-15  17:35:11     forumuser1,      Toronto       0.78   \n",
       "4   2023-06-16  08:50:59       foodie22,        Paris       0.88   \n",
       "..         ...       ...             ...          ...        ...   \n",
       "93  2023-07-03  09:17:52  musiclover789,       Berlin       0.91   \n",
       "94  2023-07-03  11:59:18        user789,      Toronto       0.68   \n",
       "95  2023-07-03  14:40:05  thrillseeker1,      Orlando       0.89   \n",
       "96         NaN       NaN             NaN          NaN        NaN   \n",
       "97         NaN       NaN             NaN          NaN        NaN   \n",
       "\n",
       "               dateTime  \n",
       "0   2023-06-15 09:23:14  \n",
       "1   2023-06-15 11:45:32  \n",
       "2   2023-06-15 14:10:22  \n",
       "3   2023-06-15 17:35:11  \n",
       "4   2023-06-16 08:50:59  \n",
       "..                  ...  \n",
       "93  2023-07-03 09:17:52  \n",
       "94  2023-07-03 11:59:18  \n",
       "95  2023-07-03 14:40:05  \n",
       "96                  NaN  \n",
       "97                  NaN  \n",
       "\n",
       "[98 rows x 9 columns]"
      ]
     },
     "execution_count": 11,
     "metadata": {},
     "output_type": "execute_result"
    }
   ],
   "source": [
    "reviews_df = df_clean.copy()\n",
    "reviews_df[\"sentiment\"] = np.where(reviews_df[\"sentiment\"] == \"Positive\", 1, np.where(reviews_df[\"sentiment\"] == \"Negative\", 0, np.nan))\n",
    "reviews_df"
   ]
  },
  {
   "cell_type": "code",
   "execution_count": 12,
   "metadata": {},
   "outputs": [
    {
     "data": {
      "text/html": [
       "<div>\n",
       "<style scoped>\n",
       "    .dataframe tbody tr th:only-of-type {\n",
       "        vertical-align: middle;\n",
       "    }\n",
       "\n",
       "    .dataframe tbody tr th {\n",
       "        vertical-align: top;\n",
       "    }\n",
       "\n",
       "    .dataframe thead th {\n",
       "        text-align: right;\n",
       "    }\n",
       "</style>\n",
       "<table border=\"1\" class=\"dataframe\">\n",
       "  <thead>\n",
       "    <tr style=\"text-align: right;\">\n",
       "      <th></th>\n",
       "      <th>text</th>\n",
       "      <th>sentiment</th>\n",
       "      <th>source</th>\n",
       "      <th>date</th>\n",
       "      <th>time</th>\n",
       "      <th>user</th>\n",
       "      <th>city</th>\n",
       "      <th>confidence</th>\n",
       "      <th>dateTime</th>\n",
       "    </tr>\n",
       "  </thead>\n",
       "  <tbody>\n",
       "    <tr>\n",
       "      <th>0</th>\n",
       "      <td>I love this product!</td>\n",
       "      <td>1.0</td>\n",
       "      <td>Twitter</td>\n",
       "      <td>2023-06-15</td>\n",
       "      <td>09:23:14</td>\n",
       "      <td>@user123,</td>\n",
       "      <td>New York</td>\n",
       "      <td>0.85</td>\n",
       "      <td>2023-06-15 09:23:14</td>\n",
       "    </tr>\n",
       "    <tr>\n",
       "      <th>1</th>\n",
       "      <td>The service was terrible.</td>\n",
       "      <td>0.0</td>\n",
       "      <td>NaN</td>\n",
       "      <td>2023-06-15</td>\n",
       "      <td>11:45:32</td>\n",
       "      <td>user456,</td>\n",
       "      <td>Los Angeles</td>\n",
       "      <td>0.65</td>\n",
       "      <td>2023-06-15 11:45:32</td>\n",
       "    </tr>\n",
       "    <tr>\n",
       "      <th>2</th>\n",
       "      <td>This movie is amazing!</td>\n",
       "      <td>1.0</td>\n",
       "      <td>IMDb</td>\n",
       "      <td>2023-06-15</td>\n",
       "      <td>14:10:22</td>\n",
       "      <td>moviefan789,</td>\n",
       "      <td>London</td>\n",
       "      <td>0.92</td>\n",
       "      <td>2023-06-15 14:10:22</td>\n",
       "    </tr>\n",
       "    <tr>\n",
       "      <th>3</th>\n",
       "      <td>I'm so disappointed with their customer support.</td>\n",
       "      <td>0.0</td>\n",
       "      <td>Toronto</td>\n",
       "      <td>2023-06-15</td>\n",
       "      <td>17:35:11</td>\n",
       "      <td>forumuser1,</td>\n",
       "      <td>Toronto</td>\n",
       "      <td>0.78</td>\n",
       "      <td>2023-06-15 17:35:11</td>\n",
       "    </tr>\n",
       "    <tr>\n",
       "      <th>4</th>\n",
       "      <td>Just had the best meal of my life!</td>\n",
       "      <td>1.0</td>\n",
       "      <td>TripAdvisor</td>\n",
       "      <td>2023-06-16</td>\n",
       "      <td>08:50:59</td>\n",
       "      <td>foodie22,</td>\n",
       "      <td>Paris</td>\n",
       "      <td>0.88</td>\n",
       "      <td>2023-06-16 08:50:59</td>\n",
       "    </tr>\n",
       "  </tbody>\n",
       "</table>\n",
       "</div>"
      ],
      "text/plain": [
       "                                               text sentiment       source  \\\n",
       "0                              I love this product!       1.0      Twitter   \n",
       "1                         The service was terrible.       0.0          NaN   \n",
       "2                            This movie is amazing!       1.0         IMDb   \n",
       "3  I'm so disappointed with their customer support.       0.0      Toronto   \n",
       "4                Just had the best meal of my life!       1.0  TripAdvisor   \n",
       "\n",
       "        date      time          user         city  confidence  \\\n",
       "0 2023-06-15  09:23:14     @user123,     New York        0.85   \n",
       "1 2023-06-15  11:45:32      user456,  Los Angeles        0.65   \n",
       "2 2023-06-15  14:10:22  moviefan789,       London        0.92   \n",
       "3 2023-06-15  17:35:11   forumuser1,      Toronto        0.78   \n",
       "4 2023-06-16  08:50:59     foodie22,        Paris        0.88   \n",
       "\n",
       "             dateTime  \n",
       "0 2023-06-15 09:23:14  \n",
       "1 2023-06-15 11:45:32  \n",
       "2 2023-06-15 14:10:22  \n",
       "3 2023-06-15 17:35:11  \n",
       "4 2023-06-16 08:50:59  "
      ]
     },
     "execution_count": 12,
     "metadata": {},
     "output_type": "execute_result"
    }
   ],
   "source": [
    "#changing datatypes\n",
    "from datetime import datetime\n",
    "categories = {\"text\":\"string\",\n",
    "              \"sentiment\":\"category\",\n",
    "              \"source\":\"category\",\n",
    "              \"date\": \"datetime64[ns]\",\n",
    "              \"time\":\"string\",\n",
    "              \"dateTime\":\"datetime64[ns]\",\n",
    "              \"user\":\"category\",\n",
    "              \"city\":\"category\",\n",
    "              \"confidence\":\"float\"}\n",
    "\n",
    "\n",
    "reviews_clean = reviews_df.astype(categories)\n",
    "reviews_clean.head()\n"
   ]
  },
  {
   "cell_type": "code",
   "execution_count": 13,
   "metadata": {},
   "outputs": [
    {
     "data": {
      "text/plain": [
       "text          string[python]\n",
       "sentiment           category\n",
       "source              category\n",
       "date          datetime64[ns]\n",
       "time          string[python]\n",
       "user                category\n",
       "city                category\n",
       "confidence           float64\n",
       "dateTime      datetime64[ns]\n",
       "dtype: object"
      ]
     },
     "execution_count": 13,
     "metadata": {},
     "output_type": "execute_result"
    }
   ],
   "source": [
    "reviews_clean.dtypes"
   ]
  },
  {
   "cell_type": "code",
   "execution_count": 14,
   "metadata": {},
   "outputs": [
    {
     "name": "stdout",
     "output_type": "stream",
     "text": [
      "Axes(0.125,0.11;0.698618x0.77)\n",
      "text           2\n",
      "sentiment      2\n",
      "source        21\n",
      "date           2\n",
      "time           2\n",
      "user           2\n",
      "city           2\n",
      "confidence     2\n",
      "dateTime       2\n",
      "dtype: int64\n"
     ]
    },
    {
     "data": {
      "image/png": "[encoded data removed]",
      "text/plain": [
       "<Figure size 2500x1000 with 2 Axes>"
      ]
     },
     "metadata": {},
     "output_type": "display_data"
    }
   ],
   "source": [
    "import missingno as msno \n",
    "\n",
    "print(msno.matrix(reviews_clean))\n",
    "print(reviews_clean.isna().sum())\n",
    "\n"
   ]
  },
  {
   "cell_type": "markdown",
   "metadata": {},
   "source": [
    "Looking at the amount of missing per column, their locations, and specifically the amount in source, we'll use .dropna() subsetted for all other cols"
   ]
  },
  {
   "cell_type": "code",
   "execution_count": 15,
   "metadata": {},
   "outputs": [
    {
     "name": "stdout",
     "output_type": "stream",
     "text": [
      "text           0\n",
      "sentiment      0\n",
      "source        19\n",
      "date           0\n",
      "time           0\n",
      "user           0\n",
      "city           0\n",
      "confidence     0\n",
      "dateTime       0\n",
      "dtype: int64 (96, 9)\n"
     ]
    }
   ],
   "source": [
    "# Assuming 'reviews_clean' is your DataFrame\n",
    "reviews_clean.dropna(subset=reviews_clean.columns.difference(['source']), inplace= True)\n",
    "print(reviews_clean.isna().sum(),\n",
    "reviews_clean.shape)\n"
   ]
  },
  {
   "cell_type": "code",
   "execution_count": 16,
   "metadata": {},
   "outputs": [
    {
     "data": {
      "text/plain": [
       "[['I love this product!', 1.0],\n",
       " ['The service was terrible.', 0.0],\n",
       " ['This movie is amazing!', 1.0],\n",
       " [\"I'm so disappointed with their customer support.\", 0.0],\n",
       " ['Just had the best meal of my life!', 1.0],\n",
       " ['The quality of this product is subpar.', 0.0],\n",
       " [\"I can't stop listening to this song. It's incredible!\", 1.0],\n",
       " ['Their website is so user-friendly. Love it!', 1.0],\n",
       " ['I loved the movie! It was fantastic!', 1.0],\n",
       " ['The customer service was terrible.', 0.0]]"
      ]
     },
     "execution_count": 16,
     "metadata": {},
     "output_type": "execute_result"
    }
   ],
   "source": [
    "reviews = reviews_clean[[\"text\",\"sentiment\"]].values.tolist()\n",
    "reviews[:10]"
   ]
  },
  {
   "cell_type": "markdown",
   "metadata": {},
   "source": [
    "Modelling using CNN and a fully connected linear layer. Starting with embedding."
   ]
  },
  {
   "cell_type": "code",
   "execution_count": 17,
   "metadata": {},
   "outputs": [
    {
     "name": "stderr",
     "output_type": "stream",
     "text": [
      "[nltk_data] Downloading package stopwords to\n",
      "[nltk_data]     /Users/scottpitcher/nltk_data...\n",
      "[nltk_data]   Package stopwords is already up-to-date!\n"
     ]
    },
    {
     "data": {
      "text/plain": [
       "True"
      ]
     },
     "execution_count": 17,
     "metadata": {},
     "output_type": "execute_result"
    }
   ],
   "source": [
    "import nltk\n",
    "import ssl\n",
    "\n",
    "try:\n",
    "    _create_unverified_https_context = ssl._create_unverified_context\n",
    "except AttributeError:\n",
    "    pass\n",
    "else:\n",
    "    ssl._create_default_https_context = _create_unverified_https_context\n",
    "\n",
    "nltk.download('stopwords')"
   ]
  },
  {
   "cell_type": "code",
   "execution_count": 18,
   "metadata": {},
   "outputs": [],
   "source": [
    "# Define your Dataset class\n",
    "from torch.utils.data import Dataset, DataLoader\n",
    "from sklearn.feature_extraction.text import CountVectorizer\n",
    "from nltk.corpus import stopwords\n",
    "from nltk.stem import PorterStemmer\n",
    "stop_words = set(stopwords.words(\"english\"))\n",
    "\n",
    "tokenizer = get_tokenizer(\"basic_english\")\n",
    "stemmer = PorterStemmer() \n",
    "\n",
    "class CustomerReview(Dataset):\n",
    "    def __init__(self, data):\n",
    "        self.data = data\n",
    "    def __len__(self):\n",
    "        return len(self.data)\n",
    "    def __getitem__(self, idx):\n",
    "        return self.data[idx]\n",
    "\n",
    "\n",
    "def preprocess_sentences(sentences):\n",
    "    processed_sentences = []\n",
    "    for sentence,label in sentences:\n",
    "        sentence = sentence.lower()\n",
    "        tokens = tokenizer(sentence)\n",
    "        tokens = [token for token in tokens if token not in stop_words]\n",
    "        tokens = [stemmer.stem(token) for token in tokens]\n",
    "        processed_sentences.append(' '.join(tokens))\n",
    "    return processed_sentences\n",
    "\n",
    "# Complete the encoding function\n",
    "def encode_sentences(sentences):\n",
    "    vectorizer = CountVectorizer()\n",
    "    X = vectorizer.fit_transform(sentences)\n",
    "    return X.toarray(), vectorizer\n",
    "    \n",
    "# Complete the text processing pipeline\n",
    "def text_processing_pipeline(sentences):\n",
    "    processed_sentences = preprocess_sentences(sentences)\n",
    "    encoded_sentences, vectorizer = encode_sentences(processed_sentences)\n",
    "    dataset = CustomerReview(encoded_sentences)\n",
    "    dataloader = DataLoader(dataset, batch_size=2, shuffle=True)\n",
    "    return dataloader, vectorizer\n"
   ]
  },
  {
   "cell_type": "markdown",
   "metadata": {},
   "source": [
    "### Creating a CNN Network for the reviews"
   ]
  },
  {
   "cell_type": "code",
   "execution_count": 19,
   "metadata": {},
   "outputs": [],
   "source": [
    "reviews_dict = dict(reviews)\n",
    "X_train, X_test, y_train, y_test = train_test_split(list(reviews_dict.keys()), list(reviews_dict.values()), test_size=0.3, random_state=123)\n"
   ]
  },
  {
   "cell_type": "code",
   "execution_count": 20,
   "metadata": {},
   "outputs": [],
   "source": [
    "train_data = zip(X_train, y_train)\n",
    "test_data = zip(X_test, y_test)\n",
    "\n",
    "train_dataloader, train_vectorizer = text_processing_pipeline(train_data)\n",
    "test_dataloader, test_vectorizer = text_processing_pipeline(test_data)\n"
   ]
  },
  {
   "cell_type": "code",
   "execution_count": 21,
   "metadata": {},
   "outputs": [
    {
     "name": "stdout",
     "output_type": "stream",
     "text": [
      "23\n"
     ]
    }
   ],
   "source": [
    "print(len(y_test))"
   ]
  },
  {
   "cell_type": "code",
   "execution_count": 33,
   "metadata": {},
   "outputs": [],
   "source": [
    "import torch\n",
    "import torch.optim as optim\n",
    "import torch.nn as nn\n",
    "import torch.nn.functional as F\n",
    "\n",
    "\n",
    "class TextClassificationCNN(nn.Module):\n",
    "    def __init__(self, vocab_size, embed_dim):\n",
    "        super(TextClassificationCNN, self).__init__()\n",
    "        # initialize the embedding layer\n",
    "        self.embedding = nn.Embedding(vocab_size, embed_dim)\n",
    "        self.conv = nn.Conv1d(embed_dim, embed_dim, kernel_size=3, stride=1, padding=1)\n",
    "        self.fc = nn.Linear(embed_dim, 2)\n",
    "\n",
    "    def forward(self, text):\n",
    "        text = text.unsqueeze(1)\n",
    "        embedded = self.embedding(text).permute(0, 2, 1)\n",
    "        # pass the embedded text through the convolutional layer and apply a ReLU\n",
    "        conved = F.relu(self.conv(embedded))\n",
    "        conved = conved.mean(dim=2)\n",
    "        return self.fc(conved)\n",
    "\n",
    "\n"
   ]
  },
  {
   "cell_type": "code",
   "execution_count": 54,
   "metadata": {},
   "outputs": [
    {
     "name": "stdout",
     "output_type": "stream",
     "text": [
      "PyTorch Version: 2.2.0\n",
      "CUDA Available: False\n",
      "Metal Available: True\n"
     ]
    }
   ],
   "source": [
    "import torch.optim as optim  \n",
    "import torch.nn.functional as F\n",
    "#We can decrease runtime through parallelization of the GPU\n",
    "device = torch.device(\"mps\")\n",
    "\n",
    "print(f\"PyTorch Version: {torch.__version__}\")\n",
    "print(f\"CUDA Available: {torch.cuda.is_available()}\")\n",
    "print(f\"Metal Available: {torch.backends.mps.is_available()}\")  # Check for Metal support"
   ]
  },
  {
   "cell_type": "code",
   "execution_count": 55,
   "metadata": {},
   "outputs": [],
   "source": [
    "criterion = nn.CrossEntropyLoss()\n",
    "model = TextClassificationCNN(vocab_size=len(train_vectorizer.get_feature_names_out()),embed_dim=50).to(device)\n",
    "\n",
    "optimizer = optim.SGD(model.parameters(), lr=0.01)\n",
    "epochs = 20\n",
    "def training_loop(epochs):\n",
    "    for epoch in range(epochs):\n",
    "        model.train()\n",
    "        for inputs, labels in train_dataloader:\n",
    "            inputs, labels = inputs.to(device), labels.to(device)\n",
    "            labels = torch.clamp(labels, 0, 1)\n",
    "            optimizer.zero_grad()\n",
    "            outputs = model(inputs)\n",
    "            loss = criterion(outputs, labels.squeeze())\n",
    "            loss.backward()\n",
    "            optimizer.step()\n",
    "\n"
   ]
  },
  {
   "cell_type": "code",
   "execution_count": 56,
   "metadata": {},
   "outputs": [],
   "source": [
    "# Testing loop\n",
    "accuracy_dict={}\n",
    "def testing_reviews():\n",
    "    model.eval()\n",
    "    correct_predictions = 0\n",
    "    total_samples = 0\n",
    "    i =0\n",
    "    with torch.no_grad():\n",
    "        for inputs, labels in test_dataloader:\n",
    "                inputs, labels = inputs.to(device), labels.to(device)\n",
    "                outputs = model(inputs)\n",
    "                _, predicted = torch.max(outputs, 1)\n",
    "                correct_predictions += (predicted == labels.squeeze()).sum().item()\n",
    "                total_samples += labels.size(0)\n",
    "                accuracy = correct_predictions / total_samples\n",
    "                i+=1\n",
    "                if i == 11:\n",
    "                    break\n",
    "                return accuracy"
   ]
  },
  {
   "cell_type": "code",
   "execution_count": 62,
   "metadata": {},
   "outputs": [],
   "source": [
    "test_acc={}\n",
    "for i in range(15,21):\n",
    "    training_loop(i)\n",
    "    accuracy = testing_reviews()\n",
    "    test_acc[i]=accuracy\n",
    "\n",
    "train_acc={}\n",
    "for i in np.arange(15,21):\n",
    "    training_loop(i)\n",
    "    accuracy = testing_reviews()\n",
    "    train_acc[i]=accuracy"
   ]
  },
  {
   "cell_type": "code",
   "execution_count": 63,
   "metadata": {},
   "outputs": [
    {
     "data": {
      "image/png": "[encoded data removed]",
      "text/plain": [
       "<Figure size 640x480 with 1 Axes>"
      ]
     },
     "metadata": {},
     "output_type": "display_data"
    }
   ],
   "source": [
    "import matplotlib.pyplot as plt\n",
    "\n",
    "plt.plot(test_acc.keys(), test_acc.values(), marker='o', markerfacecolor='darkgreen', label='Test Accuracy')\n",
    "plt.plot(train_acc.keys(), train_acc.values(), marker='v', c='red', markerfacecolor='black', label='Train Accuracy')\n",
    "\n",
    "plt.xlabel(\"Epoch\")\n",
    "plt.xticks(rotation=45)\n",
    "plt.ylabel('Accuracy')\n",
    "plt.title(\"Epoch vs. Accuracy for Model\")\n",
    "plt.legend()  \n",
    "plt.show()\n",
    "\n"
   ]
  },
  {
   "cell_type": "code",
   "execution_count": 64,
   "metadata": {},
   "outputs": [
    {
     "name": "stdout",
     "output_type": "stream",
     "text": [
      "Maximum accuracy (94.85%) achieved at epoch 21\n"
     ]
    }
   ],
   "source": [
    "max_epoch = max(test_acc)\n",
    "max_accuracy = test_acc[max_epoch]\n",
    "\n",
    "print(f\"Maximum accuracy ({max_accuracy * 100:.2f}%) achieved at epoch {max_epoch + 1}\")\n"
   ]
  },
  {
   "cell_type": "code",
   "execution_count": null,
   "metadata": {},
   "outputs": [],
   "source": []
  }
 ],
 "metadata": {
  "kernelspec": {
   "display_name": "Python 3",
   "language": "python",
   "name": "python3"
  },
  "language_info": {
   "codemirror_mode": {
    "name": "ipython",
    "version": 3
   },
   "file_extension": ".py",
   "mimetype": "text/x-python",
   "name": "python",
   "nbconvert_exporter": "python",
   "pygments_lexer": "ipython3",
   "version": "3.12.0"
  }
 },
 "nbformat": 4,
 "nbformat_minor": 2
}
