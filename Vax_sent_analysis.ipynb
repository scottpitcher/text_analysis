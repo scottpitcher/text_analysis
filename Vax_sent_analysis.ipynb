{
 "cells": [
  {
   "cell_type": "code",
   "execution_count": 1,
   "metadata": {},
   "outputs": [],
   "source": [
    "import pandas as pd\n",
    "from sklearn.feature_extraction.text import TfidfVectorizer\n",
    "import numpy as np\n",
    "from torchtext.data.utils import get_tokenizer\n",
    "from nltk.probability import FreqDist\n",
    "from sklearn.feature_extraction.text import TfidfVectorizer\n",
    "from sklearn.model_selection import train_test_split"
   ]
  },
  {
   "cell_type": "code",
   "execution_count": 2,
   "metadata": {},
   "outputs": [],
   "source": [
    "# Part 1: Supervised"
   ]
  },
  {
   "cell_type": "code",
   "execution_count": 3,
   "metadata": {},
   "outputs": [
    {
     "data": {
      "text/html": [
       "<div>\n",
       "<style scoped>\n",
       "    .dataframe tbody tr th:only-of-type {\n",
       "        vertical-align: middle;\n",
       "    }\n",
       "\n",
       "    .dataframe tbody tr th {\n",
       "        vertical-align: top;\n",
       "    }\n",
       "\n",
       "    .dataframe thead th {\n",
       "        text-align: right;\n",
       "    }\n",
       "</style>\n",
       "<table border=\"1\" class=\"dataframe\">\n",
       "  <thead>\n",
       "    <tr style=\"text-align: right;\">\n",
       "      <th></th>\n",
       "      <th>Text, Sentiment, Source, Date/Time, User ID, Location, Confidence Score</th>\n",
       "    </tr>\n",
       "  </thead>\n",
       "  <tbody>\n",
       "    <tr>\n",
       "      <th>0</th>\n",
       "      <td>\"I love this product!\", Positive, Twitter, 202...</td>\n",
       "    </tr>\n",
       "    <tr>\n",
       "      <th>1</th>\n",
       "      <td>\"The service was terrible.\", Negative, Yelp Re...</td>\n",
       "    </tr>\n",
       "    <tr>\n",
       "      <th>2</th>\n",
       "      <td>\"This movie is amazing!\", Positive, IMDb, 2023...</td>\n",
       "    </tr>\n",
       "    <tr>\n",
       "      <th>3</th>\n",
       "      <td>\"I'm so disappointed with their customer suppo...</td>\n",
       "    </tr>\n",
       "    <tr>\n",
       "      <th>4</th>\n",
       "      <td>\"Just had the best meal of my life!\", Positive...</td>\n",
       "    </tr>\n",
       "  </tbody>\n",
       "</table>\n",
       "</div>"
      ],
      "text/plain": [
       "  Text, Sentiment, Source, Date/Time, User ID, Location, Confidence Score\n",
       "0  \"I love this product!\", Positive, Twitter, 202...                     \n",
       "1  \"The service was terrible.\", Negative, Yelp Re...                     \n",
       "2  \"This movie is amazing!\", Positive, IMDb, 2023...                     \n",
       "3  \"I'm so disappointed with their customer suppo...                     \n",
       "4  \"Just had the best meal of my life!\", Positive...                     "
      ]
     },
     "execution_count": 3,
     "metadata": {},
     "output_type": "execute_result"
    }
   ],
   "source": [
    "reviews = pd.read_csv(\"data/customer_review_text.csv\")\n",
    "reviews.head()\n"
   ]
  },
  {
   "cell_type": "markdown",
   "metadata": {},
   "source": [
    "This data is extremely messy. While the data is complete, all columns [Text, Sentiment, Source, Date Time, User ID, Location, and Conf. score] are all within the same column. We will use regexp to separate them into different columns."
   ]
  },
  {
   "cell_type": "code",
   "execution_count": 4,
   "metadata": {},
   "outputs": [
    {
     "data": {
      "text/plain": [
       "'\"I love this product!\", Positive, Twitter, 2023-06-15 09:23:14, @user123, New York, 0.85'"
      ]
     },
     "execution_count": 4,
     "metadata": {},
     "output_type": "execute_result"
    }
   ],
   "source": [
    "reviews.iloc[0,0]"
   ]
  },
  {
   "cell_type": "code",
   "execution_count": 5,
   "metadata": {},
   "outputs": [
    {
     "data": {
      "text/plain": [
       "(98, 1)"
      ]
     },
     "execution_count": 5,
     "metadata": {},
     "output_type": "execute_result"
    }
   ],
   "source": [
    "reviews.shape"
   ]
  },
  {
   "cell_type": "code",
   "execution_count": 6,
   "metadata": {},
   "outputs": [
    {
     "name": "stdout",
     "output_type": "stream",
     "text": [
      "\"I love this product!\", Positive, Twitter, 2023-06-15 09:23:14, @user123, New York, 0.85\n",
      "\"The service was terrible.\", Negative, Yelp Reviews, 2023-06-15 11:45:32, user456, Los Angeles, 0.65\n",
      "\"This movie is amazing!\", Positive, IMDb, 2023-06-15 14:10:22, moviefan789, London, 0.92\n",
      "\"I'm so disappointed with their customer support.\", Negative, Online Forum, 2023-06-15 17:35:11, forumuser1, Toronto, 0.78\n",
      "\"Just had the best meal of my life!\", Positive, TripAdvisor, 2023-06-16 08:50:59, foodie22, Paris, 0.88\n"
     ]
    }
   ],
   "source": [
    "for i in range(5):\n",
    "    print(reviews.iloc[i,0])"
   ]
  },
  {
   "cell_type": "markdown",
   "metadata": {},
   "source": [
    "First, rename the column for ease of use later in the code."
   ]
  },
  {
   "cell_type": "code",
   "execution_count": 7,
   "metadata": {},
   "outputs": [
    {
     "data": {
      "text/plain": [
       "'Text, Sentiment, Source, Date/Time, User ID, Location, Confidence Score'"
      ]
     },
     "execution_count": 7,
     "metadata": {},
     "output_type": "execute_result"
    }
   ],
   "source": [
    "col = reviews.columns[0]\n",
    "col"
   ]
  },
  {
   "cell_type": "code",
   "execution_count": 8,
   "metadata": {},
   "outputs": [],
   "source": [
    "df_clean = pd.DataFrame({\n",
    "   \"text\": reviews[col].str.extract(r'\"([^\"]+)\"', expand=False),\n",
    "   \"sentiment\": reviews[col].str.extract(r'(Positive|Negative)', expand=False),\n",
    "   \"source\": reviews[col].str.extract(r'\\S+, \\S+, (\\S+),', expand=False),\n",
    "   \"date\": reviews[col].str.extract(r'(\\d{4}-\\d{2}-\\d{2})', expand=False),\n",
    "   \"time\": reviews[col].str.extract(r'(\\d{2}:\\d{2}:\\d{2})', expand=False),\n",
    "   \"user\": reviews[col].str.extract(r'\\d{2}:\\d{2}:\\d{2}, (\\S+)', expand=False),\n",
    "   \"city\": reviews[col].str.extract(r'\\d{2}:\\d{2}:\\d{2}, \\S+, (.+?), 0\\.\\d{2}$', expand=False),\n",
    "   \"confidence\": reviews[col].str.extract(r'(0\\.\\d{2}$)', expand=False)\n",
    "   })\n",
    "\n",
    "df_clean[\"dateTime\"] = df_clean[\"date\"]+\" \"+df_clean[\"time\"]\n"
   ]
  },
  {
   "cell_type": "code",
   "execution_count": 9,
   "metadata": {},
   "outputs": [
    {
     "data": {
      "text/html": [
       "<div>\n",
       "<style scoped>\n",
       "    .dataframe tbody tr th:only-of-type {\n",
       "        vertical-align: middle;\n",
       "    }\n",
       "\n",
       "    .dataframe tbody tr th {\n",
       "        vertical-align: top;\n",
       "    }\n",
       "\n",
       "    .dataframe thead th {\n",
       "        text-align: right;\n",
       "    }\n",
       "</style>\n",
       "<table border=\"1\" class=\"dataframe\">\n",
       "  <thead>\n",
       "    <tr style=\"text-align: right;\">\n",
       "      <th></th>\n",
       "      <th>text</th>\n",
       "      <th>sentiment</th>\n",
       "      <th>source</th>\n",
       "      <th>date</th>\n",
       "      <th>time</th>\n",
       "      <th>user</th>\n",
       "      <th>city</th>\n",
       "      <th>confidence</th>\n",
       "      <th>dateTime</th>\n",
       "    </tr>\n",
       "  </thead>\n",
       "  <tbody>\n",
       "    <tr>\n",
       "      <th>0</th>\n",
       "      <td>I love this product!</td>\n",
       "      <td>Positive</td>\n",
       "      <td>Twitter</td>\n",
       "      <td>2023-06-15</td>\n",
       "      <td>09:23:14</td>\n",
       "      <td>@user123,</td>\n",
       "      <td>New York</td>\n",
       "      <td>0.85</td>\n",
       "      <td>2023-06-15 09:23:14</td>\n",
       "    </tr>\n",
       "    <tr>\n",
       "      <th>1</th>\n",
       "      <td>The service was terrible.</td>\n",
       "      <td>Negative</td>\n",
       "      <td>NaN</td>\n",
       "      <td>2023-06-15</td>\n",
       "      <td>11:45:32</td>\n",
       "      <td>user456,</td>\n",
       "      <td>Los Angeles</td>\n",
       "      <td>0.65</td>\n",
       "      <td>2023-06-15 11:45:32</td>\n",
       "    </tr>\n",
       "    <tr>\n",
       "      <th>2</th>\n",
       "      <td>This movie is amazing!</td>\n",
       "      <td>Positive</td>\n",
       "      <td>IMDb</td>\n",
       "      <td>2023-06-15</td>\n",
       "      <td>14:10:22</td>\n",
       "      <td>moviefan789,</td>\n",
       "      <td>London</td>\n",
       "      <td>0.92</td>\n",
       "      <td>2023-06-15 14:10:22</td>\n",
       "    </tr>\n",
       "    <tr>\n",
       "      <th>3</th>\n",
       "      <td>I'm so disappointed with their customer support.</td>\n",
       "      <td>Negative</td>\n",
       "      <td>Toronto</td>\n",
       "      <td>2023-06-15</td>\n",
       "      <td>17:35:11</td>\n",
       "      <td>forumuser1,</td>\n",
       "      <td>Toronto</td>\n",
       "      <td>0.78</td>\n",
       "      <td>2023-06-15 17:35:11</td>\n",
       "    </tr>\n",
       "    <tr>\n",
       "      <th>4</th>\n",
       "      <td>Just had the best meal of my life!</td>\n",
       "      <td>Positive</td>\n",
       "      <td>TripAdvisor</td>\n",
       "      <td>2023-06-16</td>\n",
       "      <td>08:50:59</td>\n",
       "      <td>foodie22,</td>\n",
       "      <td>Paris</td>\n",
       "      <td>0.88</td>\n",
       "      <td>2023-06-16 08:50:59</td>\n",
       "    </tr>\n",
       "  </tbody>\n",
       "</table>\n",
       "</div>"
      ],
      "text/plain": [
       "                                               text sentiment       source  \\\n",
       "0                              I love this product!  Positive      Twitter   \n",
       "1                         The service was terrible.  Negative          NaN   \n",
       "2                            This movie is amazing!  Positive         IMDb   \n",
       "3  I'm so disappointed with their customer support.  Negative      Toronto   \n",
       "4                Just had the best meal of my life!  Positive  TripAdvisor   \n",
       "\n",
       "         date      time          user         city confidence  \\\n",
       "0  2023-06-15  09:23:14     @user123,     New York       0.85   \n",
       "1  2023-06-15  11:45:32      user456,  Los Angeles       0.65   \n",
       "2  2023-06-15  14:10:22  moviefan789,       London       0.92   \n",
       "3  2023-06-15  17:35:11   forumuser1,      Toronto       0.78   \n",
       "4  2023-06-16  08:50:59     foodie22,        Paris       0.88   \n",
       "\n",
       "              dateTime  \n",
       "0  2023-06-15 09:23:14  \n",
       "1  2023-06-15 11:45:32  \n",
       "2  2023-06-15 14:10:22  \n",
       "3  2023-06-15 17:35:11  \n",
       "4  2023-06-16 08:50:59  "
      ]
     },
     "execution_count": 9,
     "metadata": {},
     "output_type": "execute_result"
    }
   ],
   "source": [
    "df_clean.head()"
   ]
  },
  {
   "cell_type": "code",
   "execution_count": 10,
   "metadata": {},
   "outputs": [
    {
     "data": {
      "text/plain": [
       "text          object\n",
       "sentiment     object\n",
       "source        object\n",
       "date          object\n",
       "time          object\n",
       "user          object\n",
       "city          object\n",
       "confidence    object\n",
       "dateTime      object\n",
       "dtype: object"
      ]
     },
     "execution_count": 10,
     "metadata": {},
     "output_type": "execute_result"
    }
   ],
   "source": [
    "df_clean.dtypes"
   ]
  },
  {
   "cell_type": "markdown",
   "metadata": {},
   "source": [
    "### Changing DataTypes"
   ]
  },
  {
   "cell_type": "code",
   "execution_count": 11,
   "metadata": {},
   "outputs": [
    {
     "data": {
      "text/plain": [
       "sentiment\n",
       "Positive    53\n",
       "Negative    43\n",
       "Name: count, dtype: int64"
      ]
     },
     "execution_count": 11,
     "metadata": {},
     "output_type": "execute_result"
    }
   ],
   "source": [
    "df_clean[\"sentiment\"].value_counts()"
   ]
  },
  {
   "cell_type": "code",
   "execution_count": 12,
   "metadata": {},
   "outputs": [
    {
     "data": {
      "text/html": [
       "<div>\n",
       "<style scoped>\n",
       "    .dataframe tbody tr th:only-of-type {\n",
       "        vertical-align: middle;\n",
       "    }\n",
       "\n",
       "    .dataframe tbody tr th {\n",
       "        vertical-align: top;\n",
       "    }\n",
       "\n",
       "    .dataframe thead th {\n",
       "        text-align: right;\n",
       "    }\n",
       "</style>\n",
       "<table border=\"1\" class=\"dataframe\">\n",
       "  <thead>\n",
       "    <tr style=\"text-align: right;\">\n",
       "      <th></th>\n",
       "      <th>text</th>\n",
       "      <th>sentiment</th>\n",
       "      <th>source</th>\n",
       "      <th>date</th>\n",
       "      <th>time</th>\n",
       "      <th>user</th>\n",
       "      <th>city</th>\n",
       "      <th>confidence</th>\n",
       "      <th>dateTime</th>\n",
       "    </tr>\n",
       "  </thead>\n",
       "  <tbody>\n",
       "    <tr>\n",
       "      <th>0</th>\n",
       "      <td>I love this product!</td>\n",
       "      <td>1.0</td>\n",
       "      <td>Twitter</td>\n",
       "      <td>2023-06-15</td>\n",
       "      <td>09:23:14</td>\n",
       "      <td>@user123,</td>\n",
       "      <td>New York</td>\n",
       "      <td>0.85</td>\n",
       "      <td>2023-06-15 09:23:14</td>\n",
       "    </tr>\n",
       "    <tr>\n",
       "      <th>1</th>\n",
       "      <td>The service was terrible.</td>\n",
       "      <td>0.0</td>\n",
       "      <td>NaN</td>\n",
       "      <td>2023-06-15</td>\n",
       "      <td>11:45:32</td>\n",
       "      <td>user456,</td>\n",
       "      <td>Los Angeles</td>\n",
       "      <td>0.65</td>\n",
       "      <td>2023-06-15 11:45:32</td>\n",
       "    </tr>\n",
       "    <tr>\n",
       "      <th>2</th>\n",
       "      <td>This movie is amazing!</td>\n",
       "      <td>1.0</td>\n",
       "      <td>IMDb</td>\n",
       "      <td>2023-06-15</td>\n",
       "      <td>14:10:22</td>\n",
       "      <td>moviefan789,</td>\n",
       "      <td>London</td>\n",
       "      <td>0.92</td>\n",
       "      <td>2023-06-15 14:10:22</td>\n",
       "    </tr>\n",
       "    <tr>\n",
       "      <th>3</th>\n",
       "      <td>I'm so disappointed with their customer support.</td>\n",
       "      <td>0.0</td>\n",
       "      <td>Toronto</td>\n",
       "      <td>2023-06-15</td>\n",
       "      <td>17:35:11</td>\n",
       "      <td>forumuser1,</td>\n",
       "      <td>Toronto</td>\n",
       "      <td>0.78</td>\n",
       "      <td>2023-06-15 17:35:11</td>\n",
       "    </tr>\n",
       "    <tr>\n",
       "      <th>4</th>\n",
       "      <td>Just had the best meal of my life!</td>\n",
       "      <td>1.0</td>\n",
       "      <td>TripAdvisor</td>\n",
       "      <td>2023-06-16</td>\n",
       "      <td>08:50:59</td>\n",
       "      <td>foodie22,</td>\n",
       "      <td>Paris</td>\n",
       "      <td>0.88</td>\n",
       "      <td>2023-06-16 08:50:59</td>\n",
       "    </tr>\n",
       "    <tr>\n",
       "      <th>...</th>\n",
       "      <td>...</td>\n",
       "      <td>...</td>\n",
       "      <td>...</td>\n",
       "      <td>...</td>\n",
       "      <td>...</td>\n",
       "      <td>...</td>\n",
       "      <td>...</td>\n",
       "      <td>...</td>\n",
       "      <td>...</td>\n",
       "    </tr>\n",
       "    <tr>\n",
       "      <th>93</th>\n",
       "      <td>I can't stop listening to this song. It's my n...</td>\n",
       "      <td>1.0</td>\n",
       "      <td>Spotify</td>\n",
       "      <td>2023-07-03</td>\n",
       "      <td>09:17:52</td>\n",
       "      <td>musiclover789,</td>\n",
       "      <td>Berlin</td>\n",
       "      <td>0.91</td>\n",
       "      <td>2023-07-03 09:17:52</td>\n",
       "    </tr>\n",
       "    <tr>\n",
       "      <th>94</th>\n",
       "      <td>Their website is so confusing and poorly desig...</td>\n",
       "      <td>0.0</td>\n",
       "      <td>Toronto</td>\n",
       "      <td>2023-07-03</td>\n",
       "      <td>11:59:18</td>\n",
       "      <td>user789,</td>\n",
       "      <td>Toronto</td>\n",
       "      <td>0.68</td>\n",
       "      <td>2023-07-03 11:59:18</td>\n",
       "    </tr>\n",
       "    <tr>\n",
       "      <th>95</th>\n",
       "      <td>I had an incredible experience at the theme pa...</td>\n",
       "      <td>1.0</td>\n",
       "      <td>Orlando</td>\n",
       "      <td>2023-07-03</td>\n",
       "      <td>14:40:05</td>\n",
       "      <td>thrillseeker1,</td>\n",
       "      <td>Orlando</td>\n",
       "      <td>0.89</td>\n",
       "      <td>2023-07-03 14:40:05</td>\n",
       "    </tr>\n",
       "    <tr>\n",
       "      <th>96</th>\n",
       "      <td>NaN</td>\n",
       "      <td>NaN</td>\n",
       "      <td>NaN</td>\n",
       "      <td>NaN</td>\n",
       "      <td>NaN</td>\n",
       "      <td>NaN</td>\n",
       "      <td>NaN</td>\n",
       "      <td>NaN</td>\n",
       "      <td>NaN</td>\n",
       "    </tr>\n",
       "    <tr>\n",
       "      <th>97</th>\n",
       "      <td>NaN</td>\n",
       "      <td>NaN</td>\n",
       "      <td>NaN</td>\n",
       "      <td>NaN</td>\n",
       "      <td>NaN</td>\n",
       "      <td>NaN</td>\n",
       "      <td>NaN</td>\n",
       "      <td>NaN</td>\n",
       "      <td>NaN</td>\n",
       "    </tr>\n",
       "  </tbody>\n",
       "</table>\n",
       "<p>98 rows × 9 columns</p>\n",
       "</div>"
      ],
      "text/plain": [
       "                                                 text  sentiment       source  \\\n",
       "0                                I love this product!        1.0      Twitter   \n",
       "1                           The service was terrible.        0.0          NaN   \n",
       "2                              This movie is amazing!        1.0         IMDb   \n",
       "3    I'm so disappointed with their customer support.        0.0      Toronto   \n",
       "4                  Just had the best meal of my life!        1.0  TripAdvisor   \n",
       "..                                                ...        ...          ...   \n",
       "93  I can't stop listening to this song. It's my n...        1.0      Spotify   \n",
       "94  Their website is so confusing and poorly desig...        0.0      Toronto   \n",
       "95  I had an incredible experience at the theme pa...        1.0      Orlando   \n",
       "96                                                NaN        NaN          NaN   \n",
       "97                                                NaN        NaN          NaN   \n",
       "\n",
       "          date      time            user         city confidence  \\\n",
       "0   2023-06-15  09:23:14       @user123,     New York       0.85   \n",
       "1   2023-06-15  11:45:32        user456,  Los Angeles       0.65   \n",
       "2   2023-06-15  14:10:22    moviefan789,       London       0.92   \n",
       "3   2023-06-15  17:35:11     forumuser1,      Toronto       0.78   \n",
       "4   2023-06-16  08:50:59       foodie22,        Paris       0.88   \n",
       "..         ...       ...             ...          ...        ...   \n",
       "93  2023-07-03  09:17:52  musiclover789,       Berlin       0.91   \n",
       "94  2023-07-03  11:59:18        user789,      Toronto       0.68   \n",
       "95  2023-07-03  14:40:05  thrillseeker1,      Orlando       0.89   \n",
       "96         NaN       NaN             NaN          NaN        NaN   \n",
       "97         NaN       NaN             NaN          NaN        NaN   \n",
       "\n",
       "               dateTime  \n",
       "0   2023-06-15 09:23:14  \n",
       "1   2023-06-15 11:45:32  \n",
       "2   2023-06-15 14:10:22  \n",
       "3   2023-06-15 17:35:11  \n",
       "4   2023-06-16 08:50:59  \n",
       "..                  ...  \n",
       "93  2023-07-03 09:17:52  \n",
       "94  2023-07-03 11:59:18  \n",
       "95  2023-07-03 14:40:05  \n",
       "96                  NaN  \n",
       "97                  NaN  \n",
       "\n",
       "[98 rows x 9 columns]"
      ]
     },
     "execution_count": 12,
     "metadata": {},
     "output_type": "execute_result"
    }
   ],
   "source": [
    "reviews_df = df_clean.copy()\n",
    "reviews_df[\"sentiment\"] = np.where(reviews_df[\"sentiment\"] == \"Positive\", 1, np.where(reviews_df[\"sentiment\"] == \"Negative\", 0, np.nan))\n",
    "reviews_df"
   ]
  },
  {
   "cell_type": "code",
   "execution_count": 13,
   "metadata": {},
   "outputs": [
    {
     "data": {
      "text/html": [
       "<div>\n",
       "<style scoped>\n",
       "    .dataframe tbody tr th:only-of-type {\n",
       "        vertical-align: middle;\n",
       "    }\n",
       "\n",
       "    .dataframe tbody tr th {\n",
       "        vertical-align: top;\n",
       "    }\n",
       "\n",
       "    .dataframe thead th {\n",
       "        text-align: right;\n",
       "    }\n",
       "</style>\n",
       "<table border=\"1\" class=\"dataframe\">\n",
       "  <thead>\n",
       "    <tr style=\"text-align: right;\">\n",
       "      <th></th>\n",
       "      <th>text</th>\n",
       "      <th>sentiment</th>\n",
       "      <th>source</th>\n",
       "      <th>date</th>\n",
       "      <th>time</th>\n",
       "      <th>user</th>\n",
       "      <th>city</th>\n",
       "      <th>confidence</th>\n",
       "      <th>dateTime</th>\n",
       "    </tr>\n",
       "  </thead>\n",
       "  <tbody>\n",
       "    <tr>\n",
       "      <th>0</th>\n",
       "      <td>I love this product!</td>\n",
       "      <td>1.0</td>\n",
       "      <td>Twitter</td>\n",
       "      <td>2023-06-15</td>\n",
       "      <td>09:23:14</td>\n",
       "      <td>@user123,</td>\n",
       "      <td>New York</td>\n",
       "      <td>0.85</td>\n",
       "      <td>2023-06-15 09:23:14</td>\n",
       "    </tr>\n",
       "    <tr>\n",
       "      <th>1</th>\n",
       "      <td>The service was terrible.</td>\n",
       "      <td>0.0</td>\n",
       "      <td>NaN</td>\n",
       "      <td>2023-06-15</td>\n",
       "      <td>11:45:32</td>\n",
       "      <td>user456,</td>\n",
       "      <td>Los Angeles</td>\n",
       "      <td>0.65</td>\n",
       "      <td>2023-06-15 11:45:32</td>\n",
       "    </tr>\n",
       "    <tr>\n",
       "      <th>2</th>\n",
       "      <td>This movie is amazing!</td>\n",
       "      <td>1.0</td>\n",
       "      <td>IMDb</td>\n",
       "      <td>2023-06-15</td>\n",
       "      <td>14:10:22</td>\n",
       "      <td>moviefan789,</td>\n",
       "      <td>London</td>\n",
       "      <td>0.92</td>\n",
       "      <td>2023-06-15 14:10:22</td>\n",
       "    </tr>\n",
       "    <tr>\n",
       "      <th>3</th>\n",
       "      <td>I'm so disappointed with their customer support.</td>\n",
       "      <td>0.0</td>\n",
       "      <td>Toronto</td>\n",
       "      <td>2023-06-15</td>\n",
       "      <td>17:35:11</td>\n",
       "      <td>forumuser1,</td>\n",
       "      <td>Toronto</td>\n",
       "      <td>0.78</td>\n",
       "      <td>2023-06-15 17:35:11</td>\n",
       "    </tr>\n",
       "    <tr>\n",
       "      <th>4</th>\n",
       "      <td>Just had the best meal of my life!</td>\n",
       "      <td>1.0</td>\n",
       "      <td>TripAdvisor</td>\n",
       "      <td>2023-06-16</td>\n",
       "      <td>08:50:59</td>\n",
       "      <td>foodie22,</td>\n",
       "      <td>Paris</td>\n",
       "      <td>0.88</td>\n",
       "      <td>2023-06-16 08:50:59</td>\n",
       "    </tr>\n",
       "  </tbody>\n",
       "</table>\n",
       "</div>"
      ],
      "text/plain": [
       "                                               text sentiment       source  \\\n",
       "0                              I love this product!       1.0      Twitter   \n",
       "1                         The service was terrible.       0.0          NaN   \n",
       "2                            This movie is amazing!       1.0         IMDb   \n",
       "3  I'm so disappointed with their customer support.       0.0      Toronto   \n",
       "4                Just had the best meal of my life!       1.0  TripAdvisor   \n",
       "\n",
       "        date      time          user         city  confidence  \\\n",
       "0 2023-06-15  09:23:14     @user123,     New York        0.85   \n",
       "1 2023-06-15  11:45:32      user456,  Los Angeles        0.65   \n",
       "2 2023-06-15  14:10:22  moviefan789,       London        0.92   \n",
       "3 2023-06-15  17:35:11   forumuser1,      Toronto        0.78   \n",
       "4 2023-06-16  08:50:59     foodie22,        Paris        0.88   \n",
       "\n",
       "             dateTime  \n",
       "0 2023-06-15 09:23:14  \n",
       "1 2023-06-15 11:45:32  \n",
       "2 2023-06-15 14:10:22  \n",
       "3 2023-06-15 17:35:11  \n",
       "4 2023-06-16 08:50:59  "
      ]
     },
     "execution_count": 13,
     "metadata": {},
     "output_type": "execute_result"
    }
   ],
   "source": [
    "#changing datatypes\n",
    "from datetime import datetime\n",
    "categories = {\"text\":\"string\",\n",
    "              \"sentiment\":\"category\",\n",
    "              \"source\":\"category\",\n",
    "              \"date\": \"datetime64[ns]\",\n",
    "              \"time\":\"string\",\n",
    "              \"dateTime\":\"datetime64[ns]\",\n",
    "              \"user\":\"category\",\n",
    "              \"city\":\"category\",\n",
    "              \"confidence\":\"float\"}\n",
    "\n",
    "\n",
    "reviews_clean = reviews_df.astype(categories)\n",
    "reviews_clean.head()\n"
   ]
  },
  {
   "cell_type": "code",
   "execution_count": 14,
   "metadata": {},
   "outputs": [
    {
     "data": {
      "text/plain": [
       "text          string[python]\n",
       "sentiment           category\n",
       "source              category\n",
       "date          datetime64[ns]\n",
       "time          string[python]\n",
       "user                category\n",
       "city                category\n",
       "confidence           float64\n",
       "dateTime      datetime64[ns]\n",
       "dtype: object"
      ]
     },
     "execution_count": 14,
     "metadata": {},
     "output_type": "execute_result"
    }
   ],
   "source": [
    "reviews_clean.dtypes"
   ]
  },
  {
   "cell_type": "code",
   "execution_count": 15,
   "metadata": {},
   "outputs": [
    {
     "name": "stdout",
     "output_type": "stream",
     "text": [
      "Axes(0.125,0.11;0.698618x0.77)\n",
      "text           2\n",
      "sentiment      2\n",
      "source        21\n",
      "date           2\n",
      "time           2\n",
      "user           2\n",
      "city           2\n",
      "confidence     2\n",
      "dateTime       2\n",
      "dtype: int64\n"
     ]
    },
    {
     "data": {
      "image/png": "[encoded data removed]",
      "text/plain": [
       "<Figure size 2500x1000 with 2 Axes>"
      ]
     },
     "metadata": {},
     "output_type": "display_data"
    }
   ],
   "source": [
    "import missingno as msno \n",
    "\n",
    "print(msno.matrix(reviews_clean))\n",
    "print(reviews_clean.isna().sum())\n",
    "\n"
   ]
  },
  {
   "cell_type": "markdown",
   "metadata": {},
   "source": [
    "Looking at the amount of missing per column, their locations, and specifically the amount in source, we'll use .dropna() subsetted for all other cols"
   ]
  },
  {
   "cell_type": "code",
   "execution_count": 16,
   "metadata": {},
   "outputs": [
    {
     "name": "stdout",
     "output_type": "stream",
     "text": [
      "text           0\n",
      "sentiment      0\n",
      "source        19\n",
      "date           0\n",
      "time           0\n",
      "user           0\n",
      "city           0\n",
      "confidence     0\n",
      "dateTime       0\n",
      "dtype: int64 (96, 9)\n"
     ]
    }
   ],
   "source": [
    "# Assuming 'reviews_clean' is your DataFrame\n",
    "reviews_clean.dropna(subset=reviews_clean.columns.difference(['source']), inplace= True)\n",
    "print(reviews_clean.isna().sum(),\n",
    "reviews_clean.shape)\n"
   ]
  },
  {
   "cell_type": "code",
   "execution_count": 17,
   "metadata": {},
   "outputs": [
    {
     "data": {
      "text/plain": [
       "[['I love this product!', 1.0],\n",
       " ['The service was terrible.', 0.0],\n",
       " ['This movie is amazing!', 1.0],\n",
       " [\"I'm so disappointed with their customer support.\", 0.0],\n",
       " ['Just had the best meal of my life!', 1.0],\n",
       " ['The quality of this product is subpar.', 0.0],\n",
       " [\"I can't stop listening to this song. It's incredible!\", 1.0],\n",
       " ['Their website is so user-friendly. Love it!', 1.0],\n",
       " ['I loved the movie! It was fantastic!', 1.0],\n",
       " ['The customer service was terrible.', 0.0]]"
      ]
     },
     "execution_count": 17,
     "metadata": {},
     "output_type": "execute_result"
    }
   ],
   "source": [
    "reviews = reviews_clean[[\"text\",\"sentiment\"]].values.tolist()\n",
    "reviews[:10]"
   ]
  },
  {
   "cell_type": "markdown",
   "metadata": {},
   "source": [
    "Modelling using CNN and a fully connected linear layer. Starting with embedding."
   ]
  },
  {
   "cell_type": "code",
   "execution_count": 18,
   "metadata": {},
   "outputs": [
    {
     "name": "stderr",
     "output_type": "stream",
     "text": [
      "[nltk_data] Downloading package stopwords to\n",
      "[nltk_data]     /Users/scottpitcher/nltk_data...\n",
      "[nltk_data]   Package stopwords is already up-to-date!\n"
     ]
    },
    {
     "data": {
      "text/plain": [
       "True"
      ]
     },
     "execution_count": 18,
     "metadata": {},
     "output_type": "execute_result"
    }
   ],
   "source": [
    "import nltk\n",
    "import ssl\n",
    "\n",
    "try:\n",
    "    _create_unverified_https_context = ssl._create_unverified_context\n",
    "except AttributeError:\n",
    "    pass\n",
    "else:\n",
    "    ssl._create_default_https_context = _create_unverified_https_context\n",
    "\n",
    "nltk.download('stopwords')"
   ]
  },
  {
   "cell_type": "code",
   "execution_count": 19,
   "metadata": {},
   "outputs": [],
   "source": [
    "# Define your Dataset class\n",
    "from torch.utils.data import Dataset, DataLoader\n",
    "from sklearn.feature_extraction.text import CountVectorizer\n",
    "from nltk.corpus import stopwords\n",
    "from nltk.stem import PorterStemmer\n",
    "stop_words = set(stopwords.words(\"english\"))\n",
    "\n",
    "tokenizer = get_tokenizer(\"basic_english\")\n",
    "stemmer = PorterStemmer() \n",
    "\n",
    "class CustomerReview(Dataset):\n",
    "    def __init__(self, data):\n",
    "        self.data = data\n",
    "    def __len__(self):\n",
    "        return len(self.data)\n",
    "    def __getitem__(self, idx):\n",
    "        return self.data[idx][0], self.data[idx][1]\n",
    "\n",
    "\n",
    "def preprocess_sentences(sentences):\n",
    "    processed_sentences = []\n",
    "    for sentence,label in sentences:\n",
    "        sentence = sentence.lower()\n",
    "        tokens = tokenizer(sentence)\n",
    "        tokens = [token for token in tokens if token not in stop_words]\n",
    "        tokens = [stemmer.stem(token) for token in tokens]\n",
    "        processed_sentences.append(' '.join(tokens))\n",
    "    return processed_sentences\n",
    "\n",
    "# Complete the encoding function\n",
    "def encode_sentences(sentences):\n",
    "    vectorizer = CountVectorizer()\n",
    "    X = vectorizer.fit_transform(sentences)\n",
    "    return X.toarray(), vectorizer\n",
    "    \n",
    "# Complete the text processing pipeline\n",
    "def text_processing_pipeline(sentences):\n",
    "    processed_sentences = preprocess_sentences(sentences)\n",
    "    encoded_sentences, vectorizer = encode_sentences(processed_sentences)\n",
    "    dataset = CustomerReview(encoded_sentences)\n",
    "    dataloader = DataLoader(dataset, batch_size=2, shuffle=True)\n",
    "    return dataloader, vectorizer"
   ]
  },
  {
   "cell_type": "markdown",
   "metadata": {},
   "source": [
    "### Creating a CNN Network for the reviews"
   ]
  },
  {
   "cell_type": "code",
   "execution_count": 26,
   "metadata": {},
   "outputs": [],
   "source": [
    "reviews_dict = dict(reviews)\n",
    "X_train, X_test, y_train, y_test = train_test_split(list(reviews_dict.keys()), list(reviews_dict.values()), test_size=0.3, random_state=123)\n"
   ]
  },
  {
   "cell_type": "code",
   "execution_count": 27,
   "metadata": {},
   "outputs": [],
   "source": [
    "train_data = zip(X_train, y_train)\n",
    "test_data = zip(X_test, y_test)\n",
    "\n",
    "train_dataloader, train_vectorizer = text_processing_pipeline(train_data)\n",
    "test_dataloader, test_vectorizer = text_processing_pipeline(test_data)\n"
   ]
  },
  {
   "cell_type": "code",
   "execution_count": 23,
   "metadata": {},
   "outputs": [
    {
     "name": "stdout",
     "output_type": "stream",
     "text": [
      "23\n"
     ]
    }
   ],
   "source": [
    "print(len(y_test))"
   ]
  },
  {
   "cell_type": "code",
   "execution_count": 28,
   "metadata": {},
   "outputs": [],
   "source": [
    "import torch\n",
    "import torch.optim as optim\n",
    "import torch.nn as nn\n",
    "import torch.nn.functional as F\n",
    "\n",
    "\n",
    "class TextClassificationCNN(nn.Module):\n",
    "    def __init__(self, vocab_size, embed_dim):\n",
    "        super(TextClassificationCNN, self).__init__()\n",
    "        # Initialize the embedding layer\n",
    "        self.embedding = nn.Embedding(vocab_size, embed_dim)\n",
    "        self.conv = nn.Conv1d(1, embed_dim, kernel_size=3, stride=1, padding=1)\n",
    "        self.fc = nn.Linear(embed_dim, 2)\n",
    "\n",
    "    def forward(self, text):\n",
    "        text = text.unsqueeze(1)\n",
    "        embedded = self.embedding(text)#.permute(0, 2, 1)\n",
    "        # Pass the embedded text through the convolutional layer and apply a ReLU\n",
    "        conved = F.relu(self.conv(embedded))\n",
    "        conved = conved.mean(dim=2)\n",
    "        return self.fc(conved)\n",
    "    \n",
    "    def reset_parameters(self):\n",
    "\n",
    "        for param in self.parameters():\n",
    "            if param.requires_grad:\n",
    "                param.data.uniform_(-0.1, 0.1)  \n",
    "\n",
    "\n"
   ]
  },
  {
   "cell_type": "code",
   "execution_count": 48,
   "metadata": {},
   "outputs": [],
   "source": [
    "import torch.optim as optim  \n",
    "import torch.nn.functional as F\n",
    "\n",
    "criterion = nn.CrossEntropyLoss()\n",
    "model = TextClassificationCNN(vocab_size=len(train_vectorizer.get_feature_names_out()),embed_dim=50)\n",
    "optimizer = optim.SGD(model.parameters(), lr=0.01)\n",
    "epochs = 1\n",
    "\n",
    "for epoch in range(epochs):\n",
    "    model.train()\n",
    "    for inputs, labels in train_dataloader:\n",
    "        labels = torch.clamp(labels, 0, 1)\n",
    "        optimizer.zero_grad()\n",
    "        outputs = model(inputs)\n",
    "        loss = criterion(outputs, labels.squeeze())\n",
    "        loss.backward()\n",
    "        optimizer.step()\n",
    "\n"
   ]
  },
  {
   "cell_type": "code",
   "execution_count": 49,
   "metadata": {},
   "outputs": [
    {
     "name": "stdout",
     "output_type": "stream",
     "text": [
      "Test Accuracy: 95.65%\n"
     ]
    }
   ],
   "source": [
    "# Testing loop\n",
    "model.eval()\n",
    "correct_predictions = 0\n",
    "total_samples = len(X_test)\n",
    "accuracy = 0\n",
    "\n",
    "with torch.no_grad():\n",
    "    for inputs, labels in test_dataloader:\n",
    "            output = model(inputs)\n",
    "            _, predicted = torch.max(output, 1)\n",
    "            correct_predictions += (predicted == labels.squeeze()).sum().item()\n",
    "\n",
    "accuracy = correct_predictions / total_samples\n",
    "print(f\"Test Accuracy: {accuracy * 100:.2f}%\")"
   ]
  },
  {
   "cell_type": "code",
   "execution_count": 79,
   "metadata": {},
   "outputs": [],
   "source": [
    "def review_training(epoch, X,y):\n",
    "    for epoch in range(epoch):\n",
    "        for sentence, label in zip(X, y):     \n",
    "            # Clear the gradients\n",
    "            model.zero_grad()\n",
    "            word_to_ix = {word: idx for idx, word in enumerate(sentence.split())}\n",
    "            sentence = torch.LongTensor([word_to_ix.get(w, 0) for w in sentence]).unsqueeze(0) \n",
    "            label = torch.LongTensor([int(label)])\n",
    "            outputs = model(sentence)\n",
    "            loss = criterion(outputs, label)\n",
    "            loss.backward()\n",
    "            # Update the parameters\n",
    "            optimizer.step()\n",
    "\n",
    "def review_testing(X,y):\n",
    "    correct_predictions = 0\n",
    "\n",
    "    for test_review, test_label in zip(X,y):\n",
    "        word_to_ix = {word: idx for idx, word in enumerate(test_review.split())}\n",
    "        input_tensor = torch.LongTensor([word_to_ix.get(w, 0) for w in test_review]).unsqueeze(0)\n",
    "        outputs = model(input_tensor)\n",
    "        _, predicted_class = torch.max(outputs, 1)\n",
    "        correct_predictions += (predicted_class == test_label).item()\n",
    "\n",
    "    accuracy = correct_predictions / len(X)\n",
    "    return accuracy"
   ]
  },
  {
   "cell_type": "code",
   "execution_count": 81,
   "metadata": {},
   "outputs": [
    {
     "ename": "RuntimeError",
     "evalue": "permute(sparse_coo): number of dimensions in the tensor input does not match the length of the desired ordering of dimensions i.e. input.dim() = 2 is not equal to len(dims) = 3",
     "output_type": "error",
     "traceback": [
      "\u001b[0;31m---------------------------------------------------------------------------\u001b[0m",
      "\u001b[0;31mRuntimeError\u001b[0m                              Traceback (most recent call last)",
      "\u001b[1;32m/Users/scottpitcher/Desktop/python/Github/Text Analysis/text_analysis/Vax_sent_analysis.ipynb Cell 32\u001b[0m line \u001b[0;36m6\n\u001b[1;32m      <a href='vscode-notebook-cell:/Users/scottpitcher/Desktop/python/Github/Text%20Analysis/text_analysis/Vax_sent_analysis.ipynb#X43sZmlsZQ%3D%3D?line=3'>4</a>\u001b[0m review_training(epoch \u001b[39m=\u001b[39m i, X\u001b[39m=\u001b[39mtrain_dataloader, y\u001b[39m=\u001b[39mtrain_vectorizer)\n\u001b[1;32m      <a href='vscode-notebook-cell:/Users/scottpitcher/Desktop/python/Github/Text%20Analysis/text_analysis/Vax_sent_analysis.ipynb#X43sZmlsZQ%3D%3D?line=4'>5</a>\u001b[0m model\u001b[39m.\u001b[39meval()\n\u001b[0;32m----> <a href='vscode-notebook-cell:/Users/scottpitcher/Desktop/python/Github/Text%20Analysis/text_analysis/Vax_sent_analysis.ipynb#X43sZmlsZQ%3D%3D?line=5'>6</a>\u001b[0m accuracy \u001b[39m=\u001b[39m review_testing(test_dataloader)\n\u001b[1;32m      <a href='vscode-notebook-cell:/Users/scottpitcher/Desktop/python/Github/Text%20Analysis/text_analysis/Vax_sent_analysis.ipynb#X43sZmlsZQ%3D%3D?line=6'>7</a>\u001b[0m accuracy_dict[i] \u001b[39m=\u001b[39m accuracy\n",
      "\u001b[1;32m/Users/scottpitcher/Desktop/python/Github/Text Analysis/text_analysis/Vax_sent_analysis.ipynb Cell 32\u001b[0m line \u001b[0;36m8\n\u001b[1;32m      <a href='vscode-notebook-cell:/Users/scottpitcher/Desktop/python/Github/Text%20Analysis/text_analysis/Vax_sent_analysis.ipynb#X43sZmlsZQ%3D%3D?line=5'>6</a>\u001b[0m correct_predictions \u001b[39m=\u001b[39m \u001b[39m0\u001b[39m\n\u001b[1;32m      <a href='vscode-notebook-cell:/Users/scottpitcher/Desktop/python/Github/Text%20Analysis/text_analysis/Vax_sent_analysis.ipynb#X43sZmlsZQ%3D%3D?line=6'>7</a>\u001b[0m \u001b[39mfor\u001b[39;00m test_review, test_label \u001b[39min\u001b[39;00m dataloader:\n\u001b[0;32m----> <a href='vscode-notebook-cell:/Users/scottpitcher/Desktop/python/Github/Text%20Analysis/text_analysis/Vax_sent_analysis.ipynb#X43sZmlsZQ%3D%3D?line=7'>8</a>\u001b[0m     outputs \u001b[39m=\u001b[39m model(test_review)\n\u001b[1;32m      <a href='vscode-notebook-cell:/Users/scottpitcher/Desktop/python/Github/Text%20Analysis/text_analysis/Vax_sent_analysis.ipynb#X43sZmlsZQ%3D%3D?line=8'>9</a>\u001b[0m     _, predicted_class \u001b[39m=\u001b[39m torch\u001b[39m.\u001b[39mmax(outputs, \u001b[39m1\u001b[39m)\n\u001b[1;32m     <a href='vscode-notebook-cell:/Users/scottpitcher/Desktop/python/Github/Text%20Analysis/text_analysis/Vax_sent_analysis.ipynb#X43sZmlsZQ%3D%3D?line=9'>10</a>\u001b[0m     correct_predictions \u001b[39m+\u001b[39m\u001b[39m=\u001b[39m (predicted_class \u001b[39m==\u001b[39m test_label)\u001b[39m.\u001b[39mitem()\n",
      "File \u001b[0;32m/Library/Frameworks/Python.framework/Versions/3.12/lib/python3.12/site-packages/torch/nn/modules/module.py:1511\u001b[0m, in \u001b[0;36mModule._wrapped_call_impl\u001b[0;34m(self, *args, **kwargs)\u001b[0m\n\u001b[1;32m   1509\u001b[0m     \u001b[39mreturn\u001b[39;00m \u001b[39mself\u001b[39m\u001b[39m.\u001b[39m_compiled_call_impl(\u001b[39m*\u001b[39margs, \u001b[39m*\u001b[39m\u001b[39m*\u001b[39mkwargs)  \u001b[39m# type: ignore[misc]\u001b[39;00m\n\u001b[1;32m   1510\u001b[0m \u001b[39melse\u001b[39;00m:\n\u001b[0;32m-> 1511\u001b[0m     \u001b[39mreturn\u001b[39;00m \u001b[39mself\u001b[39;49m\u001b[39m.\u001b[39;49m_call_impl(\u001b[39m*\u001b[39;49margs, \u001b[39m*\u001b[39;49m\u001b[39m*\u001b[39;49mkwargs)\n",
      "File \u001b[0;32m/Library/Frameworks/Python.framework/Versions/3.12/lib/python3.12/site-packages/torch/nn/modules/module.py:1520\u001b[0m, in \u001b[0;36mModule._call_impl\u001b[0;34m(self, *args, **kwargs)\u001b[0m\n\u001b[1;32m   1515\u001b[0m \u001b[39m# If we don't have any hooks, we want to skip the rest of the logic in\u001b[39;00m\n\u001b[1;32m   1516\u001b[0m \u001b[39m# this function, and just call forward.\u001b[39;00m\n\u001b[1;32m   1517\u001b[0m \u001b[39mif\u001b[39;00m \u001b[39mnot\u001b[39;00m (\u001b[39mself\u001b[39m\u001b[39m.\u001b[39m_backward_hooks \u001b[39mor\u001b[39;00m \u001b[39mself\u001b[39m\u001b[39m.\u001b[39m_backward_pre_hooks \u001b[39mor\u001b[39;00m \u001b[39mself\u001b[39m\u001b[39m.\u001b[39m_forward_hooks \u001b[39mor\u001b[39;00m \u001b[39mself\u001b[39m\u001b[39m.\u001b[39m_forward_pre_hooks\n\u001b[1;32m   1518\u001b[0m         \u001b[39mor\u001b[39;00m _global_backward_pre_hooks \u001b[39mor\u001b[39;00m _global_backward_hooks\n\u001b[1;32m   1519\u001b[0m         \u001b[39mor\u001b[39;00m _global_forward_hooks \u001b[39mor\u001b[39;00m _global_forward_pre_hooks):\n\u001b[0;32m-> 1520\u001b[0m     \u001b[39mreturn\u001b[39;00m forward_call(\u001b[39m*\u001b[39;49margs, \u001b[39m*\u001b[39;49m\u001b[39m*\u001b[39;49mkwargs)\n\u001b[1;32m   1522\u001b[0m \u001b[39mtry\u001b[39;00m:\n\u001b[1;32m   1523\u001b[0m     result \u001b[39m=\u001b[39m \u001b[39mNone\u001b[39;00m\n",
      "\u001b[1;32m/Users/scottpitcher/Desktop/python/Github/Text Analysis/text_analysis/Vax_sent_analysis.ipynb Cell 32\u001b[0m line \u001b[0;36m1\n\u001b[1;32m     <a href='vscode-notebook-cell:/Users/scottpitcher/Desktop/python/Github/Text%20Analysis/text_analysis/Vax_sent_analysis.ipynb#X43sZmlsZQ%3D%3D?line=14'>15</a>\u001b[0m \u001b[39mdef\u001b[39;00m \u001b[39mforward\u001b[39m(\u001b[39mself\u001b[39m, text):\n\u001b[0;32m---> <a href='vscode-notebook-cell:/Users/scottpitcher/Desktop/python/Github/Text%20Analysis/text_analysis/Vax_sent_analysis.ipynb#X43sZmlsZQ%3D%3D?line=15'>16</a>\u001b[0m     embedded \u001b[39m=\u001b[39m \u001b[39mself\u001b[39;49m\u001b[39m.\u001b[39;49membedding(text)\u001b[39m.\u001b[39;49mpermute(\u001b[39m0\u001b[39;49m, \u001b[39m2\u001b[39;49m, \u001b[39m1\u001b[39;49m)\n\u001b[1;32m     <a href='vscode-notebook-cell:/Users/scottpitcher/Desktop/python/Github/Text%20Analysis/text_analysis/Vax_sent_analysis.ipynb#X43sZmlsZQ%3D%3D?line=16'>17</a>\u001b[0m     embedded_dense \u001b[39m=\u001b[39m embedded\u001b[39m.\u001b[39mto_dense()\u001b[39m.\u001b[39mpermute(\u001b[39m0\u001b[39m, \u001b[39m2\u001b[39m, \u001b[39m1\u001b[39m)\n\u001b[1;32m     <a href='vscode-notebook-cell:/Users/scottpitcher/Desktop/python/Github/Text%20Analysis/text_analysis/Vax_sent_analysis.ipynb#X43sZmlsZQ%3D%3D?line=17'>18</a>\u001b[0m     \u001b[39m# Pass the embedded text through the convolutional layer and apply a ReLU\u001b[39;00m\n",
      "\u001b[0;31mRuntimeError\u001b[0m: permute(sparse_coo): number of dimensions in the tensor input does not match the length of the desired ordering of dimensions i.e. input.dim() = 2 is not equal to len(dims) = 3"
     ]
    }
   ],
   "source": [
    "accuracy_dict = {}\n",
    "for i in range(36):\n",
    "    model.train()\n",
    "    review_training(epoch = i, X=X_train, y=y_train)\n",
    "    model.eval()\n",
    "    accuracy = review_testing(X_test, y_test)\n",
    "    accuracy_dict[i] = accuracy\n"
   ]
  },
  {
   "cell_type": "code",
   "execution_count": 57,
   "metadata": {},
   "outputs": [
    {
     "data": {
      "image/png": "[encoded data removed]",
      "text/plain": [
       "<Figure size 640x480 with 1 Axes>"
      ]
     },
     "metadata": {},
     "output_type": "display_data"
    }
   ],
   "source": [
    "import matplotlib.pyplot as plt\n",
    "plt.plot(accuracy_dict.keys(),accuracy_dict.values(), marker = 'o',markerfacecolor = 'darkgreen')\n",
    "plt.xlabel(\"epoch\")\n",
    "plt.xticks(rotation = 45)\n",
    "plt.ylabel('accuracy')\n",
    "plt.title(\"Epoch vs. Accuracy for Model\")\n",
    "plt.show()\n"
   ]
  },
  {
   "cell_type": "code",
   "execution_count": 60,
   "metadata": {},
   "outputs": [
    {
     "name": "stdout",
     "output_type": "stream",
     "text": [
      "Maximum accuracy (78.26%) achieved at epoch 9\n"
     ]
    }
   ],
   "source": [
    "max_epoch = max(accuracy_dict, key=lambda k: accuracy_dict[k])\n",
    "max_accuracy = accuracy_dict[max_epoch]\n",
    "\n",
    "print(f\"Maximum accuracy ({max_accuracy * 100:.2f}%) achieved at epoch {max_epoch + 1}\")\n"
   ]
  },
  {
   "cell_type": "code",
   "execution_count": null,
   "metadata": {},
   "outputs": [],
   "source": [
    "#Part 2: Unsupervised (In Progress)"
   ]
  },
  {
   "cell_type": "code",
   "execution_count": 59,
   "metadata": {},
   "outputs": [
    {
     "data": {
      "text/html": [
       "<div>\n",
       "<style scoped>\n",
       "    .dataframe tbody tr th:only-of-type {\n",
       "        vertical-align: middle;\n",
       "    }\n",
       "\n",
       "    .dataframe tbody tr th {\n",
       "        vertical-align: top;\n",
       "    }\n",
       "\n",
       "    .dataframe thead th {\n",
       "        text-align: right;\n",
       "    }\n",
       "</style>\n",
       "<table border=\"1\" class=\"dataframe\">\n",
       "  <thead>\n",
       "    <tr style=\"text-align: right;\">\n",
       "      <th></th>\n",
       "      <th>title</th>\n",
       "      <th>score</th>\n",
       "      <th>id</th>\n",
       "      <th>url</th>\n",
       "      <th>comms_num</th>\n",
       "      <th>created</th>\n",
       "      <th>body</th>\n",
       "      <th>timestamp</th>\n",
       "    </tr>\n",
       "  </thead>\n",
       "  <tbody>\n",
       "    <tr>\n",
       "      <th>0</th>\n",
       "      <td>Health Canada approves AstraZeneca COVID-19 va...</td>\n",
       "      <td>7</td>\n",
       "      <td>lt74vw</td>\n",
       "      <td>https://www.canadaforums.ca/2021/02/health-can...</td>\n",
       "      <td>0</td>\n",
       "      <td>1.614400e+09</td>\n",
       "      <td>NaN</td>\n",
       "      <td>2021-02-27 06:33:45</td>\n",
       "    </tr>\n",
       "    <tr>\n",
       "      <th>1</th>\n",
       "      <td>COVID-19 in Canada: 'Vaccination passports' a ...</td>\n",
       "      <td>2</td>\n",
       "      <td>lsh0ij</td>\n",
       "      <td>https://www.canadaforums.ca/2021/02/covid-19-i...</td>\n",
       "      <td>1</td>\n",
       "      <td>1.614316e+09</td>\n",
       "      <td>NaN</td>\n",
       "      <td>2021-02-26 07:11:07</td>\n",
       "    </tr>\n",
       "    <tr>\n",
       "      <th>2</th>\n",
       "      <td>Coronavirus variants could fuel Canada's third...</td>\n",
       "      <td>6</td>\n",
       "      <td>lohlle</td>\n",
       "      <td>https://www.canadaforums.ca/2021/02/coronaviru...</td>\n",
       "      <td>0</td>\n",
       "      <td>1.613887e+09</td>\n",
       "      <td>NaN</td>\n",
       "      <td>2021-02-21 07:50:08</td>\n",
       "    </tr>\n",
       "    <tr>\n",
       "      <th>3</th>\n",
       "      <td>Canadian government to extend COVID-19 emergen...</td>\n",
       "      <td>1</td>\n",
       "      <td>lnptv8</td>\n",
       "      <td>https://www.canadaforums.ca/2021/02/canadian-g...</td>\n",
       "      <td>0</td>\n",
       "      <td>1.613796e+09</td>\n",
       "      <td>NaN</td>\n",
       "      <td>2021-02-20 06:35:13</td>\n",
       "    </tr>\n",
       "    <tr>\n",
       "      <th>4</th>\n",
       "      <td>Canada: Pfizer is 'extremely committed' to mee...</td>\n",
       "      <td>6</td>\n",
       "      <td>lkslm6</td>\n",
       "      <td>https://www.canadaforums.ca/2021/02/canada-pfi...</td>\n",
       "      <td>0</td>\n",
       "      <td>1.613468e+09</td>\n",
       "      <td>NaN</td>\n",
       "      <td>2021-02-16 11:36:28</td>\n",
       "    </tr>\n",
       "    <tr>\n",
       "      <th>5</th>\n",
       "      <td>Canada: Oxford-AstraZeneca vaccine approval ex...</td>\n",
       "      <td>5</td>\n",
       "      <td>lftbji</td>\n",
       "      <td>https://www.canadaforums.ca/2021/02/canada-oxf...</td>\n",
       "      <td>0</td>\n",
       "      <td>1.612869e+09</td>\n",
       "      <td>NaN</td>\n",
       "      <td>2021-02-09 13:17:11</td>\n",
       "    </tr>\n",
       "    <tr>\n",
       "      <th>6</th>\n",
       "      <td>Comment</td>\n",
       "      <td>1</td>\n",
       "      <td>ej9x066</td>\n",
       "      <td>NaN</td>\n",
       "      <td>0</td>\n",
       "      <td>1.553474e+09</td>\n",
       "      <td>Your OP. It's not a myth. Only one vaccine con...</td>\n",
       "      <td>2019-03-25 02:34:53</td>\n",
       "    </tr>\n",
       "    <tr>\n",
       "      <th>7</th>\n",
       "      <td>Fuck you anti-vaxxing retards</td>\n",
       "      <td>10</td>\n",
       "      <td>g6jkhp</td>\n",
       "      <td>https://www.reddit.com/r/VaccineMyths/comments...</td>\n",
       "      <td>8</td>\n",
       "      <td>1.587663e+09</td>\n",
       "      <td>https://youtu.be/zBkVCpbNnkU</td>\n",
       "      <td>2020-04-23 20:23:42</td>\n",
       "    </tr>\n",
       "    <tr>\n",
       "      <th>8</th>\n",
       "      <td>Comment</td>\n",
       "      <td>0</td>\n",
       "      <td>fofa0yy</td>\n",
       "      <td>NaN</td>\n",
       "      <td>0</td>\n",
       "      <td>1.587760e+09</td>\n",
       "      <td>Because Anti-Vaxxers have no sense</td>\n",
       "      <td>2020-04-24 23:19:50</td>\n",
       "    </tr>\n",
       "    <tr>\n",
       "      <th>9</th>\n",
       "      <td>Comment</td>\n",
       "      <td>0</td>\n",
       "      <td>ej9xuaf</td>\n",
       "      <td>NaN</td>\n",
       "      <td>0</td>\n",
       "      <td>1.553475e+09</td>\n",
       "      <td>What do you mean by \"your OP\". I am fairly new...</td>\n",
       "      <td>2019-03-25 02:45:21</td>\n",
       "    </tr>\n",
       "  </tbody>\n",
       "</table>\n",
       "</div>"
      ],
      "text/plain": [
       "                                               title  score       id  \\\n",
       "0  Health Canada approves AstraZeneca COVID-19 va...      7   lt74vw   \n",
       "1  COVID-19 in Canada: 'Vaccination passports' a ...      2   lsh0ij   \n",
       "2  Coronavirus variants could fuel Canada's third...      6   lohlle   \n",
       "3  Canadian government to extend COVID-19 emergen...      1   lnptv8   \n",
       "4  Canada: Pfizer is 'extremely committed' to mee...      6   lkslm6   \n",
       "5  Canada: Oxford-AstraZeneca vaccine approval ex...      5   lftbji   \n",
       "6                                            Comment      1  ej9x066   \n",
       "7                      Fuck you anti-vaxxing retards     10   g6jkhp   \n",
       "8                                            Comment      0  fofa0yy   \n",
       "9                                            Comment      0  ej9xuaf   \n",
       "\n",
       "                                                 url  comms_num       created  \\\n",
       "0  https://www.canadaforums.ca/2021/02/health-can...          0  1.614400e+09   \n",
       "1  https://www.canadaforums.ca/2021/02/covid-19-i...          1  1.614316e+09   \n",
       "2  https://www.canadaforums.ca/2021/02/coronaviru...          0  1.613887e+09   \n",
       "3  https://www.canadaforums.ca/2021/02/canadian-g...          0  1.613796e+09   \n",
       "4  https://www.canadaforums.ca/2021/02/canada-pfi...          0  1.613468e+09   \n",
       "5  https://www.canadaforums.ca/2021/02/canada-oxf...          0  1.612869e+09   \n",
       "6                                                NaN          0  1.553474e+09   \n",
       "7  https://www.reddit.com/r/VaccineMyths/comments...          8  1.587663e+09   \n",
       "8                                                NaN          0  1.587760e+09   \n",
       "9                                                NaN          0  1.553475e+09   \n",
       "\n",
       "                                                body            timestamp  \n",
       "0                                                NaN  2021-02-27 06:33:45  \n",
       "1                                                NaN  2021-02-26 07:11:07  \n",
       "2                                                NaN  2021-02-21 07:50:08  \n",
       "3                                                NaN  2021-02-20 06:35:13  \n",
       "4                                                NaN  2021-02-16 11:36:28  \n",
       "5                                                NaN  2021-02-09 13:17:11  \n",
       "6  Your OP. It's not a myth. Only one vaccine con...  2019-03-25 02:34:53  \n",
       "7                       https://youtu.be/zBkVCpbNnkU  2020-04-23 20:23:42  \n",
       "8                 Because Anti-Vaxxers have no sense  2020-04-24 23:19:50  \n",
       "9  What do you mean by \"your OP\". I am fairly new...  2019-03-25 02:45:21  "
      ]
     },
     "execution_count": 59,
     "metadata": {},
     "output_type": "execute_result"
    }
   ],
   "source": [
    "data = pd.read_csv(\"data/reddit_vm.csv\")\n",
    "data.head(10)"
   ]
  },
  {
   "cell_type": "code",
   "execution_count": 60,
   "metadata": {},
   "outputs": [
    {
     "data": {
      "text/plain": [
       "0    NaN\n",
       "Name: body, dtype: object"
      ]
     },
     "execution_count": 60,
     "metadata": {},
     "output_type": "execute_result"
    }
   ],
   "source": [
    "data.head(1).body"
   ]
  },
  {
   "cell_type": "code",
   "execution_count": 61,
   "metadata": {},
   "outputs": [
    {
     "data": {
      "text/html": [
       "<div>\n",
       "<style scoped>\n",
       "    .dataframe tbody tr th:only-of-type {\n",
       "        vertical-align: middle;\n",
       "    }\n",
       "\n",
       "    .dataframe tbody tr th {\n",
       "        vertical-align: top;\n",
       "    }\n",
       "\n",
       "    .dataframe thead th {\n",
       "        text-align: right;\n",
       "    }\n",
       "</style>\n",
       "<table border=\"1\" class=\"dataframe\">\n",
       "  <thead>\n",
       "    <tr style=\"text-align: right;\">\n",
       "      <th></th>\n",
       "      <th>title</th>\n",
       "      <th>score</th>\n",
       "      <th>id</th>\n",
       "      <th>url</th>\n",
       "      <th>comms_num</th>\n",
       "      <th>created</th>\n",
       "      <th>body</th>\n",
       "      <th>timestamp</th>\n",
       "    </tr>\n",
       "  </thead>\n",
       "  <tbody>\n",
       "    <tr>\n",
       "      <th>6</th>\n",
       "      <td>Comment</td>\n",
       "      <td>1</td>\n",
       "      <td>ej9x066</td>\n",
       "      <td>NaN</td>\n",
       "      <td>0</td>\n",
       "      <td>1.553474e+09</td>\n",
       "      <td>Your OP. It's not a myth. Only one vaccine con...</td>\n",
       "      <td>2019-03-25 02:34:53</td>\n",
       "    </tr>\n",
       "    <tr>\n",
       "      <th>7</th>\n",
       "      <td>Fuck you anti-vaxxing retards</td>\n",
       "      <td>10</td>\n",
       "      <td>g6jkhp</td>\n",
       "      <td>https://www.reddit.com/r/VaccineMyths/comments...</td>\n",
       "      <td>8</td>\n",
       "      <td>1.587663e+09</td>\n",
       "      <td>https://youtu.be/zBkVCpbNnkU</td>\n",
       "      <td>2020-04-23 20:23:42</td>\n",
       "    </tr>\n",
       "    <tr>\n",
       "      <th>8</th>\n",
       "      <td>Comment</td>\n",
       "      <td>0</td>\n",
       "      <td>fofa0yy</td>\n",
       "      <td>NaN</td>\n",
       "      <td>0</td>\n",
       "      <td>1.587760e+09</td>\n",
       "      <td>Because Anti-Vaxxers have no sense</td>\n",
       "      <td>2020-04-24 23:19:50</td>\n",
       "    </tr>\n",
       "    <tr>\n",
       "      <th>9</th>\n",
       "      <td>Comment</td>\n",
       "      <td>0</td>\n",
       "      <td>ej9xuaf</td>\n",
       "      <td>NaN</td>\n",
       "      <td>0</td>\n",
       "      <td>1.553475e+09</td>\n",
       "      <td>What do you mean by \"your OP\". I am fairly new...</td>\n",
       "      <td>2019-03-25 02:45:21</td>\n",
       "    </tr>\n",
       "    <tr>\n",
       "      <th>10</th>\n",
       "      <td>Comment</td>\n",
       "      <td>1</td>\n",
       "      <td>ej9x2qr</td>\n",
       "      <td>NaN</td>\n",
       "      <td>0</td>\n",
       "      <td>1.553474e+09</td>\n",
       "      <td>When they say there's no thimerasol, they mean...</td>\n",
       "      <td>2019-03-25 02:35:47</td>\n",
       "    </tr>\n",
       "    <tr>\n",
       "      <th>...</th>\n",
       "      <td>...</td>\n",
       "      <td>...</td>\n",
       "      <td>...</td>\n",
       "      <td>...</td>\n",
       "      <td>...</td>\n",
       "      <td>...</td>\n",
       "      <td>...</td>\n",
       "      <td>...</td>\n",
       "    </tr>\n",
       "    <tr>\n",
       "      <th>1597</th>\n",
       "      <td>Comment</td>\n",
       "      <td>2</td>\n",
       "      <td>elrv9ua</td>\n",
       "      <td>NaN</td>\n",
       "      <td>0</td>\n",
       "      <td>1.556223e+09</td>\n",
       "      <td>Lol. My comprehension is comprehensive.\\r\\nYou...</td>\n",
       "      <td>2019-04-25 23:11:10</td>\n",
       "    </tr>\n",
       "    <tr>\n",
       "      <th>1598</th>\n",
       "      <td>Comment</td>\n",
       "      <td>1</td>\n",
       "      <td>elrud7d</td>\n",
       "      <td>NaN</td>\n",
       "      <td>0</td>\n",
       "      <td>1.556223e+09</td>\n",
       "      <td>If you have trouble finding it, that's one thi...</td>\n",
       "      <td>2019-04-25 23:02:04</td>\n",
       "    </tr>\n",
       "    <tr>\n",
       "      <th>1599</th>\n",
       "      <td>Comment</td>\n",
       "      <td>0</td>\n",
       "      <td>elrtjl5</td>\n",
       "      <td>NaN</td>\n",
       "      <td>0</td>\n",
       "      <td>1.556222e+09</td>\n",
       "      <td>Is there music playing where you are because y...</td>\n",
       "      <td>2019-04-25 22:53:50</td>\n",
       "    </tr>\n",
       "    <tr>\n",
       "      <th>1600</th>\n",
       "      <td>Comment</td>\n",
       "      <td>1</td>\n",
       "      <td>elrrt5l</td>\n",
       "      <td>NaN</td>\n",
       "      <td>0</td>\n",
       "      <td>1.556221e+09</td>\n",
       "      <td>How long does it take ethyl mercury to metabol...</td>\n",
       "      <td>2019-04-25 22:35:39</td>\n",
       "    </tr>\n",
       "    <tr>\n",
       "      <th>1601</th>\n",
       "      <td>Comment</td>\n",
       "      <td>1</td>\n",
       "      <td>elrqfk3</td>\n",
       "      <td>NaN</td>\n",
       "      <td>0</td>\n",
       "      <td>1.556220e+09</td>\n",
       "      <td>&gt; Why is it sounding like I'm scraping the bot...</td>\n",
       "      <td>2019-04-25 22:21:34</td>\n",
       "    </tr>\n",
       "  </tbody>\n",
       "</table>\n",
       "<p>1226 rows × 8 columns</p>\n",
       "</div>"
      ],
      "text/plain": [
       "                              title  score       id  \\\n",
       "6                           Comment      1  ej9x066   \n",
       "7     Fuck you anti-vaxxing retards     10   g6jkhp   \n",
       "8                           Comment      0  fofa0yy   \n",
       "9                           Comment      0  ej9xuaf   \n",
       "10                          Comment      1  ej9x2qr   \n",
       "...                             ...    ...      ...   \n",
       "1597                        Comment      2  elrv9ua   \n",
       "1598                        Comment      1  elrud7d   \n",
       "1599                        Comment      0  elrtjl5   \n",
       "1600                        Comment      1  elrrt5l   \n",
       "1601                        Comment      1  elrqfk3   \n",
       "\n",
       "                                                    url  comms_num  \\\n",
       "6                                                   NaN          0   \n",
       "7     https://www.reddit.com/r/VaccineMyths/comments...          8   \n",
       "8                                                   NaN          0   \n",
       "9                                                   NaN          0   \n",
       "10                                                  NaN          0   \n",
       "...                                                 ...        ...   \n",
       "1597                                                NaN          0   \n",
       "1598                                                NaN          0   \n",
       "1599                                                NaN          0   \n",
       "1600                                                NaN          0   \n",
       "1601                                                NaN          0   \n",
       "\n",
       "           created                                               body  \\\n",
       "6     1.553474e+09  Your OP. It's not a myth. Only one vaccine con...   \n",
       "7     1.587663e+09                       https://youtu.be/zBkVCpbNnkU   \n",
       "8     1.587760e+09                 Because Anti-Vaxxers have no sense   \n",
       "9     1.553475e+09  What do you mean by \"your OP\". I am fairly new...   \n",
       "10    1.553474e+09  When they say there's no thimerasol, they mean...   \n",
       "...            ...                                                ...   \n",
       "1597  1.556223e+09  Lol. My comprehension is comprehensive.\\r\\nYou...   \n",
       "1598  1.556223e+09  If you have trouble finding it, that's one thi...   \n",
       "1599  1.556222e+09  Is there music playing where you are because y...   \n",
       "1600  1.556221e+09  How long does it take ethyl mercury to metabol...   \n",
       "1601  1.556220e+09  > Why is it sounding like I'm scraping the bot...   \n",
       "\n",
       "                timestamp  \n",
       "6     2019-03-25 02:34:53  \n",
       "7     2020-04-23 20:23:42  \n",
       "8     2020-04-24 23:19:50  \n",
       "9     2019-03-25 02:45:21  \n",
       "10    2019-03-25 02:35:47  \n",
       "...                   ...  \n",
       "1597  2019-04-25 23:11:10  \n",
       "1598  2019-04-25 23:02:04  \n",
       "1599  2019-04-25 22:53:50  \n",
       "1600  2019-04-25 22:35:39  \n",
       "1601  2019-04-25 22:21:34  \n",
       "\n",
       "[1226 rows x 8 columns]"
      ]
     },
     "execution_count": 61,
     "metadata": {},
     "output_type": "execute_result"
    }
   ],
   "source": [
    "data_full = data.dropna(subset = [\"body\"])\n",
    "data_full"
   ]
  },
  {
   "cell_type": "code",
   "execution_count": 62,
   "metadata": {},
   "outputs": [
    {
     "data": {
      "text/plain": [
       "[\"Your OP. It's not a myth. Only one vaccine contains it and you can get it without it. So your OP is pointless flex. \",\n",
       " 'https://youtu.be/zBkVCpbNnkU',\n",
       " 'Because Anti-Vaxxers have no sense',\n",
       " 'What do you mean by \"your OP\". I am fairly new to reddit.',\n",
       " \"When they say there's no thimerasol, they mean in the childhood schedule. That IS a fact. \"]"
      ]
     },
     "execution_count": 62,
     "metadata": {},
     "output_type": "execute_result"
    }
   ],
   "source": [
    "descriptions = data_full.body.to_list()\n",
    "descriptions[:5]"
   ]
  },
  {
   "cell_type": "markdown",
   "metadata": {},
   "source": [
    "### Looking at word frequencies"
   ]
  },
  {
   "cell_type": "code",
   "execution_count": 63,
   "metadata": {},
   "outputs": [
    {
     "name": "stdout",
     "output_type": "stream",
     "text": [
      "['.', 'it', \"'\", 'a', '.']\n"
     ]
    }
   ],
   "source": [
    "threshold = 1000\n",
    "desc_joined = ''.join(descriptions)\n",
    "tokens = tokenizer(desc_joined)\n",
    "\n",
    "freq_dist = FreqDist(tokens)\n",
    "freq_dist\n",
    "common_tokens = [token for token in tokens if freq_dist[token] > threshold]\n",
    "print(common_tokens[:5])"
   ]
  },
  {
   "cell_type": "markdown",
   "metadata": {},
   "source": [
    "Error with stopword importing, this code fixed it"
   ]
  }
 ],
 "metadata": {
  "kernelspec": {
   "display_name": "Python 3",
   "language": "python",
   "name": "python3"
  },
  "language_info": {
   "codemirror_mode": {
    "name": "ipython",
    "version": 3
   },
   "file_extension": ".py",
   "mimetype": "text/x-python",
   "name": "python",
   "nbconvert_exporter": "python",
   "pygments_lexer": "ipython3",
   "version": "3.12.0"
  }
 },
 "nbformat": 4,
 "nbformat_minor": 2
}
