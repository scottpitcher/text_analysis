{
 "cells": [
  {
   "cell_type": "code",
   "execution_count": 2,
   "metadata": {},
   "outputs": [
    {
     "name": "stderr",
     "output_type": "stream",
     "text": [
      "2024-02-03 16:29:04.827 Python[57426:3078878] WARNING: Secure coding is not enabled for restorable state! Enable secure coding by implementing NSApplicationDelegate.applicationSupportsSecureRestorableState: and returning YES.\n"
     ]
    },
    {
     "name": "stdout",
     "output_type": "stream",
     "text": [
      "showing info https://raw.githubusercontent.com/nltk/nltk_data/gh-pages/index.xml\n"
     ]
    },
    {
     "data": {
      "text/plain": [
       "True"
      ]
     },
     "execution_count": 2,
     "metadata": {},
     "output_type": "execute_result"
    }
   ],
   "source": [
    "import pandas as pd\n",
    "from sklearn.feature_extraction.text import TfidfVectorizer\n",
    "import torch\n",
    "import numpy as np\n",
    "from torchtext.data.utils import get_tokenizer\n",
    "from nltk.probability import FreqDist\n",
    "from sklearn.feature_extraction.text import TfidfVectorizer"
   ]
  },
  {
   "cell_type": "code",
   "execution_count": null,
   "metadata": {},
   "outputs": [],
   "source": [
    "#### Error with stopword importing, this code fixed it"
   ]
  },
  {
   "cell_type": "code",
   "execution_count": 1,
   "metadata": {},
   "outputs": [
    {
     "name": "stderr",
     "output_type": "stream",
     "text": [
      "[nltk_data] Downloading package stopwords to\n",
      "[nltk_data]     /Users/scottpitcher/nltk_data...\n",
      "[nltk_data]   Unzipping corpora/stopwords.zip.\n"
     ]
    },
    {
     "data": {
      "text/plain": [
       "True"
      ]
     },
     "execution_count": 1,
     "metadata": {},
     "output_type": "execute_result"
    }
   ],
   "source": [
    "import nltk\n",
    "import ssl\n",
    "\n",
    "try:\n",
    "    _create_unverified_https_context = ssl._create_unverified_context\n",
    "except AttributeError:\n",
    "    pass\n",
    "else:\n",
    "    ssl._create_default_https_context = _create_unverified_https_context\n",
    "\n",
    "nltk.download('stopwords')"
   ]
  },
  {
   "cell_type": "code",
   "execution_count": 3,
   "metadata": {},
   "outputs": [
    {
     "data": {
      "text/html": [
       "<div>\n",
       "<style scoped>\n",
       "    .dataframe tbody tr th:only-of-type {\n",
       "        vertical-align: middle;\n",
       "    }\n",
       "\n",
       "    .dataframe tbody tr th {\n",
       "        vertical-align: top;\n",
       "    }\n",
       "\n",
       "    .dataframe thead th {\n",
       "        text-align: right;\n",
       "    }\n",
       "</style>\n",
       "<table border=\"1\" class=\"dataframe\">\n",
       "  <thead>\n",
       "    <tr style=\"text-align: right;\">\n",
       "      <th></th>\n",
       "      <th>title</th>\n",
       "      <th>score</th>\n",
       "      <th>id</th>\n",
       "      <th>url</th>\n",
       "      <th>comms_num</th>\n",
       "      <th>created</th>\n",
       "      <th>body</th>\n",
       "      <th>timestamp</th>\n",
       "    </tr>\n",
       "  </thead>\n",
       "  <tbody>\n",
       "    <tr>\n",
       "      <th>0</th>\n",
       "      <td>Health Canada approves AstraZeneca COVID-19 va...</td>\n",
       "      <td>7</td>\n",
       "      <td>lt74vw</td>\n",
       "      <td>https://www.canadaforums.ca/2021/02/health-can...</td>\n",
       "      <td>0</td>\n",
       "      <td>1.614400e+09</td>\n",
       "      <td>NaN</td>\n",
       "      <td>2021-02-27 06:33:45</td>\n",
       "    </tr>\n",
       "    <tr>\n",
       "      <th>1</th>\n",
       "      <td>COVID-19 in Canada: 'Vaccination passports' a ...</td>\n",
       "      <td>2</td>\n",
       "      <td>lsh0ij</td>\n",
       "      <td>https://www.canadaforums.ca/2021/02/covid-19-i...</td>\n",
       "      <td>1</td>\n",
       "      <td>1.614316e+09</td>\n",
       "      <td>NaN</td>\n",
       "      <td>2021-02-26 07:11:07</td>\n",
       "    </tr>\n",
       "    <tr>\n",
       "      <th>2</th>\n",
       "      <td>Coronavirus variants could fuel Canada's third...</td>\n",
       "      <td>6</td>\n",
       "      <td>lohlle</td>\n",
       "      <td>https://www.canadaforums.ca/2021/02/coronaviru...</td>\n",
       "      <td>0</td>\n",
       "      <td>1.613887e+09</td>\n",
       "      <td>NaN</td>\n",
       "      <td>2021-02-21 07:50:08</td>\n",
       "    </tr>\n",
       "    <tr>\n",
       "      <th>3</th>\n",
       "      <td>Canadian government to extend COVID-19 emergen...</td>\n",
       "      <td>1</td>\n",
       "      <td>lnptv8</td>\n",
       "      <td>https://www.canadaforums.ca/2021/02/canadian-g...</td>\n",
       "      <td>0</td>\n",
       "      <td>1.613796e+09</td>\n",
       "      <td>NaN</td>\n",
       "      <td>2021-02-20 06:35:13</td>\n",
       "    </tr>\n",
       "    <tr>\n",
       "      <th>4</th>\n",
       "      <td>Canada: Pfizer is 'extremely committed' to mee...</td>\n",
       "      <td>6</td>\n",
       "      <td>lkslm6</td>\n",
       "      <td>https://www.canadaforums.ca/2021/02/canada-pfi...</td>\n",
       "      <td>0</td>\n",
       "      <td>1.613468e+09</td>\n",
       "      <td>NaN</td>\n",
       "      <td>2021-02-16 11:36:28</td>\n",
       "    </tr>\n",
       "    <tr>\n",
       "      <th>5</th>\n",
       "      <td>Canada: Oxford-AstraZeneca vaccine approval ex...</td>\n",
       "      <td>5</td>\n",
       "      <td>lftbji</td>\n",
       "      <td>https://www.canadaforums.ca/2021/02/canada-oxf...</td>\n",
       "      <td>0</td>\n",
       "      <td>1.612869e+09</td>\n",
       "      <td>NaN</td>\n",
       "      <td>2021-02-09 13:17:11</td>\n",
       "    </tr>\n",
       "    <tr>\n",
       "      <th>6</th>\n",
       "      <td>Comment</td>\n",
       "      <td>1</td>\n",
       "      <td>ej9x066</td>\n",
       "      <td>NaN</td>\n",
       "      <td>0</td>\n",
       "      <td>1.553474e+09</td>\n",
       "      <td>Your OP. It's not a myth. Only one vaccine con...</td>\n",
       "      <td>2019-03-25 02:34:53</td>\n",
       "    </tr>\n",
       "    <tr>\n",
       "      <th>7</th>\n",
       "      <td>Fuck you anti-vaxxing retards</td>\n",
       "      <td>10</td>\n",
       "      <td>g6jkhp</td>\n",
       "      <td>https://www.reddit.com/r/VaccineMyths/comments...</td>\n",
       "      <td>8</td>\n",
       "      <td>1.587663e+09</td>\n",
       "      <td>https://youtu.be/zBkVCpbNnkU</td>\n",
       "      <td>2020-04-23 20:23:42</td>\n",
       "    </tr>\n",
       "    <tr>\n",
       "      <th>8</th>\n",
       "      <td>Comment</td>\n",
       "      <td>0</td>\n",
       "      <td>fofa0yy</td>\n",
       "      <td>NaN</td>\n",
       "      <td>0</td>\n",
       "      <td>1.587760e+09</td>\n",
       "      <td>Because Anti-Vaxxers have no sense</td>\n",
       "      <td>2020-04-24 23:19:50</td>\n",
       "    </tr>\n",
       "    <tr>\n",
       "      <th>9</th>\n",
       "      <td>Comment</td>\n",
       "      <td>0</td>\n",
       "      <td>ej9xuaf</td>\n",
       "      <td>NaN</td>\n",
       "      <td>0</td>\n",
       "      <td>1.553475e+09</td>\n",
       "      <td>What do you mean by \"your OP\". I am fairly new...</td>\n",
       "      <td>2019-03-25 02:45:21</td>\n",
       "    </tr>\n",
       "  </tbody>\n",
       "</table>\n",
       "</div>"
      ],
      "text/plain": [
       "                                               title  score       id  \\\n",
       "0  Health Canada approves AstraZeneca COVID-19 va...      7   lt74vw   \n",
       "1  COVID-19 in Canada: 'Vaccination passports' a ...      2   lsh0ij   \n",
       "2  Coronavirus variants could fuel Canada's third...      6   lohlle   \n",
       "3  Canadian government to extend COVID-19 emergen...      1   lnptv8   \n",
       "4  Canada: Pfizer is 'extremely committed' to mee...      6   lkslm6   \n",
       "5  Canada: Oxford-AstraZeneca vaccine approval ex...      5   lftbji   \n",
       "6                                            Comment      1  ej9x066   \n",
       "7                      Fuck you anti-vaxxing retards     10   g6jkhp   \n",
       "8                                            Comment      0  fofa0yy   \n",
       "9                                            Comment      0  ej9xuaf   \n",
       "\n",
       "                                                 url  comms_num       created  \\\n",
       "0  https://www.canadaforums.ca/2021/02/health-can...          0  1.614400e+09   \n",
       "1  https://www.canadaforums.ca/2021/02/covid-19-i...          1  1.614316e+09   \n",
       "2  https://www.canadaforums.ca/2021/02/coronaviru...          0  1.613887e+09   \n",
       "3  https://www.canadaforums.ca/2021/02/canadian-g...          0  1.613796e+09   \n",
       "4  https://www.canadaforums.ca/2021/02/canada-pfi...          0  1.613468e+09   \n",
       "5  https://www.canadaforums.ca/2021/02/canada-oxf...          0  1.612869e+09   \n",
       "6                                                NaN          0  1.553474e+09   \n",
       "7  https://www.reddit.com/r/VaccineMyths/comments...          8  1.587663e+09   \n",
       "8                                                NaN          0  1.587760e+09   \n",
       "9                                                NaN          0  1.553475e+09   \n",
       "\n",
       "                                                body            timestamp  \n",
       "0                                                NaN  2021-02-27 06:33:45  \n",
       "1                                                NaN  2021-02-26 07:11:07  \n",
       "2                                                NaN  2021-02-21 07:50:08  \n",
       "3                                                NaN  2021-02-20 06:35:13  \n",
       "4                                                NaN  2021-02-16 11:36:28  \n",
       "5                                                NaN  2021-02-09 13:17:11  \n",
       "6  Your OP. It's not a myth. Only one vaccine con...  2019-03-25 02:34:53  \n",
       "7                       https://youtu.be/zBkVCpbNnkU  2020-04-23 20:23:42  \n",
       "8                 Because Anti-Vaxxers have no sense  2020-04-24 23:19:50  \n",
       "9  What do you mean by \"your OP\". I am fairly new...  2019-03-25 02:45:21  "
      ]
     },
     "execution_count": 3,
     "metadata": {},
     "output_type": "execute_result"
    }
   ],
   "source": [
    "data = pd.read_csv(\"data/reddit_vm.csv\")\n",
    "data.head(10)"
   ]
  },
  {
   "cell_type": "code",
   "execution_count": 4,
   "metadata": {},
   "outputs": [
    {
     "data": {
      "text/plain": [
       "0    NaN\n",
       "Name: body, dtype: object"
      ]
     },
     "execution_count": 4,
     "metadata": {},
     "output_type": "execute_result"
    }
   ],
   "source": [
    "data.head(1).body"
   ]
  },
  {
   "cell_type": "code",
   "execution_count": 5,
   "metadata": {},
   "outputs": [
    {
     "data": {
      "text/html": [
       "<div>\n",
       "<style scoped>\n",
       "    .dataframe tbody tr th:only-of-type {\n",
       "        vertical-align: middle;\n",
       "    }\n",
       "\n",
       "    .dataframe tbody tr th {\n",
       "        vertical-align: top;\n",
       "    }\n",
       "\n",
       "    .dataframe thead th {\n",
       "        text-align: right;\n",
       "    }\n",
       "</style>\n",
       "<table border=\"1\" class=\"dataframe\">\n",
       "  <thead>\n",
       "    <tr style=\"text-align: right;\">\n",
       "      <th></th>\n",
       "      <th>title</th>\n",
       "      <th>score</th>\n",
       "      <th>id</th>\n",
       "      <th>url</th>\n",
       "      <th>comms_num</th>\n",
       "      <th>created</th>\n",
       "      <th>body</th>\n",
       "      <th>timestamp</th>\n",
       "    </tr>\n",
       "  </thead>\n",
       "  <tbody>\n",
       "    <tr>\n",
       "      <th>6</th>\n",
       "      <td>Comment</td>\n",
       "      <td>1</td>\n",
       "      <td>ej9x066</td>\n",
       "      <td>NaN</td>\n",
       "      <td>0</td>\n",
       "      <td>1.553474e+09</td>\n",
       "      <td>Your OP. It's not a myth. Only one vaccine con...</td>\n",
       "      <td>2019-03-25 02:34:53</td>\n",
       "    </tr>\n",
       "    <tr>\n",
       "      <th>7</th>\n",
       "      <td>Fuck you anti-vaxxing retards</td>\n",
       "      <td>10</td>\n",
       "      <td>g6jkhp</td>\n",
       "      <td>https://www.reddit.com/r/VaccineMyths/comments...</td>\n",
       "      <td>8</td>\n",
       "      <td>1.587663e+09</td>\n",
       "      <td>https://youtu.be/zBkVCpbNnkU</td>\n",
       "      <td>2020-04-23 20:23:42</td>\n",
       "    </tr>\n",
       "    <tr>\n",
       "      <th>8</th>\n",
       "      <td>Comment</td>\n",
       "      <td>0</td>\n",
       "      <td>fofa0yy</td>\n",
       "      <td>NaN</td>\n",
       "      <td>0</td>\n",
       "      <td>1.587760e+09</td>\n",
       "      <td>Because Anti-Vaxxers have no sense</td>\n",
       "      <td>2020-04-24 23:19:50</td>\n",
       "    </tr>\n",
       "    <tr>\n",
       "      <th>9</th>\n",
       "      <td>Comment</td>\n",
       "      <td>0</td>\n",
       "      <td>ej9xuaf</td>\n",
       "      <td>NaN</td>\n",
       "      <td>0</td>\n",
       "      <td>1.553475e+09</td>\n",
       "      <td>What do you mean by \"your OP\". I am fairly new...</td>\n",
       "      <td>2019-03-25 02:45:21</td>\n",
       "    </tr>\n",
       "    <tr>\n",
       "      <th>10</th>\n",
       "      <td>Comment</td>\n",
       "      <td>1</td>\n",
       "      <td>ej9x2qr</td>\n",
       "      <td>NaN</td>\n",
       "      <td>0</td>\n",
       "      <td>1.553474e+09</td>\n",
       "      <td>When they say there's no thimerasol, they mean...</td>\n",
       "      <td>2019-03-25 02:35:47</td>\n",
       "    </tr>\n",
       "    <tr>\n",
       "      <th>...</th>\n",
       "      <td>...</td>\n",
       "      <td>...</td>\n",
       "      <td>...</td>\n",
       "      <td>...</td>\n",
       "      <td>...</td>\n",
       "      <td>...</td>\n",
       "      <td>...</td>\n",
       "      <td>...</td>\n",
       "    </tr>\n",
       "    <tr>\n",
       "      <th>1597</th>\n",
       "      <td>Comment</td>\n",
       "      <td>2</td>\n",
       "      <td>elrv9ua</td>\n",
       "      <td>NaN</td>\n",
       "      <td>0</td>\n",
       "      <td>1.556223e+09</td>\n",
       "      <td>Lol. My comprehension is comprehensive.\\r\\nYou...</td>\n",
       "      <td>2019-04-25 23:11:10</td>\n",
       "    </tr>\n",
       "    <tr>\n",
       "      <th>1598</th>\n",
       "      <td>Comment</td>\n",
       "      <td>1</td>\n",
       "      <td>elrud7d</td>\n",
       "      <td>NaN</td>\n",
       "      <td>0</td>\n",
       "      <td>1.556223e+09</td>\n",
       "      <td>If you have trouble finding it, that's one thi...</td>\n",
       "      <td>2019-04-25 23:02:04</td>\n",
       "    </tr>\n",
       "    <tr>\n",
       "      <th>1599</th>\n",
       "      <td>Comment</td>\n",
       "      <td>0</td>\n",
       "      <td>elrtjl5</td>\n",
       "      <td>NaN</td>\n",
       "      <td>0</td>\n",
       "      <td>1.556222e+09</td>\n",
       "      <td>Is there music playing where you are because y...</td>\n",
       "      <td>2019-04-25 22:53:50</td>\n",
       "    </tr>\n",
       "    <tr>\n",
       "      <th>1600</th>\n",
       "      <td>Comment</td>\n",
       "      <td>1</td>\n",
       "      <td>elrrt5l</td>\n",
       "      <td>NaN</td>\n",
       "      <td>0</td>\n",
       "      <td>1.556221e+09</td>\n",
       "      <td>How long does it take ethyl mercury to metabol...</td>\n",
       "      <td>2019-04-25 22:35:39</td>\n",
       "    </tr>\n",
       "    <tr>\n",
       "      <th>1601</th>\n",
       "      <td>Comment</td>\n",
       "      <td>1</td>\n",
       "      <td>elrqfk3</td>\n",
       "      <td>NaN</td>\n",
       "      <td>0</td>\n",
       "      <td>1.556220e+09</td>\n",
       "      <td>&gt; Why is it sounding like I'm scraping the bot...</td>\n",
       "      <td>2019-04-25 22:21:34</td>\n",
       "    </tr>\n",
       "  </tbody>\n",
       "</table>\n",
       "<p>1226 rows × 8 columns</p>\n",
       "</div>"
      ],
      "text/plain": [
       "                              title  score       id  \\\n",
       "6                           Comment      1  ej9x066   \n",
       "7     Fuck you anti-vaxxing retards     10   g6jkhp   \n",
       "8                           Comment      0  fofa0yy   \n",
       "9                           Comment      0  ej9xuaf   \n",
       "10                          Comment      1  ej9x2qr   \n",
       "...                             ...    ...      ...   \n",
       "1597                        Comment      2  elrv9ua   \n",
       "1598                        Comment      1  elrud7d   \n",
       "1599                        Comment      0  elrtjl5   \n",
       "1600                        Comment      1  elrrt5l   \n",
       "1601                        Comment      1  elrqfk3   \n",
       "\n",
       "                                                    url  comms_num  \\\n",
       "6                                                   NaN          0   \n",
       "7     https://www.reddit.com/r/VaccineMyths/comments...          8   \n",
       "8                                                   NaN          0   \n",
       "9                                                   NaN          0   \n",
       "10                                                  NaN          0   \n",
       "...                                                 ...        ...   \n",
       "1597                                                NaN          0   \n",
       "1598                                                NaN          0   \n",
       "1599                                                NaN          0   \n",
       "1600                                                NaN          0   \n",
       "1601                                                NaN          0   \n",
       "\n",
       "           created                                               body  \\\n",
       "6     1.553474e+09  Your OP. It's not a myth. Only one vaccine con...   \n",
       "7     1.587663e+09                       https://youtu.be/zBkVCpbNnkU   \n",
       "8     1.587760e+09                 Because Anti-Vaxxers have no sense   \n",
       "9     1.553475e+09  What do you mean by \"your OP\". I am fairly new...   \n",
       "10    1.553474e+09  When they say there's no thimerasol, they mean...   \n",
       "...            ...                                                ...   \n",
       "1597  1.556223e+09  Lol. My comprehension is comprehensive.\\r\\nYou...   \n",
       "1598  1.556223e+09  If you have trouble finding it, that's one thi...   \n",
       "1599  1.556222e+09  Is there music playing where you are because y...   \n",
       "1600  1.556221e+09  How long does it take ethyl mercury to metabol...   \n",
       "1601  1.556220e+09  > Why is it sounding like I'm scraping the bot...   \n",
       "\n",
       "                timestamp  \n",
       "6     2019-03-25 02:34:53  \n",
       "7     2020-04-23 20:23:42  \n",
       "8     2020-04-24 23:19:50  \n",
       "9     2019-03-25 02:45:21  \n",
       "10    2019-03-25 02:35:47  \n",
       "...                   ...  \n",
       "1597  2019-04-25 23:11:10  \n",
       "1598  2019-04-25 23:02:04  \n",
       "1599  2019-04-25 22:53:50  \n",
       "1600  2019-04-25 22:35:39  \n",
       "1601  2019-04-25 22:21:34  \n",
       "\n",
       "[1226 rows x 8 columns]"
      ]
     },
     "execution_count": 5,
     "metadata": {},
     "output_type": "execute_result"
    }
   ],
   "source": [
    "data_full = data.dropna(subset = [\"body\"])\n",
    "data_full"
   ]
  },
  {
   "cell_type": "code",
   "execution_count": 6,
   "metadata": {},
   "outputs": [
    {
     "data": {
      "text/plain": [
       "[\"Your OP. It's not a myth. Only one vaccine contains it and you can get it without it. So your OP is pointless flex. \",\n",
       " 'https://youtu.be/zBkVCpbNnkU',\n",
       " 'Because Anti-Vaxxers have no sense',\n",
       " 'What do you mean by \"your OP\". I am fairly new to reddit.',\n",
       " \"When they say there's no thimerasol, they mean in the childhood schedule. That IS a fact. \"]"
      ]
     },
     "execution_count": 6,
     "metadata": {},
     "output_type": "execute_result"
    }
   ],
   "source": [
    "descriptions = data_full.body.to_list()\n",
    "descriptions[:5]"
   ]
  },
  {
   "cell_type": "markdown",
   "metadata": {},
   "source": [
    "### Looking at word frequencies"
   ]
  },
  {
   "cell_type": "code",
   "execution_count": 7,
   "metadata": {},
   "outputs": [
    {
     "ename": "NameError",
     "evalue": "name 'tokenizer' is not defined",
     "output_type": "error",
     "traceback": [
      "\u001b[0;31m---------------------------------------------------------------------------\u001b[0m",
      "\u001b[0;31mNameError\u001b[0m                                 Traceback (most recent call last)",
      "\u001b[1;32m/Users/scottpitcher/Desktop/python/Github/Text Analysis/text_analysis/Vax_sent_analysis.ipynb Cell 7\u001b[0m line \u001b[0;36m3\n\u001b[1;32m      <a href='vscode-notebook-cell:/Users/scottpitcher/Desktop/python/Github/Text%20Analysis/text_analysis/Vax_sent_analysis.ipynb#W6sZmlsZQ%3D%3D?line=0'>1</a>\u001b[0m threshold \u001b[39m=\u001b[39m \u001b[39m1000\u001b[39m\n\u001b[1;32m      <a href='vscode-notebook-cell:/Users/scottpitcher/Desktop/python/Github/Text%20Analysis/text_analysis/Vax_sent_analysis.ipynb#W6sZmlsZQ%3D%3D?line=1'>2</a>\u001b[0m desc_joined \u001b[39m=\u001b[39m \u001b[39m'\u001b[39m\u001b[39m'\u001b[39m\u001b[39m.\u001b[39mjoin(descriptions)\n\u001b[0;32m----> <a href='vscode-notebook-cell:/Users/scottpitcher/Desktop/python/Github/Text%20Analysis/text_analysis/Vax_sent_analysis.ipynb#W6sZmlsZQ%3D%3D?line=2'>3</a>\u001b[0m tokens \u001b[39m=\u001b[39m tokenizer(desc_joined)\n\u001b[1;32m      <a href='vscode-notebook-cell:/Users/scottpitcher/Desktop/python/Github/Text%20Analysis/text_analysis/Vax_sent_analysis.ipynb#W6sZmlsZQ%3D%3D?line=4'>5</a>\u001b[0m freq_dist \u001b[39m=\u001b[39m FreqDist(tokens)\n\u001b[1;32m      <a href='vscode-notebook-cell:/Users/scottpitcher/Desktop/python/Github/Text%20Analysis/text_analysis/Vax_sent_analysis.ipynb#W6sZmlsZQ%3D%3D?line=5'>6</a>\u001b[0m freq_dist\n",
      "\u001b[0;31mNameError\u001b[0m: name 'tokenizer' is not defined"
     ]
    }
   ],
   "source": [
    "threshold = 1000\n",
    "desc_joined = ''.join(descriptions)\n",
    "tokens = tokenizer(desc_joined)\n",
    "\n",
    "freq_dist = FreqDist(tokens)\n",
    "freq_dist\n",
    "common_tokens = [token for token in tokens if freq_dist[token] > threshold]\n",
    "print(common_tokens)"
   ]
  },
  {
   "cell_type": "code",
   "execution_count": null,
   "metadata": {},
   "outputs": [
    {
     "ename": "AttributeError",
     "evalue": "module 'stopwords' has no attribute 'words'",
     "output_type": "error",
     "traceback": [
      "\u001b[0;31m---------------------------------------------------------------------------\u001b[0m",
      "\u001b[0;31mAttributeError\u001b[0m                            Traceback (most recent call last)",
      "\u001b[1;32m/Users/scottpitcher/Desktop/python/Github/Text Analysis/text_analysis/Vax_sent_analysis.ipynb Cell 8\u001b[0m line \u001b[0;36m1\n\u001b[0;32m----> <a href='vscode-notebook-cell:/Users/scottpitcher/Desktop/python/Github/Text%20Analysis/text_analysis/Vax_sent_analysis.ipynb#X10sZmlsZQ%3D%3D?line=0'>1</a>\u001b[0m stop_words \u001b[39m=\u001b[39m \u001b[39mset\u001b[39m(stopwords\u001b[39m.\u001b[39;49mwords(\u001b[39m\"\u001b[39m\u001b[39menglish\u001b[39m\u001b[39m\"\u001b[39m))\n\u001b[1;32m      <a href='vscode-notebook-cell:/Users/scottpitcher/Desktop/python/Github/Text%20Analysis/text_analysis/Vax_sent_analysis.ipynb#X10sZmlsZQ%3D%3D?line=2'>3</a>\u001b[0m tokenizer \u001b[39m=\u001b[39m get_tokenizer(\u001b[39m\"\u001b[39m\u001b[39mbasic_english\u001b[39m\u001b[39m\"\u001b[39m)\n\u001b[1;32m      <a href='vscode-notebook-cell:/Users/scottpitcher/Desktop/python/Github/Text%20Analysis/text_analysis/Vax_sent_analysis.ipynb#X10sZmlsZQ%3D%3D?line=3'>4</a>\u001b[0m stemmer \u001b[39m=\u001b[39m PorterStemmer() \n",
      "\u001b[0;31mAttributeError\u001b[0m: module 'stopwords' has no attribute 'words'"
     ]
    }
   ],
   "source": [
    "stop_words = set(stopwords.words(\"english\"))\n",
    "\n",
    "tokenizer = get_tokenizer(\"basic_english\")\n",
    "stemmer = PorterStemmer() \n",
    "\n",
    "# Complete the function to preprocess sentences\n",
    "def preprocess_sentences(sentences):\n",
    "    processed_sentences = []\n",
    "    for sentence in sentences:\n",
    "        sentence = sentence.lower()\n",
    "        tokens = tokenizer(sentence)\n",
    "        tokens = [token for token in tokens if token not in stop_words]\n",
    "        tokens = [stemmer.stem(token) for token in tokens]\n",
    "        processed_sentences.append(' '.join(tokens))\n",
    "    return processed_sentences\n",
    "\n",
    "\n",
    "processed_text = preprocess_sentences(descriptions)\n",
    "print(processed_text[:5]) \n"
   ]
  },
  {
   "cell_type": "code",
   "execution_count": null,
   "metadata": {},
   "outputs": [
    {
     "data": {
      "text/plain": [
       "<1226x7917 sparse matrix of type '<class 'numpy.float64'>'\n",
       "\twith 49039 stored elements in Compressed Sparse Row format>"
      ]
     },
     "execution_count": 52,
     "metadata": {},
     "output_type": "execute_result"
    }
   ],
   "source": []
  }
 ],
 "metadata": {
  "kernelspec": {
   "display_name": "Python 3",
   "language": "python",
   "name": "python3"
  },
  "language_info": {
   "codemirror_mode": {
    "name": "ipython",
    "version": 3
   },
   "file_extension": ".py",
   "mimetype": "text/x-python",
   "name": "python",
   "nbconvert_exporter": "python",
   "pygments_lexer": "ipython3",
   "version": "3.12.0"
  }
 },
 "nbformat": 4,
 "nbformat_minor": 2
}
